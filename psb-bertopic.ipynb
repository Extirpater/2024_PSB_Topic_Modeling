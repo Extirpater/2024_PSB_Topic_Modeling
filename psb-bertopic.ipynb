{
 "cells": [
  {
   "cell_type": "code",
   "execution_count": 2,
   "id": "f608f967",
   "metadata": {},
   "outputs": [],
   "source": [
    "#basic imports\n",
    "import numpy as np # linear algebra\n",
    "import pandas as pd # data processing, CSV file I/O (e.g. pd.read_csv)\n",
    "import seaborn as sns\n",
    "import matplotlib.pyplot as plt\n",
    "%matplotlib inline\n",
    "import warnings\n",
    "sns.set()\n",
    "import os\n",
    "import sys\n",
    "import tomotopy as tp\n",
    "import os\n",
    "import re\n",
    "import pyLDAvis\n",
    "import seaborn as sns\n",
    "import nltk\n",
    "#for dirname, _, filenames in os.walk('/kaggle/input'):\n",
    "    #for filename in filenames:\n",
    "       # print(os.path.join(dirname, filename))\n",
    "#print(os.walk('/kaggle/input'))"
   ]
  },
  {
   "cell_type": "code",
   "execution_count": 3,
   "id": "115c700f",
   "metadata": {
    "_cell_guid": "b1076dfc-b9ad-4769-8c92-a6c4dae69d19",
    "_uuid": "8f2839f25d086af736a60e9eeb907d3b93b6e0e5",
    "execution": {
     "iopub.execute_input": "2024-07-19T17:55:35.376363Z",
     "iopub.status.busy": "2024-07-19T17:55:35.375971Z",
     "iopub.status.idle": "2024-07-19T17:55:35.391091Z",
     "shell.execute_reply": "2024-07-19T17:55:35.390098Z"
    },
    "papermill": {
     "duration": 0.023694,
     "end_time": "2024-07-19T17:55:35.393516",
     "exception": false,
     "start_time": "2024-07-19T17:55:35.369822",
     "status": "completed"
    },
    "tags": []
   },
   "outputs": [],
   "source": [
    "def get_all_files_in_directory(directory):\n",
    "    file_paths = []\n",
    "    timestamps = []\n",
    "    for root, dirs, files in os.walk(directory):\n",
    "        for file in files:\n",
    "            if file.endswith('.txt'):\n",
    "                file_paths.append(os.path.join(root, file))\n",
    "                timestamp = os.path.basename(root)\n",
    "                timestamps.append(timestamp)\n",
    "    return file_paths, timestamps\n",
    "    \n",
    "def preprocess_text(text):\n",
    "    text = re.sub(r'[^a-zA-Z0-9\\s]', '', text)\n",
    "    text = text.lower()\n",
    "    stop_words = set([\"a\", \"an\", \"the\", \"and\", \"or\", \"but\", \"if\", \"on\", \"in\", \"to\", \"is\", \"of\", \"for\"])\n",
    "    words = [word for word in re.split(r'(\\s+)', text) if word.strip() and (word in {'\\n', '<br>', '<p>'} or (len(word) > 2 and word not in stop_words))]\n",
    "    processed_text = ' '.join(words)\n",
    "    return processed_text"
   ]
  },
  {
   "cell_type": "code",
   "execution_count": 4,
   "id": "308e7879",
   "metadata": {
    "execution": {
     "iopub.execute_input": "2024-07-19T17:56:15.443049Z",
     "iopub.status.busy": "2024-07-19T17:56:15.442099Z",
     "iopub.status.idle": "2024-07-19T17:56:58.021377Z",
     "shell.execute_reply": "2024-07-19T17:56:58.020027Z"
    },
    "papermill": {
     "duration": 42.595924,
     "end_time": "2024-07-19T17:56:58.029653",
     "exception": false,
     "start_time": "2024-07-19T17:56:15.433729",
     "status": "completed"
    },
    "tags": []
   },
   "outputs": [
    {
     "name": "stdout",
     "output_type": "stream",
     "text": [
      "get files\n"
     ]
    }
   ],
   "source": [
    "import os\n",
    "import re\n",
    "import pandas as pd\n",
    "import numpy as np\n",
    "from bertopic import BERTopic\n",
    "from sklearn.feature_extraction.text import CountVectorizer\n",
    "\n",
    "#main_directory_path = '/kaggle/input/psb-conference-papers/Main Bodies/Main Bodies/'\n",
    "main_directory_path = './PSB_Papers/main_body'\n",
    "\n",
    "print('get files')\n",
    "\n",
    "file_paths, timestamps = get_all_files_in_directory(main_directory_path)\n"
   ]
  },
  {
   "cell_type": "code",
   "execution_count": 5,
   "id": "1c90bfb6",
   "metadata": {
    "execution": {
     "iopub.execute_input": "2024-07-19T17:56:58.045727Z",
     "iopub.status.busy": "2024-07-19T17:56:58.044511Z",
     "iopub.status.idle": "2024-07-19T17:57:03.995681Z",
     "shell.execute_reply": "2024-07-19T17:57:03.994688Z"
    },
    "papermill": {
     "duration": 5.961654,
     "end_time": "2024-07-19T17:57:03.998194",
     "exception": false,
     "start_time": "2024-07-19T17:56:58.036540",
     "status": "completed"
    },
    "tags": []
   },
   "outputs": [],
   "source": [
    "texts = []\n",
    "titles = []\n",
    "for file_path in file_paths:\n",
    "    with open(file_path, 'r', encoding='utf-8') as file:\n",
    "        text = file.read()\n",
    "        processed_text = preprocess_text(text)\n",
    "        texts.append(processed_text)\n",
    "        titles.append(file_path[23:])\n",
    "\n",
    "timestamps = pd.to_datetime(timestamps, errors='coerce')\n"
   ]
  },
  {
   "cell_type": "code",
   "execution_count": 6,
   "id": "eb500e02",
   "metadata": {},
   "outputs": [],
   "source": [
    "sentence_texts = []\n",
    "\n",
    "for text in texts:\n",
    "    sentence_texts.extend(nltk.sent_tokenize(text))\n",
    "\n",
    "sentence_texts"
   ]
  },
  {
   "cell_type": "code",
   "execution_count": null,
   "id": "b123dbe0",
   "metadata": {},
   "outputs": [],
   "source": []
  },
  {
   "cell_type": "code",
   "execution_count": 5,
   "id": "223b925f",
   "metadata": {
    "execution": {
     "iopub.execute_input": "2024-07-19T17:57:04.014436Z",
     "iopub.status.busy": "2024-07-19T17:57:04.013467Z",
     "iopub.status.idle": "2024-07-19T17:58:44.909040Z",
     "shell.execute_reply": "2024-07-19T17:58:44.908029Z"
    },
    "papermill": {
     "duration": 100.906444,
     "end_time": "2024-07-19T17:58:44.911778",
     "exception": false,
     "start_time": "2024-07-19T17:57:04.005334",
     "status": "completed"
    },
    "tags": []
   },
   "outputs": [],
   "source": [
    "topic_model = BERTopic(language=\"english\", calculate_probabilities=True, verbose=True)"
   ]
  },
  {
   "cell_type": "code",
   "execution_count": 10,
   "id": "7b7f214c",
   "metadata": {},
   "outputs": [
    {
     "name": "stderr",
     "output_type": "stream",
     "text": [
      "2024-07-25 10:59:37,534 - BERTopic - WARNING: When you use `pickle` to save/load a BERTopic model,please make sure that the environments in which you saveand load the model are **exactly** the same. The version of BERTopic,its dependencies, and python need to remain the same.\n"
     ]
    }
   ],
   "source": [
    "topic_model.save(\"my_BERTopic_model\", serialization=\"pickle\")"
   ]
  },
  {
   "cell_type": "code",
   "execution_count": null,
   "id": "c928cd23",
   "metadata": {},
   "outputs": [],
   "source": []
  },
  {
   "cell_type": "code",
   "execution_count": 6,
   "id": "80300ba1",
   "metadata": {},
   "outputs": [
    {
     "name": "stderr",
     "output_type": "stream",
     "text": [
      "2024-07-25 10:47:30,161 - BERTopic - Embedding - Transforming documents to embeddings.\n",
      "Batches: 100%|██████████| 37/37 [00:05<00:00,  6.59it/s]\n",
      "2024-07-25 10:47:37,098 - BERTopic - Embedding - Completed ✓\n",
      "2024-07-25 10:47:37,098 - BERTopic - Dimensionality - Fitting the dimensionality reduction algorithm\n",
      "2024-07-25 10:47:43,610 - BERTopic - Dimensionality - Completed ✓\n",
      "2024-07-25 10:47:43,611 - BERTopic - Cluster - Start clustering the reduced embeddings\n",
      "2024-07-25 10:47:43,662 - BERTopic - Cluster - Completed ✓\n",
      "2024-07-25 10:47:43,666 - BERTopic - Representation - Extracting topics from clusters using representation models.\n",
      "2024-07-25 10:47:44,671 - BERTopic - Representation - Completed ✓\n"
     ]
    }
   ],
   "source": [
    "topics, probs = topic_model.fit_transform(texts)#, batch_embeddings)"
   ]
  },
  {
   "cell_type": "code",
   "execution_count": 24,
   "id": "28af70d1",
   "metadata": {},
   "outputs": [
    {
     "name": "stderr",
     "output_type": "stream",
     "text": [
      "Batches: 100%|██████████| 37/37 [00:05<00:00,  6.79it/s]\n",
      "2024-07-25 11:25:03,339 - BERTopic - Dimensionality - Reducing dimensionality of input embeddings.\n",
      "2024-07-25 11:25:03,342 - BERTopic - Dimensionality - Completed ✓\n",
      "2024-07-25 11:25:03,342 - BERTopic - Clustering - Approximating new points with `hdbscan_model`\n",
      "2024-07-25 11:25:03,356 - BERTopic - Probabilities - Start calculation of probabilities with HDBSCAN\n",
      "2024-07-25 11:25:03,416 - BERTopic - Probabilities - Completed ✓\n",
      "2024-07-25 11:25:03,417 - BERTopic - Cluster - Completed ✓\n"
     ]
    },
    {
     "name": "stdout",
     "output_type": "stream",
     "text": [
      "Document 1996\\10_main_body.txt is assigned to topic 1\n",
      "Document 1996\\11_main_body.txt is assigned to topic 1\n",
      "Document 1996\\12_main_body.txt is assigned to topic 2\n",
      "Document 1996\\13_main_body.txt is assigned to topic 7\n",
      "Document 1996\\14_main_body.txt is assigned to topic -1\n",
      "Document 1996\\15_main_body.txt is assigned to topic 15\n",
      "Document 1996\\16_main_body.txt is assigned to topic 1\n",
      "Document 1996\\17_main_body.txt is assigned to topic 1\n",
      "Document 1996\\18_main_body.txt is assigned to topic 1\n",
      "Document 1996\\19_main_body.txt is assigned to topic 19\n",
      "Document 1996\\21_main_body.txt is assigned to topic 2\n",
      "Document 1996\\22_main_body.txt is assigned to topic 3\n",
      "Document 1996\\23_main_body.txt is assigned to topic 2\n",
      "Document 1996\\24_main_body.txt is assigned to topic 1\n",
      "Document 1996\\25_main_body.txt is assigned to topic 6\n",
      "Document 1996\\26_main_body.txt is assigned to topic 1\n",
      "Document 1996\\27_main_body.txt is assigned to topic 19\n",
      "Document 1996\\28_main_body.txt is assigned to topic 1\n",
      "Document 1996\\30_main_body.txt is assigned to topic 1\n",
      "Document 1996\\31_main_body.txt is assigned to topic -1\n",
      "Document 1996\\35_main_body.txt is assigned to topic 1\n",
      "Document 1996\\37_main_body.txt is assigned to topic 2\n",
      "Document 1996\\39_main_body.txt is assigned to topic 1\n",
      "Document 1996\\40_main_body.txt is assigned to topic -1\n",
      "Document 1996\\41_main_body.txt is assigned to topic -1\n",
      "Document 1996\\42_main_body.txt is assigned to topic 7\n",
      "Document 1996\\43_main_body.txt is assigned to topic 1\n",
      "Document 1996\\44_main_body.txt is assigned to topic 1\n",
      "Document 1996\\45_main_body.txt is assigned to topic 6\n",
      "Document 1996\\47_main_body.txt is assigned to topic 2\n",
      "Document 1996\\50_main_body.txt is assigned to topic 1\n",
      "Document 1996\\53_main_body.txt is assigned to topic 2\n",
      "Document 1996\\54_main_body.txt is assigned to topic -1\n",
      "Document 1997\\10_main_body.txt is assigned to topic 2\n",
      "Document 1997\\11_main_body.txt is assigned to topic 1\n",
      "Document 1997\\12_main_body.txt is assigned to topic -1\n",
      "Document 1997\\13_main_body.txt is assigned to topic 2\n",
      "Document 1997\\14_main_body.txt is assigned to topic 19\n",
      "Document 1997\\15_main_body.txt is assigned to topic 19\n",
      "Document 1997\\16_main_body.txt is assigned to topic 19\n",
      "Document 1997\\18_main_body.txt is assigned to topic 1\n",
      "Document 1997\\19_main_body.txt is assigned to topic 2\n",
      "Document 1997\\20_main_body.txt is assigned to topic -1\n",
      "Document 1997\\21_main_body.txt is assigned to topic 1\n",
      "Document 1997\\22_main_body.txt is assigned to topic 6\n",
      "Document 1997\\23_main_body.txt is assigned to topic 3\n",
      "Document 1997\\24_main_body.txt is assigned to topic 1\n",
      "Document 1997\\25_main_body.txt is assigned to topic 1\n",
      "Document 1997\\26_main_body.txt is assigned to topic 1\n",
      "Document 1997\\28_main_body.txt is assigned to topic 18\n",
      "Document 1997\\29_main_body.txt is assigned to topic 1\n",
      "Document 1997\\30_main_body.txt is assigned to topic 3\n",
      "Document 1997\\31_main_body.txt is assigned to topic -1\n",
      "Document 1998\\0_main_body.txt is assigned to topic 3\n",
      "Document 1998\\10_main_body.txt is assigned to topic 2\n",
      "Document 1998\\11_main_body.txt is assigned to topic 1\n",
      "Document 1998\\12_main_body.txt is assigned to topic -1\n",
      "Document 1998\\13_main_body.txt is assigned to topic -1\n",
      "Document 1998\\14_main_body.txt is assigned to topic 2\n",
      "Document 1998\\15_main_body.txt is assigned to topic 2\n",
      "Document 1998\\17_main_body.txt is assigned to topic 16\n",
      "Document 1998\\18_main_body.txt is assigned to topic 16\n",
      "Document 1998\\19_main_body.txt is assigned to topic 3\n",
      "Document 1998\\1_main_body.txt is assigned to topic 3\n",
      "Document 1998\\20_main_body.txt is assigned to topic 3\n",
      "Document 1998\\22_main_body.txt is assigned to topic 16\n",
      "Document 1998\\23_main_body.txt is assigned to topic 16\n",
      "Document 1998\\24_main_body.txt is assigned to topic -1\n",
      "Document 1998\\25_main_body.txt is assigned to topic 1\n",
      "Document 1998\\26_main_body.txt is assigned to topic 1\n",
      "Document 1998\\27_main_body.txt is assigned to topic 1\n",
      "Document 1998\\28_main_body.txt is assigned to topic 2\n",
      "Document 1998\\29_main_body.txt is assigned to topic -1\n",
      "Document 1998\\2_main_body.txt is assigned to topic -1\n",
      "Document 1998\\30_main_body.txt is assigned to topic 1\n",
      "Document 1998\\31_main_body.txt is assigned to topic 1\n",
      "Document 1998\\32_main_body.txt is assigned to topic -1\n",
      "Document 1998\\33_main_body.txt is assigned to topic 1\n",
      "Document 1998\\34_main_body.txt is assigned to topic 1\n",
      "Document 1998\\35_main_body.txt is assigned to topic 1\n",
      "Document 1998\\36_main_body.txt is assigned to topic 1\n",
      "Document 1998\\37_main_body.txt is assigned to topic 18\n",
      "Document 1998\\38_main_body.txt is assigned to topic 1\n",
      "Document 1998\\39_main_body.txt is assigned to topic 1\n",
      "Document 1998\\40_main_body.txt is assigned to topic 1\n",
      "Document 1998\\41_main_body.txt is assigned to topic 1\n",
      "Document 1998\\42_main_body.txt is assigned to topic -1\n",
      "Document 1998\\43_main_body.txt is assigned to topic 19\n",
      "Document 1998\\44_main_body.txt is assigned to topic 19\n",
      "Document 1998\\45_main_body.txt is assigned to topic 18\n",
      "Document 1998\\46_main_body.txt is assigned to topic 1\n",
      "Document 1998\\47_main_body.txt is assigned to topic 1\n",
      "Document 1998\\48_main_body.txt is assigned to topic -1\n",
      "Document 1998\\4_main_body.txt is assigned to topic 3\n",
      "Document 1998\\50_main_body.txt is assigned to topic -1\n",
      "Document 1998\\51_main_body.txt is assigned to topic 6\n",
      "Document 1998\\52_main_body.txt is assigned to topic 6\n",
      "Document 1998\\53_main_body.txt is assigned to topic -1\n",
      "Document 1998\\54_main_body.txt is assigned to topic -1\n",
      "Document 1998\\55_main_body.txt is assigned to topic 2\n",
      "Document 1998\\56_main_body.txt is assigned to topic 2\n",
      "Document 1998\\57_main_body.txt is assigned to topic 2\n",
      "Document 1998\\58_main_body.txt is assigned to topic -1\n",
      "Document 1998\\59_main_body.txt is assigned to topic 2\n",
      "Document 1998\\5_main_body.txt is assigned to topic -1\n",
      "Document 1998\\60_main_body.txt is assigned to topic 2\n",
      "Document 1998\\61_main_body.txt is assigned to topic 2\n",
      "Document 1998\\62_main_body.txt is assigned to topic 2\n",
      "Document 1998\\63_main_body.txt is assigned to topic 2\n",
      "Document 1998\\64_main_body.txt is assigned to topic 2\n",
      "Document 1998\\65_main_body.txt is assigned to topic 2\n",
      "Document 1998\\66_main_body.txt is assigned to topic -1\n",
      "Document 1998\\67_main_body.txt is assigned to topic 2\n",
      "Document 1998\\68_main_body.txt is assigned to topic 2\n",
      "Document 1998\\69_main_body.txt is assigned to topic 2\n",
      "Document 1998\\6_main_body.txt is assigned to topic 3\n",
      "Document 1998\\7_main_body.txt is assigned to topic 6\n",
      "Document 1998\\9_main_body.txt is assigned to topic -1\n",
      "Document 1999\\0_main_body.txt is assigned to topic -1\n",
      "Document 1999\\11_main_body.txt is assigned to topic 1\n",
      "Document 1999\\12_main_body.txt is assigned to topic 18\n",
      "Document 1999\\13_main_body.txt is assigned to topic 12\n",
      "Document 1999\\14_main_body.txt is assigned to topic 3\n",
      "Document 1999\\15_main_body.txt is assigned to topic -1\n",
      "Document 1999\\16_main_body.txt is assigned to topic 1\n",
      "Document 1999\\17_main_body.txt is assigned to topic 15\n",
      "Document 1999\\18_main_body.txt is assigned to topic -1\n",
      "Document 1999\\19_main_body.txt is assigned to topic 6\n",
      "Document 1999\\1_main_body.txt is assigned to topic 3\n",
      "Document 1999\\20_main_body.txt is assigned to topic 6\n",
      "Document 1999\\21_main_body.txt is assigned to topic -1\n",
      "Document 1999\\23_main_body.txt is assigned to topic 1\n",
      "Document 1999\\24_main_body.txt is assigned to topic 19\n",
      "Document 1999\\25_main_body.txt is assigned to topic 18\n",
      "Document 1999\\26_main_body.txt is assigned to topic 4\n",
      "Document 1999\\27_main_body.txt is assigned to topic 7\n",
      "Document 1999\\28_main_body.txt is assigned to topic 1\n",
      "Document 1999\\29_main_body.txt is assigned to topic -1\n",
      "Document 1999\\30_main_body.txt is assigned to topic 1\n",
      "Document 1999\\31_main_body.txt is assigned to topic -1\n",
      "Document 1999\\32_main_body.txt is assigned to topic 2\n",
      "Document 1999\\33_main_body.txt is assigned to topic 2\n",
      "Document 1999\\34_main_body.txt is assigned to topic -1\n",
      "Document 1999\\35_main_body.txt is assigned to topic 1\n",
      "Document 1999\\36_main_body.txt is assigned to topic 9\n",
      "Document 1999\\37_main_body.txt is assigned to topic 9\n",
      "Document 1999\\38_main_body.txt is assigned to topic 1\n",
      "Document 1999\\39_main_body.txt is assigned to topic 1\n",
      "Document 1999\\3_main_body.txt is assigned to topic -1\n",
      "Document 1999\\41_main_body.txt is assigned to topic 1\n",
      "Document 1999\\42_main_body.txt is assigned to topic 1\n",
      "Document 1999\\44_main_body.txt is assigned to topic -1\n",
      "Document 1999\\46_main_body.txt is assigned to topic -1\n",
      "Document 1999\\47_main_body.txt is assigned to topic 1\n",
      "Document 1999\\48_main_body.txt is assigned to topic 19\n",
      "Document 1999\\49_main_body.txt is assigned to topic 1\n",
      "Document 1999\\4_main_body.txt is assigned to topic -1\n",
      "Document 1999\\52_main_body.txt is assigned to topic -1\n",
      "Document 1999\\54_main_body.txt is assigned to topic -1\n",
      "Document 1999\\55_main_body.txt is assigned to topic 1\n",
      "Document 1999\\56_main_body.txt is assigned to topic 19\n",
      "Document 1999\\57_main_body.txt is assigned to topic 1\n",
      "Document 1999\\5_main_body.txt is assigned to topic -1\n",
      "Document 1999\\6_main_body.txt is assigned to topic -1\n",
      "Document 1999\\7_main_body.txt is assigned to topic -1\n",
      "Document 1999\\8_main_body.txt is assigned to topic 6\n",
      "Document 1999\\9_main_body.txt is assigned to topic 3\n",
      "Document 2000\\0_main_body.txt is assigned to topic 7\n",
      "Document 2000\\10_main_body.txt is assigned to topic 1\n",
      "Document 2000\\11_main_body.txt is assigned to topic -1\n",
      "Document 2000\\12_main_body.txt is assigned to topic -1\n",
      "Document 2000\\13_main_body.txt is assigned to topic 1\n",
      "Document 2000\\14_main_body.txt is assigned to topic 1\n",
      "Document 2000\\15_main_body.txt is assigned to topic -1\n",
      "Document 2000\\17_main_body.txt is assigned to topic 2\n",
      "Document 2000\\18_main_body.txt is assigned to topic 1\n",
      "Document 2000\\19_main_body.txt is assigned to topic -1\n",
      "Document 2000\\1_main_body.txt is assigned to topic 7\n",
      "Document 2000\\20_main_body.txt is assigned to topic -1\n",
      "Document 2000\\21_main_body.txt is assigned to topic 1\n",
      "Document 2000\\22_main_body.txt is assigned to topic 3\n",
      "Document 2000\\23_main_body.txt is assigned to topic 3\n",
      "Document 2000\\24_main_body.txt is assigned to topic 6\n",
      "Document 2000\\25_main_body.txt is assigned to topic -1\n",
      "Document 2000\\26_main_body.txt is assigned to topic 6\n",
      "Document 2000\\27_main_body.txt is assigned to topic -1\n",
      "Document 2000\\28_main_body.txt is assigned to topic 0\n",
      "Document 2000\\29_main_body.txt is assigned to topic 3\n",
      "Document 2000\\2_main_body.txt is assigned to topic 16\n",
      "Document 2000\\30_main_body.txt is assigned to topic 3\n",
      "Document 2000\\31_main_body.txt is assigned to topic 1\n",
      "Document 2000\\32_main_body.txt is assigned to topic 3\n",
      "Document 2000\\33_main_body.txt is assigned to topic 3\n",
      "Document 2000\\34_main_body.txt is assigned to topic 3\n",
      "Document 2000\\35_main_body.txt is assigned to topic 3\n",
      "Document 2000\\36_main_body.txt is assigned to topic 3\n",
      "Document 2000\\37_main_body.txt is assigned to topic 3\n",
      "Document 2000\\39_main_body.txt is assigned to topic 2\n",
      "Document 2000\\3_main_body.txt is assigned to topic 1\n",
      "Document 2000\\40_main_body.txt is assigned to topic 2\n",
      "Document 2000\\41_main_body.txt is assigned to topic 2\n",
      "Document 2000\\42_main_body.txt is assigned to topic 2\n",
      "Document 2000\\43_main_body.txt is assigned to topic 2\n",
      "Document 2000\\44_main_body.txt is assigned to topic 1\n",
      "Document 2000\\45_main_body.txt is assigned to topic 1\n",
      "Document 2000\\46_main_body.txt is assigned to topic 1\n",
      "Document 2000\\48_main_body.txt is assigned to topic -1\n",
      "Document 2000\\49_main_body.txt is assigned to topic 18\n",
      "Document 2000\\4_main_body.txt is assigned to topic 1\n",
      "Document 2000\\50_main_body.txt is assigned to topic 0\n",
      "Document 2000\\51_main_body.txt is assigned to topic 0\n",
      "Document 2000\\52_main_body.txt is assigned to topic 0\n",
      "Document 2000\\53_main_body.txt is assigned to topic 0\n",
      "Document 2000\\54_main_body.txt is assigned to topic 0\n",
      "Document 2000\\55_main_body.txt is assigned to topic -1\n",
      "Document 2000\\58_main_body.txt is assigned to topic -1\n",
      "Document 2000\\59_main_body.txt is assigned to topic 18\n",
      "Document 2000\\5_main_body.txt is assigned to topic -1\n",
      "Document 2000\\61_main_body.txt is assigned to topic 0\n",
      "Document 2000\\62_main_body.txt is assigned to topic 0\n",
      "Document 2000\\63_main_body.txt is assigned to topic 0\n",
      "Document 2000\\64_main_body.txt is assigned to topic 0\n",
      "Document 2000\\65_main_body.txt is assigned to topic 0\n",
      "Document 2000\\6_main_body.txt is assigned to topic -1\n",
      "Document 2000\\7_main_body.txt is assigned to topic 1\n",
      "Document 2000\\8_main_body.txt is assigned to topic 1\n",
      "Document 2000\\9_main_body.txt is assigned to topic 1\n",
      "Document 2001\\10_main_body.txt is assigned to topic 3\n",
      "Document 2001\\11_main_body.txt is assigned to topic 3\n",
      "Document 2001\\12_main_body.txt is assigned to topic 3\n",
      "Document 2001\\13_main_body.txt is assigned to topic 7\n",
      "Document 2001\\14_main_body.txt is assigned to topic 18\n",
      "Document 2001\\16_main_body.txt is assigned to topic -1\n",
      "Document 2001\\17_main_body.txt is assigned to topic -1\n",
      "Document 2001\\18_main_body.txt is assigned to topic 12\n",
      "Document 2001\\19_main_body.txt is assigned to topic 1\n",
      "Document 2001\\1_main_body.txt is assigned to topic 0\n",
      "Document 2001\\20_main_body.txt is assigned to topic -1\n",
      "Document 2001\\21_main_body.txt is assigned to topic -1\n",
      "Document 2001\\22_main_body.txt is assigned to topic 1\n",
      "Document 2001\\23_main_body.txt is assigned to topic 7\n",
      "Document 2001\\24_main_body.txt is assigned to topic 3\n",
      "Document 2001\\25_main_body.txt is assigned to topic 16\n",
      "Document 2001\\26_main_body.txt is assigned to topic 1\n",
      "Document 2001\\27_main_body.txt is assigned to topic 3\n",
      "Document 2001\\29_main_body.txt is assigned to topic -1\n",
      "Document 2001\\2_main_body.txt is assigned to topic 3\n",
      "Document 2001\\30_main_body.txt is assigned to topic 16\n",
      "Document 2001\\31_main_body.txt is assigned to topic 2\n",
      "Document 2001\\32_main_body.txt is assigned to topic 2\n",
      "Document 2001\\33_main_body.txt is assigned to topic 2\n",
      "Document 2001\\34_main_body.txt is assigned to topic 3\n",
      "Document 2001\\35_main_body.txt is assigned to topic 6\n",
      "Document 2001\\36_main_body.txt is assigned to topic 3\n",
      "Document 2001\\37_main_body.txt is assigned to topic 6\n",
      "Document 2001\\38_main_body.txt is assigned to topic -1\n",
      "Document 2001\\39_main_body.txt is assigned to topic 2\n",
      "Document 2001\\40_main_body.txt is assigned to topic 3\n",
      "Document 2001\\41_main_body.txt is assigned to topic 3\n",
      "Document 2001\\42_main_body.txt is assigned to topic -1\n",
      "Document 2001\\43_main_body.txt is assigned to topic 12\n",
      "Document 2001\\44_main_body.txt is assigned to topic 7\n",
      "Document 2001\\45_main_body.txt is assigned to topic 7\n",
      "Document 2001\\46_main_body.txt is assigned to topic 7\n",
      "Document 2001\\47_main_body.txt is assigned to topic 7\n",
      "Document 2001\\48_main_body.txt is assigned to topic 12\n",
      "Document 2001\\49_main_body.txt is assigned to topic 7\n",
      "Document 2001\\4_main_body.txt is assigned to topic -1\n",
      "Document 2001\\50_main_body.txt is assigned to topic -1\n",
      "Document 2001\\51_main_body.txt is assigned to topic 12\n",
      "Document 2001\\53_main_body.txt is assigned to topic 7\n",
      "Document 2001\\54_main_body.txt is assigned to topic 7\n",
      "Document 2001\\55_main_body.txt is assigned to topic 7\n",
      "Document 2001\\56_main_body.txt is assigned to topic 7\n",
      "Document 2001\\57_main_body.txt is assigned to topic 12\n",
      "Document 2001\\58_main_body.txt is assigned to topic 7\n",
      "Document 2001\\5_main_body.txt is assigned to topic 1\n",
      "Document 2001\\6_main_body.txt is assigned to topic 1\n",
      "Document 2001\\7_main_body.txt is assigned to topic 1\n",
      "Document 2001\\8_main_body.txt is assigned to topic 3\n",
      "Document 2001\\9_main_body.txt is assigned to topic 3\n",
      "Document 2002\\0_main_body.txt is assigned to topic 3\n",
      "Document 2002\\10_main_body.txt is assigned to topic -1\n",
      "Document 2002\\11_main_body.txt is assigned to topic 7\n",
      "Document 2002\\12_main_body.txt is assigned to topic 2\n",
      "Document 2002\\14_main_body.txt is assigned to topic 3\n",
      "Document 2002\\15_main_body.txt is assigned to topic 3\n",
      "Document 2002\\16_main_body.txt is assigned to topic -1\n",
      "Document 2002\\17_main_body.txt is assigned to topic 7\n",
      "Document 2002\\18_main_body.txt is assigned to topic -1\n",
      "Document 2002\\19_main_body.txt is assigned to topic 3\n",
      "Document 2002\\20_main_body.txt is assigned to topic 1\n",
      "Document 2002\\22_main_body.txt is assigned to topic -1\n",
      "Document 2002\\23_main_body.txt is assigned to topic 1\n",
      "Document 2002\\24_main_body.txt is assigned to topic 2\n",
      "Document 2002\\25_main_body.txt is assigned to topic 1\n",
      "Document 2002\\26_main_body.txt is assigned to topic 2\n",
      "Document 2002\\27_main_body.txt is assigned to topic 2\n",
      "Document 2002\\28_main_body.txt is assigned to topic 2\n",
      "Document 2002\\2_main_body.txt is assigned to topic 0\n",
      "Document 2002\\31_main_body.txt is assigned to topic 2\n",
      "Document 2002\\32_main_body.txt is assigned to topic 6\n",
      "Document 2002\\33_main_body.txt is assigned to topic 1\n",
      "Document 2002\\34_main_body.txt is assigned to topic 3\n",
      "Document 2002\\35_main_body.txt is assigned to topic 3\n",
      "Document 2002\\36_main_body.txt is assigned to topic 2\n",
      "Document 2002\\37_main_body.txt is assigned to topic 3\n",
      "Document 2002\\40_main_body.txt is assigned to topic 3\n",
      "Document 2002\\41_main_body.txt is assigned to topic 7\n",
      "Document 2002\\42_main_body.txt is assigned to topic 7\n",
      "Document 2002\\44_main_body.txt is assigned to topic 1\n",
      "Document 2002\\45_main_body.txt is assigned to topic 1\n",
      "Document 2002\\46_main_body.txt is assigned to topic -1\n",
      "Document 2002\\47_main_body.txt is assigned to topic -1\n",
      "Document 2002\\48_main_body.txt is assigned to topic 1\n",
      "Document 2002\\49_main_body.txt is assigned to topic -1\n",
      "Document 2002\\4_main_body.txt is assigned to topic 0\n",
      "Document 2002\\50_main_body.txt is assigned to topic 1\n",
      "Document 2002\\51_main_body.txt is assigned to topic -1\n",
      "Document 2002\\52_main_body.txt is assigned to topic 1\n",
      "Document 2002\\54_main_body.txt is assigned to topic 1\n",
      "Document 2002\\5_main_body.txt is assigned to topic 11\n",
      "Document 2002\\7_main_body.txt is assigned to topic 11\n",
      "Document 2002\\8_main_body.txt is assigned to topic 0\n",
      "Document 2002\\9_main_body.txt is assigned to topic 18\n",
      "Document 2003\\0_main_body.txt is assigned to topic 10\n",
      "Document 2003\\11_main_body.txt is assigned to topic 1\n",
      "Document 2003\\12_main_body.txt is assigned to topic 6\n",
      "Document 2003\\13_main_body.txt is assigned to topic 3\n",
      "Document 2003\\16_main_body.txt is assigned to topic 1\n",
      "Document 2003\\17_main_body.txt is assigned to topic 1\n",
      "Document 2003\\18_main_body.txt is assigned to topic 1\n",
      "Document 2003\\19_main_body.txt is assigned to topic 1\n",
      "Document 2003\\1_main_body.txt is assigned to topic 3\n",
      "Document 2003\\22_main_body.txt is assigned to topic 7\n",
      "Document 2003\\23_main_body.txt is assigned to topic 3\n",
      "Document 2003\\24_main_body.txt is assigned to topic 2\n",
      "Document 2003\\25_main_body.txt is assigned to topic 7\n",
      "Document 2003\\26_main_body.txt is assigned to topic 3\n",
      "Document 2003\\27_main_body.txt is assigned to topic -1\n",
      "Document 2003\\28_main_body.txt is assigned to topic 3\n",
      "Document 2003\\31_main_body.txt is assigned to topic 3\n",
      "Document 2003\\33_main_body.txt is assigned to topic 2\n",
      "Document 2003\\34_main_body.txt is assigned to topic 2\n",
      "Document 2003\\35_main_body.txt is assigned to topic 2\n",
      "Document 2003\\36_main_body.txt is assigned to topic 2\n",
      "Document 2003\\37_main_body.txt is assigned to topic 0\n",
      "Document 2003\\38_main_body.txt is assigned to topic 0\n",
      "Document 2003\\39_main_body.txt is assigned to topic 0\n",
      "Document 2003\\3_main_body.txt is assigned to topic 3\n",
      "Document 2003\\40_main_body.txt is assigned to topic 0\n",
      "Document 2003\\41_main_body.txt is assigned to topic 0\n",
      "Document 2003\\42_main_body.txt is assigned to topic 0\n",
      "Document 2003\\43_main_body.txt is assigned to topic 11\n",
      "Document 2003\\44_main_body.txt is assigned to topic 0\n",
      "Document 2003\\45_main_body.txt is assigned to topic 5\n",
      "Document 2003\\46_main_body.txt is assigned to topic 2\n",
      "Document 2003\\47_main_body.txt is assigned to topic 2\n",
      "Document 2003\\48_main_body.txt is assigned to topic 2\n",
      "Document 2003\\49_main_body.txt is assigned to topic 13\n",
      "Document 2003\\4_main_body.txt is assigned to topic 10\n",
      "Document 2003\\50_main_body.txt is assigned to topic 2\n",
      "Document 2003\\5_main_body.txt is assigned to topic 5\n",
      "Document 2003\\6_main_body.txt is assigned to topic -1\n",
      "Document 2003\\7_main_body.txt is assigned to topic 3\n",
      "Document 2003\\8_main_body.txt is assigned to topic 6\n",
      "Document 2004\\0_main_body.txt is assigned to topic -1\n",
      "Document 2004\\10_main_body.txt is assigned to topic 0\n",
      "Document 2004\\12_main_body.txt is assigned to topic 0\n",
      "Document 2004\\13_main_body.txt is assigned to topic 2\n",
      "Document 2004\\14_main_body.txt is assigned to topic 2\n",
      "Document 2004\\15_main_body.txt is assigned to topic 2\n",
      "Document 2004\\16_main_body.txt is assigned to topic 2\n",
      "Document 2004\\17_main_body.txt is assigned to topic 2\n",
      "Document 2004\\18_main_body.txt is assigned to topic 2\n",
      "Document 2004\\19_main_body.txt is assigned to topic 2\n",
      "Document 2004\\1_main_body.txt is assigned to topic 1\n",
      "Document 2004\\20_main_body.txt is assigned to topic 2\n",
      "Document 2004\\21_main_body.txt is assigned to topic 1\n",
      "Document 2004\\22_main_body.txt is assigned to topic 3\n",
      "Document 2004\\24_main_body.txt is assigned to topic 1\n",
      "Document 2004\\26_main_body.txt is assigned to topic 3\n",
      "Document 2004\\27_main_body.txt is assigned to topic 3\n",
      "Document 2004\\29_main_body.txt is assigned to topic 3\n",
      "Document 2004\\2_main_body.txt is assigned to topic -1\n",
      "Document 2004\\30_main_body.txt is assigned to topic -1\n",
      "Document 2004\\31_main_body.txt is assigned to topic 1\n",
      "Document 2004\\33_main_body.txt is assigned to topic 1\n",
      "Document 2004\\34_main_body.txt is assigned to topic 15\n",
      "Document 2004\\35_main_body.txt is assigned to topic 1\n",
      "Document 2004\\36_main_body.txt is assigned to topic 1\n",
      "Document 2004\\37_main_body.txt is assigned to topic 1\n",
      "Document 2004\\38_main_body.txt is assigned to topic 3\n",
      "Document 2004\\3_main_body.txt is assigned to topic -1\n",
      "Document 2004\\41_main_body.txt is assigned to topic 3\n",
      "Document 2004\\42_main_body.txt is assigned to topic -1\n",
      "Document 2004\\43_main_body.txt is assigned to topic 3\n",
      "Document 2004\\45_main_body.txt is assigned to topic 3\n",
      "Document 2004\\46_main_body.txt is assigned to topic 6\n",
      "Document 2004\\47_main_body.txt is assigned to topic 3\n",
      "Document 2004\\4_main_body.txt is assigned to topic -1\n",
      "Document 2004\\6_main_body.txt is assigned to topic -1\n",
      "Document 2004\\7_main_body.txt is assigned to topic 0\n",
      "Document 2004\\8_main_body.txt is assigned to topic 0\n",
      "Document 2004\\9_main_body.txt is assigned to topic 0\n",
      "Document 2005\\0_main_body.txt is assigned to topic 15\n",
      "Document 2005\\10_main_body.txt is assigned to topic 2\n",
      "Document 2005\\11_main_body.txt is assigned to topic 11\n",
      "Document 2005\\12_main_body.txt is assigned to topic 1\n",
      "Document 2005\\13_main_body.txt is assigned to topic 2\n",
      "Document 2005\\14_main_body.txt is assigned to topic 2\n",
      "Document 2005\\16_main_body.txt is assigned to topic 2\n",
      "Document 2005\\17_main_body.txt is assigned to topic 6\n",
      "Document 2005\\19_main_body.txt is assigned to topic 3\n",
      "Document 2005\\1_main_body.txt is assigned to topic 1\n",
      "Document 2005\\20_main_body.txt is assigned to topic 12\n",
      "Document 2005\\21_main_body.txt is assigned to topic 2\n",
      "Document 2005\\22_main_body.txt is assigned to topic 5\n",
      "Document 2005\\23_main_body.txt is assigned to topic 11\n",
      "Document 2005\\24_main_body.txt is assigned to topic 2\n",
      "Document 2005\\25_main_body.txt is assigned to topic 2\n",
      "Document 2005\\26_main_body.txt is assigned to topic 1\n",
      "Document 2005\\27_main_body.txt is assigned to topic 1\n",
      "Document 2005\\28_main_body.txt is assigned to topic 1\n",
      "Document 2005\\29_main_body.txt is assigned to topic 1\n",
      "Document 2005\\30_main_body.txt is assigned to topic 1\n",
      "Document 2005\\31_main_body.txt is assigned to topic 0\n",
      "Document 2005\\32_main_body.txt is assigned to topic 0\n",
      "Document 2005\\34_main_body.txt is assigned to topic 0\n",
      "Document 2005\\35_main_body.txt is assigned to topic -1\n",
      "Document 2005\\36_main_body.txt is assigned to topic 3\n",
      "Document 2005\\37_main_body.txt is assigned to topic 3\n",
      "Document 2005\\38_main_body.txt is assigned to topic -1\n",
      "Document 2005\\39_main_body.txt is assigned to topic 3\n",
      "Document 2005\\3_main_body.txt is assigned to topic 1\n",
      "Document 2005\\40_main_body.txt is assigned to topic -1\n",
      "Document 2005\\41_main_body.txt is assigned to topic 3\n",
      "Document 2005\\42_main_body.txt is assigned to topic 3\n",
      "Document 2005\\43_main_body.txt is assigned to topic -1\n",
      "Document 2005\\4_main_body.txt is assigned to topic 1\n",
      "Document 2005\\5_main_body.txt is assigned to topic 1\n",
      "Document 2005\\6_main_body.txt is assigned to topic 2\n",
      "Document 2005\\7_main_body.txt is assigned to topic 2\n",
      "Document 2005\\9_main_body.txt is assigned to topic -1\n",
      "Document 2006\\0_main_body.txt is assigned to topic 2\n",
      "Document 2006\\10_main_body.txt is assigned to topic 2\n",
      "Document 2006\\11_main_body.txt is assigned to topic -1\n",
      "Document 2006\\12_main_body.txt is assigned to topic 2\n",
      "Document 2006\\13_main_body.txt is assigned to topic 2\n",
      "Document 2006\\14_main_body.txt is assigned to topic 2\n",
      "Document 2006\\15_main_body.txt is assigned to topic 2\n",
      "Document 2006\\16_main_body.txt is assigned to topic 2\n",
      "Document 2006\\17_main_body.txt is assigned to topic 17\n",
      "Document 2006\\18_main_body.txt is assigned to topic -1\n",
      "Document 2006\\19_main_body.txt is assigned to topic 17\n",
      "Document 2006\\1_main_body.txt is assigned to topic 1\n",
      "Document 2006\\21_main_body.txt is assigned to topic 6\n",
      "Document 2006\\22_main_body.txt is assigned to topic 17\n",
      "Document 2006\\24_main_body.txt is assigned to topic 17\n",
      "Document 2006\\25_main_body.txt is assigned to topic 17\n",
      "Document 2006\\26_main_body.txt is assigned to topic 17\n",
      "Document 2006\\28_main_body.txt is assigned to topic -1\n",
      "Document 2006\\29_main_body.txt is assigned to topic 8\n",
      "Document 2006\\2_main_body.txt is assigned to topic 2\n",
      "Document 2006\\31_main_body.txt is assigned to topic 3\n",
      "Document 2006\\32_main_body.txt is assigned to topic 1\n",
      "Document 2006\\34_main_body.txt is assigned to topic 6\n",
      "Document 2006\\35_main_body.txt is assigned to topic 0\n",
      "Document 2006\\36_main_body.txt is assigned to topic 0\n",
      "Document 2006\\37_main_body.txt is assigned to topic 0\n",
      "Document 2006\\38_main_body.txt is assigned to topic 0\n",
      "Document 2006\\39_main_body.txt is assigned to topic 0\n",
      "Document 2006\\3_main_body.txt is assigned to topic 2\n",
      "Document 2006\\40_main_body.txt is assigned to topic 0\n",
      "Document 2006\\41_main_body.txt is assigned to topic 0\n",
      "Document 2006\\42_main_body.txt is assigned to topic 0\n",
      "Document 2006\\43_main_body.txt is assigned to topic 0\n",
      "Document 2006\\44_main_body.txt is assigned to topic 3\n",
      "Document 2006\\45_main_body.txt is assigned to topic 3\n",
      "Document 2006\\46_main_body.txt is assigned to topic 11\n",
      "Document 2006\\47_main_body.txt is assigned to topic 0\n",
      "Document 2006\\48_main_body.txt is assigned to topic 5\n",
      "Document 2006\\4_main_body.txt is assigned to topic -1\n",
      "Document 2006\\5_main_body.txt is assigned to topic -1\n",
      "Document 2006\\6_main_body.txt is assigned to topic 2\n",
      "Document 2006\\7_main_body.txt is assigned to topic 2\n",
      "Document 2006\\8_main_body.txt is assigned to topic 2\n",
      "Document 2007\\0_main_body.txt is assigned to topic 6\n",
      "Document 2007\\10_main_body.txt is assigned to topic 16\n",
      "Document 2007\\11_main_body.txt is assigned to topic 9\n",
      "Document 2007\\12_main_body.txt is assigned to topic 2\n",
      "Document 2007\\13_main_body.txt is assigned to topic 9\n",
      "Document 2007\\15_main_body.txt is assigned to topic -1\n",
      "Document 2007\\16_main_body.txt is assigned to topic 9\n",
      "Document 2007\\17_main_body.txt is assigned to topic 11\n",
      "Document 2007\\18_main_body.txt is assigned to topic 2\n",
      "Document 2007\\19_main_body.txt is assigned to topic 2\n",
      "Document 2007\\20_main_body.txt is assigned to topic 2\n",
      "Document 2007\\21_main_body.txt is assigned to topic 2\n",
      "Document 2007\\22_main_body.txt is assigned to topic 2\n",
      "Document 2007\\24_main_body.txt is assigned to topic 2\n",
      "Document 2007\\25_main_body.txt is assigned to topic 2\n",
      "Document 2007\\26_main_body.txt is assigned to topic 2\n",
      "Document 2007\\27_main_body.txt is assigned to topic 2\n",
      "Document 2007\\28_main_body.txt is assigned to topic 2\n",
      "Document 2007\\29_main_body.txt is assigned to topic -1\n",
      "Document 2007\\2_main_body.txt is assigned to topic -1\n",
      "Document 2007\\30_main_body.txt is assigned to topic 2\n",
      "Document 2007\\31_main_body.txt is assigned to topic 3\n",
      "Document 2007\\32_main_body.txt is assigned to topic 2\n",
      "Document 2007\\33_main_body.txt is assigned to topic 17\n",
      "Document 2007\\34_main_body.txt is assigned to topic 17\n",
      "Document 2007\\36_main_body.txt is assigned to topic 1\n",
      "Document 2007\\37_main_body.txt is assigned to topic 17\n",
      "Document 2007\\38_main_body.txt is assigned to topic 3\n",
      "Document 2007\\39_main_body.txt is assigned to topic 3\n",
      "Document 2007\\3_main_body.txt is assigned to topic 12\n",
      "Document 2007\\40_main_body.txt is assigned to topic 16\n",
      "Document 2007\\4_main_body.txt is assigned to topic 1\n",
      "Document 2007\\5_main_body.txt is assigned to topic -1\n",
      "Document 2007\\6_main_body.txt is assigned to topic 0\n",
      "Document 2007\\7_main_body.txt is assigned to topic 9\n",
      "Document 2007\\8_main_body.txt is assigned to topic 12\n",
      "Document 2007\\9_main_body.txt is assigned to topic 9\n",
      "Document 2008\\0_main_body.txt is assigned to topic 18\n",
      "Document 2008\\10_main_body.txt is assigned to topic 15\n",
      "Document 2008\\11_main_body.txt is assigned to topic -1\n",
      "Document 2008\\12_main_body.txt is assigned to topic 6\n",
      "Document 2008\\13_main_body.txt is assigned to topic -1\n",
      "Document 2008\\14_main_body.txt is assigned to topic 2\n",
      "Document 2008\\15_main_body.txt is assigned to topic 0\n",
      "Document 2008\\16_main_body.txt is assigned to topic -1\n",
      "Document 2008\\17_main_body.txt is assigned to topic 17\n",
      "Document 2008\\18_main_body.txt is assigned to topic 5\n",
      "Document 2008\\19_main_body.txt is assigned to topic 5\n",
      "Document 2008\\1_main_body.txt is assigned to topic -1\n",
      "Document 2008\\20_main_body.txt is assigned to topic 0\n",
      "Document 2008\\21_main_body.txt is assigned to topic 5\n",
      "Document 2008\\22_main_body.txt is assigned to topic -1\n",
      "Document 2008\\23_main_body.txt is assigned to topic 9\n",
      "Document 2008\\24_main_body.txt is assigned to topic 1\n",
      "Document 2008\\25_main_body.txt is assigned to topic 5\n",
      "Document 2008\\26_main_body.txt is assigned to topic 1\n",
      "Document 2008\\27_main_body.txt is assigned to topic 9\n",
      "Document 2008\\28_main_body.txt is assigned to topic 6\n",
      "Document 2008\\29_main_body.txt is assigned to topic 6\n",
      "Document 2008\\2_main_body.txt is assigned to topic 7\n",
      "Document 2008\\30_main_body.txt is assigned to topic -1\n",
      "Document 2008\\31_main_body.txt is assigned to topic -1\n",
      "Document 2008\\32_main_body.txt is assigned to topic 6\n",
      "Document 2008\\34_main_body.txt is assigned to topic 1\n",
      "Document 2008\\35_main_body.txt is assigned to topic 3\n",
      "Document 2008\\36_main_body.txt is assigned to topic 3\n",
      "Document 2008\\37_main_body.txt is assigned to topic 3\n",
      "Document 2008\\38_main_body.txt is assigned to topic 3\n",
      "Document 2008\\39_main_body.txt is assigned to topic 3\n",
      "Document 2008\\3_main_body.txt is assigned to topic 7\n",
      "Document 2008\\40_main_body.txt is assigned to topic -1\n",
      "Document 2008\\42_main_body.txt is assigned to topic -1\n",
      "Document 2008\\43_main_body.txt is assigned to topic 2\n",
      "Document 2008\\44_main_body.txt is assigned to topic 2\n",
      "Document 2008\\45_main_body.txt is assigned to topic 2\n",
      "Document 2008\\46_main_body.txt is assigned to topic -1\n",
      "Document 2008\\47_main_body.txt is assigned to topic 2\n",
      "Document 2008\\48_main_body.txt is assigned to topic 1\n",
      "Document 2008\\49_main_body.txt is assigned to topic 2\n",
      "Document 2008\\4_main_body.txt is assigned to topic 15\n",
      "Document 2008\\50_main_body.txt is assigned to topic 2\n",
      "Document 2008\\51_main_body.txt is assigned to topic 2\n",
      "Document 2008\\52_main_body.txt is assigned to topic 2\n",
      "Document 2008\\5_main_body.txt is assigned to topic -1\n",
      "Document 2008\\7_main_body.txt is assigned to topic 16\n",
      "Document 2008\\8_main_body.txt is assigned to topic 16\n",
      "Document 2008\\9_main_body.txt is assigned to topic 0\n",
      "Document 2009\\0_main_body.txt is assigned to topic 6\n",
      "Document 2009\\10_main_body.txt is assigned to topic -1\n",
      "Document 2009\\11_main_body.txt is assigned to topic 7\n",
      "Document 2009\\12_main_body.txt is assigned to topic 0\n",
      "Document 2009\\13_main_body.txt is assigned to topic 7\n",
      "Document 2009\\14_main_body.txt is assigned to topic 6\n",
      "Document 2009\\15_main_body.txt is assigned to topic -1\n",
      "Document 2009\\16_main_body.txt is assigned to topic 6\n",
      "Document 2009\\17_main_body.txt is assigned to topic 1\n",
      "Document 2009\\18_main_body.txt is assigned to topic 6\n",
      "Document 2009\\19_main_body.txt is assigned to topic 6\n",
      "Document 2009\\1_main_body.txt is assigned to topic 2\n",
      "Document 2009\\20_main_body.txt is assigned to topic 9\n",
      "Document 2009\\21_main_body.txt is assigned to topic 3\n",
      "Document 2009\\22_main_body.txt is assigned to topic 6\n",
      "Document 2009\\23_main_body.txt is assigned to topic 4\n",
      "Document 2009\\25_main_body.txt is assigned to topic 6\n",
      "Document 2009\\26_main_body.txt is assigned to topic 6\n",
      "Document 2009\\27_main_body.txt is assigned to topic 1\n",
      "Document 2009\\28_main_body.txt is assigned to topic -1\n",
      "Document 2009\\29_main_body.txt is assigned to topic 0\n",
      "Document 2009\\2_main_body.txt is assigned to topic 5\n",
      "Document 2009\\30_main_body.txt is assigned to topic 0\n",
      "Document 2009\\31_main_body.txt is assigned to topic -1\n",
      "Document 2009\\32_main_body.txt is assigned to topic 2\n",
      "Document 2009\\33_main_body.txt is assigned to topic 0\n",
      "Document 2009\\34_main_body.txt is assigned to topic -1\n",
      "Document 2009\\35_main_body.txt is assigned to topic -1\n",
      "Document 2009\\36_main_body.txt is assigned to topic -1\n",
      "Document 2009\\37_main_body.txt is assigned to topic -1\n",
      "Document 2009\\38_main_body.txt is assigned to topic 3\n",
      "Document 2009\\39_main_body.txt is assigned to topic 12\n",
      "Document 2009\\3_main_body.txt is assigned to topic 6\n",
      "Document 2009\\40_main_body.txt is assigned to topic 5\n",
      "Document 2009\\41_main_body.txt is assigned to topic 12\n",
      "Document 2009\\42_main_body.txt is assigned to topic 0\n",
      "Document 2009\\43_main_body.txt is assigned to topic -1\n",
      "Document 2009\\4_main_body.txt is assigned to topic 6\n",
      "Document 2009\\5_main_body.txt is assigned to topic 6\n",
      "Document 2009\\6_main_body.txt is assigned to topic -1\n",
      "Document 2009\\7_main_body.txt is assigned to topic -1\n",
      "Document 2009\\8_main_body.txt is assigned to topic 1\n",
      "Document 2009\\9_main_body.txt is assigned to topic 7\n",
      "Document 2010\\10_main_body.txt is assigned to topic 15\n",
      "Document 2010\\11_main_body.txt is assigned to topic 1\n",
      "Document 2010\\12_main_body.txt is assigned to topic 5\n",
      "Document 2010\\13_main_body.txt is assigned to topic 5\n",
      "Document 2010\\14_main_body.txt is assigned to topic 1\n",
      "Document 2010\\15_main_body.txt is assigned to topic 6\n",
      "Document 2010\\16_main_body.txt is assigned to topic 6\n",
      "Document 2010\\17_main_body.txt is assigned to topic 6\n",
      "Document 2010\\18_main_body.txt is assigned to topic 1\n",
      "Document 2010\\19_main_body.txt is assigned to topic 15\n",
      "Document 2010\\1_main_body.txt is assigned to topic 14\n",
      "Document 2010\\20_main_body.txt is assigned to topic 1\n",
      "Document 2010\\21_main_body.txt is assigned to topic 1\n",
      "Document 2010\\22_main_body.txt is assigned to topic 1\n",
      "Document 2010\\23_main_body.txt is assigned to topic 6\n",
      "Document 2010\\24_main_body.txt is assigned to topic 1\n",
      "Document 2010\\25_main_body.txt is assigned to topic 1\n",
      "Document 2010\\26_main_body.txt is assigned to topic 15\n",
      "Document 2010\\27_main_body.txt is assigned to topic 11\n",
      "Document 2010\\28_main_body.txt is assigned to topic 0\n",
      "Document 2010\\29_main_body.txt is assigned to topic 0\n",
      "Document 2010\\30_main_body.txt is assigned to topic -1\n",
      "Document 2010\\31_main_body.txt is assigned to topic 0\n",
      "Document 2010\\32_main_body.txt is assigned to topic 0\n",
      "Document 2010\\33_main_body.txt is assigned to topic 0\n",
      "Document 2010\\34_main_body.txt is assigned to topic 3\n",
      "Document 2010\\35_main_body.txt is assigned to topic 3\n",
      "Document 2010\\36_main_body.txt is assigned to topic 3\n",
      "Document 2010\\37_main_body.txt is assigned to topic 3\n",
      "Document 2010\\38_main_body.txt is assigned to topic 3\n",
      "Document 2010\\39_main_body.txt is assigned to topic 3\n",
      "Document 2010\\3_main_body.txt is assigned to topic 7\n",
      "Document 2010\\40_main_body.txt is assigned to topic -1\n",
      "Document 2010\\41_main_body.txt is assigned to topic -1\n",
      "Document 2010\\42_main_body.txt is assigned to topic 6\n",
      "Document 2010\\44_main_body.txt is assigned to topic 2\n",
      "Document 2010\\4_main_body.txt is assigned to topic 0\n",
      "Document 2010\\5_main_body.txt is assigned to topic 16\n",
      "Document 2010\\6_main_body.txt is assigned to topic 15\n",
      "Document 2010\\7_main_body.txt is assigned to topic 15\n",
      "Document 2010\\8_main_body.txt is assigned to topic 15\n",
      "Document 2010\\9_main_body.txt is assigned to topic 15\n",
      "Document 2011\\0_main_body.txt is assigned to topic -1\n",
      "Document 2011\\10_main_body.txt is assigned to topic 14\n",
      "Document 2011\\12_main_body.txt is assigned to topic 14\n",
      "Document 2011\\13_main_body.txt is assigned to topic 14\n",
      "Document 2011\\14_main_body.txt is assigned to topic 14\n",
      "Document 2011\\15_main_body.txt is assigned to topic 1\n",
      "Document 2011\\16_main_body.txt is assigned to topic 1\n",
      "Document 2011\\17_main_body.txt is assigned to topic 1\n",
      "Document 2011\\18_main_body.txt is assigned to topic 1\n",
      "Document 2011\\1_main_body.txt is assigned to topic 0\n",
      "Document 2011\\20_main_body.txt is assigned to topic 5\n",
      "Document 2011\\21_main_body.txt is assigned to topic -1\n",
      "Document 2011\\23_main_body.txt is assigned to topic 0\n",
      "Document 2011\\24_main_body.txt is assigned to topic 0\n",
      "Document 2011\\25_main_body.txt is assigned to topic 6\n",
      "Document 2011\\26_main_body.txt is assigned to topic 6\n",
      "Document 2011\\27_main_body.txt is assigned to topic 6\n",
      "Document 2011\\28_main_body.txt is assigned to topic 3\n",
      "Document 2011\\29_main_body.txt is assigned to topic 6\n",
      "Document 2011\\2_main_body.txt is assigned to topic 7\n",
      "Document 2011\\31_main_body.txt is assigned to topic 5\n",
      "Document 2011\\4_main_body.txt is assigned to topic 5\n",
      "Document 2011\\5_main_body.txt is assigned to topic 12\n",
      "Document 2011\\6_main_body.txt is assigned to topic 0\n",
      "Document 2011\\7_main_body.txt is assigned to topic 0\n",
      "Document 2011\\8_main_body.txt is assigned to topic 0\n",
      "Document 2011\\9_main_body.txt is assigned to topic 0\n",
      "Document 2012\\0_main_body.txt is assigned to topic 3\n",
      "Document 2012\\10_main_body.txt is assigned to topic 1\n",
      "Document 2012\\11_main_body.txt is assigned to topic 1\n",
      "Document 2012\\13_main_body.txt is assigned to topic 1\n",
      "Document 2012\\14_main_body.txt is assigned to topic 1\n",
      "Document 2012\\16_main_body.txt is assigned to topic 14\n",
      "Document 2012\\17_main_body.txt is assigned to topic 14\n",
      "Document 2012\\18_main_body.txt is assigned to topic 17\n",
      "Document 2012\\19_main_body.txt is assigned to topic 14\n",
      "Document 2012\\20_main_body.txt is assigned to topic 7\n",
      "Document 2012\\22_main_body.txt is assigned to topic 16\n",
      "Document 2012\\23_main_body.txt is assigned to topic 12\n",
      "Document 2012\\25_main_body.txt is assigned to topic 1\n",
      "Document 2012\\26_main_body.txt is assigned to topic 0\n",
      "Document 2012\\28_main_body.txt is assigned to topic 5\n",
      "Document 2012\\29_main_body.txt is assigned to topic 0\n",
      "Document 2012\\2_main_body.txt is assigned to topic 5\n",
      "Document 2012\\30_main_body.txt is assigned to topic 11\n",
      "Document 2012\\32_main_body.txt is assigned to topic 11\n",
      "Document 2012\\33_main_body.txt is assigned to topic 11\n",
      "Document 2012\\34_main_body.txt is assigned to topic 11\n",
      "Document 2012\\3_main_body.txt is assigned to topic 3\n",
      "Document 2012\\4_main_body.txt is assigned to topic 5\n",
      "Document 2012\\5_main_body.txt is assigned to topic 1\n",
      "Document 2012\\6_main_body.txt is assigned to topic -1\n",
      "Document 2012\\8_main_body.txt is assigned to topic 1\n",
      "Document 2012\\9_main_body.txt is assigned to topic -1\n",
      "Document 2013\\0_main_body.txt is assigned to topic 9\n",
      "Document 2013\\10_main_body.txt is assigned to topic -1\n",
      "Document 2013\\11_main_body.txt is assigned to topic 0\n",
      "Document 2013\\13_main_body.txt is assigned to topic 14\n",
      "Document 2013\\16_main_body.txt is assigned to topic 3\n",
      "Document 2013\\19_main_body.txt is assigned to topic 7\n",
      "Document 2013\\20_main_body.txt is assigned to topic 7\n",
      "Document 2013\\21_main_body.txt is assigned to topic 7\n",
      "Document 2013\\22_main_body.txt is assigned to topic 7\n",
      "Document 2013\\23_main_body.txt is assigned to topic 7\n",
      "Document 2013\\24_main_body.txt is assigned to topic 14\n",
      "Document 2013\\25_main_body.txt is assigned to topic 3\n",
      "Document 2013\\26_main_body.txt is assigned to topic 0\n",
      "Document 2013\\28_main_body.txt is assigned to topic 0\n",
      "Document 2013\\2_main_body.txt is assigned to topic 9\n",
      "Document 2013\\30_main_body.txt is assigned to topic 0\n",
      "Document 2013\\31_main_body.txt is assigned to topic 0\n",
      "Document 2013\\33_main_body.txt is assigned to topic 2\n",
      "Document 2013\\34_main_body.txt is assigned to topic -1\n",
      "Document 2013\\37_main_body.txt is assigned to topic 4\n",
      "Document 2013\\3_main_body.txt is assigned to topic 1\n",
      "Document 2013\\4_main_body.txt is assigned to topic 9\n",
      "Document 2013\\7_main_body.txt is assigned to topic 0\n",
      "Document 2013\\8_main_body.txt is assigned to topic -1\n",
      "Document 2014\\0_main_body.txt is assigned to topic 5\n",
      "Document 2014\\10_main_body.txt is assigned to topic 5\n",
      "Document 2014\\12_main_body.txt is assigned to topic 9\n",
      "Document 2014\\13_main_body.txt is assigned to topic 9\n",
      "Document 2014\\15_main_body.txt is assigned to topic 0\n",
      "Document 2014\\16_main_body.txt is assigned to topic 0\n",
      "Document 2014\\17_main_body.txt is assigned to topic 0\n",
      "Document 2014\\1_main_body.txt is assigned to topic 5\n",
      "Document 2014\\20_main_body.txt is assigned to topic 0\n",
      "Document 2014\\21_main_body.txt is assigned to topic 3\n",
      "Document 2014\\23_main_body.txt is assigned to topic 12\n",
      "Document 2014\\24_main_body.txt is assigned to topic 8\n",
      "Document 2014\\25_main_body.txt is assigned to topic 1\n",
      "Document 2014\\26_main_body.txt is assigned to topic 11\n",
      "Document 2014\\27_main_body.txt is assigned to topic 17\n",
      "Document 2014\\28_main_body.txt is assigned to topic 2\n",
      "Document 2014\\29_main_body.txt is assigned to topic 8\n",
      "Document 2014\\2_main_body.txt is assigned to topic 5\n",
      "Document 2014\\31_main_body.txt is assigned to topic -1\n",
      "Document 2014\\32_main_body.txt is assigned to topic -1\n",
      "Document 2014\\35_main_body.txt is assigned to topic -1\n",
      "Document 2014\\3_main_body.txt is assigned to topic 5\n",
      "Document 2014\\4_main_body.txt is assigned to topic 5\n",
      "Document 2014\\5_main_body.txt is assigned to topic 5\n",
      "Document 2014\\6_main_body.txt is assigned to topic 5\n",
      "Document 2014\\7_main_body.txt is assigned to topic -1\n",
      "Document 2014\\9_main_body.txt is assigned to topic 9\n",
      "Document 2015\\10_main_body.txt is assigned to topic -1\n",
      "Document 2015\\11_main_body.txt is assigned to topic 10\n",
      "Document 2015\\12_main_body.txt is assigned to topic -1\n",
      "Document 2015\\13_main_body.txt is assigned to topic 0\n",
      "Document 2015\\14_main_body.txt is assigned to topic 0\n",
      "Document 2015\\15_main_body.txt is assigned to topic 0\n",
      "Document 2015\\16_main_body.txt is assigned to topic 0\n",
      "Document 2015\\17_main_body.txt is assigned to topic 0\n",
      "Document 2015\\1_main_body.txt is assigned to topic -1\n",
      "Document 2015\\20_main_body.txt is assigned to topic -1\n",
      "Document 2015\\22_main_body.txt is assigned to topic 6\n",
      "Document 2015\\26_main_body.txt is assigned to topic -1\n",
      "Document 2015\\27_main_body.txt is assigned to topic -1\n",
      "Document 2015\\29_main_body.txt is assigned to topic 6\n",
      "Document 2015\\32_main_body.txt is assigned to topic 11\n",
      "Document 2015\\33_main_body.txt is assigned to topic 0\n",
      "Document 2015\\34_main_body.txt is assigned to topic 5\n",
      "Document 2015\\35_main_body.txt is assigned to topic 10\n",
      "Document 2015\\37_main_body.txt is assigned to topic 8\n",
      "Document 2015\\38_main_body.txt is assigned to topic 5\n",
      "Document 2015\\39_main_body.txt is assigned to topic -1\n",
      "Document 2015\\43_main_body.txt is assigned to topic 0\n",
      "Document 2015\\4_main_body.txt is assigned to topic -1\n",
      "Document 2015\\5_main_body.txt is assigned to topic 5\n",
      "Document 2015\\7_main_body.txt is assigned to topic -1\n",
      "Document 2015\\8_main_body.txt is assigned to topic 5\n",
      "Document 2015\\9_main_body.txt is assigned to topic -1\n",
      "Document 2016\\0_main_body.txt is assigned to topic 0\n",
      "Document 2016\\10_main_body.txt is assigned to topic 2\n",
      "Document 2016\\11_main_body.txt is assigned to topic 4\n",
      "Document 2016\\12_main_body.txt is assigned to topic 9\n",
      "Document 2016\\13_main_body.txt is assigned to topic -1\n",
      "Document 2016\\14_main_body.txt is assigned to topic 14\n",
      "Document 2016\\15_main_body.txt is assigned to topic 4\n",
      "Document 2016\\16_main_body.txt is assigned to topic 0\n",
      "Document 2016\\17_main_body.txt is assigned to topic 4\n",
      "Document 2016\\18_main_body.txt is assigned to topic -1\n",
      "Document 2016\\19_main_body.txt is assigned to topic 0\n",
      "Document 2016\\1_main_body.txt is assigned to topic -1\n",
      "Document 2016\\20_main_body.txt is assigned to topic 4\n",
      "Document 2016\\21_main_body.txt is assigned to topic 8\n",
      "Document 2016\\22_main_body.txt is assigned to topic 0\n",
      "Document 2016\\23_main_body.txt is assigned to topic 5\n",
      "Document 2016\\24_main_body.txt is assigned to topic 5\n",
      "Document 2016\\25_main_body.txt is assigned to topic 5\n",
      "Document 2016\\26_main_body.txt is assigned to topic 8\n",
      "Document 2016\\27_main_body.txt is assigned to topic 10\n",
      "Document 2016\\29_main_body.txt is assigned to topic 0\n",
      "Document 2016\\2_main_body.txt is assigned to topic -1\n",
      "Document 2016\\30_main_body.txt is assigned to topic 0\n",
      "Document 2016\\31_main_body.txt is assigned to topic 5\n",
      "Document 2016\\32_main_body.txt is assigned to topic 5\n",
      "Document 2016\\33_main_body.txt is assigned to topic 5\n",
      "Document 2016\\34_main_body.txt is assigned to topic 15\n",
      "Document 2016\\35_main_body.txt is assigned to topic 15\n",
      "Document 2016\\36_main_body.txt is assigned to topic -1\n",
      "Document 2016\\37_main_body.txt is assigned to topic 4\n",
      "Document 2016\\38_main_body.txt is assigned to topic 4\n",
      "Document 2016\\39_main_body.txt is assigned to topic 4\n",
      "Document 2016\\40_main_body.txt is assigned to topic 4\n",
      "Document 2016\\41_main_body.txt is assigned to topic 4\n",
      "Document 2016\\42_main_body.txt is assigned to topic 4\n",
      "Document 2016\\43_main_body.txt is assigned to topic -1\n",
      "Document 2016\\44_main_body.txt is assigned to topic 14\n",
      "Document 2016\\45_main_body.txt is assigned to topic -1\n",
      "Document 2016\\4_main_body.txt is assigned to topic 0\n",
      "Document 2016\\5_main_body.txt is assigned to topic 6\n",
      "Document 2016\\6_main_body.txt is assigned to topic -1\n",
      "Document 2016\\7_main_body.txt is assigned to topic 0\n",
      "Document 2016\\8_main_body.txt is assigned to topic 8\n",
      "Document 2016\\9_main_body.txt is assigned to topic 9\n",
      "Document 2017\\0_main_body.txt is assigned to topic 14\n",
      "Document 2017\\10_main_body.txt is assigned to topic 9\n",
      "Document 2017\\11_main_body.txt is assigned to topic 5\n",
      "Document 2017\\12_main_body.txt is assigned to topic 2\n",
      "Document 2017\\14_main_body.txt is assigned to topic 8\n",
      "Document 2017\\15_main_body.txt is assigned to topic 10\n",
      "Document 2017\\16_main_body.txt is assigned to topic 4\n",
      "Document 2017\\17_main_body.txt is assigned to topic 10\n",
      "Document 2017\\18_main_body.txt is assigned to topic 0\n",
      "Document 2017\\19_main_body.txt is assigned to topic 0\n",
      "Document 2017\\20_main_body.txt is assigned to topic 10\n",
      "Document 2017\\21_main_body.txt is assigned to topic 5\n",
      "Document 2017\\22_main_body.txt is assigned to topic 4\n",
      "Document 2017\\23_main_body.txt is assigned to topic -1\n",
      "Document 2017\\24_main_body.txt is assigned to topic 4\n",
      "Document 2017\\25_main_body.txt is assigned to topic 0\n",
      "Document 2017\\26_main_body.txt is assigned to topic 4\n",
      "Document 2017\\27_main_body.txt is assigned to topic 6\n",
      "Document 2017\\28_main_body.txt is assigned to topic 0\n",
      "Document 2017\\29_main_body.txt is assigned to topic 0\n",
      "Document 2017\\2_main_body.txt is assigned to topic 1\n",
      "Document 2017\\30_main_body.txt is assigned to topic 0\n",
      "Document 2017\\31_main_body.txt is assigned to topic -1\n",
      "Document 2017\\32_main_body.txt is assigned to topic 5\n",
      "Document 2017\\33_main_body.txt is assigned to topic 5\n",
      "Document 2017\\34_main_body.txt is assigned to topic 0\n",
      "Document 2017\\35_main_body.txt is assigned to topic 5\n",
      "Document 2017\\36_main_body.txt is assigned to topic 3\n",
      "Document 2017\\37_main_body.txt is assigned to topic -1\n",
      "Document 2017\\38_main_body.txt is assigned to topic 5\n",
      "Document 2017\\39_main_body.txt is assigned to topic 5\n",
      "Document 2017\\3_main_body.txt is assigned to topic -1\n",
      "Document 2017\\40_main_body.txt is assigned to topic 5\n",
      "Document 2017\\41_main_body.txt is assigned to topic 5\n",
      "Document 2017\\42_main_body.txt is assigned to topic -1\n",
      "Document 2017\\43_main_body.txt is assigned to topic 4\n",
      "Document 2017\\44_main_body.txt is assigned to topic 0\n",
      "Document 2017\\45_main_body.txt is assigned to topic -1\n",
      "Document 2017\\46_main_body.txt is assigned to topic 3\n",
      "Document 2017\\47_main_body.txt is assigned to topic 13\n",
      "Document 2017\\48_main_body.txt is assigned to topic -1\n",
      "Document 2017\\49_main_body.txt is assigned to topic 5\n",
      "Document 2017\\4_main_body.txt is assigned to topic 8\n",
      "Document 2017\\50_main_body.txt is assigned to topic 13\n",
      "Document 2017\\51_main_body.txt is assigned to topic 4\n",
      "Document 2017\\5_main_body.txt is assigned to topic -1\n",
      "Document 2017\\6_main_body.txt is assigned to topic 5\n",
      "Document 2017\\7_main_body.txt is assigned to topic 8\n",
      "Document 2017\\8_main_body.txt is assigned to topic 8\n",
      "Document 2017\\9_main_body.txt is assigned to topic 6\n",
      "Document 2018\\0_main_body.txt is assigned to topic 5\n",
      "Document 2018\\10_main_body.txt is assigned to topic 2\n",
      "Document 2018\\11_main_body.txt is assigned to topic 4\n",
      "Document 2018\\12_main_body.txt is assigned to topic 6\n",
      "Document 2018\\13_main_body.txt is assigned to topic 16\n",
      "Document 2018\\14_main_body.txt is assigned to topic 0\n",
      "Document 2018\\15_main_body.txt is assigned to topic -1\n",
      "Document 2018\\16_main_body.txt is assigned to topic 4\n",
      "Document 2018\\17_main_body.txt is assigned to topic 10\n",
      "Document 2018\\18_main_body.txt is assigned to topic 0\n",
      "Document 2018\\1_main_body.txt is assigned to topic -1\n",
      "Document 2018\\20_main_body.txt is assigned to topic 0\n",
      "Document 2018\\21_main_body.txt is assigned to topic 2\n",
      "Document 2018\\22_main_body.txt is assigned to topic 2\n",
      "Document 2018\\23_main_body.txt is assigned to topic 2\n",
      "Document 2018\\24_main_body.txt is assigned to topic 8\n",
      "Document 2018\\25_main_body.txt is assigned to topic -1\n",
      "Document 2018\\26_main_body.txt is assigned to topic 5\n",
      "Document 2018\\27_main_body.txt is assigned to topic 4\n",
      "Document 2018\\28_main_body.txt is assigned to topic 8\n",
      "Document 2018\\29_main_body.txt is assigned to topic 0\n",
      "Document 2018\\2_main_body.txt is assigned to topic 9\n",
      "Document 2018\\31_main_body.txt is assigned to topic 5\n",
      "Document 2018\\32_main_body.txt is assigned to topic -1\n",
      "Document 2018\\33_main_body.txt is assigned to topic 0\n",
      "Document 2018\\34_main_body.txt is assigned to topic 0\n",
      "Document 2018\\35_main_body.txt is assigned to topic 9\n",
      "Document 2018\\36_main_body.txt is assigned to topic 4\n",
      "Document 2018\\37_main_body.txt is assigned to topic 5\n",
      "Document 2018\\38_main_body.txt is assigned to topic 0\n",
      "Document 2018\\39_main_body.txt is assigned to topic 5\n",
      "Document 2018\\3_main_body.txt is assigned to topic 9\n",
      "Document 2018\\40_main_body.txt is assigned to topic -1\n",
      "Document 2018\\41_main_body.txt is assigned to topic 5\n",
      "Document 2018\\42_main_body.txt is assigned to topic 0\n",
      "Document 2018\\43_main_body.txt is assigned to topic 2\n",
      "Document 2018\\44_main_body.txt is assigned to topic 4\n",
      "Document 2018\\45_main_body.txt is assigned to topic 2\n",
      "Document 2018\\46_main_body.txt is assigned to topic -1\n",
      "Document 2018\\48_main_body.txt is assigned to topic 11\n",
      "Document 2018\\49_main_body.txt is assigned to topic -1\n",
      "Document 2018\\4_main_body.txt is assigned to topic 9\n",
      "Document 2018\\50_main_body.txt is assigned to topic 4\n",
      "Document 2018\\5_main_body.txt is assigned to topic -1\n",
      "Document 2018\\6_main_body.txt is assigned to topic 10\n",
      "Document 2018\\7_main_body.txt is assigned to topic 5\n",
      "Document 2018\\8_main_body.txt is assigned to topic -1\n",
      "Document 2018\\9_main_body.txt is assigned to topic 4\n",
      "Document 2019\\0_main_body.txt is assigned to topic 4\n",
      "Document 2019\\10_main_body.txt is assigned to topic -1\n",
      "Document 2019\\11_main_body.txt is assigned to topic -1\n",
      "Document 2019\\12_main_body.txt is assigned to topic 13\n",
      "Document 2019\\13_main_body.txt is assigned to topic 10\n",
      "Document 2019\\14_main_body.txt is assigned to topic 3\n",
      "Document 2019\\15_main_body.txt is assigned to topic 0\n",
      "Document 2019\\16_main_body.txt is assigned to topic 0\n",
      "Document 2019\\17_main_body.txt is assigned to topic 2\n",
      "Document 2019\\18_main_body.txt is assigned to topic 0\n",
      "Document 2019\\19_main_body.txt is assigned to topic 14\n",
      "Document 2019\\1_main_body.txt is assigned to topic 4\n",
      "Document 2019\\21_main_body.txt is assigned to topic -1\n",
      "Document 2019\\22_main_body.txt is assigned to topic 0\n",
      "Document 2019\\23_main_body.txt is assigned to topic 5\n",
      "Document 2019\\24_main_body.txt is assigned to topic -1\n",
      "Document 2019\\25_main_body.txt is assigned to topic 9\n",
      "Document 2019\\26_main_body.txt is assigned to topic 4\n",
      "Document 2019\\27_main_body.txt is assigned to topic 13\n",
      "Document 2019\\28_main_body.txt is assigned to topic 13\n",
      "Document 2019\\29_main_body.txt is assigned to topic 13\n",
      "Document 2019\\2_main_body.txt is assigned to topic 4\n",
      "Document 2019\\30_main_body.txt is assigned to topic 10\n",
      "Document 2019\\31_main_body.txt is assigned to topic 0\n",
      "Document 2019\\32_main_body.txt is assigned to topic 0\n",
      "Document 2019\\33_main_body.txt is assigned to topic 4\n",
      "Document 2019\\36_main_body.txt is assigned to topic 0\n",
      "Document 2019\\37_main_body.txt is assigned to topic 4\n",
      "Document 2019\\38_main_body.txt is assigned to topic -1\n",
      "Document 2019\\3_main_body.txt is assigned to topic 4\n",
      "Document 2019\\4_main_body.txt is assigned to topic 4\n",
      "Document 2019\\5_main_body.txt is assigned to topic 1\n",
      "Document 2019\\6_main_body.txt is assigned to topic 0\n",
      "Document 2019\\7_main_body.txt is assigned to topic 2\n",
      "Document 2019\\8_main_body.txt is assigned to topic 2\n",
      "Document 2019\\9_main_body.txt is assigned to topic 2\n",
      "Document 2020\\0_main_body.txt is assigned to topic 8\n",
      "Document 2020\\10_main_body.txt is assigned to topic 4\n",
      "Document 2020\\11_main_body.txt is assigned to topic -1\n",
      "Document 2020\\12_main_body.txt is assigned to topic -1\n",
      "Document 2020\\13_main_body.txt is assigned to topic 1\n",
      "Document 2020\\14_main_body.txt is assigned to topic 1\n",
      "Document 2020\\15_main_body.txt is assigned to topic 1\n",
      "Document 2020\\16_main_body.txt is assigned to topic -1\n",
      "Document 2020\\17_main_body.txt is assigned to topic 5\n",
      "Document 2020\\18_main_body.txt is assigned to topic 5\n",
      "Document 2020\\19_main_body.txt is assigned to topic -1\n",
      "Document 2020\\1_main_body.txt is assigned to topic 4\n",
      "Document 2020\\20_main_body.txt is assigned to topic 5\n",
      "Document 2020\\21_main_body.txt is assigned to topic 5\n",
      "Document 2020\\22_main_body.txt is assigned to topic 2\n",
      "Document 2020\\23_main_body.txt is assigned to topic -1\n",
      "Document 2020\\24_main_body.txt is assigned to topic -1\n",
      "Document 2020\\25_main_body.txt is assigned to topic 8\n",
      "Document 2020\\26_main_body.txt is assigned to topic 5\n",
      "Document 2020\\27_main_body.txt is assigned to topic 10\n",
      "Document 2020\\28_main_body.txt is assigned to topic 10\n",
      "Document 2020\\29_main_body.txt is assigned to topic 10\n",
      "Document 2020\\2_main_body.txt is assigned to topic 5\n",
      "Document 2020\\30_main_body.txt is assigned to topic 6\n",
      "Document 2020\\31_main_body.txt is assigned to topic -1\n",
      "Document 2020\\33_main_body.txt is assigned to topic 5\n",
      "Document 2020\\34_main_body.txt is assigned to topic 6\n",
      "Document 2020\\35_main_body.txt is assigned to topic 4\n",
      "Document 2020\\36_main_body.txt is assigned to topic 11\n",
      "Document 2020\\37_main_body.txt is assigned to topic 3\n",
      "Document 2020\\38_main_body.txt is assigned to topic 12\n",
      "Document 2020\\39_main_body.txt is assigned to topic -1\n",
      "Document 2020\\3_main_body.txt is assigned to topic 8\n",
      "Document 2020\\40_main_body.txt is assigned to topic 4\n",
      "Document 2020\\41_main_body.txt is assigned to topic 0\n",
      "Document 2020\\42_main_body.txt is assigned to topic 0\n",
      "Document 2020\\43_main_body.txt is assigned to topic 5\n",
      "Document 2020\\44_main_body.txt is assigned to topic 0\n",
      "Document 2020\\45_main_body.txt is assigned to topic 0\n",
      "Document 2020\\46_main_body.txt is assigned to topic -1\n",
      "Document 2020\\47_main_body.txt is assigned to topic 0\n",
      "Document 2020\\48_main_body.txt is assigned to topic 11\n",
      "Document 2020\\49_main_body.txt is assigned to topic 5\n",
      "Document 2020\\4_main_body.txt is assigned to topic 4\n",
      "Document 2020\\50_main_body.txt is assigned to topic 4\n",
      "Document 2020\\51_main_body.txt is assigned to topic 4\n",
      "Document 2020\\52_main_body.txt is assigned to topic 0\n",
      "Document 2020\\53_main_body.txt is assigned to topic 8\n",
      "Document 2020\\54_main_body.txt is assigned to topic 5\n",
      "Document 2020\\55_main_body.txt is assigned to topic 4\n",
      "Document 2020\\56_main_body.txt is assigned to topic -1\n",
      "Document 2020\\57_main_body.txt is assigned to topic 0\n",
      "Document 2020\\58_main_body.txt is assigned to topic 4\n",
      "Document 2020\\5_main_body.txt is assigned to topic 0\n",
      "Document 2020\\61_main_body.txt is assigned to topic -1\n",
      "Document 2020\\6_main_body.txt is assigned to topic 5\n",
      "Document 2020\\7_main_body.txt is assigned to topic 0\n",
      "Document 2020\\8_main_body.txt is assigned to topic 4\n",
      "Document 2020\\9_main_body.txt is assigned to topic 4\n",
      "Document 2021\\0_main_body.txt is assigned to topic 4\n",
      "Document 2021\\10_main_body.txt is assigned to topic 12\n",
      "Document 2021\\11_main_body.txt is assigned to topic 12\n",
      "Document 2021\\12_main_body.txt is assigned to topic 0\n",
      "Document 2021\\13_main_body.txt is assigned to topic 11\n",
      "Document 2021\\14_main_body.txt is assigned to topic -1\n",
      "Document 2021\\15_main_body.txt is assigned to topic 4\n",
      "Document 2021\\16_main_body.txt is assigned to topic 4\n",
      "Document 2021\\17_main_body.txt is assigned to topic 4\n",
      "Document 2021\\18_main_body.txt is assigned to topic 0\n",
      "Document 2021\\19_main_body.txt is assigned to topic 5\n",
      "Document 2021\\1_main_body.txt is assigned to topic 0\n",
      "Document 2021\\20_main_body.txt is assigned to topic 9\n",
      "Document 2021\\21_main_body.txt is assigned to topic 10\n",
      "Document 2021\\22_main_body.txt is assigned to topic 5\n",
      "Document 2021\\23_main_body.txt is assigned to topic -1\n",
      "Document 2021\\24_main_body.txt is assigned to topic 4\n",
      "Document 2021\\25_main_body.txt is assigned to topic 14\n",
      "Document 2021\\26_main_body.txt is assigned to topic 4\n",
      "Document 2021\\27_main_body.txt is assigned to topic 2\n",
      "Document 2021\\28_main_body.txt is assigned to topic 4\n",
      "Document 2021\\29_main_body.txt is assigned to topic -1\n",
      "Document 2021\\2_main_body.txt is assigned to topic 4\n",
      "Document 2021\\3_main_body.txt is assigned to topic 4\n",
      "Document 2021\\6_main_body.txt is assigned to topic 4\n",
      "Document 2021\\7_main_body.txt is assigned to topic 2\n",
      "Document 2021\\9_main_body.txt is assigned to topic 12\n",
      "Document 2022\\0_main_body.txt is assigned to topic 1\n",
      "Document 2022\\10_main_body.txt is assigned to topic 8\n",
      "Document 2022\\11_main_body.txt is assigned to topic 5\n",
      "Document 2022\\12_main_body.txt is assigned to topic 0\n",
      "Document 2022\\13_main_body.txt is assigned to topic 13\n",
      "Document 2022\\14_main_body.txt is assigned to topic 9\n",
      "Document 2022\\15_main_body.txt is assigned to topic 13\n",
      "Document 2022\\16_main_body.txt is assigned to topic 2\n",
      "Document 2022\\17_main_body.txt is assigned to topic 4\n",
      "Document 2022\\18_main_body.txt is assigned to topic 8\n",
      "Document 2022\\19_main_body.txt is assigned to topic 13\n",
      "Document 2022\\1_main_body.txt is assigned to topic 1\n",
      "Document 2022\\20_main_body.txt is assigned to topic 4\n",
      "Document 2022\\21_main_body.txt is assigned to topic 5\n",
      "Document 2022\\22_main_body.txt is assigned to topic 4\n",
      "Document 2022\\23_main_body.txt is assigned to topic 4\n",
      "Document 2022\\25_main_body.txt is assigned to topic 0\n",
      "Document 2022\\26_main_body.txt is assigned to topic 13\n",
      "Document 2022\\27_main_body.txt is assigned to topic 0\n",
      "Document 2022\\28_main_body.txt is assigned to topic 0\n",
      "Document 2022\\29_main_body.txt is assigned to topic 10\n",
      "Document 2022\\2_main_body.txt is assigned to topic 1\n",
      "Document 2022\\30_main_body.txt is assigned to topic -1\n",
      "Document 2022\\31_main_body.txt is assigned to topic 5\n",
      "Document 2022\\32_main_body.txt is assigned to topic 4\n",
      "Document 2022\\33_main_body.txt is assigned to topic -1\n",
      "Document 2022\\3_main_body.txt is assigned to topic 1\n",
      "Document 2022\\4_main_body.txt is assigned to topic -1\n",
      "Document 2022\\5_main_body.txt is assigned to topic 8\n",
      "Document 2022\\6_main_body.txt is assigned to topic 0\n",
      "Document 2022\\7_main_body.txt is assigned to topic 8\n",
      "Document 2022\\8_main_body.txt is assigned to topic 8\n",
      "Document 2022\\9_main_body.txt is assigned to topic 8\n",
      "Document 2023\\0_main_body.txt is assigned to topic 8\n",
      "Document 2023\\10_main_body.txt is assigned to topic 7\n",
      "Document 2023\\11_main_body.txt is assigned to topic -1\n",
      "Document 2023\\12_main_body.txt is assigned to topic 9\n",
      "Document 2023\\13_main_body.txt is assigned to topic 6\n",
      "Document 2023\\14_main_body.txt is assigned to topic 0\n",
      "Document 2023\\15_main_body.txt is assigned to topic 0\n",
      "Document 2023\\16_main_body.txt is assigned to topic 0\n",
      "Document 2023\\17_main_body.txt is assigned to topic 0\n",
      "Document 2023\\18_main_body.txt is assigned to topic -1\n",
      "Document 2023\\19_main_body.txt is assigned to topic 0\n",
      "Document 2023\\20_main_body.txt is assigned to topic 10\n",
      "Document 2023\\21_main_body.txt is assigned to topic 5\n",
      "Document 2023\\22_main_body.txt is assigned to topic 5\n",
      "Document 2023\\23_main_body.txt is assigned to topic 11\n",
      "Document 2023\\24_main_body.txt is assigned to topic 4\n",
      "Document 2023\\25_main_body.txt is assigned to topic 0\n",
      "Document 2023\\26_main_body.txt is assigned to topic 8\n",
      "Document 2023\\27_main_body.txt is assigned to topic -1\n",
      "Document 2023\\28_main_body.txt is assigned to topic -1\n",
      "Document 2023\\29_main_body.txt is assigned to topic 0\n",
      "Document 2023\\2_main_body.txt is assigned to topic 4\n",
      "Document 2023\\30_main_body.txt is assigned to topic 0\n",
      "Document 2023\\31_main_body.txt is assigned to topic 10\n",
      "Document 2023\\32_main_body.txt is assigned to topic 0\n",
      "Document 2023\\33_main_body.txt is assigned to topic 0\n",
      "Document 2023\\34_main_body.txt is assigned to topic 0\n",
      "Document 2023\\35_main_body.txt is assigned to topic 8\n",
      "Document 2023\\37_main_body.txt is assigned to topic 4\n",
      "Document 2023\\38_main_body.txt is assigned to topic 4\n",
      "Document 2023\\39_main_body.txt is assigned to topic 4\n",
      "Document 2023\\3_main_body.txt is assigned to topic 4\n",
      "Document 2023\\41_main_body.txt is assigned to topic -1\n",
      "Document 2023\\43_main_body.txt is assigned to topic 4\n",
      "Document 2023\\44_main_body.txt is assigned to topic 4\n",
      "Document 2023\\45_main_body.txt is assigned to topic 13\n",
      "Document 2023\\4_main_body.txt is assigned to topic 6\n",
      "Document 2023\\5_main_body.txt is assigned to topic -1\n",
      "Document 2023\\6_main_body.txt is assigned to topic 13\n",
      "Document 2023\\7_main_body.txt is assigned to topic 4\n",
      "Document 2023\\8_main_body.txt is assigned to topic 1\n",
      "Document 2024\\0_main_body.txt is assigned to topic 4\n",
      "Document 2024\\10_main_body.txt is assigned to topic 8\n",
      "Document 2024\\11_main_body.txt is assigned to topic 4\n",
      "Document 2024\\12_main_body.txt is assigned to topic 8\n",
      "Document 2024\\13_main_body.txt is assigned to topic 4\n",
      "Document 2024\\14_main_body.txt is assigned to topic 8\n",
      "Document 2024\\15_main_body.txt is assigned to topic 9\n",
      "Document 2024\\16_main_body.txt is assigned to topic 0\n",
      "Document 2024\\17_main_body.txt is assigned to topic 9\n",
      "Document 2024\\18_main_body.txt is assigned to topic 5\n",
      "Document 2024\\19_main_body.txt is assigned to topic 9\n",
      "Document 2024\\1_main_body.txt is assigned to topic -1\n",
      "Document 2024\\20_main_body.txt is assigned to topic 9\n",
      "Document 2024\\21_main_body.txt is assigned to topic 0\n",
      "Document 2024\\22_main_body.txt is assigned to topic 0\n",
      "Document 2024\\23_main_body.txt is assigned to topic 4\n",
      "Document 2024\\24_main_body.txt is assigned to topic 0\n",
      "Document 2024\\26_main_body.txt is assigned to topic 0\n",
      "Document 2024\\27_main_body.txt is assigned to topic 0\n",
      "Document 2024\\28_main_body.txt is assigned to topic 0\n",
      "Document 2024\\29_main_body.txt is assigned to topic 13\n",
      "Document 2024\\2_main_body.txt is assigned to topic 4\n",
      "Document 2024\\30_main_body.txt is assigned to topic 10\n",
      "Document 2024\\31_main_body.txt is assigned to topic 13\n",
      "Document 2024\\32_main_body.txt is assigned to topic 13\n",
      "Document 2024\\33_main_body.txt is assigned to topic 14\n",
      "Document 2024\\34_main_body.txt is assigned to topic 5\n",
      "Document 2024\\35_main_body.txt is assigned to topic 0\n",
      "Document 2024\\36_main_body.txt is assigned to topic 0\n",
      "Document 2024\\37_main_body.txt is assigned to topic 3\n",
      "Document 2024\\38_main_body.txt is assigned to topic -1\n",
      "Document 2024\\39_main_body.txt is assigned to topic -1\n",
      "Document 2024\\3_main_body.txt is assigned to topic 8\n",
      "Document 2024\\40_main_body.txt is assigned to topic 0\n",
      "Document 2024\\41_main_body.txt is assigned to topic -1\n",
      "Document 2024\\42_main_body.txt is assigned to topic 2\n",
      "Document 2024\\44_main_body.txt is assigned to topic 4\n",
      "Document 2024\\45_main_body.txt is assigned to topic 13\n",
      "Document 2024\\47_main_body.txt is assigned to topic 4\n",
      "Document 2024\\4_main_body.txt is assigned to topic 8\n",
      "Document 2024\\5_main_body.txt is assigned to topic 4\n",
      "Document 2024\\6_main_body.txt is assigned to topic 4\n",
      "Document 2024\\7_main_body.txt is assigned to topic 4\n",
      "Document 2024\\8_main_body.txt is assigned to topic 2\n",
      "Document 2024\\9_main_body.txt is assigned to topic 0\n"
     ]
    }
   ],
   "source": [
    "topics, probs = topic_model.transform(texts)\n",
    "df = {\"document\":[], \"topic\":[]}\n",
    "# 'topics' will contain the topic assignment for each document\n",
    "for i, topic in enumerate(topics):\n",
    "    df['document'].append(titles[i])\n",
    "    df[\"topic\"].append(topic)\n",
    "    print(f\"Document {titles[i]} is assigned to topic {topic}\")\n",
    "fin_df = pd.DataFrame(data=df)\n",
    "fin_df.to_csv('BERTopic_topics_documents.csv') "
   ]
  },
  {
   "cell_type": "code",
   "execution_count": 7,
   "id": "7266aa5f",
   "metadata": {
    "execution": {
     "iopub.execute_input": "2024-07-19T17:58:44.933111Z",
     "iopub.status.busy": "2024-07-19T17:58:44.932694Z",
     "iopub.status.idle": "2024-07-19T17:58:44.957603Z",
     "shell.execute_reply": "2024-07-19T17:58:44.956339Z"
    },
    "papermill": {
     "duration": 0.039006,
     "end_time": "2024-07-19T17:58:44.960087",
     "exception": false,
     "start_time": "2024-07-19T17:58:44.921081",
     "status": "completed"
    },
    "tags": []
   },
   "outputs": [
    {
     "data": {
      "text/html": [
       "<div>\n",
       "<style scoped>\n",
       "    .dataframe tbody tr th:only-of-type {\n",
       "        vertical-align: middle;\n",
       "    }\n",
       "\n",
       "    .dataframe tbody tr th {\n",
       "        vertical-align: top;\n",
       "    }\n",
       "\n",
       "    .dataframe thead th {\n",
       "        text-align: right;\n",
       "    }\n",
       "</style>\n",
       "<table border=\"1\" class=\"dataframe\">\n",
       "  <thead>\n",
       "    <tr style=\"text-align: right;\">\n",
       "      <th></th>\n",
       "      <th>Topic</th>\n",
       "      <th>Count</th>\n",
       "      <th>Name</th>\n",
       "      <th>Representation</th>\n",
       "      <th>Representative_Docs</th>\n",
       "    </tr>\n",
       "  </thead>\n",
       "  <tbody>\n",
       "    <tr>\n",
       "      <th>0</th>\n",
       "      <td>-1</td>\n",
       "      <td>175</td>\n",
       "      <td>-1_set_using_gene_genes</td>\n",
       "      <td>[set, using, gene, genes, used, one, also, num...</td>\n",
       "      <td>[simultaneous measurements expression levels t...</td>\n",
       "    </tr>\n",
       "    <tr>\n",
       "      <th>1</th>\n",
       "      <td>0</td>\n",
       "      <td>163</td>\n",
       "      <td>0_protein_proteins_structure_residues</td>\n",
       "      <td>[protein, proteins, structure, residues, seque...</td>\n",
       "      <td>[many important sci tic medical industrial pro...</td>\n",
       "    </tr>\n",
       "    <tr>\n",
       "      <th>2</th>\n",
       "      <td>1</td>\n",
       "      <td>153</td>\n",
       "      <td>1_snps_snp_disease_genetic</td>\n",
       "      <td>[snps, snp, disease, genetic, plo, population,...</td>\n",
       "      <td>[genome wide association studies was last five...</td>\n",
       "    </tr>\n",
       "    <tr>\n",
       "      <th>3</th>\n",
       "      <td>2</td>\n",
       "      <td>133</td>\n",
       "      <td>2_terms_gene_information_ontology</td>\n",
       "      <td>[terms, gene, information, ontology, text, sys...</td>\n",
       "      <td>[nature textual biomedical information biomedi...</td>\n",
       "    </tr>\n",
       "    <tr>\n",
       "      <th>4</th>\n",
       "      <td>3</td>\n",
       "      <td>98</td>\n",
       "      <td>3_gene_genes_expression_regulatory</td>\n",
       "      <td>[gene, genes, expression, regulatory, network,...</td>\n",
       "      <td>[information derived genome sequencing project...</td>\n",
       "    </tr>\n",
       "  </tbody>\n",
       "</table>\n",
       "</div>"
      ],
      "text/plain": [
       "   Topic  Count                                   Name  \\\n",
       "0     -1    175                -1_set_using_gene_genes   \n",
       "1      0    163  0_protein_proteins_structure_residues   \n",
       "2      1    153             1_snps_snp_disease_genetic   \n",
       "3      2    133      2_terms_gene_information_ontology   \n",
       "4      3     98     3_gene_genes_expression_regulatory   \n",
       "\n",
       "                                      Representation  \\\n",
       "0  [set, using, gene, genes, used, one, also, num...   \n",
       "1  [protein, proteins, structure, residues, seque...   \n",
       "2  [snps, snp, disease, genetic, plo, population,...   \n",
       "3  [terms, gene, information, ontology, text, sys...   \n",
       "4  [gene, genes, expression, regulatory, network,...   \n",
       "\n",
       "                                 Representative_Docs  \n",
       "0  [simultaneous measurements expression levels t...  \n",
       "1  [many important sci tic medical industrial pro...  \n",
       "2  [genome wide association studies was last five...  \n",
       "3  [nature textual biomedical information biomedi...  \n",
       "4  [information derived genome sequencing project...  "
      ]
     },
     "execution_count": 7,
     "metadata": {},
     "output_type": "execute_result"
    }
   ],
   "source": [
    "freq = topic_model.get_topic_info(); freq.head(5)"
   ]
  },
  {
   "cell_type": "code",
   "execution_count": 8,
   "id": "1357b069",
   "metadata": {},
   "outputs": [
    {
     "data": {
      "text/plain": [
       "[('cancer', 0.03708602650783213),\n",
       " ('mutations', 0.023772031199641795),\n",
       " ('genes', 0.023284069196507606),\n",
       " ('gene', 0.02238382547031216),\n",
       " ('tumor', 0.020748536726151106),\n",
       " ('cell', 0.019733585601897703),\n",
       " ('drug', 0.01889945243746556),\n",
       " ('mutation', 0.01836204952403435),\n",
       " ('sub', 0.017452025574226412),\n",
       " ('samples', 0.015511632982038889)]"
      ]
     },
     "execution_count": 8,
     "metadata": {},
     "output_type": "execute_result"
    }
   ],
   "source": [
    "topic_model.get_topic(3)"
   ]
  },
  {
   "cell_type": "code",
   "execution_count": 7,
   "id": "54c2a0e2",
   "metadata": {},
   "outputs": [
    {
     "data": {
      "text/plain": [
       "{-1: '-1_gene_genes_set_using',\n",
       " 0: '0_protein_proteins_structure_residues',\n",
       " 1: '1_snps_snp_disease_genetic',\n",
       " 2: '2_gene_genes_expression_regulatory',\n",
       " 3: '3_cancer_mutations_genes_gene',\n",
       " 4: '4_network_networks_time_state',\n",
       " 5: '5_patients_patient_health_clinical',\n",
       " 6: '6_terms_text_term_information',\n",
       " 7: '7_tree_trees_taxa_species',\n",
       " 8: '8_sequence_sequences_dna_length',\n",
       " 9: '9_imaging_brain_features_age',\n",
       " 10: '10_drug_drugs_target_similarity',\n",
       " 11: '11_object_ontology_databases_database',\n",
       " 12: '12_cell_cells_spatial_expression',\n",
       " 13: '13_virus_viral_cov_hiv',\n",
       " 14: '14_rna_mirna_rnas_sequence',\n",
       " 15: '15_harm_drug_gene_relationships',\n",
       " 16: '16_rac_species_rrna_biome',\n",
       " 17: '17_cancer_features_mirna_layer',\n",
       " 18: '18_mass_peptide_spectra_peak',\n",
       " 19: '19_alignment_alignments_sequences_score',\n",
       " 20: '20_work_flow_module_user'}"
      ]
     },
     "execution_count": 7,
     "metadata": {},
     "output_type": "execute_result"
    }
   ],
   "source": [
    "topic_model.topic_labels_"
   ]
  },
  {
   "cell_type": "code",
   "execution_count": 15,
   "id": "9b90ae04",
   "metadata": {},
   "outputs": [
    {
     "name": "stdout",
     "output_type": "stream",
     "text": [
      "gene protein set genes sequence  0.01 0.01 0.01 0.01 0.01 \n",
      "snps snp disease genetic plo  0.02 0.02 0.01 0.01 0.01 \n",
      "protein proteins structure sequence residues  0.02 0.02 0.02 0.01 0.01 \n",
      "terms information ontology text gene  0.02 0.01 0.01 0.01 0.01 \n",
      "gene genes expression regulatory network  0.03 0.02 0.02 0.01 0.01 \n",
      "patient patients health clinical features  0.02 0.02 0.01 0.01 0.01 \n",
      "cancer gene genes tumor mutations  0.03 0.02 0.02 0.01 0.01 \n",
      "network networks time state graph  0.02 0.02 0.01 0.01 0.01 \n",
      "tree trees taxa species number  0.06 0.03 0.02 0.02 0.02 \n",
      "imaging brain features age subjects  0.03 0.03 0.02 0.01 0.01 \n",
      "drug drugs target similarity compounds  0.05 0.03 0.02 0.02 0.01 \n",
      "features cancer training mirna samples  0.02 0.02 0.02 0.02 0.01 \n",
      "harm drug gene relationships drugs  0.07 0.06 0.03 0.02 0.02 \n",
      "virus viral cov hiv protein  0.04 0.03 0.02 0.02 0.02 \n",
      "cell cells spatial expression crna  0.07 0.05 0.02 0.02 0.02 \n",
      "rac species rrna biome communities  0.02 0.02 0.02 0.02 0.02 \n",
      "rna rnas sequence structure sequences  0.07 0.03 0.03 0.02 0.02 \n",
      "reads sequence domain trellis genome  0.03 0.03 0.03 0.02 0.02 \n",
      "mass peptide spectra peak peaks  0.06 0.05 0.04 0.04 0.04 \n",
      "alignment alignments sequences score scoring  0.09 0.06 0.04 0.03 0.03 \n",
      "topo tube system you terminal  0.09 0.03 0.03 0.03 0.03 \n",
      "{'Topic': ['Topic -1', 'Topic 0', 'Topic 1', 'Topic 2', 'Topic 3', 'Topic 4', 'Topic 5', 'Topic 6', 'Topic 7', 'Topic 8', 'Topic 9', 'Topic 10', 'Topic 11', 'Topic 12', 'Topic 13', 'Topic 14', 'Topic 15', 'Topic 16', 'Topic 17', 'Topic 18', 'Topic 19'], 'Words': ['gene protein set genes sequence ', 'snps snp disease genetic plo ', 'protein proteins structure sequence residues ', 'terms information ontology text gene ', 'gene genes expression regulatory network ', 'patient patients health clinical features ', 'cancer gene genes tumor mutations ', 'network networks time state graph ', 'tree trees taxa species number ', 'imaging brain features age subjects ', 'drug drugs target similarity compounds ', 'features cancer training mirna samples ', 'harm drug gene relationships drugs ', 'virus viral cov hiv protein ', 'cell cells spatial expression crna ', 'rac species rrna biome communities ', 'rna rnas sequence structure sequences ', 'reads sequence domain trellis genome ', 'mass peptide spectra peak peaks ', 'alignment alignments sequences score scoring ', 'topo tube system you terminal '], 'Scores': ['0.01 0.01 0.01 0.01 0.01 ', '0.02 0.02 0.01 0.01 0.01 ', '0.02 0.02 0.02 0.01 0.01 ', '0.02 0.01 0.01 0.01 0.01 ', '0.03 0.02 0.02 0.01 0.01 ', '0.02 0.02 0.01 0.01 0.01 ', '0.03 0.02 0.02 0.01 0.01 ', '0.02 0.02 0.01 0.01 0.01 ', '0.06 0.03 0.02 0.02 0.02 ', '0.03 0.03 0.02 0.01 0.01 ', '0.05 0.03 0.02 0.02 0.01 ', '0.02 0.02 0.02 0.02 0.01 ', '0.07 0.06 0.03 0.02 0.02 ', '0.04 0.03 0.02 0.02 0.02 ', '0.07 0.05 0.02 0.02 0.02 ', '0.02 0.02 0.02 0.02 0.02 ', '0.07 0.03 0.03 0.02 0.02 ', '0.03 0.03 0.03 0.02 0.02 ', '0.06 0.05 0.04 0.04 0.04 ', '0.09 0.06 0.04 0.03 0.03 ', '0.09 0.03 0.03 0.03 0.03 ']}\n"
     ]
    }
   ],
   "source": [
    "fin_df = {'Topic':[], 'Words':[], 'Scores':[]}\n",
    "for key in topic_model.topic_labels_:\n",
    "    fin_df['Topic'].append(f\"Topic {key}\")\n",
    "    values = topic_model.get_topic(key)\n",
    "    words, scores = \"\", \"\"\n",
    "    for i in range(5):\n",
    "        val = values[i]\n",
    "        words += (val[0] + \" \")\n",
    "        scores += (str(val[1])[:4] + \" \")\n",
    "    print(words, scores)\n",
    "    fin_df['Words'].append(words)\n",
    "    fin_df['Scores'].append(scores)\n",
    "print(fin_df)"
   ]
  },
  {
   "cell_type": "code",
   "execution_count": 16,
   "id": "b4466b82",
   "metadata": {},
   "outputs": [],
   "source": [
    "fin_df = pd.DataFrame(data=fin_df)\n",
    "fin_df.to_csv('results_Bert_Topic.csv') "
   ]
  },
  {
   "cell_type": "code",
   "execution_count": 10,
   "id": "50f93601",
   "metadata": {},
   "outputs": [
    {
     "data": {
      "text/plain": [
       "[0, 0, 2, 7, -1, 16, 0, 0, 0, 10]"
      ]
     },
     "execution_count": 10,
     "metadata": {},
     "output_type": "execute_result"
    }
   ],
   "source": [
    "topic_model.topics_[:10]"
   ]
  },
  {
   "cell_type": "code",
   "execution_count": 17,
   "id": "d588fea2",
   "metadata": {
    "execution": {
     "iopub.execute_input": "2024-07-19T17:58:44.981293Z",
     "iopub.status.busy": "2024-07-19T17:58:44.980339Z",
     "iopub.status.idle": "2024-07-19T17:58:47.500399Z",
     "shell.execute_reply": "2024-07-19T17:58:47.499396Z"
    },
    "papermill": {
     "duration": 2.533275,
     "end_time": "2024-07-19T17:58:47.502899",
     "exception": false,
     "start_time": "2024-07-19T17:58:44.969624",
     "status": "completed"
    },
    "tags": []
   },
   "outputs": [
    {
     "ename": "ValueError",
     "evalue": "Mime type rendering requires nbformat>=4.2.0 but it is not installed",
     "output_type": "error",
     "traceback": [
      "\u001b[1;31m---------------------------------------------------------------------------\u001b[0m",
      "\u001b[1;31mValueError\u001b[0m                                Traceback (most recent call last)",
      "File \u001b[1;32mc:\\Users\\leahz\\anaconda3\\envs\\AIR\\Lib\\site-packages\\IPython\\core\\formatters.py:925\u001b[0m, in \u001b[0;36mIPythonDisplayFormatter.__call__\u001b[1;34m(self, obj)\u001b[0m\n\u001b[0;32m    923\u001b[0m method \u001b[38;5;241m=\u001b[39m get_real_method(obj, \u001b[38;5;28mself\u001b[39m\u001b[38;5;241m.\u001b[39mprint_method)\n\u001b[0;32m    924\u001b[0m \u001b[38;5;28;01mif\u001b[39;00m method \u001b[38;5;129;01mis\u001b[39;00m \u001b[38;5;129;01mnot\u001b[39;00m \u001b[38;5;28;01mNone\u001b[39;00m:\n\u001b[1;32m--> 925\u001b[0m     \u001b[43mmethod\u001b[49m\u001b[43m(\u001b[49m\u001b[43m)\u001b[49m\n\u001b[0;32m    926\u001b[0m     \u001b[38;5;28;01mreturn\u001b[39;00m \u001b[38;5;28;01mTrue\u001b[39;00m\n",
      "File \u001b[1;32mc:\\Users\\leahz\\anaconda3\\envs\\AIR\\Lib\\site-packages\\plotly\\basedatatypes.py:832\u001b[0m, in \u001b[0;36mBaseFigure._ipython_display_\u001b[1;34m(self)\u001b[0m\n\u001b[0;32m    829\u001b[0m \u001b[38;5;28;01mimport\u001b[39;00m \u001b[38;5;21;01mplotly\u001b[39;00m\u001b[38;5;21;01m.\u001b[39;00m\u001b[38;5;21;01mio\u001b[39;00m \u001b[38;5;28;01mas\u001b[39;00m \u001b[38;5;21;01mpio\u001b[39;00m\n\u001b[0;32m    831\u001b[0m \u001b[38;5;28;01mif\u001b[39;00m pio\u001b[38;5;241m.\u001b[39mrenderers\u001b[38;5;241m.\u001b[39mrender_on_display \u001b[38;5;129;01mand\u001b[39;00m pio\u001b[38;5;241m.\u001b[39mrenderers\u001b[38;5;241m.\u001b[39mdefault:\n\u001b[1;32m--> 832\u001b[0m     \u001b[43mpio\u001b[49m\u001b[38;5;241;43m.\u001b[39;49m\u001b[43mshow\u001b[49m\u001b[43m(\u001b[49m\u001b[38;5;28;43mself\u001b[39;49m\u001b[43m)\u001b[49m\n\u001b[0;32m    833\u001b[0m \u001b[38;5;28;01melse\u001b[39;00m:\n\u001b[0;32m    834\u001b[0m     \u001b[38;5;28mprint\u001b[39m(\u001b[38;5;28mrepr\u001b[39m(\u001b[38;5;28mself\u001b[39m))\n",
      "File \u001b[1;32mc:\\Users\\leahz\\anaconda3\\envs\\AIR\\Lib\\site-packages\\plotly\\io\\_renderers.py:394\u001b[0m, in \u001b[0;36mshow\u001b[1;34m(fig, renderer, validate, **kwargs)\u001b[0m\n\u001b[0;32m    389\u001b[0m         \u001b[38;5;28;01mraise\u001b[39;00m \u001b[38;5;167;01mValueError\u001b[39;00m(\n\u001b[0;32m    390\u001b[0m             \u001b[38;5;124m\"\u001b[39m\u001b[38;5;124mMime type rendering requires ipython but it is not installed\u001b[39m\u001b[38;5;124m\"\u001b[39m\n\u001b[0;32m    391\u001b[0m         )\n\u001b[0;32m    393\u001b[0m     \u001b[38;5;28;01mif\u001b[39;00m \u001b[38;5;129;01mnot\u001b[39;00m nbformat \u001b[38;5;129;01mor\u001b[39;00m Version(nbformat\u001b[38;5;241m.\u001b[39m__version__) \u001b[38;5;241m<\u001b[39m Version(\u001b[38;5;124m\"\u001b[39m\u001b[38;5;124m4.2.0\u001b[39m\u001b[38;5;124m\"\u001b[39m):\n\u001b[1;32m--> 394\u001b[0m         \u001b[38;5;28;01mraise\u001b[39;00m \u001b[38;5;167;01mValueError\u001b[39;00m(\n\u001b[0;32m    395\u001b[0m             \u001b[38;5;124m\"\u001b[39m\u001b[38;5;124mMime type rendering requires nbformat>=4.2.0 but it is not installed\u001b[39m\u001b[38;5;124m\"\u001b[39m\n\u001b[0;32m    396\u001b[0m         )\n\u001b[0;32m    398\u001b[0m     ipython_display\u001b[38;5;241m.\u001b[39mdisplay(bundle, raw\u001b[38;5;241m=\u001b[39m\u001b[38;5;28;01mTrue\u001b[39;00m)\n\u001b[0;32m    400\u001b[0m \u001b[38;5;66;03m# external renderers\u001b[39;00m\n",
      "\u001b[1;31mValueError\u001b[0m: Mime type rendering requires nbformat>=4.2.0 but it is not installed"
     ]
    },
    {
     "data": {
      "application/vnd.plotly.v1+json": {
       "config": {
        "plotlyServerURL": "https://plot.ly"
       },
       "data": [
        {
         "customdata": [
          [
           0,
           "snps | snp | disease | genetic | plo",
           152
          ],
          [
           1,
           "protein | proteins | structure | sequence | residues",
           146
          ],
          [
           2,
           "terms | information | ontology | text | gene",
           128
          ],
          [
           3,
           "gene | genes | expression | regulatory | network",
           95
          ],
          [
           4,
           "patient | patients | health | clinical | features",
           79
          ],
          [
           5,
           "cancer | gene | genes | tumor | mutations",
           75
          ],
          [
           6,
           "network | networks | time | state | graph",
           55
          ],
          [
           7,
           "tree | trees | taxa | species | number",
           37
          ],
          [
           8,
           "imaging | brain | features | age | subjects",
           31
          ],
          [
           9,
           "drug | drugs | target | similarity | compounds",
           31
          ],
          [
           10,
           "features | cancer | training | mirna | samples",
           20
          ],
          [
           11,
           "harm | drug | gene | relationships | drugs",
           19
          ],
          [
           12,
           "virus | viral | cov | hiv | protein",
           18
          ],
          [
           13,
           "cell | cells | spatial | expression | crna",
           17
          ],
          [
           14,
           "rac | species | rrna | biome | communities",
           16
          ],
          [
           15,
           "rna | rnas | sequence | structure | sequences",
           15
          ],
          [
           16,
           "reads | sequence | domain | trellis | genome",
           14
          ],
          [
           17,
           "mass | peptide | spectra | peak | peaks",
           12
          ],
          [
           18,
           "alignment | alignments | sequences | score | scoring",
           10
          ],
          [
           19,
           "topo | tube | system | you | terminal",
           10
          ]
         ],
         "hovertemplate": "<b>Topic %{customdata[0]}</b><br>%{customdata[1]}<br>Size: %{customdata[2]}",
         "legendgroup": "",
         "marker": {
          "color": "#B0BEC5",
          "line": {
           "color": "DarkSlateGrey",
           "width": 2
          },
          "size": [
           152,
           146,
           128,
           95,
           79,
           75,
           55,
           37,
           31,
           31,
           20,
           19,
           18,
           17,
           16,
           15,
           14,
           12,
           10,
           10
          ],
          "sizemode": "area",
          "sizeref": 0.095,
          "symbol": "circle"
         },
         "mode": "markers",
         "name": "",
         "orientation": "v",
         "showlegend": false,
         "type": "scatter",
         "x": [
          7.594359397888184,
          5.615326404571533,
          7.62439489364624,
          5.166293144226074,
          8.378934860229492,
          1.5347158908843994,
          5.424258708953857,
          4.443212509155273,
          8.663591384887695,
          8.093935012817383,
          1.739872694015503,
          7.855785369873047,
          5.663908958435059,
          1.289360523223877,
          4.676804065704346,
          4.2204718589782715,
          4.850501537322998,
          5.958710193634033,
          4.93055534362793,
          5.068393230438232
         ],
         "xaxis": "x",
         "y": [
          -2.442718267440796,
          15.186518669128418,
          -1.8595170974731445,
          14.15365219116211,
          -1.885122537612915,
          18.673532485961914,
          14.68215274810791,
          12.636970520019531,
          -1.5940585136413574,
          -2.460300922393799,
          18.468425750732422,
          -2.0653274059295654,
          15.651114463806152,
          18.918733596801758,
          12.230118751525879,
          12.911247253417969,
          12.861502647399902,
          15.464797019958496,
          13.041413307189941,
          12.357146263122559
         ],
         "yaxis": "y"
        }
       ],
       "layout": {
        "annotations": [
         {
          "showarrow": false,
          "text": "D1",
          "x": 1.0959564447402954,
          "y": 9.463598787784576,
          "yshift": 10
         },
         {
          "showarrow": false,
          "text": "D2",
          "x": 5.529543268680572,
          "xshift": 10,
          "y": 21.75654363632202
         }
        ],
        "height": 650,
        "hoverlabel": {
         "bgcolor": "white",
         "font": {
          "family": "Rockwell",
          "size": 16
         }
        },
        "legend": {
         "itemsizing": "constant",
         "tracegroupgap": 0
        },
        "margin": {
         "t": 60
        },
        "shapes": [
         {
          "line": {
           "color": "#CFD8DC",
           "width": 2
          },
          "type": "line",
          "x0": 5.529543268680572,
          "x1": 5.529543268680572,
          "y0": -2.8293460607528687,
          "y1": 21.75654363632202
         },
         {
          "line": {
           "color": "#9E9E9E",
           "width": 2
          },
          "type": "line",
          "x0": 1.0959564447402954,
          "x1": 9.96313009262085,
          "y0": 9.463598787784576,
          "y1": 9.463598787784576
         }
        ],
        "sliders": [
         {
          "active": 0,
          "pad": {
           "t": 50
          },
          "steps": [
           {
            "args": [
             {
              "marker.color": [
               [
                "red",
                "#B0BEC5",
                "#B0BEC5",
                "#B0BEC5",
                "#B0BEC5",
                "#B0BEC5",
                "#B0BEC5",
                "#B0BEC5",
                "#B0BEC5",
                "#B0BEC5",
                "#B0BEC5",
                "#B0BEC5",
                "#B0BEC5",
                "#B0BEC5",
                "#B0BEC5",
                "#B0BEC5",
                "#B0BEC5",
                "#B0BEC5",
                "#B0BEC5",
                "#B0BEC5"
               ]
              ]
             }
            ],
            "label": "Topic 0",
            "method": "update"
           },
           {
            "args": [
             {
              "marker.color": [
               [
                "#B0BEC5",
                "red",
                "#B0BEC5",
                "#B0BEC5",
                "#B0BEC5",
                "#B0BEC5",
                "#B0BEC5",
                "#B0BEC5",
                "#B0BEC5",
                "#B0BEC5",
                "#B0BEC5",
                "#B0BEC5",
                "#B0BEC5",
                "#B0BEC5",
                "#B0BEC5",
                "#B0BEC5",
                "#B0BEC5",
                "#B0BEC5",
                "#B0BEC5",
                "#B0BEC5"
               ]
              ]
             }
            ],
            "label": "Topic 1",
            "method": "update"
           },
           {
            "args": [
             {
              "marker.color": [
               [
                "#B0BEC5",
                "#B0BEC5",
                "red",
                "#B0BEC5",
                "#B0BEC5",
                "#B0BEC5",
                "#B0BEC5",
                "#B0BEC5",
                "#B0BEC5",
                "#B0BEC5",
                "#B0BEC5",
                "#B0BEC5",
                "#B0BEC5",
                "#B0BEC5",
                "#B0BEC5",
                "#B0BEC5",
                "#B0BEC5",
                "#B0BEC5",
                "#B0BEC5",
                "#B0BEC5"
               ]
              ]
             }
            ],
            "label": "Topic 2",
            "method": "update"
           },
           {
            "args": [
             {
              "marker.color": [
               [
                "#B0BEC5",
                "#B0BEC5",
                "#B0BEC5",
                "red",
                "#B0BEC5",
                "#B0BEC5",
                "#B0BEC5",
                "#B0BEC5",
                "#B0BEC5",
                "#B0BEC5",
                "#B0BEC5",
                "#B0BEC5",
                "#B0BEC5",
                "#B0BEC5",
                "#B0BEC5",
                "#B0BEC5",
                "#B0BEC5",
                "#B0BEC5",
                "#B0BEC5",
                "#B0BEC5"
               ]
              ]
             }
            ],
            "label": "Topic 3",
            "method": "update"
           },
           {
            "args": [
             {
              "marker.color": [
               [
                "#B0BEC5",
                "#B0BEC5",
                "#B0BEC5",
                "#B0BEC5",
                "red",
                "#B0BEC5",
                "#B0BEC5",
                "#B0BEC5",
                "#B0BEC5",
                "#B0BEC5",
                "#B0BEC5",
                "#B0BEC5",
                "#B0BEC5",
                "#B0BEC5",
                "#B0BEC5",
                "#B0BEC5",
                "#B0BEC5",
                "#B0BEC5",
                "#B0BEC5",
                "#B0BEC5"
               ]
              ]
             }
            ],
            "label": "Topic 4",
            "method": "update"
           },
           {
            "args": [
             {
              "marker.color": [
               [
                "#B0BEC5",
                "#B0BEC5",
                "#B0BEC5",
                "#B0BEC5",
                "#B0BEC5",
                "red",
                "#B0BEC5",
                "#B0BEC5",
                "#B0BEC5",
                "#B0BEC5",
                "#B0BEC5",
                "#B0BEC5",
                "#B0BEC5",
                "#B0BEC5",
                "#B0BEC5",
                "#B0BEC5",
                "#B0BEC5",
                "#B0BEC5",
                "#B0BEC5",
                "#B0BEC5"
               ]
              ]
             }
            ],
            "label": "Topic 5",
            "method": "update"
           },
           {
            "args": [
             {
              "marker.color": [
               [
                "#B0BEC5",
                "#B0BEC5",
                "#B0BEC5",
                "#B0BEC5",
                "#B0BEC5",
                "#B0BEC5",
                "red",
                "#B0BEC5",
                "#B0BEC5",
                "#B0BEC5",
                "#B0BEC5",
                "#B0BEC5",
                "#B0BEC5",
                "#B0BEC5",
                "#B0BEC5",
                "#B0BEC5",
                "#B0BEC5",
                "#B0BEC5",
                "#B0BEC5",
                "#B0BEC5"
               ]
              ]
             }
            ],
            "label": "Topic 6",
            "method": "update"
           },
           {
            "args": [
             {
              "marker.color": [
               [
                "#B0BEC5",
                "#B0BEC5",
                "#B0BEC5",
                "#B0BEC5",
                "#B0BEC5",
                "#B0BEC5",
                "#B0BEC5",
                "red",
                "#B0BEC5",
                "#B0BEC5",
                "#B0BEC5",
                "#B0BEC5",
                "#B0BEC5",
                "#B0BEC5",
                "#B0BEC5",
                "#B0BEC5",
                "#B0BEC5",
                "#B0BEC5",
                "#B0BEC5",
                "#B0BEC5"
               ]
              ]
             }
            ],
            "label": "Topic 7",
            "method": "update"
           },
           {
            "args": [
             {
              "marker.color": [
               [
                "#B0BEC5",
                "#B0BEC5",
                "#B0BEC5",
                "#B0BEC5",
                "#B0BEC5",
                "#B0BEC5",
                "#B0BEC5",
                "#B0BEC5",
                "red",
                "#B0BEC5",
                "#B0BEC5",
                "#B0BEC5",
                "#B0BEC5",
                "#B0BEC5",
                "#B0BEC5",
                "#B0BEC5",
                "#B0BEC5",
                "#B0BEC5",
                "#B0BEC5",
                "#B0BEC5"
               ]
              ]
             }
            ],
            "label": "Topic 8",
            "method": "update"
           },
           {
            "args": [
             {
              "marker.color": [
               [
                "#B0BEC5",
                "#B0BEC5",
                "#B0BEC5",
                "#B0BEC5",
                "#B0BEC5",
                "#B0BEC5",
                "#B0BEC5",
                "#B0BEC5",
                "#B0BEC5",
                "red",
                "#B0BEC5",
                "#B0BEC5",
                "#B0BEC5",
                "#B0BEC5",
                "#B0BEC5",
                "#B0BEC5",
                "#B0BEC5",
                "#B0BEC5",
                "#B0BEC5",
                "#B0BEC5"
               ]
              ]
             }
            ],
            "label": "Topic 9",
            "method": "update"
           },
           {
            "args": [
             {
              "marker.color": [
               [
                "#B0BEC5",
                "#B0BEC5",
                "#B0BEC5",
                "#B0BEC5",
                "#B0BEC5",
                "#B0BEC5",
                "#B0BEC5",
                "#B0BEC5",
                "#B0BEC5",
                "#B0BEC5",
                "red",
                "#B0BEC5",
                "#B0BEC5",
                "#B0BEC5",
                "#B0BEC5",
                "#B0BEC5",
                "#B0BEC5",
                "#B0BEC5",
                "#B0BEC5",
                "#B0BEC5"
               ]
              ]
             }
            ],
            "label": "Topic 10",
            "method": "update"
           },
           {
            "args": [
             {
              "marker.color": [
               [
                "#B0BEC5",
                "#B0BEC5",
                "#B0BEC5",
                "#B0BEC5",
                "#B0BEC5",
                "#B0BEC5",
                "#B0BEC5",
                "#B0BEC5",
                "#B0BEC5",
                "#B0BEC5",
                "#B0BEC5",
                "red",
                "#B0BEC5",
                "#B0BEC5",
                "#B0BEC5",
                "#B0BEC5",
                "#B0BEC5",
                "#B0BEC5",
                "#B0BEC5",
                "#B0BEC5"
               ]
              ]
             }
            ],
            "label": "Topic 11",
            "method": "update"
           },
           {
            "args": [
             {
              "marker.color": [
               [
                "#B0BEC5",
                "#B0BEC5",
                "#B0BEC5",
                "#B0BEC5",
                "#B0BEC5",
                "#B0BEC5",
                "#B0BEC5",
                "#B0BEC5",
                "#B0BEC5",
                "#B0BEC5",
                "#B0BEC5",
                "#B0BEC5",
                "red",
                "#B0BEC5",
                "#B0BEC5",
                "#B0BEC5",
                "#B0BEC5",
                "#B0BEC5",
                "#B0BEC5",
                "#B0BEC5"
               ]
              ]
             }
            ],
            "label": "Topic 12",
            "method": "update"
           },
           {
            "args": [
             {
              "marker.color": [
               [
                "#B0BEC5",
                "#B0BEC5",
                "#B0BEC5",
                "#B0BEC5",
                "#B0BEC5",
                "#B0BEC5",
                "#B0BEC5",
                "#B0BEC5",
                "#B0BEC5",
                "#B0BEC5",
                "#B0BEC5",
                "#B0BEC5",
                "#B0BEC5",
                "red",
                "#B0BEC5",
                "#B0BEC5",
                "#B0BEC5",
                "#B0BEC5",
                "#B0BEC5",
                "#B0BEC5"
               ]
              ]
             }
            ],
            "label": "Topic 13",
            "method": "update"
           },
           {
            "args": [
             {
              "marker.color": [
               [
                "#B0BEC5",
                "#B0BEC5",
                "#B0BEC5",
                "#B0BEC5",
                "#B0BEC5",
                "#B0BEC5",
                "#B0BEC5",
                "#B0BEC5",
                "#B0BEC5",
                "#B0BEC5",
                "#B0BEC5",
                "#B0BEC5",
                "#B0BEC5",
                "#B0BEC5",
                "red",
                "#B0BEC5",
                "#B0BEC5",
                "#B0BEC5",
                "#B0BEC5",
                "#B0BEC5"
               ]
              ]
             }
            ],
            "label": "Topic 14",
            "method": "update"
           },
           {
            "args": [
             {
              "marker.color": [
               [
                "#B0BEC5",
                "#B0BEC5",
                "#B0BEC5",
                "#B0BEC5",
                "#B0BEC5",
                "#B0BEC5",
                "#B0BEC5",
                "#B0BEC5",
                "#B0BEC5",
                "#B0BEC5",
                "#B0BEC5",
                "#B0BEC5",
                "#B0BEC5",
                "#B0BEC5",
                "#B0BEC5",
                "red",
                "#B0BEC5",
                "#B0BEC5",
                "#B0BEC5",
                "#B0BEC5"
               ]
              ]
             }
            ],
            "label": "Topic 15",
            "method": "update"
           },
           {
            "args": [
             {
              "marker.color": [
               [
                "#B0BEC5",
                "#B0BEC5",
                "#B0BEC5",
                "#B0BEC5",
                "#B0BEC5",
                "#B0BEC5",
                "#B0BEC5",
                "#B0BEC5",
                "#B0BEC5",
                "#B0BEC5",
                "#B0BEC5",
                "#B0BEC5",
                "#B0BEC5",
                "#B0BEC5",
                "#B0BEC5",
                "#B0BEC5",
                "red",
                "#B0BEC5",
                "#B0BEC5",
                "#B0BEC5"
               ]
              ]
             }
            ],
            "label": "Topic 16",
            "method": "update"
           },
           {
            "args": [
             {
              "marker.color": [
               [
                "#B0BEC5",
                "#B0BEC5",
                "#B0BEC5",
                "#B0BEC5",
                "#B0BEC5",
                "#B0BEC5",
                "#B0BEC5",
                "#B0BEC5",
                "#B0BEC5",
                "#B0BEC5",
                "#B0BEC5",
                "#B0BEC5",
                "#B0BEC5",
                "#B0BEC5",
                "#B0BEC5",
                "#B0BEC5",
                "#B0BEC5",
                "red",
                "#B0BEC5",
                "#B0BEC5"
               ]
              ]
             }
            ],
            "label": "Topic 17",
            "method": "update"
           },
           {
            "args": [
             {
              "marker.color": [
               [
                "#B0BEC5",
                "#B0BEC5",
                "#B0BEC5",
                "#B0BEC5",
                "#B0BEC5",
                "#B0BEC5",
                "#B0BEC5",
                "#B0BEC5",
                "#B0BEC5",
                "#B0BEC5",
                "#B0BEC5",
                "#B0BEC5",
                "#B0BEC5",
                "#B0BEC5",
                "#B0BEC5",
                "#B0BEC5",
                "#B0BEC5",
                "#B0BEC5",
                "red",
                "#B0BEC5"
               ]
              ]
             }
            ],
            "label": "Topic 18",
            "method": "update"
           },
           {
            "args": [
             {
              "marker.color": [
               [
                "#B0BEC5",
                "#B0BEC5",
                "#B0BEC5",
                "#B0BEC5",
                "#B0BEC5",
                "#B0BEC5",
                "#B0BEC5",
                "#B0BEC5",
                "#B0BEC5",
                "#B0BEC5",
                "#B0BEC5",
                "#B0BEC5",
                "#B0BEC5",
                "#B0BEC5",
                "#B0BEC5",
                "#B0BEC5",
                "#B0BEC5",
                "#B0BEC5",
                "#B0BEC5",
                "red"
               ]
              ]
             }
            ],
            "label": "Topic 19",
            "method": "update"
           }
          ]
         }
        ],
        "template": {
         "data": {
          "bar": [
           {
            "error_x": {
             "color": "rgb(36,36,36)"
            },
            "error_y": {
             "color": "rgb(36,36,36)"
            },
            "marker": {
             "line": {
              "color": "white",
              "width": 0.5
             },
             "pattern": {
              "fillmode": "overlay",
              "size": 10,
              "solidity": 0.2
             }
            },
            "type": "bar"
           }
          ],
          "barpolar": [
           {
            "marker": {
             "line": {
              "color": "white",
              "width": 0.5
             },
             "pattern": {
              "fillmode": "overlay",
              "size": 10,
              "solidity": 0.2
             }
            },
            "type": "barpolar"
           }
          ],
          "carpet": [
           {
            "aaxis": {
             "endlinecolor": "rgb(36,36,36)",
             "gridcolor": "white",
             "linecolor": "white",
             "minorgridcolor": "white",
             "startlinecolor": "rgb(36,36,36)"
            },
            "baxis": {
             "endlinecolor": "rgb(36,36,36)",
             "gridcolor": "white",
             "linecolor": "white",
             "minorgridcolor": "white",
             "startlinecolor": "rgb(36,36,36)"
            },
            "type": "carpet"
           }
          ],
          "choropleth": [
           {
            "colorbar": {
             "outlinewidth": 1,
             "tickcolor": "rgb(36,36,36)",
             "ticks": "outside"
            },
            "type": "choropleth"
           }
          ],
          "contour": [
           {
            "colorbar": {
             "outlinewidth": 1,
             "tickcolor": "rgb(36,36,36)",
             "ticks": "outside"
            },
            "colorscale": [
             [
              0,
              "#440154"
             ],
             [
              0.1111111111111111,
              "#482878"
             ],
             [
              0.2222222222222222,
              "#3e4989"
             ],
             [
              0.3333333333333333,
              "#31688e"
             ],
             [
              0.4444444444444444,
              "#26828e"
             ],
             [
              0.5555555555555556,
              "#1f9e89"
             ],
             [
              0.6666666666666666,
              "#35b779"
             ],
             [
              0.7777777777777778,
              "#6ece58"
             ],
             [
              0.8888888888888888,
              "#b5de2b"
             ],
             [
              1,
              "#fde725"
             ]
            ],
            "type": "contour"
           }
          ],
          "contourcarpet": [
           {
            "colorbar": {
             "outlinewidth": 1,
             "tickcolor": "rgb(36,36,36)",
             "ticks": "outside"
            },
            "type": "contourcarpet"
           }
          ],
          "heatmap": [
           {
            "colorbar": {
             "outlinewidth": 1,
             "tickcolor": "rgb(36,36,36)",
             "ticks": "outside"
            },
            "colorscale": [
             [
              0,
              "#440154"
             ],
             [
              0.1111111111111111,
              "#482878"
             ],
             [
              0.2222222222222222,
              "#3e4989"
             ],
             [
              0.3333333333333333,
              "#31688e"
             ],
             [
              0.4444444444444444,
              "#26828e"
             ],
             [
              0.5555555555555556,
              "#1f9e89"
             ],
             [
              0.6666666666666666,
              "#35b779"
             ],
             [
              0.7777777777777778,
              "#6ece58"
             ],
             [
              0.8888888888888888,
              "#b5de2b"
             ],
             [
              1,
              "#fde725"
             ]
            ],
            "type": "heatmap"
           }
          ],
          "heatmapgl": [
           {
            "colorbar": {
             "outlinewidth": 1,
             "tickcolor": "rgb(36,36,36)",
             "ticks": "outside"
            },
            "colorscale": [
             [
              0,
              "#440154"
             ],
             [
              0.1111111111111111,
              "#482878"
             ],
             [
              0.2222222222222222,
              "#3e4989"
             ],
             [
              0.3333333333333333,
              "#31688e"
             ],
             [
              0.4444444444444444,
              "#26828e"
             ],
             [
              0.5555555555555556,
              "#1f9e89"
             ],
             [
              0.6666666666666666,
              "#35b779"
             ],
             [
              0.7777777777777778,
              "#6ece58"
             ],
             [
              0.8888888888888888,
              "#b5de2b"
             ],
             [
              1,
              "#fde725"
             ]
            ],
            "type": "heatmapgl"
           }
          ],
          "histogram": [
           {
            "marker": {
             "line": {
              "color": "white",
              "width": 0.6
             }
            },
            "type": "histogram"
           }
          ],
          "histogram2d": [
           {
            "colorbar": {
             "outlinewidth": 1,
             "tickcolor": "rgb(36,36,36)",
             "ticks": "outside"
            },
            "colorscale": [
             [
              0,
              "#440154"
             ],
             [
              0.1111111111111111,
              "#482878"
             ],
             [
              0.2222222222222222,
              "#3e4989"
             ],
             [
              0.3333333333333333,
              "#31688e"
             ],
             [
              0.4444444444444444,
              "#26828e"
             ],
             [
              0.5555555555555556,
              "#1f9e89"
             ],
             [
              0.6666666666666666,
              "#35b779"
             ],
             [
              0.7777777777777778,
              "#6ece58"
             ],
             [
              0.8888888888888888,
              "#b5de2b"
             ],
             [
              1,
              "#fde725"
             ]
            ],
            "type": "histogram2d"
           }
          ],
          "histogram2dcontour": [
           {
            "colorbar": {
             "outlinewidth": 1,
             "tickcolor": "rgb(36,36,36)",
             "ticks": "outside"
            },
            "colorscale": [
             [
              0,
              "#440154"
             ],
             [
              0.1111111111111111,
              "#482878"
             ],
             [
              0.2222222222222222,
              "#3e4989"
             ],
             [
              0.3333333333333333,
              "#31688e"
             ],
             [
              0.4444444444444444,
              "#26828e"
             ],
             [
              0.5555555555555556,
              "#1f9e89"
             ],
             [
              0.6666666666666666,
              "#35b779"
             ],
             [
              0.7777777777777778,
              "#6ece58"
             ],
             [
              0.8888888888888888,
              "#b5de2b"
             ],
             [
              1,
              "#fde725"
             ]
            ],
            "type": "histogram2dcontour"
           }
          ],
          "mesh3d": [
           {
            "colorbar": {
             "outlinewidth": 1,
             "tickcolor": "rgb(36,36,36)",
             "ticks": "outside"
            },
            "type": "mesh3d"
           }
          ],
          "parcoords": [
           {
            "line": {
             "colorbar": {
              "outlinewidth": 1,
              "tickcolor": "rgb(36,36,36)",
              "ticks": "outside"
             }
            },
            "type": "parcoords"
           }
          ],
          "pie": [
           {
            "automargin": true,
            "type": "pie"
           }
          ],
          "scatter": [
           {
            "fillpattern": {
             "fillmode": "overlay",
             "size": 10,
             "solidity": 0.2
            },
            "type": "scatter"
           }
          ],
          "scatter3d": [
           {
            "line": {
             "colorbar": {
              "outlinewidth": 1,
              "tickcolor": "rgb(36,36,36)",
              "ticks": "outside"
             }
            },
            "marker": {
             "colorbar": {
              "outlinewidth": 1,
              "tickcolor": "rgb(36,36,36)",
              "ticks": "outside"
             }
            },
            "type": "scatter3d"
           }
          ],
          "scattercarpet": [
           {
            "marker": {
             "colorbar": {
              "outlinewidth": 1,
              "tickcolor": "rgb(36,36,36)",
              "ticks": "outside"
             }
            },
            "type": "scattercarpet"
           }
          ],
          "scattergeo": [
           {
            "marker": {
             "colorbar": {
              "outlinewidth": 1,
              "tickcolor": "rgb(36,36,36)",
              "ticks": "outside"
             }
            },
            "type": "scattergeo"
           }
          ],
          "scattergl": [
           {
            "marker": {
             "colorbar": {
              "outlinewidth": 1,
              "tickcolor": "rgb(36,36,36)",
              "ticks": "outside"
             }
            },
            "type": "scattergl"
           }
          ],
          "scattermapbox": [
           {
            "marker": {
             "colorbar": {
              "outlinewidth": 1,
              "tickcolor": "rgb(36,36,36)",
              "ticks": "outside"
             }
            },
            "type": "scattermapbox"
           }
          ],
          "scatterpolar": [
           {
            "marker": {
             "colorbar": {
              "outlinewidth": 1,
              "tickcolor": "rgb(36,36,36)",
              "ticks": "outside"
             }
            },
            "type": "scatterpolar"
           }
          ],
          "scatterpolargl": [
           {
            "marker": {
             "colorbar": {
              "outlinewidth": 1,
              "tickcolor": "rgb(36,36,36)",
              "ticks": "outside"
             }
            },
            "type": "scatterpolargl"
           }
          ],
          "scatterternary": [
           {
            "marker": {
             "colorbar": {
              "outlinewidth": 1,
              "tickcolor": "rgb(36,36,36)",
              "ticks": "outside"
             }
            },
            "type": "scatterternary"
           }
          ],
          "surface": [
           {
            "colorbar": {
             "outlinewidth": 1,
             "tickcolor": "rgb(36,36,36)",
             "ticks": "outside"
            },
            "colorscale": [
             [
              0,
              "#440154"
             ],
             [
              0.1111111111111111,
              "#482878"
             ],
             [
              0.2222222222222222,
              "#3e4989"
             ],
             [
              0.3333333333333333,
              "#31688e"
             ],
             [
              0.4444444444444444,
              "#26828e"
             ],
             [
              0.5555555555555556,
              "#1f9e89"
             ],
             [
              0.6666666666666666,
              "#35b779"
             ],
             [
              0.7777777777777778,
              "#6ece58"
             ],
             [
              0.8888888888888888,
              "#b5de2b"
             ],
             [
              1,
              "#fde725"
             ]
            ],
            "type": "surface"
           }
          ],
          "table": [
           {
            "cells": {
             "fill": {
              "color": "rgb(237,237,237)"
             },
             "line": {
              "color": "white"
             }
            },
            "header": {
             "fill": {
              "color": "rgb(217,217,217)"
             },
             "line": {
              "color": "white"
             }
            },
            "type": "table"
           }
          ]
         },
         "layout": {
          "annotationdefaults": {
           "arrowhead": 0,
           "arrowwidth": 1
          },
          "autotypenumbers": "strict",
          "coloraxis": {
           "colorbar": {
            "outlinewidth": 1,
            "tickcolor": "rgb(36,36,36)",
            "ticks": "outside"
           }
          },
          "colorscale": {
           "diverging": [
            [
             0,
             "rgb(103,0,31)"
            ],
            [
             0.1,
             "rgb(178,24,43)"
            ],
            [
             0.2,
             "rgb(214,96,77)"
            ],
            [
             0.3,
             "rgb(244,165,130)"
            ],
            [
             0.4,
             "rgb(253,219,199)"
            ],
            [
             0.5,
             "rgb(247,247,247)"
            ],
            [
             0.6,
             "rgb(209,229,240)"
            ],
            [
             0.7,
             "rgb(146,197,222)"
            ],
            [
             0.8,
             "rgb(67,147,195)"
            ],
            [
             0.9,
             "rgb(33,102,172)"
            ],
            [
             1,
             "rgb(5,48,97)"
            ]
           ],
           "sequential": [
            [
             0,
             "#440154"
            ],
            [
             0.1111111111111111,
             "#482878"
            ],
            [
             0.2222222222222222,
             "#3e4989"
            ],
            [
             0.3333333333333333,
             "#31688e"
            ],
            [
             0.4444444444444444,
             "#26828e"
            ],
            [
             0.5555555555555556,
             "#1f9e89"
            ],
            [
             0.6666666666666666,
             "#35b779"
            ],
            [
             0.7777777777777778,
             "#6ece58"
            ],
            [
             0.8888888888888888,
             "#b5de2b"
            ],
            [
             1,
             "#fde725"
            ]
           ],
           "sequentialminus": [
            [
             0,
             "#440154"
            ],
            [
             0.1111111111111111,
             "#482878"
            ],
            [
             0.2222222222222222,
             "#3e4989"
            ],
            [
             0.3333333333333333,
             "#31688e"
            ],
            [
             0.4444444444444444,
             "#26828e"
            ],
            [
             0.5555555555555556,
             "#1f9e89"
            ],
            [
             0.6666666666666666,
             "#35b779"
            ],
            [
             0.7777777777777778,
             "#6ece58"
            ],
            [
             0.8888888888888888,
             "#b5de2b"
            ],
            [
             1,
             "#fde725"
            ]
           ]
          },
          "colorway": [
           "#1F77B4",
           "#FF7F0E",
           "#2CA02C",
           "#D62728",
           "#9467BD",
           "#8C564B",
           "#E377C2",
           "#7F7F7F",
           "#BCBD22",
           "#17BECF"
          ],
          "font": {
           "color": "rgb(36,36,36)"
          },
          "geo": {
           "bgcolor": "white",
           "lakecolor": "white",
           "landcolor": "white",
           "showlakes": true,
           "showland": true,
           "subunitcolor": "white"
          },
          "hoverlabel": {
           "align": "left"
          },
          "hovermode": "closest",
          "mapbox": {
           "style": "light"
          },
          "paper_bgcolor": "white",
          "plot_bgcolor": "white",
          "polar": {
           "angularaxis": {
            "gridcolor": "rgb(232,232,232)",
            "linecolor": "rgb(36,36,36)",
            "showgrid": false,
            "showline": true,
            "ticks": "outside"
           },
           "bgcolor": "white",
           "radialaxis": {
            "gridcolor": "rgb(232,232,232)",
            "linecolor": "rgb(36,36,36)",
            "showgrid": false,
            "showline": true,
            "ticks": "outside"
           }
          },
          "scene": {
           "xaxis": {
            "backgroundcolor": "white",
            "gridcolor": "rgb(232,232,232)",
            "gridwidth": 2,
            "linecolor": "rgb(36,36,36)",
            "showbackground": true,
            "showgrid": false,
            "showline": true,
            "ticks": "outside",
            "zeroline": false,
            "zerolinecolor": "rgb(36,36,36)"
           },
           "yaxis": {
            "backgroundcolor": "white",
            "gridcolor": "rgb(232,232,232)",
            "gridwidth": 2,
            "linecolor": "rgb(36,36,36)",
            "showbackground": true,
            "showgrid": false,
            "showline": true,
            "ticks": "outside",
            "zeroline": false,
            "zerolinecolor": "rgb(36,36,36)"
           },
           "zaxis": {
            "backgroundcolor": "white",
            "gridcolor": "rgb(232,232,232)",
            "gridwidth": 2,
            "linecolor": "rgb(36,36,36)",
            "showbackground": true,
            "showgrid": false,
            "showline": true,
            "ticks": "outside",
            "zeroline": false,
            "zerolinecolor": "rgb(36,36,36)"
           }
          },
          "shapedefaults": {
           "fillcolor": "black",
           "line": {
            "width": 0
           },
           "opacity": 0.3
          },
          "ternary": {
           "aaxis": {
            "gridcolor": "rgb(232,232,232)",
            "linecolor": "rgb(36,36,36)",
            "showgrid": false,
            "showline": true,
            "ticks": "outside"
           },
           "baxis": {
            "gridcolor": "rgb(232,232,232)",
            "linecolor": "rgb(36,36,36)",
            "showgrid": false,
            "showline": true,
            "ticks": "outside"
           },
           "bgcolor": "white",
           "caxis": {
            "gridcolor": "rgb(232,232,232)",
            "linecolor": "rgb(36,36,36)",
            "showgrid": false,
            "showline": true,
            "ticks": "outside"
           }
          },
          "title": {
           "x": 0.05
          },
          "xaxis": {
           "automargin": true,
           "gridcolor": "rgb(232,232,232)",
           "linecolor": "rgb(36,36,36)",
           "showgrid": false,
           "showline": true,
           "ticks": "outside",
           "title": {
            "standoff": 15
           },
           "zeroline": false,
           "zerolinecolor": "rgb(36,36,36)"
          },
          "yaxis": {
           "automargin": true,
           "gridcolor": "rgb(232,232,232)",
           "linecolor": "rgb(36,36,36)",
           "showgrid": false,
           "showline": true,
           "ticks": "outside",
           "title": {
            "standoff": 15
           },
           "zeroline": false,
           "zerolinecolor": "rgb(36,36,36)"
          }
         }
        },
        "title": {
         "font": {
          "color": "Black",
          "size": 22
         },
         "text": "<b>Intertopic Distance Map</b>",
         "x": 0.5,
         "xanchor": "center",
         "y": 0.95,
         "yanchor": "top"
        },
        "width": 650,
        "xaxis": {
         "anchor": "y",
         "domain": [
          0,
          1
         ],
         "range": [
          1.0959564447402954,
          9.96313009262085
         ],
         "title": {
          "text": ""
         },
         "visible": false
        },
        "yaxis": {
         "anchor": "x",
         "domain": [
          0,
          1
         ],
         "range": [
          -2.8293460607528687,
          21.75654363632202
         ],
         "title": {
          "text": ""
         },
         "visible": false
        }
       }
      },
      "text/html": [
       "<div>                        <script type=\"text/javascript\">window.PlotlyConfig = {MathJaxConfig: 'local'};</script>\n",
       "        <script charset=\"utf-8\" src=\"https://cdn.plot.ly/plotly-2.32.0.min.js\"></script>                <div id=\"22aee1c4-422a-43b9-98a0-4bfa77a5f531\" class=\"plotly-graph-div\" style=\"height:650px; width:650px;\"></div>            <script type=\"text/javascript\">                                    window.PLOTLYENV=window.PLOTLYENV || {};                                    if (document.getElementById(\"22aee1c4-422a-43b9-98a0-4bfa77a5f531\")) {                    Plotly.newPlot(                        \"22aee1c4-422a-43b9-98a0-4bfa77a5f531\",                        [{\"customdata\":[[0,\"snps | snp | disease | genetic | plo\",152],[1,\"protein | proteins | structure | sequence | residues\",146],[2,\"terms | information | ontology | text | gene\",128],[3,\"gene | genes | expression | regulatory | network\",95],[4,\"patient | patients | health | clinical | features\",79],[5,\"cancer | gene | genes | tumor | mutations\",75],[6,\"network | networks | time | state | graph\",55],[7,\"tree | trees | taxa | species | number\",37],[8,\"imaging | brain | features | age | subjects\",31],[9,\"drug | drugs | target | similarity | compounds\",31],[10,\"features | cancer | training | mirna | samples\",20],[11,\"harm | drug | gene | relationships | drugs\",19],[12,\"virus | viral | cov | hiv | protein\",18],[13,\"cell | cells | spatial | expression | crna\",17],[14,\"rac | species | rrna | biome | communities\",16],[15,\"rna | rnas | sequence | structure | sequences\",15],[16,\"reads | sequence | domain | trellis | genome\",14],[17,\"mass | peptide | spectra | peak | peaks\",12],[18,\"alignment | alignments | sequences | score | scoring\",10],[19,\"topo | tube | system | you | terminal\",10]],\"hovertemplate\":\"\\u003cb\\u003eTopic %{customdata[0]}\\u003c\\u002fb\\u003e\\u003cbr\\u003e%{customdata[1]}\\u003cbr\\u003eSize: %{customdata[2]}\",\"legendgroup\":\"\",\"marker\":{\"color\":\"#B0BEC5\",\"size\":[152,146,128,95,79,75,55,37,31,31,20,19,18,17,16,15,14,12,10,10],\"sizemode\":\"area\",\"sizeref\":0.095,\"symbol\":\"circle\",\"line\":{\"color\":\"DarkSlateGrey\",\"width\":2}},\"mode\":\"markers\",\"name\":\"\",\"orientation\":\"v\",\"showlegend\":false,\"x\":[7.594359397888184,5.615326404571533,7.62439489364624,5.166293144226074,8.378934860229492,1.5347158908843994,5.424258708953857,4.443212509155273,8.663591384887695,8.093935012817383,1.739872694015503,7.855785369873047,5.663908958435059,1.289360523223877,4.676804065704346,4.2204718589782715,4.850501537322998,5.958710193634033,4.93055534362793,5.068393230438232],\"xaxis\":\"x\",\"y\":[-2.442718267440796,15.186518669128418,-1.8595170974731445,14.15365219116211,-1.885122537612915,18.673532485961914,14.68215274810791,12.636970520019531,-1.5940585136413574,-2.460300922393799,18.468425750732422,-2.0653274059295654,15.651114463806152,18.918733596801758,12.230118751525879,12.911247253417969,12.861502647399902,15.464797019958496,13.041413307189941,12.357146263122559],\"yaxis\":\"y\",\"type\":\"scatter\"}],                        {\"template\":{\"data\":{\"barpolar\":[{\"marker\":{\"line\":{\"color\":\"white\",\"width\":0.5},\"pattern\":{\"fillmode\":\"overlay\",\"size\":10,\"solidity\":0.2}},\"type\":\"barpolar\"}],\"bar\":[{\"error_x\":{\"color\":\"rgb(36,36,36)\"},\"error_y\":{\"color\":\"rgb(36,36,36)\"},\"marker\":{\"line\":{\"color\":\"white\",\"width\":0.5},\"pattern\":{\"fillmode\":\"overlay\",\"size\":10,\"solidity\":0.2}},\"type\":\"bar\"}],\"carpet\":[{\"aaxis\":{\"endlinecolor\":\"rgb(36,36,36)\",\"gridcolor\":\"white\",\"linecolor\":\"white\",\"minorgridcolor\":\"white\",\"startlinecolor\":\"rgb(36,36,36)\"},\"baxis\":{\"endlinecolor\":\"rgb(36,36,36)\",\"gridcolor\":\"white\",\"linecolor\":\"white\",\"minorgridcolor\":\"white\",\"startlinecolor\":\"rgb(36,36,36)\"},\"type\":\"carpet\"}],\"choropleth\":[{\"colorbar\":{\"outlinewidth\":1,\"tickcolor\":\"rgb(36,36,36)\",\"ticks\":\"outside\"},\"type\":\"choropleth\"}],\"contourcarpet\":[{\"colorbar\":{\"outlinewidth\":1,\"tickcolor\":\"rgb(36,36,36)\",\"ticks\":\"outside\"},\"type\":\"contourcarpet\"}],\"contour\":[{\"colorbar\":{\"outlinewidth\":1,\"tickcolor\":\"rgb(36,36,36)\",\"ticks\":\"outside\"},\"colorscale\":[[0.0,\"#440154\"],[0.1111111111111111,\"#482878\"],[0.2222222222222222,\"#3e4989\"],[0.3333333333333333,\"#31688e\"],[0.4444444444444444,\"#26828e\"],[0.5555555555555556,\"#1f9e89\"],[0.6666666666666666,\"#35b779\"],[0.7777777777777778,\"#6ece58\"],[0.8888888888888888,\"#b5de2b\"],[1.0,\"#fde725\"]],\"type\":\"contour\"}],\"heatmapgl\":[{\"colorbar\":{\"outlinewidth\":1,\"tickcolor\":\"rgb(36,36,36)\",\"ticks\":\"outside\"},\"colorscale\":[[0.0,\"#440154\"],[0.1111111111111111,\"#482878\"],[0.2222222222222222,\"#3e4989\"],[0.3333333333333333,\"#31688e\"],[0.4444444444444444,\"#26828e\"],[0.5555555555555556,\"#1f9e89\"],[0.6666666666666666,\"#35b779\"],[0.7777777777777778,\"#6ece58\"],[0.8888888888888888,\"#b5de2b\"],[1.0,\"#fde725\"]],\"type\":\"heatmapgl\"}],\"heatmap\":[{\"colorbar\":{\"outlinewidth\":1,\"tickcolor\":\"rgb(36,36,36)\",\"ticks\":\"outside\"},\"colorscale\":[[0.0,\"#440154\"],[0.1111111111111111,\"#482878\"],[0.2222222222222222,\"#3e4989\"],[0.3333333333333333,\"#31688e\"],[0.4444444444444444,\"#26828e\"],[0.5555555555555556,\"#1f9e89\"],[0.6666666666666666,\"#35b779\"],[0.7777777777777778,\"#6ece58\"],[0.8888888888888888,\"#b5de2b\"],[1.0,\"#fde725\"]],\"type\":\"heatmap\"}],\"histogram2dcontour\":[{\"colorbar\":{\"outlinewidth\":1,\"tickcolor\":\"rgb(36,36,36)\",\"ticks\":\"outside\"},\"colorscale\":[[0.0,\"#440154\"],[0.1111111111111111,\"#482878\"],[0.2222222222222222,\"#3e4989\"],[0.3333333333333333,\"#31688e\"],[0.4444444444444444,\"#26828e\"],[0.5555555555555556,\"#1f9e89\"],[0.6666666666666666,\"#35b779\"],[0.7777777777777778,\"#6ece58\"],[0.8888888888888888,\"#b5de2b\"],[1.0,\"#fde725\"]],\"type\":\"histogram2dcontour\"}],\"histogram2d\":[{\"colorbar\":{\"outlinewidth\":1,\"tickcolor\":\"rgb(36,36,36)\",\"ticks\":\"outside\"},\"colorscale\":[[0.0,\"#440154\"],[0.1111111111111111,\"#482878\"],[0.2222222222222222,\"#3e4989\"],[0.3333333333333333,\"#31688e\"],[0.4444444444444444,\"#26828e\"],[0.5555555555555556,\"#1f9e89\"],[0.6666666666666666,\"#35b779\"],[0.7777777777777778,\"#6ece58\"],[0.8888888888888888,\"#b5de2b\"],[1.0,\"#fde725\"]],\"type\":\"histogram2d\"}],\"histogram\":[{\"marker\":{\"line\":{\"color\":\"white\",\"width\":0.6}},\"type\":\"histogram\"}],\"mesh3d\":[{\"colorbar\":{\"outlinewidth\":1,\"tickcolor\":\"rgb(36,36,36)\",\"ticks\":\"outside\"},\"type\":\"mesh3d\"}],\"parcoords\":[{\"line\":{\"colorbar\":{\"outlinewidth\":1,\"tickcolor\":\"rgb(36,36,36)\",\"ticks\":\"outside\"}},\"type\":\"parcoords\"}],\"pie\":[{\"automargin\":true,\"type\":\"pie\"}],\"scatter3d\":[{\"line\":{\"colorbar\":{\"outlinewidth\":1,\"tickcolor\":\"rgb(36,36,36)\",\"ticks\":\"outside\"}},\"marker\":{\"colorbar\":{\"outlinewidth\":1,\"tickcolor\":\"rgb(36,36,36)\",\"ticks\":\"outside\"}},\"type\":\"scatter3d\"}],\"scattercarpet\":[{\"marker\":{\"colorbar\":{\"outlinewidth\":1,\"tickcolor\":\"rgb(36,36,36)\",\"ticks\":\"outside\"}},\"type\":\"scattercarpet\"}],\"scattergeo\":[{\"marker\":{\"colorbar\":{\"outlinewidth\":1,\"tickcolor\":\"rgb(36,36,36)\",\"ticks\":\"outside\"}},\"type\":\"scattergeo\"}],\"scattergl\":[{\"marker\":{\"colorbar\":{\"outlinewidth\":1,\"tickcolor\":\"rgb(36,36,36)\",\"ticks\":\"outside\"}},\"type\":\"scattergl\"}],\"scattermapbox\":[{\"marker\":{\"colorbar\":{\"outlinewidth\":1,\"tickcolor\":\"rgb(36,36,36)\",\"ticks\":\"outside\"}},\"type\":\"scattermapbox\"}],\"scatterpolargl\":[{\"marker\":{\"colorbar\":{\"outlinewidth\":1,\"tickcolor\":\"rgb(36,36,36)\",\"ticks\":\"outside\"}},\"type\":\"scatterpolargl\"}],\"scatterpolar\":[{\"marker\":{\"colorbar\":{\"outlinewidth\":1,\"tickcolor\":\"rgb(36,36,36)\",\"ticks\":\"outside\"}},\"type\":\"scatterpolar\"}],\"scatter\":[{\"fillpattern\":{\"fillmode\":\"overlay\",\"size\":10,\"solidity\":0.2},\"type\":\"scatter\"}],\"scatterternary\":[{\"marker\":{\"colorbar\":{\"outlinewidth\":1,\"tickcolor\":\"rgb(36,36,36)\",\"ticks\":\"outside\"}},\"type\":\"scatterternary\"}],\"surface\":[{\"colorbar\":{\"outlinewidth\":1,\"tickcolor\":\"rgb(36,36,36)\",\"ticks\":\"outside\"},\"colorscale\":[[0.0,\"#440154\"],[0.1111111111111111,\"#482878\"],[0.2222222222222222,\"#3e4989\"],[0.3333333333333333,\"#31688e\"],[0.4444444444444444,\"#26828e\"],[0.5555555555555556,\"#1f9e89\"],[0.6666666666666666,\"#35b779\"],[0.7777777777777778,\"#6ece58\"],[0.8888888888888888,\"#b5de2b\"],[1.0,\"#fde725\"]],\"type\":\"surface\"}],\"table\":[{\"cells\":{\"fill\":{\"color\":\"rgb(237,237,237)\"},\"line\":{\"color\":\"white\"}},\"header\":{\"fill\":{\"color\":\"rgb(217,217,217)\"},\"line\":{\"color\":\"white\"}},\"type\":\"table\"}]},\"layout\":{\"annotationdefaults\":{\"arrowhead\":0,\"arrowwidth\":1},\"autotypenumbers\":\"strict\",\"coloraxis\":{\"colorbar\":{\"outlinewidth\":1,\"tickcolor\":\"rgb(36,36,36)\",\"ticks\":\"outside\"}},\"colorscale\":{\"diverging\":[[0.0,\"rgb(103,0,31)\"],[0.1,\"rgb(178,24,43)\"],[0.2,\"rgb(214,96,77)\"],[0.3,\"rgb(244,165,130)\"],[0.4,\"rgb(253,219,199)\"],[0.5,\"rgb(247,247,247)\"],[0.6,\"rgb(209,229,240)\"],[0.7,\"rgb(146,197,222)\"],[0.8,\"rgb(67,147,195)\"],[0.9,\"rgb(33,102,172)\"],[1.0,\"rgb(5,48,97)\"]],\"sequential\":[[0.0,\"#440154\"],[0.1111111111111111,\"#482878\"],[0.2222222222222222,\"#3e4989\"],[0.3333333333333333,\"#31688e\"],[0.4444444444444444,\"#26828e\"],[0.5555555555555556,\"#1f9e89\"],[0.6666666666666666,\"#35b779\"],[0.7777777777777778,\"#6ece58\"],[0.8888888888888888,\"#b5de2b\"],[1.0,\"#fde725\"]],\"sequentialminus\":[[0.0,\"#440154\"],[0.1111111111111111,\"#482878\"],[0.2222222222222222,\"#3e4989\"],[0.3333333333333333,\"#31688e\"],[0.4444444444444444,\"#26828e\"],[0.5555555555555556,\"#1f9e89\"],[0.6666666666666666,\"#35b779\"],[0.7777777777777778,\"#6ece58\"],[0.8888888888888888,\"#b5de2b\"],[1.0,\"#fde725\"]]},\"colorway\":[\"#1F77B4\",\"#FF7F0E\",\"#2CA02C\",\"#D62728\",\"#9467BD\",\"#8C564B\",\"#E377C2\",\"#7F7F7F\",\"#BCBD22\",\"#17BECF\"],\"font\":{\"color\":\"rgb(36,36,36)\"},\"geo\":{\"bgcolor\":\"white\",\"lakecolor\":\"white\",\"landcolor\":\"white\",\"showlakes\":true,\"showland\":true,\"subunitcolor\":\"white\"},\"hoverlabel\":{\"align\":\"left\"},\"hovermode\":\"closest\",\"mapbox\":{\"style\":\"light\"},\"paper_bgcolor\":\"white\",\"plot_bgcolor\":\"white\",\"polar\":{\"angularaxis\":{\"gridcolor\":\"rgb(232,232,232)\",\"linecolor\":\"rgb(36,36,36)\",\"showgrid\":false,\"showline\":true,\"ticks\":\"outside\"},\"bgcolor\":\"white\",\"radialaxis\":{\"gridcolor\":\"rgb(232,232,232)\",\"linecolor\":\"rgb(36,36,36)\",\"showgrid\":false,\"showline\":true,\"ticks\":\"outside\"}},\"scene\":{\"xaxis\":{\"backgroundcolor\":\"white\",\"gridcolor\":\"rgb(232,232,232)\",\"gridwidth\":2,\"linecolor\":\"rgb(36,36,36)\",\"showbackground\":true,\"showgrid\":false,\"showline\":true,\"ticks\":\"outside\",\"zeroline\":false,\"zerolinecolor\":\"rgb(36,36,36)\"},\"yaxis\":{\"backgroundcolor\":\"white\",\"gridcolor\":\"rgb(232,232,232)\",\"gridwidth\":2,\"linecolor\":\"rgb(36,36,36)\",\"showbackground\":true,\"showgrid\":false,\"showline\":true,\"ticks\":\"outside\",\"zeroline\":false,\"zerolinecolor\":\"rgb(36,36,36)\"},\"zaxis\":{\"backgroundcolor\":\"white\",\"gridcolor\":\"rgb(232,232,232)\",\"gridwidth\":2,\"linecolor\":\"rgb(36,36,36)\",\"showbackground\":true,\"showgrid\":false,\"showline\":true,\"ticks\":\"outside\",\"zeroline\":false,\"zerolinecolor\":\"rgb(36,36,36)\"}},\"shapedefaults\":{\"fillcolor\":\"black\",\"line\":{\"width\":0},\"opacity\":0.3},\"ternary\":{\"aaxis\":{\"gridcolor\":\"rgb(232,232,232)\",\"linecolor\":\"rgb(36,36,36)\",\"showgrid\":false,\"showline\":true,\"ticks\":\"outside\"},\"baxis\":{\"gridcolor\":\"rgb(232,232,232)\",\"linecolor\":\"rgb(36,36,36)\",\"showgrid\":false,\"showline\":true,\"ticks\":\"outside\"},\"bgcolor\":\"white\",\"caxis\":{\"gridcolor\":\"rgb(232,232,232)\",\"linecolor\":\"rgb(36,36,36)\",\"showgrid\":false,\"showline\":true,\"ticks\":\"outside\"}},\"title\":{\"x\":0.05},\"xaxis\":{\"automargin\":true,\"gridcolor\":\"rgb(232,232,232)\",\"linecolor\":\"rgb(36,36,36)\",\"showgrid\":false,\"showline\":true,\"ticks\":\"outside\",\"title\":{\"standoff\":15},\"zeroline\":false,\"zerolinecolor\":\"rgb(36,36,36)\"},\"yaxis\":{\"automargin\":true,\"gridcolor\":\"rgb(232,232,232)\",\"linecolor\":\"rgb(36,36,36)\",\"showgrid\":false,\"showline\":true,\"ticks\":\"outside\",\"title\":{\"standoff\":15},\"zeroline\":false,\"zerolinecolor\":\"rgb(36,36,36)\"}}},\"xaxis\":{\"anchor\":\"y\",\"domain\":[0.0,1.0],\"title\":{\"text\":\"\"},\"visible\":false,\"range\":[1.0959564447402954,9.96313009262085]},\"yaxis\":{\"anchor\":\"x\",\"domain\":[0.0,1.0],\"title\":{\"text\":\"\"},\"visible\":false,\"range\":[-2.8293460607528687,21.75654363632202]},\"legend\":{\"tracegroupgap\":0,\"itemsizing\":\"constant\"},\"margin\":{\"t\":60},\"title\":{\"font\":{\"size\":22,\"color\":\"Black\"},\"text\":\"\\u003cb\\u003eIntertopic Distance Map\\u003c\\u002fb\\u003e\",\"y\":0.95,\"x\":0.5,\"xanchor\":\"center\",\"yanchor\":\"top\"},\"hoverlabel\":{\"font\":{\"size\":16,\"family\":\"Rockwell\"},\"bgcolor\":\"white\"},\"width\":650,\"height\":650,\"sliders\":[{\"active\":0,\"pad\":{\"t\":50},\"steps\":[{\"args\":[{\"marker.color\":[[\"red\",\"#B0BEC5\",\"#B0BEC5\",\"#B0BEC5\",\"#B0BEC5\",\"#B0BEC5\",\"#B0BEC5\",\"#B0BEC5\",\"#B0BEC5\",\"#B0BEC5\",\"#B0BEC5\",\"#B0BEC5\",\"#B0BEC5\",\"#B0BEC5\",\"#B0BEC5\",\"#B0BEC5\",\"#B0BEC5\",\"#B0BEC5\",\"#B0BEC5\",\"#B0BEC5\"]]}],\"label\":\"Topic 0\",\"method\":\"update\"},{\"args\":[{\"marker.color\":[[\"#B0BEC5\",\"red\",\"#B0BEC5\",\"#B0BEC5\",\"#B0BEC5\",\"#B0BEC5\",\"#B0BEC5\",\"#B0BEC5\",\"#B0BEC5\",\"#B0BEC5\",\"#B0BEC5\",\"#B0BEC5\",\"#B0BEC5\",\"#B0BEC5\",\"#B0BEC5\",\"#B0BEC5\",\"#B0BEC5\",\"#B0BEC5\",\"#B0BEC5\",\"#B0BEC5\"]]}],\"label\":\"Topic 1\",\"method\":\"update\"},{\"args\":[{\"marker.color\":[[\"#B0BEC5\",\"#B0BEC5\",\"red\",\"#B0BEC5\",\"#B0BEC5\",\"#B0BEC5\",\"#B0BEC5\",\"#B0BEC5\",\"#B0BEC5\",\"#B0BEC5\",\"#B0BEC5\",\"#B0BEC5\",\"#B0BEC5\",\"#B0BEC5\",\"#B0BEC5\",\"#B0BEC5\",\"#B0BEC5\",\"#B0BEC5\",\"#B0BEC5\",\"#B0BEC5\"]]}],\"label\":\"Topic 2\",\"method\":\"update\"},{\"args\":[{\"marker.color\":[[\"#B0BEC5\",\"#B0BEC5\",\"#B0BEC5\",\"red\",\"#B0BEC5\",\"#B0BEC5\",\"#B0BEC5\",\"#B0BEC5\",\"#B0BEC5\",\"#B0BEC5\",\"#B0BEC5\",\"#B0BEC5\",\"#B0BEC5\",\"#B0BEC5\",\"#B0BEC5\",\"#B0BEC5\",\"#B0BEC5\",\"#B0BEC5\",\"#B0BEC5\",\"#B0BEC5\"]]}],\"label\":\"Topic 3\",\"method\":\"update\"},{\"args\":[{\"marker.color\":[[\"#B0BEC5\",\"#B0BEC5\",\"#B0BEC5\",\"#B0BEC5\",\"red\",\"#B0BEC5\",\"#B0BEC5\",\"#B0BEC5\",\"#B0BEC5\",\"#B0BEC5\",\"#B0BEC5\",\"#B0BEC5\",\"#B0BEC5\",\"#B0BEC5\",\"#B0BEC5\",\"#B0BEC5\",\"#B0BEC5\",\"#B0BEC5\",\"#B0BEC5\",\"#B0BEC5\"]]}],\"label\":\"Topic 4\",\"method\":\"update\"},{\"args\":[{\"marker.color\":[[\"#B0BEC5\",\"#B0BEC5\",\"#B0BEC5\",\"#B0BEC5\",\"#B0BEC5\",\"red\",\"#B0BEC5\",\"#B0BEC5\",\"#B0BEC5\",\"#B0BEC5\",\"#B0BEC5\",\"#B0BEC5\",\"#B0BEC5\",\"#B0BEC5\",\"#B0BEC5\",\"#B0BEC5\",\"#B0BEC5\",\"#B0BEC5\",\"#B0BEC5\",\"#B0BEC5\"]]}],\"label\":\"Topic 5\",\"method\":\"update\"},{\"args\":[{\"marker.color\":[[\"#B0BEC5\",\"#B0BEC5\",\"#B0BEC5\",\"#B0BEC5\",\"#B0BEC5\",\"#B0BEC5\",\"red\",\"#B0BEC5\",\"#B0BEC5\",\"#B0BEC5\",\"#B0BEC5\",\"#B0BEC5\",\"#B0BEC5\",\"#B0BEC5\",\"#B0BEC5\",\"#B0BEC5\",\"#B0BEC5\",\"#B0BEC5\",\"#B0BEC5\",\"#B0BEC5\"]]}],\"label\":\"Topic 6\",\"method\":\"update\"},{\"args\":[{\"marker.color\":[[\"#B0BEC5\",\"#B0BEC5\",\"#B0BEC5\",\"#B0BEC5\",\"#B0BEC5\",\"#B0BEC5\",\"#B0BEC5\",\"red\",\"#B0BEC5\",\"#B0BEC5\",\"#B0BEC5\",\"#B0BEC5\",\"#B0BEC5\",\"#B0BEC5\",\"#B0BEC5\",\"#B0BEC5\",\"#B0BEC5\",\"#B0BEC5\",\"#B0BEC5\",\"#B0BEC5\"]]}],\"label\":\"Topic 7\",\"method\":\"update\"},{\"args\":[{\"marker.color\":[[\"#B0BEC5\",\"#B0BEC5\",\"#B0BEC5\",\"#B0BEC5\",\"#B0BEC5\",\"#B0BEC5\",\"#B0BEC5\",\"#B0BEC5\",\"red\",\"#B0BEC5\",\"#B0BEC5\",\"#B0BEC5\",\"#B0BEC5\",\"#B0BEC5\",\"#B0BEC5\",\"#B0BEC5\",\"#B0BEC5\",\"#B0BEC5\",\"#B0BEC5\",\"#B0BEC5\"]]}],\"label\":\"Topic 8\",\"method\":\"update\"},{\"args\":[{\"marker.color\":[[\"#B0BEC5\",\"#B0BEC5\",\"#B0BEC5\",\"#B0BEC5\",\"#B0BEC5\",\"#B0BEC5\",\"#B0BEC5\",\"#B0BEC5\",\"#B0BEC5\",\"red\",\"#B0BEC5\",\"#B0BEC5\",\"#B0BEC5\",\"#B0BEC5\",\"#B0BEC5\",\"#B0BEC5\",\"#B0BEC5\",\"#B0BEC5\",\"#B0BEC5\",\"#B0BEC5\"]]}],\"label\":\"Topic 9\",\"method\":\"update\"},{\"args\":[{\"marker.color\":[[\"#B0BEC5\",\"#B0BEC5\",\"#B0BEC5\",\"#B0BEC5\",\"#B0BEC5\",\"#B0BEC5\",\"#B0BEC5\",\"#B0BEC5\",\"#B0BEC5\",\"#B0BEC5\",\"red\",\"#B0BEC5\",\"#B0BEC5\",\"#B0BEC5\",\"#B0BEC5\",\"#B0BEC5\",\"#B0BEC5\",\"#B0BEC5\",\"#B0BEC5\",\"#B0BEC5\"]]}],\"label\":\"Topic 10\",\"method\":\"update\"},{\"args\":[{\"marker.color\":[[\"#B0BEC5\",\"#B0BEC5\",\"#B0BEC5\",\"#B0BEC5\",\"#B0BEC5\",\"#B0BEC5\",\"#B0BEC5\",\"#B0BEC5\",\"#B0BEC5\",\"#B0BEC5\",\"#B0BEC5\",\"red\",\"#B0BEC5\",\"#B0BEC5\",\"#B0BEC5\",\"#B0BEC5\",\"#B0BEC5\",\"#B0BEC5\",\"#B0BEC5\",\"#B0BEC5\"]]}],\"label\":\"Topic 11\",\"method\":\"update\"},{\"args\":[{\"marker.color\":[[\"#B0BEC5\",\"#B0BEC5\",\"#B0BEC5\",\"#B0BEC5\",\"#B0BEC5\",\"#B0BEC5\",\"#B0BEC5\",\"#B0BEC5\",\"#B0BEC5\",\"#B0BEC5\",\"#B0BEC5\",\"#B0BEC5\",\"red\",\"#B0BEC5\",\"#B0BEC5\",\"#B0BEC5\",\"#B0BEC5\",\"#B0BEC5\",\"#B0BEC5\",\"#B0BEC5\"]]}],\"label\":\"Topic 12\",\"method\":\"update\"},{\"args\":[{\"marker.color\":[[\"#B0BEC5\",\"#B0BEC5\",\"#B0BEC5\",\"#B0BEC5\",\"#B0BEC5\",\"#B0BEC5\",\"#B0BEC5\",\"#B0BEC5\",\"#B0BEC5\",\"#B0BEC5\",\"#B0BEC5\",\"#B0BEC5\",\"#B0BEC5\",\"red\",\"#B0BEC5\",\"#B0BEC5\",\"#B0BEC5\",\"#B0BEC5\",\"#B0BEC5\",\"#B0BEC5\"]]}],\"label\":\"Topic 13\",\"method\":\"update\"},{\"args\":[{\"marker.color\":[[\"#B0BEC5\",\"#B0BEC5\",\"#B0BEC5\",\"#B0BEC5\",\"#B0BEC5\",\"#B0BEC5\",\"#B0BEC5\",\"#B0BEC5\",\"#B0BEC5\",\"#B0BEC5\",\"#B0BEC5\",\"#B0BEC5\",\"#B0BEC5\",\"#B0BEC5\",\"red\",\"#B0BEC5\",\"#B0BEC5\",\"#B0BEC5\",\"#B0BEC5\",\"#B0BEC5\"]]}],\"label\":\"Topic 14\",\"method\":\"update\"},{\"args\":[{\"marker.color\":[[\"#B0BEC5\",\"#B0BEC5\",\"#B0BEC5\",\"#B0BEC5\",\"#B0BEC5\",\"#B0BEC5\",\"#B0BEC5\",\"#B0BEC5\",\"#B0BEC5\",\"#B0BEC5\",\"#B0BEC5\",\"#B0BEC5\",\"#B0BEC5\",\"#B0BEC5\",\"#B0BEC5\",\"red\",\"#B0BEC5\",\"#B0BEC5\",\"#B0BEC5\",\"#B0BEC5\"]]}],\"label\":\"Topic 15\",\"method\":\"update\"},{\"args\":[{\"marker.color\":[[\"#B0BEC5\",\"#B0BEC5\",\"#B0BEC5\",\"#B0BEC5\",\"#B0BEC5\",\"#B0BEC5\",\"#B0BEC5\",\"#B0BEC5\",\"#B0BEC5\",\"#B0BEC5\",\"#B0BEC5\",\"#B0BEC5\",\"#B0BEC5\",\"#B0BEC5\",\"#B0BEC5\",\"#B0BEC5\",\"red\",\"#B0BEC5\",\"#B0BEC5\",\"#B0BEC5\"]]}],\"label\":\"Topic 16\",\"method\":\"update\"},{\"args\":[{\"marker.color\":[[\"#B0BEC5\",\"#B0BEC5\",\"#B0BEC5\",\"#B0BEC5\",\"#B0BEC5\",\"#B0BEC5\",\"#B0BEC5\",\"#B0BEC5\",\"#B0BEC5\",\"#B0BEC5\",\"#B0BEC5\",\"#B0BEC5\",\"#B0BEC5\",\"#B0BEC5\",\"#B0BEC5\",\"#B0BEC5\",\"#B0BEC5\",\"red\",\"#B0BEC5\",\"#B0BEC5\"]]}],\"label\":\"Topic 17\",\"method\":\"update\"},{\"args\":[{\"marker.color\":[[\"#B0BEC5\",\"#B0BEC5\",\"#B0BEC5\",\"#B0BEC5\",\"#B0BEC5\",\"#B0BEC5\",\"#B0BEC5\",\"#B0BEC5\",\"#B0BEC5\",\"#B0BEC5\",\"#B0BEC5\",\"#B0BEC5\",\"#B0BEC5\",\"#B0BEC5\",\"#B0BEC5\",\"#B0BEC5\",\"#B0BEC5\",\"#B0BEC5\",\"red\",\"#B0BEC5\"]]}],\"label\":\"Topic 18\",\"method\":\"update\"},{\"args\":[{\"marker.color\":[[\"#B0BEC5\",\"#B0BEC5\",\"#B0BEC5\",\"#B0BEC5\",\"#B0BEC5\",\"#B0BEC5\",\"#B0BEC5\",\"#B0BEC5\",\"#B0BEC5\",\"#B0BEC5\",\"#B0BEC5\",\"#B0BEC5\",\"#B0BEC5\",\"#B0BEC5\",\"#B0BEC5\",\"#B0BEC5\",\"#B0BEC5\",\"#B0BEC5\",\"#B0BEC5\",\"red\"]]}],\"label\":\"Topic 19\",\"method\":\"update\"}]}],\"shapes\":[{\"line\":{\"color\":\"#CFD8DC\",\"width\":2},\"type\":\"line\",\"x0\":5.529543268680572,\"x1\":5.529543268680572,\"y0\":-2.8293460607528687,\"y1\":21.75654363632202},{\"line\":{\"color\":\"#9E9E9E\",\"width\":2},\"type\":\"line\",\"x0\":1.0959564447402954,\"x1\":9.96313009262085,\"y0\":9.463598787784576,\"y1\":9.463598787784576}],\"annotations\":[{\"showarrow\":false,\"text\":\"D1\",\"x\":1.0959564447402954,\"y\":9.463598787784576,\"yshift\":10},{\"showarrow\":false,\"text\":\"D2\",\"x\":5.529543268680572,\"xshift\":10,\"y\":21.75654363632202}]},                        {\"responsive\": true}                    )                };                            </script>        </div>"
      ],
      "text/plain": [
       "Figure({\n",
       "    'data': [{'customdata': array([[0, 'snps | snp | disease | genetic | plo', 152],\n",
       "                                   [1, 'protein | proteins | structure | sequence | residues', 146],\n",
       "                                   [2, 'terms | information | ontology | text | gene', 128],\n",
       "                                   [3, 'gene | genes | expression | regulatory | network', 95],\n",
       "                                   [4, 'patient | patients | health | clinical | features', 79],\n",
       "                                   [5, 'cancer | gene | genes | tumor | mutations', 75],\n",
       "                                   [6, 'network | networks | time | state | graph', 55],\n",
       "                                   [7, 'tree | trees | taxa | species | number', 37],\n",
       "                                   [8, 'imaging | brain | features | age | subjects', 31],\n",
       "                                   [9, 'drug | drugs | target | similarity | compounds', 31],\n",
       "                                   [10, 'features | cancer | training | mirna | samples', 20],\n",
       "                                   [11, 'harm | drug | gene | relationships | drugs', 19],\n",
       "                                   [12, 'virus | viral | cov | hiv | protein', 18],\n",
       "                                   [13, 'cell | cells | spatial | expression | crna', 17],\n",
       "                                   [14, 'rac | species | rrna | biome | communities', 16],\n",
       "                                   [15, 'rna | rnas | sequence | structure | sequences', 15],\n",
       "                                   [16, 'reads | sequence | domain | trellis | genome', 14],\n",
       "                                   [17, 'mass | peptide | spectra | peak | peaks', 12],\n",
       "                                   [18, 'alignment | alignments | sequences | score | scoring', 10],\n",
       "                                   [19, 'topo | tube | system | you | terminal', 10]], dtype=object),\n",
       "              'hovertemplate': '<b>Topic %{customdata[0]}</b><br>%{customdata[1]}<br>Size: %{customdata[2]}',\n",
       "              'legendgroup': '',\n",
       "              'marker': {'color': '#B0BEC5',\n",
       "                         'line': {'color': 'DarkSlateGrey', 'width': 2},\n",
       "                         'size': array([152, 146, 128,  95,  79,  75,  55,  37,  31,  31,  20,  19,  18,  17,\n",
       "                                         16,  15,  14,  12,  10,  10], dtype=int64),\n",
       "                         'sizemode': 'area',\n",
       "                         'sizeref': 0.095,\n",
       "                         'symbol': 'circle'},\n",
       "              'mode': 'markers',\n",
       "              'name': '',\n",
       "              'orientation': 'v',\n",
       "              'showlegend': False,\n",
       "              'type': 'scatter',\n",
       "              'x': array([7.5943594, 5.6153264, 7.624395 , 5.166293 , 8.378935 , 1.5347159,\n",
       "                          5.4242587, 4.4432125, 8.663591 , 8.093935 , 1.7398727, 7.8557854,\n",
       "                          5.663909 , 1.2893605, 4.676804 , 4.220472 , 4.8505015, 5.95871  ,\n",
       "                          4.9305553, 5.068393 ], dtype=float32),\n",
       "              'xaxis': 'x',\n",
       "              'y': array([-2.4427183, 15.186519 , -1.8595171, 14.153652 , -1.8851225, 18.673532 ,\n",
       "                          14.682153 , 12.6369705, -1.5940585, -2.460301 , 18.468426 , -2.0653274,\n",
       "                          15.651114 , 18.918734 , 12.230119 , 12.911247 , 12.861503 , 15.464797 ,\n",
       "                          13.041413 , 12.357146 ], dtype=float32),\n",
       "              'yaxis': 'y'}],\n",
       "    'layout': {'annotations': [{'showarrow': False,\n",
       "                                'text': 'D1',\n",
       "                                'x': 1.0959564447402954,\n",
       "                                'y': 9.463598787784576,\n",
       "                                'yshift': 10},\n",
       "                               {'showarrow': False,\n",
       "                                'text': 'D2',\n",
       "                                'x': 5.529543268680572,\n",
       "                                'xshift': 10,\n",
       "                                'y': 21.75654363632202}],\n",
       "               'height': 650,\n",
       "               'hoverlabel': {'bgcolor': 'white', 'font': {'family': 'Rockwell', 'size': 16}},\n",
       "               'legend': {'itemsizing': 'constant', 'tracegroupgap': 0},\n",
       "               'margin': {'t': 60},\n",
       "               'shapes': [{'line': {'color': '#CFD8DC', 'width': 2},\n",
       "                           'type': 'line',\n",
       "                           'x0': 5.529543268680572,\n",
       "                           'x1': 5.529543268680572,\n",
       "                           'y0': -2.8293460607528687,\n",
       "                           'y1': 21.75654363632202},\n",
       "                          {'line': {'color': '#9E9E9E', 'width': 2},\n",
       "                           'type': 'line',\n",
       "                           'x0': 1.0959564447402954,\n",
       "                           'x1': 9.96313009262085,\n",
       "                           'y0': 9.463598787784576,\n",
       "                           'y1': 9.463598787784576}],\n",
       "               'sliders': [{'active': 0,\n",
       "                            'pad': {'t': 50},\n",
       "                            'steps': [{'args': [{'marker.color': [['red',\n",
       "                                                                  '#B0BEC5',\n",
       "                                                                  '#B0BEC5',\n",
       "                                                                  '#B0BEC5',\n",
       "                                                                  '#B0BEC5',\n",
       "                                                                  '#B0BEC5',\n",
       "                                                                  '#B0BEC5',\n",
       "                                                                  '#B0BEC5',\n",
       "                                                                  '#B0BEC5',\n",
       "                                                                  '#B0BEC5',\n",
       "                                                                  '#B0BEC5',\n",
       "                                                                  '#B0BEC5',\n",
       "                                                                  '#B0BEC5',\n",
       "                                                                  '#B0BEC5',\n",
       "                                                                  '#B0BEC5',\n",
       "                                                                  '#B0BEC5',\n",
       "                                                                  '#B0BEC5',\n",
       "                                                                  '#B0BEC5',\n",
       "                                                                  '#B0BEC5',\n",
       "                                                                  '#B0BEC5']]}],\n",
       "                                       'label': 'Topic 0',\n",
       "                                       'method': 'update'},\n",
       "                                      {'args': [{'marker.color': [['#B0BEC5',\n",
       "                                                                  'red', '#B0BEC5',\n",
       "                                                                  '#B0BEC5',\n",
       "                                                                  '#B0BEC5',\n",
       "                                                                  '#B0BEC5',\n",
       "                                                                  '#B0BEC5',\n",
       "                                                                  '#B0BEC5',\n",
       "                                                                  '#B0BEC5',\n",
       "                                                                  '#B0BEC5',\n",
       "                                                                  '#B0BEC5',\n",
       "                                                                  '#B0BEC5',\n",
       "                                                                  '#B0BEC5',\n",
       "                                                                  '#B0BEC5',\n",
       "                                                                  '#B0BEC5',\n",
       "                                                                  '#B0BEC5',\n",
       "                                                                  '#B0BEC5',\n",
       "                                                                  '#B0BEC5',\n",
       "                                                                  '#B0BEC5',\n",
       "                                                                  '#B0BEC5']]}],\n",
       "                                       'label': 'Topic 1',\n",
       "                                       'method': 'update'},\n",
       "                                      {'args': [{'marker.color': [['#B0BEC5',\n",
       "                                                                  '#B0BEC5', 'red',\n",
       "                                                                  '#B0BEC5',\n",
       "                                                                  '#B0BEC5',\n",
       "                                                                  '#B0BEC5',\n",
       "                                                                  '#B0BEC5',\n",
       "                                                                  '#B0BEC5',\n",
       "                                                                  '#B0BEC5',\n",
       "                                                                  '#B0BEC5',\n",
       "                                                                  '#B0BEC5',\n",
       "                                                                  '#B0BEC5',\n",
       "                                                                  '#B0BEC5',\n",
       "                                                                  '#B0BEC5',\n",
       "                                                                  '#B0BEC5',\n",
       "                                                                  '#B0BEC5',\n",
       "                                                                  '#B0BEC5',\n",
       "                                                                  '#B0BEC5',\n",
       "                                                                  '#B0BEC5',\n",
       "                                                                  '#B0BEC5']]}],\n",
       "                                       'label': 'Topic 2',\n",
       "                                       'method': 'update'},\n",
       "                                      {'args': [{'marker.color': [['#B0BEC5',\n",
       "                                                                  '#B0BEC5',\n",
       "                                                                  '#B0BEC5', 'red',\n",
       "                                                                  '#B0BEC5',\n",
       "                                                                  '#B0BEC5',\n",
       "                                                                  '#B0BEC5',\n",
       "                                                                  '#B0BEC5',\n",
       "                                                                  '#B0BEC5',\n",
       "                                                                  '#B0BEC5',\n",
       "                                                                  '#B0BEC5',\n",
       "                                                                  '#B0BEC5',\n",
       "                                                                  '#B0BEC5',\n",
       "                                                                  '#B0BEC5',\n",
       "                                                                  '#B0BEC5',\n",
       "                                                                  '#B0BEC5',\n",
       "                                                                  '#B0BEC5',\n",
       "                                                                  '#B0BEC5',\n",
       "                                                                  '#B0BEC5',\n",
       "                                                                  '#B0BEC5']]}],\n",
       "                                       'label': 'Topic 3',\n",
       "                                       'method': 'update'},\n",
       "                                      {'args': [{'marker.color': [['#B0BEC5',\n",
       "                                                                  '#B0BEC5',\n",
       "                                                                  '#B0BEC5',\n",
       "                                                                  '#B0BEC5', 'red',\n",
       "                                                                  '#B0BEC5',\n",
       "                                                                  '#B0BEC5',\n",
       "                                                                  '#B0BEC5',\n",
       "                                                                  '#B0BEC5',\n",
       "                                                                  '#B0BEC5',\n",
       "                                                                  '#B0BEC5',\n",
       "                                                                  '#B0BEC5',\n",
       "                                                                  '#B0BEC5',\n",
       "                                                                  '#B0BEC5',\n",
       "                                                                  '#B0BEC5',\n",
       "                                                                  '#B0BEC5',\n",
       "                                                                  '#B0BEC5',\n",
       "                                                                  '#B0BEC5',\n",
       "                                                                  '#B0BEC5',\n",
       "                                                                  '#B0BEC5']]}],\n",
       "                                       'label': 'Topic 4',\n",
       "                                       'method': 'update'},\n",
       "                                      {'args': [{'marker.color': [['#B0BEC5',\n",
       "                                                                  '#B0BEC5',\n",
       "                                                                  '#B0BEC5',\n",
       "                                                                  '#B0BEC5',\n",
       "                                                                  '#B0BEC5', 'red',\n",
       "                                                                  '#B0BEC5',\n",
       "                                                                  '#B0BEC5',\n",
       "                                                                  '#B0BEC5',\n",
       "                                                                  '#B0BEC5',\n",
       "                                                                  '#B0BEC5',\n",
       "                                                                  '#B0BEC5',\n",
       "                                                                  '#B0BEC5',\n",
       "                                                                  '#B0BEC5',\n",
       "                                                                  '#B0BEC5',\n",
       "                                                                  '#B0BEC5',\n",
       "                                                                  '#B0BEC5',\n",
       "                                                                  '#B0BEC5',\n",
       "                                                                  '#B0BEC5',\n",
       "                                                                  '#B0BEC5']]}],\n",
       "                                       'label': 'Topic 5',\n",
       "                                       'method': 'update'},\n",
       "                                      {'args': [{'marker.color': [['#B0BEC5',\n",
       "                                                                  '#B0BEC5',\n",
       "                                                                  '#B0BEC5',\n",
       "                                                                  '#B0BEC5',\n",
       "                                                                  '#B0BEC5',\n",
       "                                                                  '#B0BEC5', 'red',\n",
       "                                                                  '#B0BEC5',\n",
       "                                                                  '#B0BEC5',\n",
       "                                                                  '#B0BEC5',\n",
       "                                                                  '#B0BEC5',\n",
       "                                                                  '#B0BEC5',\n",
       "                                                                  '#B0BEC5',\n",
       "                                                                  '#B0BEC5',\n",
       "                                                                  '#B0BEC5',\n",
       "                                                                  '#B0BEC5',\n",
       "                                                                  '#B0BEC5',\n",
       "                                                                  '#B0BEC5',\n",
       "                                                                  '#B0BEC5',\n",
       "                                                                  '#B0BEC5']]}],\n",
       "                                       'label': 'Topic 6',\n",
       "                                       'method': 'update'},\n",
       "                                      {'args': [{'marker.color': [['#B0BEC5',\n",
       "                                                                  '#B0BEC5',\n",
       "                                                                  '#B0BEC5',\n",
       "                                                                  '#B0BEC5',\n",
       "                                                                  '#B0BEC5',\n",
       "                                                                  '#B0BEC5',\n",
       "                                                                  '#B0BEC5', 'red',\n",
       "                                                                  '#B0BEC5',\n",
       "                                                                  '#B0BEC5',\n",
       "                                                                  '#B0BEC5',\n",
       "                                                                  '#B0BEC5',\n",
       "                                                                  '#B0BEC5',\n",
       "                                                                  '#B0BEC5',\n",
       "                                                                  '#B0BEC5',\n",
       "                                                                  '#B0BEC5',\n",
       "                                                                  '#B0BEC5',\n",
       "                                                                  '#B0BEC5',\n",
       "                                                                  '#B0BEC5',\n",
       "                                                                  '#B0BEC5']]}],\n",
       "                                       'label': 'Topic 7',\n",
       "                                       'method': 'update'},\n",
       "                                      {'args': [{'marker.color': [['#B0BEC5',\n",
       "                                                                  '#B0BEC5',\n",
       "                                                                  '#B0BEC5',\n",
       "                                                                  '#B0BEC5',\n",
       "                                                                  '#B0BEC5',\n",
       "                                                                  '#B0BEC5',\n",
       "                                                                  '#B0BEC5',\n",
       "                                                                  '#B0BEC5', 'red',\n",
       "                                                                  '#B0BEC5',\n",
       "                                                                  '#B0BEC5',\n",
       "                                                                  '#B0BEC5',\n",
       "                                                                  '#B0BEC5',\n",
       "                                                                  '#B0BEC5',\n",
       "                                                                  '#B0BEC5',\n",
       "                                                                  '#B0BEC5',\n",
       "                                                                  '#B0BEC5',\n",
       "                                                                  '#B0BEC5',\n",
       "                                                                  '#B0BEC5',\n",
       "                                                                  '#B0BEC5']]}],\n",
       "                                       'label': 'Topic 8',\n",
       "                                       'method': 'update'},\n",
       "                                      {'args': [{'marker.color': [['#B0BEC5',\n",
       "                                                                  '#B0BEC5',\n",
       "                                                                  '#B0BEC5',\n",
       "                                                                  '#B0BEC5',\n",
       "                                                                  '#B0BEC5',\n",
       "                                                                  '#B0BEC5',\n",
       "                                                                  '#B0BEC5',\n",
       "                                                                  '#B0BEC5',\n",
       "                                                                  '#B0BEC5', 'red',\n",
       "                                                                  '#B0BEC5',\n",
       "                                                                  '#B0BEC5',\n",
       "                                                                  '#B0BEC5',\n",
       "                                                                  '#B0BEC5',\n",
       "                                                                  '#B0BEC5',\n",
       "                                                                  '#B0BEC5',\n",
       "                                                                  '#B0BEC5',\n",
       "                                                                  '#B0BEC5',\n",
       "                                                                  '#B0BEC5',\n",
       "                                                                  '#B0BEC5']]}],\n",
       "                                       'label': 'Topic 9',\n",
       "                                       'method': 'update'},\n",
       "                                      {'args': [{'marker.color': [['#B0BEC5',\n",
       "                                                                  '#B0BEC5',\n",
       "                                                                  '#B0BEC5',\n",
       "                                                                  '#B0BEC5',\n",
       "                                                                  '#B0BEC5',\n",
       "                                                                  '#B0BEC5',\n",
       "                                                                  '#B0BEC5',\n",
       "                                                                  '#B0BEC5',\n",
       "                                                                  '#B0BEC5',\n",
       "                                                                  '#B0BEC5', 'red',\n",
       "                                                                  '#B0BEC5',\n",
       "                                                                  '#B0BEC5',\n",
       "                                                                  '#B0BEC5',\n",
       "                                                                  '#B0BEC5',\n",
       "                                                                  '#B0BEC5',\n",
       "                                                                  '#B0BEC5',\n",
       "                                                                  '#B0BEC5',\n",
       "                                                                  '#B0BEC5',\n",
       "                                                                  '#B0BEC5']]}],\n",
       "                                       'label': 'Topic 10',\n",
       "                                       'method': 'update'},\n",
       "                                      {'args': [{'marker.color': [['#B0BEC5',\n",
       "                                                                  '#B0BEC5',\n",
       "                                                                  '#B0BEC5',\n",
       "                                                                  '#B0BEC5',\n",
       "                                                                  '#B0BEC5',\n",
       "                                                                  '#B0BEC5',\n",
       "                                                                  '#B0BEC5',\n",
       "                                                                  '#B0BEC5',\n",
       "                                                                  '#B0BEC5',\n",
       "                                                                  '#B0BEC5',\n",
       "                                                                  '#B0BEC5', 'red',\n",
       "                                                                  '#B0BEC5',\n",
       "                                                                  '#B0BEC5',\n",
       "                                                                  '#B0BEC5',\n",
       "                                                                  '#B0BEC5',\n",
       "                                                                  '#B0BEC5',\n",
       "                                                                  '#B0BEC5',\n",
       "                                                                  '#B0BEC5',\n",
       "                                                                  '#B0BEC5']]}],\n",
       "                                       'label': 'Topic 11',\n",
       "                                       'method': 'update'},\n",
       "                                      {'args': [{'marker.color': [['#B0BEC5',\n",
       "                                                                  '#B0BEC5',\n",
       "                                                                  '#B0BEC5',\n",
       "                                                                  '#B0BEC5',\n",
       "                                                                  '#B0BEC5',\n",
       "                                                                  '#B0BEC5',\n",
       "                                                                  '#B0BEC5',\n",
       "                                                                  '#B0BEC5',\n",
       "                                                                  '#B0BEC5',\n",
       "                                                                  '#B0BEC5',\n",
       "                                                                  '#B0BEC5',\n",
       "                                                                  '#B0BEC5', 'red',\n",
       "                                                                  '#B0BEC5',\n",
       "                                                                  '#B0BEC5',\n",
       "                                                                  '#B0BEC5',\n",
       "                                                                  '#B0BEC5',\n",
       "                                                                  '#B0BEC5',\n",
       "                                                                  '#B0BEC5',\n",
       "                                                                  '#B0BEC5']]}],\n",
       "                                       'label': 'Topic 12',\n",
       "                                       'method': 'update'},\n",
       "                                      {'args': [{'marker.color': [['#B0BEC5',\n",
       "                                                                  '#B0BEC5',\n",
       "                                                                  '#B0BEC5',\n",
       "                                                                  '#B0BEC5',\n",
       "                                                                  '#B0BEC5',\n",
       "                                                                  '#B0BEC5',\n",
       "                                                                  '#B0BEC5',\n",
       "                                                                  '#B0BEC5',\n",
       "                                                                  '#B0BEC5',\n",
       "                                                                  '#B0BEC5',\n",
       "                                                                  '#B0BEC5',\n",
       "                                                                  '#B0BEC5',\n",
       "                                                                  '#B0BEC5', 'red',\n",
       "                                                                  '#B0BEC5',\n",
       "                                                                  '#B0BEC5',\n",
       "                                                                  '#B0BEC5',\n",
       "                                                                  '#B0BEC5',\n",
       "                                                                  '#B0BEC5',\n",
       "                                                                  '#B0BEC5']]}],\n",
       "                                       'label': 'Topic 13',\n",
       "                                       'method': 'update'},\n",
       "                                      {'args': [{'marker.color': [['#B0BEC5',\n",
       "                                                                  '#B0BEC5',\n",
       "                                                                  '#B0BEC5',\n",
       "                                                                  '#B0BEC5',\n",
       "                                                                  '#B0BEC5',\n",
       "                                                                  '#B0BEC5',\n",
       "                                                                  '#B0BEC5',\n",
       "                                                                  '#B0BEC5',\n",
       "                                                                  '#B0BEC5',\n",
       "                                                                  '#B0BEC5',\n",
       "                                                                  '#B0BEC5',\n",
       "                                                                  '#B0BEC5',\n",
       "                                                                  '#B0BEC5',\n",
       "                                                                  '#B0BEC5', 'red',\n",
       "                                                                  '#B0BEC5',\n",
       "                                                                  '#B0BEC5',\n",
       "                                                                  '#B0BEC5',\n",
       "                                                                  '#B0BEC5',\n",
       "                                                                  '#B0BEC5']]}],\n",
       "                                       'label': 'Topic 14',\n",
       "                                       'method': 'update'},\n",
       "                                      {'args': [{'marker.color': [['#B0BEC5',\n",
       "                                                                  '#B0BEC5',\n",
       "                                                                  '#B0BEC5',\n",
       "                                                                  '#B0BEC5',\n",
       "                                                                  '#B0BEC5',\n",
       "                                                                  '#B0BEC5',\n",
       "                                                                  '#B0BEC5',\n",
       "                                                                  '#B0BEC5',\n",
       "                                                                  '#B0BEC5',\n",
       "                                                                  '#B0BEC5',\n",
       "                                                                  '#B0BEC5',\n",
       "                                                                  '#B0BEC5',\n",
       "                                                                  '#B0BEC5',\n",
       "                                                                  '#B0BEC5',\n",
       "                                                                  '#B0BEC5', 'red',\n",
       "                                                                  '#B0BEC5',\n",
       "                                                                  '#B0BEC5',\n",
       "                                                                  '#B0BEC5',\n",
       "                                                                  '#B0BEC5']]}],\n",
       "                                       'label': 'Topic 15',\n",
       "                                       'method': 'update'},\n",
       "                                      {'args': [{'marker.color': [['#B0BEC5',\n",
       "                                                                  '#B0BEC5',\n",
       "                                                                  '#B0BEC5',\n",
       "                                                                  '#B0BEC5',\n",
       "                                                                  '#B0BEC5',\n",
       "                                                                  '#B0BEC5',\n",
       "                                                                  '#B0BEC5',\n",
       "                                                                  '#B0BEC5',\n",
       "                                                                  '#B0BEC5',\n",
       "                                                                  '#B0BEC5',\n",
       "                                                                  '#B0BEC5',\n",
       "                                                                  '#B0BEC5',\n",
       "                                                                  '#B0BEC5',\n",
       "                                                                  '#B0BEC5',\n",
       "                                                                  '#B0BEC5',\n",
       "                                                                  '#B0BEC5', 'red',\n",
       "                                                                  '#B0BEC5',\n",
       "                                                                  '#B0BEC5',\n",
       "                                                                  '#B0BEC5']]}],\n",
       "                                       'label': 'Topic 16',\n",
       "                                       'method': 'update'},\n",
       "                                      {'args': [{'marker.color': [['#B0BEC5',\n",
       "                                                                  '#B0BEC5',\n",
       "                                                                  '#B0BEC5',\n",
       "                                                                  '#B0BEC5',\n",
       "                                                                  '#B0BEC5',\n",
       "                                                                  '#B0BEC5',\n",
       "                                                                  '#B0BEC5',\n",
       "                                                                  '#B0BEC5',\n",
       "                                                                  '#B0BEC5',\n",
       "                                                                  '#B0BEC5',\n",
       "                                                                  '#B0BEC5',\n",
       "                                                                  '#B0BEC5',\n",
       "                                                                  '#B0BEC5',\n",
       "                                                                  '#B0BEC5',\n",
       "                                                                  '#B0BEC5',\n",
       "                                                                  '#B0BEC5',\n",
       "                                                                  '#B0BEC5', 'red',\n",
       "                                                                  '#B0BEC5',\n",
       "                                                                  '#B0BEC5']]}],\n",
       "                                       'label': 'Topic 17',\n",
       "                                       'method': 'update'},\n",
       "                                      {'args': [{'marker.color': [['#B0BEC5',\n",
       "                                                                  '#B0BEC5',\n",
       "                                                                  '#B0BEC5',\n",
       "                                                                  '#B0BEC5',\n",
       "                                                                  '#B0BEC5',\n",
       "                                                                  '#B0BEC5',\n",
       "                                                                  '#B0BEC5',\n",
       "                                                                  '#B0BEC5',\n",
       "                                                                  '#B0BEC5',\n",
       "                                                                  '#B0BEC5',\n",
       "                                                                  '#B0BEC5',\n",
       "                                                                  '#B0BEC5',\n",
       "                                                                  '#B0BEC5',\n",
       "                                                                  '#B0BEC5',\n",
       "                                                                  '#B0BEC5',\n",
       "                                                                  '#B0BEC5',\n",
       "                                                                  '#B0BEC5',\n",
       "                                                                  '#B0BEC5', 'red',\n",
       "                                                                  '#B0BEC5']]}],\n",
       "                                       'label': 'Topic 18',\n",
       "                                       'method': 'update'},\n",
       "                                      {'args': [{'marker.color': [['#B0BEC5',\n",
       "                                                                  '#B0BEC5',\n",
       "                                                                  '#B0BEC5',\n",
       "                                                                  '#B0BEC5',\n",
       "                                                                  '#B0BEC5',\n",
       "                                                                  '#B0BEC5',\n",
       "                                                                  '#B0BEC5',\n",
       "                                                                  '#B0BEC5',\n",
       "                                                                  '#B0BEC5',\n",
       "                                                                  '#B0BEC5',\n",
       "                                                                  '#B0BEC5',\n",
       "                                                                  '#B0BEC5',\n",
       "                                                                  '#B0BEC5',\n",
       "                                                                  '#B0BEC5',\n",
       "                                                                  '#B0BEC5',\n",
       "                                                                  '#B0BEC5',\n",
       "                                                                  '#B0BEC5',\n",
       "                                                                  '#B0BEC5',\n",
       "                                                                  '#B0BEC5',\n",
       "                                                                  'red']]}],\n",
       "                                       'label': 'Topic 19',\n",
       "                                       'method': 'update'}]}],\n",
       "               'template': '...',\n",
       "               'title': {'font': {'color': 'Black', 'size': 22},\n",
       "                         'text': '<b>Intertopic Distance Map</b>',\n",
       "                         'x': 0.5,\n",
       "                         'xanchor': 'center',\n",
       "                         'y': 0.95,\n",
       "                         'yanchor': 'top'},\n",
       "               'width': 650,\n",
       "               'xaxis': {'anchor': 'y',\n",
       "                         'domain': [0.0, 1.0],\n",
       "                         'range': [1.0959564447402954, 9.96313009262085],\n",
       "                         'title': {'text': ''},\n",
       "                         'visible': False},\n",
       "               'yaxis': {'anchor': 'x',\n",
       "                         'domain': [0.0, 1.0],\n",
       "                         'range': [-2.8293460607528687, 21.75654363632202],\n",
       "                         'title': {'text': ''},\n",
       "                         'visible': False}}\n",
       "})"
      ]
     },
     "execution_count": 17,
     "metadata": {},
     "output_type": "execute_result"
    }
   ],
   "source": [
    "topic_model.visualize_topics()"
   ]
  },
  {
   "cell_type": "code",
   "execution_count": 12,
   "id": "b976bc69",
   "metadata": {
    "execution": {
     "iopub.execute_input": "2024-07-19T17:58:47.525497Z",
     "iopub.status.busy": "2024-07-19T17:58:47.524466Z",
     "iopub.status.idle": "2024-07-19T17:58:47.531382Z",
     "shell.execute_reply": "2024-07-19T17:58:47.530334Z"
    },
    "papermill": {
     "duration": 0.021044,
     "end_time": "2024-07-19T17:58:47.534212",
     "exception": false,
     "start_time": "2024-07-19T17:58:47.513168",
     "status": "completed"
    },
    "tags": []
   },
   "outputs": [
    {
     "data": {
      "text/plain": [
       "(19,)"
      ]
     },
     "execution_count": 12,
     "metadata": {},
     "output_type": "execute_result"
    }
   ],
   "source": [
    "probs[200].shape"
   ]
  },
  {
   "cell_type": "code",
   "execution_count": 13,
   "id": "f95f93c5",
   "metadata": {
    "execution": {
     "iopub.execute_input": "2024-07-19T17:58:47.561803Z",
     "iopub.status.busy": "2024-07-19T17:58:47.561142Z",
     "iopub.status.idle": "2024-07-19T17:58:47.616549Z",
     "shell.execute_reply": "2024-07-19T17:58:47.615424Z"
    },
    "papermill": {
     "duration": 0.069654,
     "end_time": "2024-07-19T17:58:47.619067",
     "exception": false,
     "start_time": "2024-07-19T17:58:47.549413",
     "status": "completed"
    },
    "tags": []
   },
   "outputs": [
    {
     "ename": "ValueError",
     "evalue": "Mime type rendering requires nbformat>=4.2.0 but it is not installed",
     "output_type": "error",
     "traceback": [
      "\u001b[1;31m---------------------------------------------------------------------------\u001b[0m",
      "\u001b[1;31mValueError\u001b[0m                                Traceback (most recent call last)",
      "File \u001b[1;32mc:\\Users\\leahz\\anaconda3\\envs\\AIR\\Lib\\site-packages\\IPython\\core\\formatters.py:925\u001b[0m, in \u001b[0;36mIPythonDisplayFormatter.__call__\u001b[1;34m(self, obj)\u001b[0m\n\u001b[0;32m    923\u001b[0m method \u001b[38;5;241m=\u001b[39m get_real_method(obj, \u001b[38;5;28mself\u001b[39m\u001b[38;5;241m.\u001b[39mprint_method)\n\u001b[0;32m    924\u001b[0m \u001b[38;5;28;01mif\u001b[39;00m method \u001b[38;5;129;01mis\u001b[39;00m \u001b[38;5;129;01mnot\u001b[39;00m \u001b[38;5;28;01mNone\u001b[39;00m:\n\u001b[1;32m--> 925\u001b[0m     \u001b[43mmethod\u001b[49m\u001b[43m(\u001b[49m\u001b[43m)\u001b[49m\n\u001b[0;32m    926\u001b[0m     \u001b[38;5;28;01mreturn\u001b[39;00m \u001b[38;5;28;01mTrue\u001b[39;00m\n",
      "File \u001b[1;32mc:\\Users\\leahz\\anaconda3\\envs\\AIR\\Lib\\site-packages\\plotly\\basedatatypes.py:832\u001b[0m, in \u001b[0;36mBaseFigure._ipython_display_\u001b[1;34m(self)\u001b[0m\n\u001b[0;32m    829\u001b[0m \u001b[38;5;28;01mimport\u001b[39;00m \u001b[38;5;21;01mplotly\u001b[39;00m\u001b[38;5;21;01m.\u001b[39;00m\u001b[38;5;21;01mio\u001b[39;00m \u001b[38;5;28;01mas\u001b[39;00m \u001b[38;5;21;01mpio\u001b[39;00m\n\u001b[0;32m    831\u001b[0m \u001b[38;5;28;01mif\u001b[39;00m pio\u001b[38;5;241m.\u001b[39mrenderers\u001b[38;5;241m.\u001b[39mrender_on_display \u001b[38;5;129;01mand\u001b[39;00m pio\u001b[38;5;241m.\u001b[39mrenderers\u001b[38;5;241m.\u001b[39mdefault:\n\u001b[1;32m--> 832\u001b[0m     \u001b[43mpio\u001b[49m\u001b[38;5;241;43m.\u001b[39;49m\u001b[43mshow\u001b[49m\u001b[43m(\u001b[49m\u001b[38;5;28;43mself\u001b[39;49m\u001b[43m)\u001b[49m\n\u001b[0;32m    833\u001b[0m \u001b[38;5;28;01melse\u001b[39;00m:\n\u001b[0;32m    834\u001b[0m     \u001b[38;5;28mprint\u001b[39m(\u001b[38;5;28mrepr\u001b[39m(\u001b[38;5;28mself\u001b[39m))\n",
      "File \u001b[1;32mc:\\Users\\leahz\\anaconda3\\envs\\AIR\\Lib\\site-packages\\plotly\\io\\_renderers.py:394\u001b[0m, in \u001b[0;36mshow\u001b[1;34m(fig, renderer, validate, **kwargs)\u001b[0m\n\u001b[0;32m    389\u001b[0m         \u001b[38;5;28;01mraise\u001b[39;00m \u001b[38;5;167;01mValueError\u001b[39;00m(\n\u001b[0;32m    390\u001b[0m             \u001b[38;5;124m\"\u001b[39m\u001b[38;5;124mMime type rendering requires ipython but it is not installed\u001b[39m\u001b[38;5;124m\"\u001b[39m\n\u001b[0;32m    391\u001b[0m         )\n\u001b[0;32m    393\u001b[0m     \u001b[38;5;28;01mif\u001b[39;00m \u001b[38;5;129;01mnot\u001b[39;00m nbformat \u001b[38;5;129;01mor\u001b[39;00m Version(nbformat\u001b[38;5;241m.\u001b[39m__version__) \u001b[38;5;241m<\u001b[39m Version(\u001b[38;5;124m\"\u001b[39m\u001b[38;5;124m4.2.0\u001b[39m\u001b[38;5;124m\"\u001b[39m):\n\u001b[1;32m--> 394\u001b[0m         \u001b[38;5;28;01mraise\u001b[39;00m \u001b[38;5;167;01mValueError\u001b[39;00m(\n\u001b[0;32m    395\u001b[0m             \u001b[38;5;124m\"\u001b[39m\u001b[38;5;124mMime type rendering requires nbformat>=4.2.0 but it is not installed\u001b[39m\u001b[38;5;124m\"\u001b[39m\n\u001b[0;32m    396\u001b[0m         )\n\u001b[0;32m    398\u001b[0m     ipython_display\u001b[38;5;241m.\u001b[39mdisplay(bundle, raw\u001b[38;5;241m=\u001b[39m\u001b[38;5;28;01mTrue\u001b[39;00m)\n\u001b[0;32m    400\u001b[0m \u001b[38;5;66;03m# external renderers\u001b[39;00m\n",
      "\u001b[1;31mValueError\u001b[0m: Mime type rendering requires nbformat>=4.2.0 but it is not installed"
     ]
    },
    {
     "data": {
      "application/vnd.plotly.v1+json": {
       "config": {
        "plotlyServerURL": "https://plot.ly"
       },
       "data": [
        {
         "marker": {
          "color": "#C8D2D7",
          "line": {
           "color": "#6E8484",
           "width": 1
          }
         },
         "orientation": "h",
         "type": "bar",
         "x": [
          0.02290168432218229,
          0.021572932490814763,
          0.5504721539109365,
          0.020613513283277107,
          0.018409244933454652,
          0.033292456401993985,
          0.029027676331233862,
          0.019773119742597083,
          0.03142015729165426,
          0.02330973274682995,
          0.02981845548125825,
          0.01922686250240618,
          0.023761418663061834,
          0.03786805090825524,
          0.028515126543084766,
          0.028552413931474046,
          0.020288261901434585,
          0.018953321700514083,
          0.02222341691353656
         ],
         "y": [
          "<b>Topic 0</b>: protein_proteins_structu...",
          "<b>Topic 1</b>: snps_snp_disease_genetic...",
          "<b>Topic 2</b>: terms_gene_information_o...",
          "<b>Topic 3</b>: gene_genes_expression_re...",
          "<b>Topic 4</b>: cancer_genes_gene_mutati...",
          "<b>Topic 5</b>: patient_patients_health_...",
          "<b>Topic 6</b>: network_networks_time_gr...",
          "<b>Topic 7</b>: tree_trees_taxa_species_...",
          "<b>Topic 8</b>: drug_drugs_target_simila...",
          "<b>Topic 9</b>: imaging_brain_features_a...",
          "<b>Topic 10</b>: sequence_coding_dna_dom...",
          "<b>Topic 11</b>: virus_hiv_viral_cov_hum...",
          "<b>Topic 12</b>: cell_cells_immune_spati...",
          "<b>Topic 13</b>: drug_harm_gene_relation...",
          "<b>Topic 14</b>: rac_species_rrna_biome_...",
          "<b>Topic 15</b>: cancer_features_mirna_s...",
          "<b>Topic 16</b>: rna_rnas_structure_seco...",
          "<b>Topic 17</b>: mass_peptide_spectra_pe...",
          "<b>Topic 18</b>: alignment_alignments_se..."
         ]
        }
       ],
       "layout": {
        "height": 600,
        "hoverlabel": {
         "bgcolor": "white",
         "font": {
          "family": "Rockwell",
          "size": 16
         }
        },
        "template": {
         "data": {
          "bar": [
           {
            "error_x": {
             "color": "rgb(36,36,36)"
            },
            "error_y": {
             "color": "rgb(36,36,36)"
            },
            "marker": {
             "line": {
              "color": "white",
              "width": 0.5
             },
             "pattern": {
              "fillmode": "overlay",
              "size": 10,
              "solidity": 0.2
             }
            },
            "type": "bar"
           }
          ],
          "barpolar": [
           {
            "marker": {
             "line": {
              "color": "white",
              "width": 0.5
             },
             "pattern": {
              "fillmode": "overlay",
              "size": 10,
              "solidity": 0.2
             }
            },
            "type": "barpolar"
           }
          ],
          "carpet": [
           {
            "aaxis": {
             "endlinecolor": "rgb(36,36,36)",
             "gridcolor": "white",
             "linecolor": "white",
             "minorgridcolor": "white",
             "startlinecolor": "rgb(36,36,36)"
            },
            "baxis": {
             "endlinecolor": "rgb(36,36,36)",
             "gridcolor": "white",
             "linecolor": "white",
             "minorgridcolor": "white",
             "startlinecolor": "rgb(36,36,36)"
            },
            "type": "carpet"
           }
          ],
          "choropleth": [
           {
            "colorbar": {
             "outlinewidth": 1,
             "tickcolor": "rgb(36,36,36)",
             "ticks": "outside"
            },
            "type": "choropleth"
           }
          ],
          "contour": [
           {
            "colorbar": {
             "outlinewidth": 1,
             "tickcolor": "rgb(36,36,36)",
             "ticks": "outside"
            },
            "colorscale": [
             [
              0,
              "#440154"
             ],
             [
              0.1111111111111111,
              "#482878"
             ],
             [
              0.2222222222222222,
              "#3e4989"
             ],
             [
              0.3333333333333333,
              "#31688e"
             ],
             [
              0.4444444444444444,
              "#26828e"
             ],
             [
              0.5555555555555556,
              "#1f9e89"
             ],
             [
              0.6666666666666666,
              "#35b779"
             ],
             [
              0.7777777777777778,
              "#6ece58"
             ],
             [
              0.8888888888888888,
              "#b5de2b"
             ],
             [
              1,
              "#fde725"
             ]
            ],
            "type": "contour"
           }
          ],
          "contourcarpet": [
           {
            "colorbar": {
             "outlinewidth": 1,
             "tickcolor": "rgb(36,36,36)",
             "ticks": "outside"
            },
            "type": "contourcarpet"
           }
          ],
          "heatmap": [
           {
            "colorbar": {
             "outlinewidth": 1,
             "tickcolor": "rgb(36,36,36)",
             "ticks": "outside"
            },
            "colorscale": [
             [
              0,
              "#440154"
             ],
             [
              0.1111111111111111,
              "#482878"
             ],
             [
              0.2222222222222222,
              "#3e4989"
             ],
             [
              0.3333333333333333,
              "#31688e"
             ],
             [
              0.4444444444444444,
              "#26828e"
             ],
             [
              0.5555555555555556,
              "#1f9e89"
             ],
             [
              0.6666666666666666,
              "#35b779"
             ],
             [
              0.7777777777777778,
              "#6ece58"
             ],
             [
              0.8888888888888888,
              "#b5de2b"
             ],
             [
              1,
              "#fde725"
             ]
            ],
            "type": "heatmap"
           }
          ],
          "heatmapgl": [
           {
            "colorbar": {
             "outlinewidth": 1,
             "tickcolor": "rgb(36,36,36)",
             "ticks": "outside"
            },
            "colorscale": [
             [
              0,
              "#440154"
             ],
             [
              0.1111111111111111,
              "#482878"
             ],
             [
              0.2222222222222222,
              "#3e4989"
             ],
             [
              0.3333333333333333,
              "#31688e"
             ],
             [
              0.4444444444444444,
              "#26828e"
             ],
             [
              0.5555555555555556,
              "#1f9e89"
             ],
             [
              0.6666666666666666,
              "#35b779"
             ],
             [
              0.7777777777777778,
              "#6ece58"
             ],
             [
              0.8888888888888888,
              "#b5de2b"
             ],
             [
              1,
              "#fde725"
             ]
            ],
            "type": "heatmapgl"
           }
          ],
          "histogram": [
           {
            "marker": {
             "line": {
              "color": "white",
              "width": 0.6
             }
            },
            "type": "histogram"
           }
          ],
          "histogram2d": [
           {
            "colorbar": {
             "outlinewidth": 1,
             "tickcolor": "rgb(36,36,36)",
             "ticks": "outside"
            },
            "colorscale": [
             [
              0,
              "#440154"
             ],
             [
              0.1111111111111111,
              "#482878"
             ],
             [
              0.2222222222222222,
              "#3e4989"
             ],
             [
              0.3333333333333333,
              "#31688e"
             ],
             [
              0.4444444444444444,
              "#26828e"
             ],
             [
              0.5555555555555556,
              "#1f9e89"
             ],
             [
              0.6666666666666666,
              "#35b779"
             ],
             [
              0.7777777777777778,
              "#6ece58"
             ],
             [
              0.8888888888888888,
              "#b5de2b"
             ],
             [
              1,
              "#fde725"
             ]
            ],
            "type": "histogram2d"
           }
          ],
          "histogram2dcontour": [
           {
            "colorbar": {
             "outlinewidth": 1,
             "tickcolor": "rgb(36,36,36)",
             "ticks": "outside"
            },
            "colorscale": [
             [
              0,
              "#440154"
             ],
             [
              0.1111111111111111,
              "#482878"
             ],
             [
              0.2222222222222222,
              "#3e4989"
             ],
             [
              0.3333333333333333,
              "#31688e"
             ],
             [
              0.4444444444444444,
              "#26828e"
             ],
             [
              0.5555555555555556,
              "#1f9e89"
             ],
             [
              0.6666666666666666,
              "#35b779"
             ],
             [
              0.7777777777777778,
              "#6ece58"
             ],
             [
              0.8888888888888888,
              "#b5de2b"
             ],
             [
              1,
              "#fde725"
             ]
            ],
            "type": "histogram2dcontour"
           }
          ],
          "mesh3d": [
           {
            "colorbar": {
             "outlinewidth": 1,
             "tickcolor": "rgb(36,36,36)",
             "ticks": "outside"
            },
            "type": "mesh3d"
           }
          ],
          "parcoords": [
           {
            "line": {
             "colorbar": {
              "outlinewidth": 1,
              "tickcolor": "rgb(36,36,36)",
              "ticks": "outside"
             }
            },
            "type": "parcoords"
           }
          ],
          "pie": [
           {
            "automargin": true,
            "type": "pie"
           }
          ],
          "scatter": [
           {
            "fillpattern": {
             "fillmode": "overlay",
             "size": 10,
             "solidity": 0.2
            },
            "type": "scatter"
           }
          ],
          "scatter3d": [
           {
            "line": {
             "colorbar": {
              "outlinewidth": 1,
              "tickcolor": "rgb(36,36,36)",
              "ticks": "outside"
             }
            },
            "marker": {
             "colorbar": {
              "outlinewidth": 1,
              "tickcolor": "rgb(36,36,36)",
              "ticks": "outside"
             }
            },
            "type": "scatter3d"
           }
          ],
          "scattercarpet": [
           {
            "marker": {
             "colorbar": {
              "outlinewidth": 1,
              "tickcolor": "rgb(36,36,36)",
              "ticks": "outside"
             }
            },
            "type": "scattercarpet"
           }
          ],
          "scattergeo": [
           {
            "marker": {
             "colorbar": {
              "outlinewidth": 1,
              "tickcolor": "rgb(36,36,36)",
              "ticks": "outside"
             }
            },
            "type": "scattergeo"
           }
          ],
          "scattergl": [
           {
            "marker": {
             "colorbar": {
              "outlinewidth": 1,
              "tickcolor": "rgb(36,36,36)",
              "ticks": "outside"
             }
            },
            "type": "scattergl"
           }
          ],
          "scattermapbox": [
           {
            "marker": {
             "colorbar": {
              "outlinewidth": 1,
              "tickcolor": "rgb(36,36,36)",
              "ticks": "outside"
             }
            },
            "type": "scattermapbox"
           }
          ],
          "scatterpolar": [
           {
            "marker": {
             "colorbar": {
              "outlinewidth": 1,
              "tickcolor": "rgb(36,36,36)",
              "ticks": "outside"
             }
            },
            "type": "scatterpolar"
           }
          ],
          "scatterpolargl": [
           {
            "marker": {
             "colorbar": {
              "outlinewidth": 1,
              "tickcolor": "rgb(36,36,36)",
              "ticks": "outside"
             }
            },
            "type": "scatterpolargl"
           }
          ],
          "scatterternary": [
           {
            "marker": {
             "colorbar": {
              "outlinewidth": 1,
              "tickcolor": "rgb(36,36,36)",
              "ticks": "outside"
             }
            },
            "type": "scatterternary"
           }
          ],
          "surface": [
           {
            "colorbar": {
             "outlinewidth": 1,
             "tickcolor": "rgb(36,36,36)",
             "ticks": "outside"
            },
            "colorscale": [
             [
              0,
              "#440154"
             ],
             [
              0.1111111111111111,
              "#482878"
             ],
             [
              0.2222222222222222,
              "#3e4989"
             ],
             [
              0.3333333333333333,
              "#31688e"
             ],
             [
              0.4444444444444444,
              "#26828e"
             ],
             [
              0.5555555555555556,
              "#1f9e89"
             ],
             [
              0.6666666666666666,
              "#35b779"
             ],
             [
              0.7777777777777778,
              "#6ece58"
             ],
             [
              0.8888888888888888,
              "#b5de2b"
             ],
             [
              1,
              "#fde725"
             ]
            ],
            "type": "surface"
           }
          ],
          "table": [
           {
            "cells": {
             "fill": {
              "color": "rgb(237,237,237)"
             },
             "line": {
              "color": "white"
             }
            },
            "header": {
             "fill": {
              "color": "rgb(217,217,217)"
             },
             "line": {
              "color": "white"
             }
            },
            "type": "table"
           }
          ]
         },
         "layout": {
          "annotationdefaults": {
           "arrowhead": 0,
           "arrowwidth": 1
          },
          "autotypenumbers": "strict",
          "coloraxis": {
           "colorbar": {
            "outlinewidth": 1,
            "tickcolor": "rgb(36,36,36)",
            "ticks": "outside"
           }
          },
          "colorscale": {
           "diverging": [
            [
             0,
             "rgb(103,0,31)"
            ],
            [
             0.1,
             "rgb(178,24,43)"
            ],
            [
             0.2,
             "rgb(214,96,77)"
            ],
            [
             0.3,
             "rgb(244,165,130)"
            ],
            [
             0.4,
             "rgb(253,219,199)"
            ],
            [
             0.5,
             "rgb(247,247,247)"
            ],
            [
             0.6,
             "rgb(209,229,240)"
            ],
            [
             0.7,
             "rgb(146,197,222)"
            ],
            [
             0.8,
             "rgb(67,147,195)"
            ],
            [
             0.9,
             "rgb(33,102,172)"
            ],
            [
             1,
             "rgb(5,48,97)"
            ]
           ],
           "sequential": [
            [
             0,
             "#440154"
            ],
            [
             0.1111111111111111,
             "#482878"
            ],
            [
             0.2222222222222222,
             "#3e4989"
            ],
            [
             0.3333333333333333,
             "#31688e"
            ],
            [
             0.4444444444444444,
             "#26828e"
            ],
            [
             0.5555555555555556,
             "#1f9e89"
            ],
            [
             0.6666666666666666,
             "#35b779"
            ],
            [
             0.7777777777777778,
             "#6ece58"
            ],
            [
             0.8888888888888888,
             "#b5de2b"
            ],
            [
             1,
             "#fde725"
            ]
           ],
           "sequentialminus": [
            [
             0,
             "#440154"
            ],
            [
             0.1111111111111111,
             "#482878"
            ],
            [
             0.2222222222222222,
             "#3e4989"
            ],
            [
             0.3333333333333333,
             "#31688e"
            ],
            [
             0.4444444444444444,
             "#26828e"
            ],
            [
             0.5555555555555556,
             "#1f9e89"
            ],
            [
             0.6666666666666666,
             "#35b779"
            ],
            [
             0.7777777777777778,
             "#6ece58"
            ],
            [
             0.8888888888888888,
             "#b5de2b"
            ],
            [
             1,
             "#fde725"
            ]
           ]
          },
          "colorway": [
           "#1F77B4",
           "#FF7F0E",
           "#2CA02C",
           "#D62728",
           "#9467BD",
           "#8C564B",
           "#E377C2",
           "#7F7F7F",
           "#BCBD22",
           "#17BECF"
          ],
          "font": {
           "color": "rgb(36,36,36)"
          },
          "geo": {
           "bgcolor": "white",
           "lakecolor": "white",
           "landcolor": "white",
           "showlakes": true,
           "showland": true,
           "subunitcolor": "white"
          },
          "hoverlabel": {
           "align": "left"
          },
          "hovermode": "closest",
          "mapbox": {
           "style": "light"
          },
          "paper_bgcolor": "white",
          "plot_bgcolor": "white",
          "polar": {
           "angularaxis": {
            "gridcolor": "rgb(232,232,232)",
            "linecolor": "rgb(36,36,36)",
            "showgrid": false,
            "showline": true,
            "ticks": "outside"
           },
           "bgcolor": "white",
           "radialaxis": {
            "gridcolor": "rgb(232,232,232)",
            "linecolor": "rgb(36,36,36)",
            "showgrid": false,
            "showline": true,
            "ticks": "outside"
           }
          },
          "scene": {
           "xaxis": {
            "backgroundcolor": "white",
            "gridcolor": "rgb(232,232,232)",
            "gridwidth": 2,
            "linecolor": "rgb(36,36,36)",
            "showbackground": true,
            "showgrid": false,
            "showline": true,
            "ticks": "outside",
            "zeroline": false,
            "zerolinecolor": "rgb(36,36,36)"
           },
           "yaxis": {
            "backgroundcolor": "white",
            "gridcolor": "rgb(232,232,232)",
            "gridwidth": 2,
            "linecolor": "rgb(36,36,36)",
            "showbackground": true,
            "showgrid": false,
            "showline": true,
            "ticks": "outside",
            "zeroline": false,
            "zerolinecolor": "rgb(36,36,36)"
           },
           "zaxis": {
            "backgroundcolor": "white",
            "gridcolor": "rgb(232,232,232)",
            "gridwidth": 2,
            "linecolor": "rgb(36,36,36)",
            "showbackground": true,
            "showgrid": false,
            "showline": true,
            "ticks": "outside",
            "zeroline": false,
            "zerolinecolor": "rgb(36,36,36)"
           }
          },
          "shapedefaults": {
           "fillcolor": "black",
           "line": {
            "width": 0
           },
           "opacity": 0.3
          },
          "ternary": {
           "aaxis": {
            "gridcolor": "rgb(232,232,232)",
            "linecolor": "rgb(36,36,36)",
            "showgrid": false,
            "showline": true,
            "ticks": "outside"
           },
           "baxis": {
            "gridcolor": "rgb(232,232,232)",
            "linecolor": "rgb(36,36,36)",
            "showgrid": false,
            "showline": true,
            "ticks": "outside"
           },
           "bgcolor": "white",
           "caxis": {
            "gridcolor": "rgb(232,232,232)",
            "linecolor": "rgb(36,36,36)",
            "showgrid": false,
            "showline": true,
            "ticks": "outside"
           }
          },
          "title": {
           "x": 0.05
          },
          "xaxis": {
           "automargin": true,
           "gridcolor": "rgb(232,232,232)",
           "linecolor": "rgb(36,36,36)",
           "showgrid": false,
           "showline": true,
           "ticks": "outside",
           "title": {
            "standoff": 15
           },
           "zeroline": false,
           "zerolinecolor": "rgb(36,36,36)"
          },
          "yaxis": {
           "automargin": true,
           "gridcolor": "rgb(232,232,232)",
           "linecolor": "rgb(36,36,36)",
           "showgrid": false,
           "showline": true,
           "ticks": "outside",
           "title": {
            "standoff": 15
           },
           "zeroline": false,
           "zerolinecolor": "rgb(36,36,36)"
          }
         }
        },
        "title": {
         "font": {
          "color": "Black",
          "size": 22
         },
         "text": "<b>Topic Probability Distribution</b>",
         "x": 0.5,
         "xanchor": "center",
         "y": 0.95,
         "yanchor": "top"
        },
        "width": 800,
        "xaxis": {
         "title": {
          "text": "Probability"
         }
        }
       }
      },
      "text/html": [
       "<div>                        <script type=\"text/javascript\">window.PlotlyConfig = {MathJaxConfig: 'local'};</script>\n",
       "        <script charset=\"utf-8\" src=\"https://cdn.plot.ly/plotly-2.32.0.min.js\"></script>                <div id=\"d0851079-7e45-495c-a787-a3c73e415237\" class=\"plotly-graph-div\" style=\"height:600px; width:800px;\"></div>            <script type=\"text/javascript\">                                    window.PLOTLYENV=window.PLOTLYENV || {};                                    if (document.getElementById(\"d0851079-7e45-495c-a787-a3c73e415237\")) {                    Plotly.newPlot(                        \"d0851079-7e45-495c-a787-a3c73e415237\",                        [{\"marker\":{\"color\":\"#C8D2D7\",\"line\":{\"color\":\"#6E8484\",\"width\":1}},\"orientation\":\"h\",\"x\":[0.02290168432218229,0.021572932490814763,0.5504721539109365,0.020613513283277107,0.018409244933454652,0.033292456401993985,0.029027676331233862,0.019773119742597083,0.03142015729165426,0.02330973274682995,0.02981845548125825,0.01922686250240618,0.023761418663061834,0.03786805090825524,0.028515126543084766,0.028552413931474046,0.020288261901434585,0.018953321700514083,0.02222341691353656],\"y\":[\"\\u003cb\\u003eTopic 0\\u003c\\u002fb\\u003e: protein_proteins_structu...\",\"\\u003cb\\u003eTopic 1\\u003c\\u002fb\\u003e: snps_snp_disease_genetic...\",\"\\u003cb\\u003eTopic 2\\u003c\\u002fb\\u003e: terms_gene_information_o...\",\"\\u003cb\\u003eTopic 3\\u003c\\u002fb\\u003e: gene_genes_expression_re...\",\"\\u003cb\\u003eTopic 4\\u003c\\u002fb\\u003e: cancer_genes_gene_mutati...\",\"\\u003cb\\u003eTopic 5\\u003c\\u002fb\\u003e: patient_patients_health_...\",\"\\u003cb\\u003eTopic 6\\u003c\\u002fb\\u003e: network_networks_time_gr...\",\"\\u003cb\\u003eTopic 7\\u003c\\u002fb\\u003e: tree_trees_taxa_species_...\",\"\\u003cb\\u003eTopic 8\\u003c\\u002fb\\u003e: drug_drugs_target_simila...\",\"\\u003cb\\u003eTopic 9\\u003c\\u002fb\\u003e: imaging_brain_features_a...\",\"\\u003cb\\u003eTopic 10\\u003c\\u002fb\\u003e: sequence_coding_dna_dom...\",\"\\u003cb\\u003eTopic 11\\u003c\\u002fb\\u003e: virus_hiv_viral_cov_hum...\",\"\\u003cb\\u003eTopic 12\\u003c\\u002fb\\u003e: cell_cells_immune_spati...\",\"\\u003cb\\u003eTopic 13\\u003c\\u002fb\\u003e: drug_harm_gene_relation...\",\"\\u003cb\\u003eTopic 14\\u003c\\u002fb\\u003e: rac_species_rrna_biome_...\",\"\\u003cb\\u003eTopic 15\\u003c\\u002fb\\u003e: cancer_features_mirna_s...\",\"\\u003cb\\u003eTopic 16\\u003c\\u002fb\\u003e: rna_rnas_structure_seco...\",\"\\u003cb\\u003eTopic 17\\u003c\\u002fb\\u003e: mass_peptide_spectra_pe...\",\"\\u003cb\\u003eTopic 18\\u003c\\u002fb\\u003e: alignment_alignments_se...\"],\"type\":\"bar\"}],                        {\"template\":{\"data\":{\"barpolar\":[{\"marker\":{\"line\":{\"color\":\"white\",\"width\":0.5},\"pattern\":{\"fillmode\":\"overlay\",\"size\":10,\"solidity\":0.2}},\"type\":\"barpolar\"}],\"bar\":[{\"error_x\":{\"color\":\"rgb(36,36,36)\"},\"error_y\":{\"color\":\"rgb(36,36,36)\"},\"marker\":{\"line\":{\"color\":\"white\",\"width\":0.5},\"pattern\":{\"fillmode\":\"overlay\",\"size\":10,\"solidity\":0.2}},\"type\":\"bar\"}],\"carpet\":[{\"aaxis\":{\"endlinecolor\":\"rgb(36,36,36)\",\"gridcolor\":\"white\",\"linecolor\":\"white\",\"minorgridcolor\":\"white\",\"startlinecolor\":\"rgb(36,36,36)\"},\"baxis\":{\"endlinecolor\":\"rgb(36,36,36)\",\"gridcolor\":\"white\",\"linecolor\":\"white\",\"minorgridcolor\":\"white\",\"startlinecolor\":\"rgb(36,36,36)\"},\"type\":\"carpet\"}],\"choropleth\":[{\"colorbar\":{\"outlinewidth\":1,\"tickcolor\":\"rgb(36,36,36)\",\"ticks\":\"outside\"},\"type\":\"choropleth\"}],\"contourcarpet\":[{\"colorbar\":{\"outlinewidth\":1,\"tickcolor\":\"rgb(36,36,36)\",\"ticks\":\"outside\"},\"type\":\"contourcarpet\"}],\"contour\":[{\"colorbar\":{\"outlinewidth\":1,\"tickcolor\":\"rgb(36,36,36)\",\"ticks\":\"outside\"},\"colorscale\":[[0.0,\"#440154\"],[0.1111111111111111,\"#482878\"],[0.2222222222222222,\"#3e4989\"],[0.3333333333333333,\"#31688e\"],[0.4444444444444444,\"#26828e\"],[0.5555555555555556,\"#1f9e89\"],[0.6666666666666666,\"#35b779\"],[0.7777777777777778,\"#6ece58\"],[0.8888888888888888,\"#b5de2b\"],[1.0,\"#fde725\"]],\"type\":\"contour\"}],\"heatmapgl\":[{\"colorbar\":{\"outlinewidth\":1,\"tickcolor\":\"rgb(36,36,36)\",\"ticks\":\"outside\"},\"colorscale\":[[0.0,\"#440154\"],[0.1111111111111111,\"#482878\"],[0.2222222222222222,\"#3e4989\"],[0.3333333333333333,\"#31688e\"],[0.4444444444444444,\"#26828e\"],[0.5555555555555556,\"#1f9e89\"],[0.6666666666666666,\"#35b779\"],[0.7777777777777778,\"#6ece58\"],[0.8888888888888888,\"#b5de2b\"],[1.0,\"#fde725\"]],\"type\":\"heatmapgl\"}],\"heatmap\":[{\"colorbar\":{\"outlinewidth\":1,\"tickcolor\":\"rgb(36,36,36)\",\"ticks\":\"outside\"},\"colorscale\":[[0.0,\"#440154\"],[0.1111111111111111,\"#482878\"],[0.2222222222222222,\"#3e4989\"],[0.3333333333333333,\"#31688e\"],[0.4444444444444444,\"#26828e\"],[0.5555555555555556,\"#1f9e89\"],[0.6666666666666666,\"#35b779\"],[0.7777777777777778,\"#6ece58\"],[0.8888888888888888,\"#b5de2b\"],[1.0,\"#fde725\"]],\"type\":\"heatmap\"}],\"histogram2dcontour\":[{\"colorbar\":{\"outlinewidth\":1,\"tickcolor\":\"rgb(36,36,36)\",\"ticks\":\"outside\"},\"colorscale\":[[0.0,\"#440154\"],[0.1111111111111111,\"#482878\"],[0.2222222222222222,\"#3e4989\"],[0.3333333333333333,\"#31688e\"],[0.4444444444444444,\"#26828e\"],[0.5555555555555556,\"#1f9e89\"],[0.6666666666666666,\"#35b779\"],[0.7777777777777778,\"#6ece58\"],[0.8888888888888888,\"#b5de2b\"],[1.0,\"#fde725\"]],\"type\":\"histogram2dcontour\"}],\"histogram2d\":[{\"colorbar\":{\"outlinewidth\":1,\"tickcolor\":\"rgb(36,36,36)\",\"ticks\":\"outside\"},\"colorscale\":[[0.0,\"#440154\"],[0.1111111111111111,\"#482878\"],[0.2222222222222222,\"#3e4989\"],[0.3333333333333333,\"#31688e\"],[0.4444444444444444,\"#26828e\"],[0.5555555555555556,\"#1f9e89\"],[0.6666666666666666,\"#35b779\"],[0.7777777777777778,\"#6ece58\"],[0.8888888888888888,\"#b5de2b\"],[1.0,\"#fde725\"]],\"type\":\"histogram2d\"}],\"histogram\":[{\"marker\":{\"line\":{\"color\":\"white\",\"width\":0.6}},\"type\":\"histogram\"}],\"mesh3d\":[{\"colorbar\":{\"outlinewidth\":1,\"tickcolor\":\"rgb(36,36,36)\",\"ticks\":\"outside\"},\"type\":\"mesh3d\"}],\"parcoords\":[{\"line\":{\"colorbar\":{\"outlinewidth\":1,\"tickcolor\":\"rgb(36,36,36)\",\"ticks\":\"outside\"}},\"type\":\"parcoords\"}],\"pie\":[{\"automargin\":true,\"type\":\"pie\"}],\"scatter3d\":[{\"line\":{\"colorbar\":{\"outlinewidth\":1,\"tickcolor\":\"rgb(36,36,36)\",\"ticks\":\"outside\"}},\"marker\":{\"colorbar\":{\"outlinewidth\":1,\"tickcolor\":\"rgb(36,36,36)\",\"ticks\":\"outside\"}},\"type\":\"scatter3d\"}],\"scattercarpet\":[{\"marker\":{\"colorbar\":{\"outlinewidth\":1,\"tickcolor\":\"rgb(36,36,36)\",\"ticks\":\"outside\"}},\"type\":\"scattercarpet\"}],\"scattergeo\":[{\"marker\":{\"colorbar\":{\"outlinewidth\":1,\"tickcolor\":\"rgb(36,36,36)\",\"ticks\":\"outside\"}},\"type\":\"scattergeo\"}],\"scattergl\":[{\"marker\":{\"colorbar\":{\"outlinewidth\":1,\"tickcolor\":\"rgb(36,36,36)\",\"ticks\":\"outside\"}},\"type\":\"scattergl\"}],\"scattermapbox\":[{\"marker\":{\"colorbar\":{\"outlinewidth\":1,\"tickcolor\":\"rgb(36,36,36)\",\"ticks\":\"outside\"}},\"type\":\"scattermapbox\"}],\"scatterpolargl\":[{\"marker\":{\"colorbar\":{\"outlinewidth\":1,\"tickcolor\":\"rgb(36,36,36)\",\"ticks\":\"outside\"}},\"type\":\"scatterpolargl\"}],\"scatterpolar\":[{\"marker\":{\"colorbar\":{\"outlinewidth\":1,\"tickcolor\":\"rgb(36,36,36)\",\"ticks\":\"outside\"}},\"type\":\"scatterpolar\"}],\"scatter\":[{\"fillpattern\":{\"fillmode\":\"overlay\",\"size\":10,\"solidity\":0.2},\"type\":\"scatter\"}],\"scatterternary\":[{\"marker\":{\"colorbar\":{\"outlinewidth\":1,\"tickcolor\":\"rgb(36,36,36)\",\"ticks\":\"outside\"}},\"type\":\"scatterternary\"}],\"surface\":[{\"colorbar\":{\"outlinewidth\":1,\"tickcolor\":\"rgb(36,36,36)\",\"ticks\":\"outside\"},\"colorscale\":[[0.0,\"#440154\"],[0.1111111111111111,\"#482878\"],[0.2222222222222222,\"#3e4989\"],[0.3333333333333333,\"#31688e\"],[0.4444444444444444,\"#26828e\"],[0.5555555555555556,\"#1f9e89\"],[0.6666666666666666,\"#35b779\"],[0.7777777777777778,\"#6ece58\"],[0.8888888888888888,\"#b5de2b\"],[1.0,\"#fde725\"]],\"type\":\"surface\"}],\"table\":[{\"cells\":{\"fill\":{\"color\":\"rgb(237,237,237)\"},\"line\":{\"color\":\"white\"}},\"header\":{\"fill\":{\"color\":\"rgb(217,217,217)\"},\"line\":{\"color\":\"white\"}},\"type\":\"table\"}]},\"layout\":{\"annotationdefaults\":{\"arrowhead\":0,\"arrowwidth\":1},\"autotypenumbers\":\"strict\",\"coloraxis\":{\"colorbar\":{\"outlinewidth\":1,\"tickcolor\":\"rgb(36,36,36)\",\"ticks\":\"outside\"}},\"colorscale\":{\"diverging\":[[0.0,\"rgb(103,0,31)\"],[0.1,\"rgb(178,24,43)\"],[0.2,\"rgb(214,96,77)\"],[0.3,\"rgb(244,165,130)\"],[0.4,\"rgb(253,219,199)\"],[0.5,\"rgb(247,247,247)\"],[0.6,\"rgb(209,229,240)\"],[0.7,\"rgb(146,197,222)\"],[0.8,\"rgb(67,147,195)\"],[0.9,\"rgb(33,102,172)\"],[1.0,\"rgb(5,48,97)\"]],\"sequential\":[[0.0,\"#440154\"],[0.1111111111111111,\"#482878\"],[0.2222222222222222,\"#3e4989\"],[0.3333333333333333,\"#31688e\"],[0.4444444444444444,\"#26828e\"],[0.5555555555555556,\"#1f9e89\"],[0.6666666666666666,\"#35b779\"],[0.7777777777777778,\"#6ece58\"],[0.8888888888888888,\"#b5de2b\"],[1.0,\"#fde725\"]],\"sequentialminus\":[[0.0,\"#440154\"],[0.1111111111111111,\"#482878\"],[0.2222222222222222,\"#3e4989\"],[0.3333333333333333,\"#31688e\"],[0.4444444444444444,\"#26828e\"],[0.5555555555555556,\"#1f9e89\"],[0.6666666666666666,\"#35b779\"],[0.7777777777777778,\"#6ece58\"],[0.8888888888888888,\"#b5de2b\"],[1.0,\"#fde725\"]]},\"colorway\":[\"#1F77B4\",\"#FF7F0E\",\"#2CA02C\",\"#D62728\",\"#9467BD\",\"#8C564B\",\"#E377C2\",\"#7F7F7F\",\"#BCBD22\",\"#17BECF\"],\"font\":{\"color\":\"rgb(36,36,36)\"},\"geo\":{\"bgcolor\":\"white\",\"lakecolor\":\"white\",\"landcolor\":\"white\",\"showlakes\":true,\"showland\":true,\"subunitcolor\":\"white\"},\"hoverlabel\":{\"align\":\"left\"},\"hovermode\":\"closest\",\"mapbox\":{\"style\":\"light\"},\"paper_bgcolor\":\"white\",\"plot_bgcolor\":\"white\",\"polar\":{\"angularaxis\":{\"gridcolor\":\"rgb(232,232,232)\",\"linecolor\":\"rgb(36,36,36)\",\"showgrid\":false,\"showline\":true,\"ticks\":\"outside\"},\"bgcolor\":\"white\",\"radialaxis\":{\"gridcolor\":\"rgb(232,232,232)\",\"linecolor\":\"rgb(36,36,36)\",\"showgrid\":false,\"showline\":true,\"ticks\":\"outside\"}},\"scene\":{\"xaxis\":{\"backgroundcolor\":\"white\",\"gridcolor\":\"rgb(232,232,232)\",\"gridwidth\":2,\"linecolor\":\"rgb(36,36,36)\",\"showbackground\":true,\"showgrid\":false,\"showline\":true,\"ticks\":\"outside\",\"zeroline\":false,\"zerolinecolor\":\"rgb(36,36,36)\"},\"yaxis\":{\"backgroundcolor\":\"white\",\"gridcolor\":\"rgb(232,232,232)\",\"gridwidth\":2,\"linecolor\":\"rgb(36,36,36)\",\"showbackground\":true,\"showgrid\":false,\"showline\":true,\"ticks\":\"outside\",\"zeroline\":false,\"zerolinecolor\":\"rgb(36,36,36)\"},\"zaxis\":{\"backgroundcolor\":\"white\",\"gridcolor\":\"rgb(232,232,232)\",\"gridwidth\":2,\"linecolor\":\"rgb(36,36,36)\",\"showbackground\":true,\"showgrid\":false,\"showline\":true,\"ticks\":\"outside\",\"zeroline\":false,\"zerolinecolor\":\"rgb(36,36,36)\"}},\"shapedefaults\":{\"fillcolor\":\"black\",\"line\":{\"width\":0},\"opacity\":0.3},\"ternary\":{\"aaxis\":{\"gridcolor\":\"rgb(232,232,232)\",\"linecolor\":\"rgb(36,36,36)\",\"showgrid\":false,\"showline\":true,\"ticks\":\"outside\"},\"baxis\":{\"gridcolor\":\"rgb(232,232,232)\",\"linecolor\":\"rgb(36,36,36)\",\"showgrid\":false,\"showline\":true,\"ticks\":\"outside\"},\"bgcolor\":\"white\",\"caxis\":{\"gridcolor\":\"rgb(232,232,232)\",\"linecolor\":\"rgb(36,36,36)\",\"showgrid\":false,\"showline\":true,\"ticks\":\"outside\"}},\"title\":{\"x\":0.05},\"xaxis\":{\"automargin\":true,\"gridcolor\":\"rgb(232,232,232)\",\"linecolor\":\"rgb(36,36,36)\",\"showgrid\":false,\"showline\":true,\"ticks\":\"outside\",\"title\":{\"standoff\":15},\"zeroline\":false,\"zerolinecolor\":\"rgb(36,36,36)\"},\"yaxis\":{\"automargin\":true,\"gridcolor\":\"rgb(232,232,232)\",\"linecolor\":\"rgb(36,36,36)\",\"showgrid\":false,\"showline\":true,\"ticks\":\"outside\",\"title\":{\"standoff\":15},\"zeroline\":false,\"zerolinecolor\":\"rgb(36,36,36)\"}}},\"title\":{\"font\":{\"size\":22,\"color\":\"Black\"},\"text\":\"\\u003cb\\u003eTopic Probability Distribution\\u003c\\u002fb\\u003e\",\"y\":0.95,\"x\":0.5,\"xanchor\":\"center\",\"yanchor\":\"top\"},\"hoverlabel\":{\"font\":{\"size\":16,\"family\":\"Rockwell\"},\"bgcolor\":\"white\"},\"xaxis\":{\"title\":{\"text\":\"Probability\"}},\"width\":800,\"height\":600},                        {\"responsive\": true}                    )                };                            </script>        </div>"
      ],
      "text/plain": [
       "Figure({\n",
       "    'data': [{'marker': {'color': '#C8D2D7', 'line': {'color': '#6E8484', 'width': 1}},\n",
       "              'orientation': 'h',\n",
       "              'type': 'bar',\n",
       "              'x': [0.02290168432218229, 0.021572932490814763, 0.5504721539109365,\n",
       "                    0.020613513283277107, 0.018409244933454652,\n",
       "                    0.033292456401993985, 0.029027676331233862,\n",
       "                    0.019773119742597083, 0.03142015729165426, 0.02330973274682995,\n",
       "                    0.02981845548125825, 0.01922686250240618, 0.023761418663061834,\n",
       "                    0.03786805090825524, 0.028515126543084766,\n",
       "                    0.028552413931474046, 0.020288261901434585,\n",
       "                    0.018953321700514083, 0.02222341691353656],\n",
       "              'y': [<b>Topic 0</b>: protein_proteins_structu..., <b>Topic 1</b>:\n",
       "                    snps_snp_disease_genetic..., <b>Topic 2</b>:\n",
       "                    terms_gene_information_o..., <b>Topic 3</b>:\n",
       "                    gene_genes_expression_re..., <b>Topic 4</b>:\n",
       "                    cancer_genes_gene_mutati..., <b>Topic 5</b>:\n",
       "                    patient_patients_health_..., <b>Topic 6</b>:\n",
       "                    network_networks_time_gr..., <b>Topic 7</b>:\n",
       "                    tree_trees_taxa_species_..., <b>Topic 8</b>:\n",
       "                    drug_drugs_target_simila..., <b>Topic 9</b>:\n",
       "                    imaging_brain_features_a..., <b>Topic 10</b>:\n",
       "                    sequence_coding_dna_dom..., <b>Topic 11</b>:\n",
       "                    virus_hiv_viral_cov_hum..., <b>Topic 12</b>:\n",
       "                    cell_cells_immune_spati..., <b>Topic 13</b>:\n",
       "                    drug_harm_gene_relation..., <b>Topic 14</b>:\n",
       "                    rac_species_rrna_biome_..., <b>Topic 15</b>:\n",
       "                    cancer_features_mirna_s..., <b>Topic 16</b>:\n",
       "                    rna_rnas_structure_seco..., <b>Topic 17</b>:\n",
       "                    mass_peptide_spectra_pe..., <b>Topic 18</b>:\n",
       "                    alignment_alignments_se...]}],\n",
       "    'layout': {'height': 600,\n",
       "               'hoverlabel': {'bgcolor': 'white', 'font': {'family': 'Rockwell', 'size': 16}},\n",
       "               'template': '...',\n",
       "               'title': {'font': {'color': 'Black', 'size': 22},\n",
       "                         'text': '<b>Topic Probability Distribution</b>',\n",
       "                         'x': 0.5,\n",
       "                         'xanchor': 'center',\n",
       "                         'y': 0.95,\n",
       "                         'yanchor': 'top'},\n",
       "               'width': 800,\n",
       "               'xaxis': {'title': {'text': 'Probability'}}}\n",
       "})"
      ]
     },
     "execution_count": 13,
     "metadata": {},
     "output_type": "execute_result"
    }
   ],
   "source": [
    "topic_model.visualize_distribution(probs[200])"
   ]
  },
  {
   "cell_type": "code",
   "execution_count": 14,
   "id": "5b8f53d9",
   "metadata": {},
   "outputs": [
    {
     "ename": "ValueError",
     "evalue": "Mime type rendering requires nbformat>=4.2.0 but it is not installed",
     "output_type": "error",
     "traceback": [
      "\u001b[1;31m---------------------------------------------------------------------------\u001b[0m",
      "\u001b[1;31mValueError\u001b[0m                                Traceback (most recent call last)",
      "File \u001b[1;32mc:\\Users\\leahz\\anaconda3\\envs\\AIR\\Lib\\site-packages\\IPython\\core\\formatters.py:925\u001b[0m, in \u001b[0;36mIPythonDisplayFormatter.__call__\u001b[1;34m(self, obj)\u001b[0m\n\u001b[0;32m    923\u001b[0m method \u001b[38;5;241m=\u001b[39m get_real_method(obj, \u001b[38;5;28mself\u001b[39m\u001b[38;5;241m.\u001b[39mprint_method)\n\u001b[0;32m    924\u001b[0m \u001b[38;5;28;01mif\u001b[39;00m method \u001b[38;5;129;01mis\u001b[39;00m \u001b[38;5;129;01mnot\u001b[39;00m \u001b[38;5;28;01mNone\u001b[39;00m:\n\u001b[1;32m--> 925\u001b[0m     \u001b[43mmethod\u001b[49m\u001b[43m(\u001b[49m\u001b[43m)\u001b[49m\n\u001b[0;32m    926\u001b[0m     \u001b[38;5;28;01mreturn\u001b[39;00m \u001b[38;5;28;01mTrue\u001b[39;00m\n",
      "File \u001b[1;32mc:\\Users\\leahz\\anaconda3\\envs\\AIR\\Lib\\site-packages\\plotly\\basedatatypes.py:832\u001b[0m, in \u001b[0;36mBaseFigure._ipython_display_\u001b[1;34m(self)\u001b[0m\n\u001b[0;32m    829\u001b[0m \u001b[38;5;28;01mimport\u001b[39;00m \u001b[38;5;21;01mplotly\u001b[39;00m\u001b[38;5;21;01m.\u001b[39;00m\u001b[38;5;21;01mio\u001b[39;00m \u001b[38;5;28;01mas\u001b[39;00m \u001b[38;5;21;01mpio\u001b[39;00m\n\u001b[0;32m    831\u001b[0m \u001b[38;5;28;01mif\u001b[39;00m pio\u001b[38;5;241m.\u001b[39mrenderers\u001b[38;5;241m.\u001b[39mrender_on_display \u001b[38;5;129;01mand\u001b[39;00m pio\u001b[38;5;241m.\u001b[39mrenderers\u001b[38;5;241m.\u001b[39mdefault:\n\u001b[1;32m--> 832\u001b[0m     \u001b[43mpio\u001b[49m\u001b[38;5;241;43m.\u001b[39;49m\u001b[43mshow\u001b[49m\u001b[43m(\u001b[49m\u001b[38;5;28;43mself\u001b[39;49m\u001b[43m)\u001b[49m\n\u001b[0;32m    833\u001b[0m \u001b[38;5;28;01melse\u001b[39;00m:\n\u001b[0;32m    834\u001b[0m     \u001b[38;5;28mprint\u001b[39m(\u001b[38;5;28mrepr\u001b[39m(\u001b[38;5;28mself\u001b[39m))\n",
      "File \u001b[1;32mc:\\Users\\leahz\\anaconda3\\envs\\AIR\\Lib\\site-packages\\plotly\\io\\_renderers.py:394\u001b[0m, in \u001b[0;36mshow\u001b[1;34m(fig, renderer, validate, **kwargs)\u001b[0m\n\u001b[0;32m    389\u001b[0m         \u001b[38;5;28;01mraise\u001b[39;00m \u001b[38;5;167;01mValueError\u001b[39;00m(\n\u001b[0;32m    390\u001b[0m             \u001b[38;5;124m\"\u001b[39m\u001b[38;5;124mMime type rendering requires ipython but it is not installed\u001b[39m\u001b[38;5;124m\"\u001b[39m\n\u001b[0;32m    391\u001b[0m         )\n\u001b[0;32m    393\u001b[0m     \u001b[38;5;28;01mif\u001b[39;00m \u001b[38;5;129;01mnot\u001b[39;00m nbformat \u001b[38;5;129;01mor\u001b[39;00m Version(nbformat\u001b[38;5;241m.\u001b[39m__version__) \u001b[38;5;241m<\u001b[39m Version(\u001b[38;5;124m\"\u001b[39m\u001b[38;5;124m4.2.0\u001b[39m\u001b[38;5;124m\"\u001b[39m):\n\u001b[1;32m--> 394\u001b[0m         \u001b[38;5;28;01mraise\u001b[39;00m \u001b[38;5;167;01mValueError\u001b[39;00m(\n\u001b[0;32m    395\u001b[0m             \u001b[38;5;124m\"\u001b[39m\u001b[38;5;124mMime type rendering requires nbformat>=4.2.0 but it is not installed\u001b[39m\u001b[38;5;124m\"\u001b[39m\n\u001b[0;32m    396\u001b[0m         )\n\u001b[0;32m    398\u001b[0m     ipython_display\u001b[38;5;241m.\u001b[39mdisplay(bundle, raw\u001b[38;5;241m=\u001b[39m\u001b[38;5;28;01mTrue\u001b[39;00m)\n\u001b[0;32m    400\u001b[0m \u001b[38;5;66;03m# external renderers\u001b[39;00m\n",
      "\u001b[1;31mValueError\u001b[0m: Mime type rendering requires nbformat>=4.2.0 but it is not installed"
     ]
    },
    {
     "data": {
      "application/vnd.plotly.v1+json": {
       "config": {
        "plotlyServerURL": "https://plot.ly"
       },
       "data": [
        {
         "hoverinfo": "text",
         "marker": {
          "color": "rgb(61,153,112)"
         },
         "mode": "lines",
         "type": "scatter",
         "x": [
          0,
          0.4227168065933924,
          0.4227168065933924,
          0
         ],
         "xaxis": "x",
         "y": [
          -5,
          -5,
          -15,
          -15
         ],
         "yaxis": "y"
        },
        {
         "hoverinfo": "text",
         "marker": {
          "color": "rgb(61,153,112)"
         },
         "mode": "lines",
         "type": "scatter",
         "x": [
          0,
          0.37614265467915287,
          0.37614265467915287,
          0
         ],
         "xaxis": "x",
         "y": [
          -25,
          -25,
          -35,
          -35
         ],
         "yaxis": "y"
        },
        {
         "hoverinfo": "text",
         "marker": {
          "color": "rgb(61,153,112)"
         },
         "mode": "lines",
         "type": "scatter",
         "x": [
          0.37614265467915287,
          0.41419567787043,
          0.41419567787043,
          0
         ],
         "xaxis": "x",
         "y": [
          -30,
          -30,
          -45,
          -45
         ],
         "yaxis": "y"
        },
        {
         "hoverinfo": "text",
         "marker": {
          "color": "rgb(61,153,112)"
         },
         "mode": "lines",
         "type": "scatter",
         "x": [
          0,
          0.3120866409415657,
          0.3120866409415657,
          0
         ],
         "xaxis": "x",
         "y": [
          -55,
          -55,
          -65,
          -65
         ],
         "yaxis": "y"
        },
        {
         "hoverinfo": "text",
         "marker": {
          "color": "rgb(61,153,112)"
         },
         "mode": "lines",
         "type": "scatter",
         "x": [
          0.3120866409415657,
          0.445299304621835,
          0.445299304621835,
          0
         ],
         "xaxis": "x",
         "y": [
          -60,
          -60,
          -75,
          -75
         ],
         "yaxis": "y"
        },
        {
         "hoverinfo": "text",
         "marker": {
          "color": "rgb(61,153,112)"
         },
         "mode": "lines",
         "type": "scatter",
         "x": [
          0.41419567787043,
          0.6518089416428746,
          0.6518089416428746,
          0.445299304621835
         ],
         "xaxis": "x",
         "y": [
          -37.5,
          -37.5,
          -67.5,
          -67.5
         ],
         "yaxis": "y"
        },
        {
         "hoverinfo": "text",
         "marker": {
          "color": "rgb(61,153,112)"
         },
         "mode": "lines",
         "type": "scatter",
         "x": [
          0.4227168065933924,
          0.7330870533454386,
          0.7330870533454386,
          0.6518089416428746
         ],
         "xaxis": "x",
         "y": [
          -10,
          -10,
          -52.5,
          -52.5
         ],
         "yaxis": "y"
        },
        {
         "hoverinfo": "text",
         "marker": {
          "color": "rgb(255,65,54)"
         },
         "mode": "lines",
         "type": "scatter",
         "x": [
          0,
          0.6081381323646851,
          0.6081381323646851,
          0
         ],
         "xaxis": "x",
         "y": [
          -85,
          -85,
          -95,
          -95
         ],
         "yaxis": "y"
        },
        {
         "hoverinfo": "text",
         "marker": {
          "color": "rgb(255,65,54)"
         },
         "mode": "lines",
         "type": "scatter",
         "x": [
          0,
          0.3784495399436243,
          0.3784495399436243,
          0
         ],
         "xaxis": "x",
         "y": [
          -105,
          -105,
          -115,
          -115
         ],
         "yaxis": "y"
        },
        {
         "hoverinfo": "text",
         "marker": {
          "color": "rgb(255,65,54)"
         },
         "mode": "lines",
         "type": "scatter",
         "x": [
          0,
          0.2612571074564002,
          0.2612571074564002,
          0
         ],
         "xaxis": "x",
         "y": [
          -125,
          -125,
          -135,
          -135
         ],
         "yaxis": "y"
        },
        {
         "hoverinfo": "text",
         "marker": {
          "color": "rgb(255,65,54)"
         },
         "mode": "lines",
         "type": "scatter",
         "x": [
          0.2612571074564002,
          0.41402351856968306,
          0.41402351856968306,
          0
         ],
         "xaxis": "x",
         "y": [
          -130,
          -130,
          -145,
          -145
         ],
         "yaxis": "y"
        },
        {
         "hoverinfo": "text",
         "marker": {
          "color": "rgb(255,65,54)"
         },
         "mode": "lines",
         "type": "scatter",
         "x": [
          0.3784495399436243,
          0.526117052054099,
          0.526117052054099,
          0.41402351856968306
         ],
         "xaxis": "x",
         "y": [
          -110,
          -110,
          -137.5,
          -137.5
         ],
         "yaxis": "y"
        },
        {
         "hoverinfo": "text",
         "marker": {
          "color": "rgb(255,65,54)"
         },
         "mode": "lines",
         "type": "scatter",
         "x": [
          0,
          0.4654823892827611,
          0.4654823892827611,
          0
         ],
         "xaxis": "x",
         "y": [
          -155,
          -155,
          -165,
          -165
         ],
         "yaxis": "y"
        },
        {
         "hoverinfo": "text",
         "marker": {
          "color": "rgb(255,65,54)"
         },
         "mode": "lines",
         "type": "scatter",
         "x": [
          0.4654823892827611,
          0.5576381081684617,
          0.5576381081684617,
          0
         ],
         "xaxis": "x",
         "y": [
          -160,
          -160,
          -175,
          -175
         ],
         "yaxis": "y"
        },
        {
         "hoverinfo": "text",
         "marker": {
          "color": "rgb(255,65,54)"
         },
         "mode": "lines",
         "type": "scatter",
         "x": [
          0.526117052054099,
          0.6308557912304362,
          0.6308557912304362,
          0.5576381081684617
         ],
         "xaxis": "x",
         "y": [
          -123.75,
          -123.75,
          -167.5,
          -167.5
         ],
         "yaxis": "y"
        },
        {
         "hoverinfo": "text",
         "marker": {
          "color": "rgb(255,65,54)"
         },
         "mode": "lines",
         "type": "scatter",
         "x": [
          0.6081381323646851,
          0.724850603458125,
          0.724850603458125,
          0.6308557912304362
         ],
         "xaxis": "x",
         "y": [
          -90,
          -90,
          -145.625,
          -145.625
         ],
         "yaxis": "y"
        },
        {
         "hoverinfo": "text",
         "marker": {
          "color": "rgb(255,65,54)"
         },
         "mode": "lines",
         "type": "scatter",
         "x": [
          0.724850603458125,
          0.7624923821926759,
          0.7624923821926759,
          0
         ],
         "xaxis": "x",
         "y": [
          -117.8125,
          -117.8125,
          -185,
          -185
         ],
         "yaxis": "y"
        },
        {
         "hoverinfo": "text",
         "marker": {
          "color": "rgb(0,116,217)"
         },
         "mode": "lines",
         "type": "scatter",
         "x": [
          0.7330870533454386,
          1.008258195145709,
          1.008258195145709,
          0.7624923821926759
         ],
         "xaxis": "x",
         "y": [
          -31.25,
          -31.25,
          -151.40625,
          -151.40625
         ],
         "yaxis": "y"
        }
       ],
       "layout": {
        "autosize": false,
        "height": 485,
        "hoverlabel": {
         "bgcolor": "white",
         "font": {
          "family": "Rockwell",
          "size": 16
         }
        },
        "hovermode": "closest",
        "plot_bgcolor": "#ECEFF1",
        "showlegend": false,
        "template": {
         "data": {
          "bar": [
           {
            "error_x": {
             "color": "#2a3f5f"
            },
            "error_y": {
             "color": "#2a3f5f"
            },
            "marker": {
             "line": {
              "color": "white",
              "width": 0.5
             },
             "pattern": {
              "fillmode": "overlay",
              "size": 10,
              "solidity": 0.2
             }
            },
            "type": "bar"
           }
          ],
          "barpolar": [
           {
            "marker": {
             "line": {
              "color": "white",
              "width": 0.5
             },
             "pattern": {
              "fillmode": "overlay",
              "size": 10,
              "solidity": 0.2
             }
            },
            "type": "barpolar"
           }
          ],
          "carpet": [
           {
            "aaxis": {
             "endlinecolor": "#2a3f5f",
             "gridcolor": "#C8D4E3",
             "linecolor": "#C8D4E3",
             "minorgridcolor": "#C8D4E3",
             "startlinecolor": "#2a3f5f"
            },
            "baxis": {
             "endlinecolor": "#2a3f5f",
             "gridcolor": "#C8D4E3",
             "linecolor": "#C8D4E3",
             "minorgridcolor": "#C8D4E3",
             "startlinecolor": "#2a3f5f"
            },
            "type": "carpet"
           }
          ],
          "choropleth": [
           {
            "colorbar": {
             "outlinewidth": 0,
             "ticks": ""
            },
            "type": "choropleth"
           }
          ],
          "contour": [
           {
            "colorbar": {
             "outlinewidth": 0,
             "ticks": ""
            },
            "colorscale": [
             [
              0,
              "#0d0887"
             ],
             [
              0.1111111111111111,
              "#46039f"
             ],
             [
              0.2222222222222222,
              "#7201a8"
             ],
             [
              0.3333333333333333,
              "#9c179e"
             ],
             [
              0.4444444444444444,
              "#bd3786"
             ],
             [
              0.5555555555555556,
              "#d8576b"
             ],
             [
              0.6666666666666666,
              "#ed7953"
             ],
             [
              0.7777777777777778,
              "#fb9f3a"
             ],
             [
              0.8888888888888888,
              "#fdca26"
             ],
             [
              1,
              "#f0f921"
             ]
            ],
            "type": "contour"
           }
          ],
          "contourcarpet": [
           {
            "colorbar": {
             "outlinewidth": 0,
             "ticks": ""
            },
            "type": "contourcarpet"
           }
          ],
          "heatmap": [
           {
            "colorbar": {
             "outlinewidth": 0,
             "ticks": ""
            },
            "colorscale": [
             [
              0,
              "#0d0887"
             ],
             [
              0.1111111111111111,
              "#46039f"
             ],
             [
              0.2222222222222222,
              "#7201a8"
             ],
             [
              0.3333333333333333,
              "#9c179e"
             ],
             [
              0.4444444444444444,
              "#bd3786"
             ],
             [
              0.5555555555555556,
              "#d8576b"
             ],
             [
              0.6666666666666666,
              "#ed7953"
             ],
             [
              0.7777777777777778,
              "#fb9f3a"
             ],
             [
              0.8888888888888888,
              "#fdca26"
             ],
             [
              1,
              "#f0f921"
             ]
            ],
            "type": "heatmap"
           }
          ],
          "heatmapgl": [
           {
            "colorbar": {
             "outlinewidth": 0,
             "ticks": ""
            },
            "colorscale": [
             [
              0,
              "#0d0887"
             ],
             [
              0.1111111111111111,
              "#46039f"
             ],
             [
              0.2222222222222222,
              "#7201a8"
             ],
             [
              0.3333333333333333,
              "#9c179e"
             ],
             [
              0.4444444444444444,
              "#bd3786"
             ],
             [
              0.5555555555555556,
              "#d8576b"
             ],
             [
              0.6666666666666666,
              "#ed7953"
             ],
             [
              0.7777777777777778,
              "#fb9f3a"
             ],
             [
              0.8888888888888888,
              "#fdca26"
             ],
             [
              1,
              "#f0f921"
             ]
            ],
            "type": "heatmapgl"
           }
          ],
          "histogram": [
           {
            "marker": {
             "pattern": {
              "fillmode": "overlay",
              "size": 10,
              "solidity": 0.2
             }
            },
            "type": "histogram"
           }
          ],
          "histogram2d": [
           {
            "colorbar": {
             "outlinewidth": 0,
             "ticks": ""
            },
            "colorscale": [
             [
              0,
              "#0d0887"
             ],
             [
              0.1111111111111111,
              "#46039f"
             ],
             [
              0.2222222222222222,
              "#7201a8"
             ],
             [
              0.3333333333333333,
              "#9c179e"
             ],
             [
              0.4444444444444444,
              "#bd3786"
             ],
             [
              0.5555555555555556,
              "#d8576b"
             ],
             [
              0.6666666666666666,
              "#ed7953"
             ],
             [
              0.7777777777777778,
              "#fb9f3a"
             ],
             [
              0.8888888888888888,
              "#fdca26"
             ],
             [
              1,
              "#f0f921"
             ]
            ],
            "type": "histogram2d"
           }
          ],
          "histogram2dcontour": [
           {
            "colorbar": {
             "outlinewidth": 0,
             "ticks": ""
            },
            "colorscale": [
             [
              0,
              "#0d0887"
             ],
             [
              0.1111111111111111,
              "#46039f"
             ],
             [
              0.2222222222222222,
              "#7201a8"
             ],
             [
              0.3333333333333333,
              "#9c179e"
             ],
             [
              0.4444444444444444,
              "#bd3786"
             ],
             [
              0.5555555555555556,
              "#d8576b"
             ],
             [
              0.6666666666666666,
              "#ed7953"
             ],
             [
              0.7777777777777778,
              "#fb9f3a"
             ],
             [
              0.8888888888888888,
              "#fdca26"
             ],
             [
              1,
              "#f0f921"
             ]
            ],
            "type": "histogram2dcontour"
           }
          ],
          "mesh3d": [
           {
            "colorbar": {
             "outlinewidth": 0,
             "ticks": ""
            },
            "type": "mesh3d"
           }
          ],
          "parcoords": [
           {
            "line": {
             "colorbar": {
              "outlinewidth": 0,
              "ticks": ""
             }
            },
            "type": "parcoords"
           }
          ],
          "pie": [
           {
            "automargin": true,
            "type": "pie"
           }
          ],
          "scatter": [
           {
            "fillpattern": {
             "fillmode": "overlay",
             "size": 10,
             "solidity": 0.2
            },
            "type": "scatter"
           }
          ],
          "scatter3d": [
           {
            "line": {
             "colorbar": {
              "outlinewidth": 0,
              "ticks": ""
             }
            },
            "marker": {
             "colorbar": {
              "outlinewidth": 0,
              "ticks": ""
             }
            },
            "type": "scatter3d"
           }
          ],
          "scattercarpet": [
           {
            "marker": {
             "colorbar": {
              "outlinewidth": 0,
              "ticks": ""
             }
            },
            "type": "scattercarpet"
           }
          ],
          "scattergeo": [
           {
            "marker": {
             "colorbar": {
              "outlinewidth": 0,
              "ticks": ""
             }
            },
            "type": "scattergeo"
           }
          ],
          "scattergl": [
           {
            "marker": {
             "colorbar": {
              "outlinewidth": 0,
              "ticks": ""
             }
            },
            "type": "scattergl"
           }
          ],
          "scattermapbox": [
           {
            "marker": {
             "colorbar": {
              "outlinewidth": 0,
              "ticks": ""
             }
            },
            "type": "scattermapbox"
           }
          ],
          "scatterpolar": [
           {
            "marker": {
             "colorbar": {
              "outlinewidth": 0,
              "ticks": ""
             }
            },
            "type": "scatterpolar"
           }
          ],
          "scatterpolargl": [
           {
            "marker": {
             "colorbar": {
              "outlinewidth": 0,
              "ticks": ""
             }
            },
            "type": "scatterpolargl"
           }
          ],
          "scatterternary": [
           {
            "marker": {
             "colorbar": {
              "outlinewidth": 0,
              "ticks": ""
             }
            },
            "type": "scatterternary"
           }
          ],
          "surface": [
           {
            "colorbar": {
             "outlinewidth": 0,
             "ticks": ""
            },
            "colorscale": [
             [
              0,
              "#0d0887"
             ],
             [
              0.1111111111111111,
              "#46039f"
             ],
             [
              0.2222222222222222,
              "#7201a8"
             ],
             [
              0.3333333333333333,
              "#9c179e"
             ],
             [
              0.4444444444444444,
              "#bd3786"
             ],
             [
              0.5555555555555556,
              "#d8576b"
             ],
             [
              0.6666666666666666,
              "#ed7953"
             ],
             [
              0.7777777777777778,
              "#fb9f3a"
             ],
             [
              0.8888888888888888,
              "#fdca26"
             ],
             [
              1,
              "#f0f921"
             ]
            ],
            "type": "surface"
           }
          ],
          "table": [
           {
            "cells": {
             "fill": {
              "color": "#EBF0F8"
             },
             "line": {
              "color": "white"
             }
            },
            "header": {
             "fill": {
              "color": "#C8D4E3"
             },
             "line": {
              "color": "white"
             }
            },
            "type": "table"
           }
          ]
         },
         "layout": {
          "annotationdefaults": {
           "arrowcolor": "#2a3f5f",
           "arrowhead": 0,
           "arrowwidth": 1
          },
          "autotypenumbers": "strict",
          "coloraxis": {
           "colorbar": {
            "outlinewidth": 0,
            "ticks": ""
           }
          },
          "colorscale": {
           "diverging": [
            [
             0,
             "#8e0152"
            ],
            [
             0.1,
             "#c51b7d"
            ],
            [
             0.2,
             "#de77ae"
            ],
            [
             0.3,
             "#f1b6da"
            ],
            [
             0.4,
             "#fde0ef"
            ],
            [
             0.5,
             "#f7f7f7"
            ],
            [
             0.6,
             "#e6f5d0"
            ],
            [
             0.7,
             "#b8e186"
            ],
            [
             0.8,
             "#7fbc41"
            ],
            [
             0.9,
             "#4d9221"
            ],
            [
             1,
             "#276419"
            ]
           ],
           "sequential": [
            [
             0,
             "#0d0887"
            ],
            [
             0.1111111111111111,
             "#46039f"
            ],
            [
             0.2222222222222222,
             "#7201a8"
            ],
            [
             0.3333333333333333,
             "#9c179e"
            ],
            [
             0.4444444444444444,
             "#bd3786"
            ],
            [
             0.5555555555555556,
             "#d8576b"
            ],
            [
             0.6666666666666666,
             "#ed7953"
            ],
            [
             0.7777777777777778,
             "#fb9f3a"
            ],
            [
             0.8888888888888888,
             "#fdca26"
            ],
            [
             1,
             "#f0f921"
            ]
           ],
           "sequentialminus": [
            [
             0,
             "#0d0887"
            ],
            [
             0.1111111111111111,
             "#46039f"
            ],
            [
             0.2222222222222222,
             "#7201a8"
            ],
            [
             0.3333333333333333,
             "#9c179e"
            ],
            [
             0.4444444444444444,
             "#bd3786"
            ],
            [
             0.5555555555555556,
             "#d8576b"
            ],
            [
             0.6666666666666666,
             "#ed7953"
            ],
            [
             0.7777777777777778,
             "#fb9f3a"
            ],
            [
             0.8888888888888888,
             "#fdca26"
            ],
            [
             1,
             "#f0f921"
            ]
           ]
          },
          "colorway": [
           "#636efa",
           "#EF553B",
           "#00cc96",
           "#ab63fa",
           "#FFA15A",
           "#19d3f3",
           "#FF6692",
           "#B6E880",
           "#FF97FF",
           "#FECB52"
          ],
          "font": {
           "color": "#2a3f5f"
          },
          "geo": {
           "bgcolor": "white",
           "lakecolor": "white",
           "landcolor": "white",
           "showlakes": true,
           "showland": true,
           "subunitcolor": "#C8D4E3"
          },
          "hoverlabel": {
           "align": "left"
          },
          "hovermode": "closest",
          "mapbox": {
           "style": "light"
          },
          "paper_bgcolor": "white",
          "plot_bgcolor": "white",
          "polar": {
           "angularaxis": {
            "gridcolor": "#EBF0F8",
            "linecolor": "#EBF0F8",
            "ticks": ""
           },
           "bgcolor": "white",
           "radialaxis": {
            "gridcolor": "#EBF0F8",
            "linecolor": "#EBF0F8",
            "ticks": ""
           }
          },
          "scene": {
           "xaxis": {
            "backgroundcolor": "white",
            "gridcolor": "#DFE8F3",
            "gridwidth": 2,
            "linecolor": "#EBF0F8",
            "showbackground": true,
            "ticks": "",
            "zerolinecolor": "#EBF0F8"
           },
           "yaxis": {
            "backgroundcolor": "white",
            "gridcolor": "#DFE8F3",
            "gridwidth": 2,
            "linecolor": "#EBF0F8",
            "showbackground": true,
            "ticks": "",
            "zerolinecolor": "#EBF0F8"
           },
           "zaxis": {
            "backgroundcolor": "white",
            "gridcolor": "#DFE8F3",
            "gridwidth": 2,
            "linecolor": "#EBF0F8",
            "showbackground": true,
            "ticks": "",
            "zerolinecolor": "#EBF0F8"
           }
          },
          "shapedefaults": {
           "line": {
            "color": "#2a3f5f"
           }
          },
          "ternary": {
           "aaxis": {
            "gridcolor": "#DFE8F3",
            "linecolor": "#A2B1C6",
            "ticks": ""
           },
           "baxis": {
            "gridcolor": "#DFE8F3",
            "linecolor": "#A2B1C6",
            "ticks": ""
           },
           "bgcolor": "white",
           "caxis": {
            "gridcolor": "#DFE8F3",
            "linecolor": "#A2B1C6",
            "ticks": ""
           }
          },
          "title": {
           "x": 0.05
          },
          "xaxis": {
           "automargin": true,
           "gridcolor": "#EBF0F8",
           "linecolor": "#EBF0F8",
           "ticks": "",
           "title": {
            "standoff": 15
           },
           "zerolinecolor": "#EBF0F8",
           "zerolinewidth": 2
          },
          "yaxis": {
           "automargin": true,
           "gridcolor": "#EBF0F8",
           "linecolor": "#EBF0F8",
           "ticks": "",
           "title": {
            "standoff": 15
           },
           "zerolinecolor": "#EBF0F8",
           "zerolinewidth": 2
          }
         }
        },
        "title": {
         "font": {
          "color": "Black",
          "size": 22
         },
         "text": "<b>Hierarchical Clustering</b>",
         "x": 0.5,
         "xanchor": "center",
         "yanchor": "top"
        },
        "width": 1000,
        "xaxis": {
         "mirror": "allticks",
         "rangemode": "tozero",
         "showgrid": false,
         "showline": true,
         "showticklabels": true,
         "ticks": "outside",
         "type": "linear",
         "zeroline": false
        },
        "yaxis": {
         "mirror": "allticks",
         "range": [
          -190,
          0
         ],
         "rangemode": "tozero",
         "showgrid": false,
         "showline": true,
         "showticklabels": true,
         "tickmode": "array",
         "ticks": "outside",
         "ticktext": [
          "13_drug_harm_gene",
          "8_drug_drugs_target",
          "9_imaging_brain_features",
          "5_patient_patients_health",
          "1_snps_snp_disease",
          "15_cancer_features_mirna",
          "4_cancer_genes_gene",
          "12_cell_cells_immune",
          "18_alignment_alignments_seq...",
          "16_rna_rnas_structure",
          "11_virus_hiv_viral",
          "0_protein_proteins_structure",
          "3_gene_genes_expression",
          "6_network_networks_time",
          "2_terms_gene_information",
          "10_sequence_coding_dna",
          "7_tree_trees_taxa",
          "14_rac_species_rrna",
          "17_mass_peptide_spectra"
         ],
         "tickvals": [
          -5,
          -15,
          -25,
          -35,
          -45,
          -55,
          -65,
          -75,
          -85,
          -95,
          -105,
          -115,
          -125,
          -135,
          -145,
          -155,
          -165,
          -175,
          -185
         ],
         "type": "linear",
         "zeroline": false
        }
       }
      },
      "text/html": [
       "<div>                        <script type=\"text/javascript\">window.PlotlyConfig = {MathJaxConfig: 'local'};</script>\n",
       "        <script charset=\"utf-8\" src=\"https://cdn.plot.ly/plotly-2.32.0.min.js\"></script>                <div id=\"223d7a76-b5b7-4a4c-82fd-d84fb879c6fe\" class=\"plotly-graph-div\" style=\"height:485px; width:1000px;\"></div>            <script type=\"text/javascript\">                                    window.PLOTLYENV=window.PLOTLYENV || {};                                    if (document.getElementById(\"223d7a76-b5b7-4a4c-82fd-d84fb879c6fe\")) {                    Plotly.newPlot(                        \"223d7a76-b5b7-4a4c-82fd-d84fb879c6fe\",                        [{\"hoverinfo\":\"text\",\"marker\":{\"color\":\"rgb(61,153,112)\"},\"mode\":\"lines\",\"x\":[0.0,0.4227168065933924,0.4227168065933924,0.0],\"xaxis\":\"x\",\"y\":[-5.0,-5.0,-15.0,-15.0],\"yaxis\":\"y\",\"type\":\"scatter\"},{\"hoverinfo\":\"text\",\"marker\":{\"color\":\"rgb(61,153,112)\"},\"mode\":\"lines\",\"x\":[0.0,0.37614265467915287,0.37614265467915287,0.0],\"xaxis\":\"x\",\"y\":[-25.0,-25.0,-35.0,-35.0],\"yaxis\":\"y\",\"type\":\"scatter\"},{\"hoverinfo\":\"text\",\"marker\":{\"color\":\"rgb(61,153,112)\"},\"mode\":\"lines\",\"x\":[0.37614265467915287,0.41419567787043,0.41419567787043,0.0],\"xaxis\":\"x\",\"y\":[-30.0,-30.0,-45.0,-45.0],\"yaxis\":\"y\",\"type\":\"scatter\"},{\"hoverinfo\":\"text\",\"marker\":{\"color\":\"rgb(61,153,112)\"},\"mode\":\"lines\",\"x\":[0.0,0.3120866409415657,0.3120866409415657,0.0],\"xaxis\":\"x\",\"y\":[-55.0,-55.0,-65.0,-65.0],\"yaxis\":\"y\",\"type\":\"scatter\"},{\"hoverinfo\":\"text\",\"marker\":{\"color\":\"rgb(61,153,112)\"},\"mode\":\"lines\",\"x\":[0.3120866409415657,0.445299304621835,0.445299304621835,0.0],\"xaxis\":\"x\",\"y\":[-60.0,-60.0,-75.0,-75.0],\"yaxis\":\"y\",\"type\":\"scatter\"},{\"hoverinfo\":\"text\",\"marker\":{\"color\":\"rgb(61,153,112)\"},\"mode\":\"lines\",\"x\":[0.41419567787043,0.6518089416428746,0.6518089416428746,0.445299304621835],\"xaxis\":\"x\",\"y\":[-37.5,-37.5,-67.5,-67.5],\"yaxis\":\"y\",\"type\":\"scatter\"},{\"hoverinfo\":\"text\",\"marker\":{\"color\":\"rgb(61,153,112)\"},\"mode\":\"lines\",\"x\":[0.4227168065933924,0.7330870533454386,0.7330870533454386,0.6518089416428746],\"xaxis\":\"x\",\"y\":[-10.0,-10.0,-52.5,-52.5],\"yaxis\":\"y\",\"type\":\"scatter\"},{\"hoverinfo\":\"text\",\"marker\":{\"color\":\"rgb(255,65,54)\"},\"mode\":\"lines\",\"x\":[0.0,0.6081381323646851,0.6081381323646851,0.0],\"xaxis\":\"x\",\"y\":[-85.0,-85.0,-95.0,-95.0],\"yaxis\":\"y\",\"type\":\"scatter\"},{\"hoverinfo\":\"text\",\"marker\":{\"color\":\"rgb(255,65,54)\"},\"mode\":\"lines\",\"x\":[0.0,0.3784495399436243,0.3784495399436243,0.0],\"xaxis\":\"x\",\"y\":[-105.0,-105.0,-115.0,-115.0],\"yaxis\":\"y\",\"type\":\"scatter\"},{\"hoverinfo\":\"text\",\"marker\":{\"color\":\"rgb(255,65,54)\"},\"mode\":\"lines\",\"x\":[0.0,0.2612571074564002,0.2612571074564002,0.0],\"xaxis\":\"x\",\"y\":[-125.0,-125.0,-135.0,-135.0],\"yaxis\":\"y\",\"type\":\"scatter\"},{\"hoverinfo\":\"text\",\"marker\":{\"color\":\"rgb(255,65,54)\"},\"mode\":\"lines\",\"x\":[0.2612571074564002,0.41402351856968306,0.41402351856968306,0.0],\"xaxis\":\"x\",\"y\":[-130.0,-130.0,-145.0,-145.0],\"yaxis\":\"y\",\"type\":\"scatter\"},{\"hoverinfo\":\"text\",\"marker\":{\"color\":\"rgb(255,65,54)\"},\"mode\":\"lines\",\"x\":[0.3784495399436243,0.526117052054099,0.526117052054099,0.41402351856968306],\"xaxis\":\"x\",\"y\":[-110.0,-110.0,-137.5,-137.5],\"yaxis\":\"y\",\"type\":\"scatter\"},{\"hoverinfo\":\"text\",\"marker\":{\"color\":\"rgb(255,65,54)\"},\"mode\":\"lines\",\"x\":[0.0,0.4654823892827611,0.4654823892827611,0.0],\"xaxis\":\"x\",\"y\":[-155.0,-155.0,-165.0,-165.0],\"yaxis\":\"y\",\"type\":\"scatter\"},{\"hoverinfo\":\"text\",\"marker\":{\"color\":\"rgb(255,65,54)\"},\"mode\":\"lines\",\"x\":[0.4654823892827611,0.5576381081684617,0.5576381081684617,0.0],\"xaxis\":\"x\",\"y\":[-160.0,-160.0,-175.0,-175.0],\"yaxis\":\"y\",\"type\":\"scatter\"},{\"hoverinfo\":\"text\",\"marker\":{\"color\":\"rgb(255,65,54)\"},\"mode\":\"lines\",\"x\":[0.526117052054099,0.6308557912304362,0.6308557912304362,0.5576381081684617],\"xaxis\":\"x\",\"y\":[-123.75,-123.75,-167.5,-167.5],\"yaxis\":\"y\",\"type\":\"scatter\"},{\"hoverinfo\":\"text\",\"marker\":{\"color\":\"rgb(255,65,54)\"},\"mode\":\"lines\",\"x\":[0.6081381323646851,0.724850603458125,0.724850603458125,0.6308557912304362],\"xaxis\":\"x\",\"y\":[-90.0,-90.0,-145.625,-145.625],\"yaxis\":\"y\",\"type\":\"scatter\"},{\"hoverinfo\":\"text\",\"marker\":{\"color\":\"rgb(255,65,54)\"},\"mode\":\"lines\",\"x\":[0.724850603458125,0.7624923821926759,0.7624923821926759,0.0],\"xaxis\":\"x\",\"y\":[-117.8125,-117.8125,-185.0,-185.0],\"yaxis\":\"y\",\"type\":\"scatter\"},{\"hoverinfo\":\"text\",\"marker\":{\"color\":\"rgb(0,116,217)\"},\"mode\":\"lines\",\"x\":[0.7330870533454386,1.008258195145709,1.008258195145709,0.7624923821926759],\"xaxis\":\"x\",\"y\":[-31.25,-31.25,-151.40625,-151.40625],\"yaxis\":\"y\",\"type\":\"scatter\"}],                        {\"autosize\":false,\"height\":485,\"hovermode\":\"closest\",\"showlegend\":false,\"width\":1000,\"xaxis\":{\"mirror\":\"allticks\",\"rangemode\":\"tozero\",\"showgrid\":false,\"showline\":true,\"showticklabels\":true,\"ticks\":\"outside\",\"type\":\"linear\",\"zeroline\":false},\"yaxis\":{\"mirror\":\"allticks\",\"rangemode\":\"tozero\",\"showgrid\":false,\"showline\":true,\"showticklabels\":true,\"tickmode\":\"array\",\"ticks\":\"outside\",\"ticktext\":[\"13_drug_harm_gene\",\"8_drug_drugs_target\",\"9_imaging_brain_features\",\"5_patient_patients_health\",\"1_snps_snp_disease\",\"15_cancer_features_mirna\",\"4_cancer_genes_gene\",\"12_cell_cells_immune\",\"18_alignment_alignments_seq...\",\"16_rna_rnas_structure\",\"11_virus_hiv_viral\",\"0_protein_proteins_structure\",\"3_gene_genes_expression\",\"6_network_networks_time\",\"2_terms_gene_information\",\"10_sequence_coding_dna\",\"7_tree_trees_taxa\",\"14_rac_species_rrna\",\"17_mass_peptide_spectra\"],\"tickvals\":[-5.0,-15.0,-25.0,-35.0,-45.0,-55.0,-65.0,-75.0,-85.0,-95.0,-105.0,-115.0,-125.0,-135.0,-145.0,-155.0,-165.0,-175.0,-185.0],\"type\":\"linear\",\"zeroline\":false,\"range\":[-190.0,0.0]},\"template\":{\"data\":{\"barpolar\":[{\"marker\":{\"line\":{\"color\":\"white\",\"width\":0.5},\"pattern\":{\"fillmode\":\"overlay\",\"size\":10,\"solidity\":0.2}},\"type\":\"barpolar\"}],\"bar\":[{\"error_x\":{\"color\":\"#2a3f5f\"},\"error_y\":{\"color\":\"#2a3f5f\"},\"marker\":{\"line\":{\"color\":\"white\",\"width\":0.5},\"pattern\":{\"fillmode\":\"overlay\",\"size\":10,\"solidity\":0.2}},\"type\":\"bar\"}],\"carpet\":[{\"aaxis\":{\"endlinecolor\":\"#2a3f5f\",\"gridcolor\":\"#C8D4E3\",\"linecolor\":\"#C8D4E3\",\"minorgridcolor\":\"#C8D4E3\",\"startlinecolor\":\"#2a3f5f\"},\"baxis\":{\"endlinecolor\":\"#2a3f5f\",\"gridcolor\":\"#C8D4E3\",\"linecolor\":\"#C8D4E3\",\"minorgridcolor\":\"#C8D4E3\",\"startlinecolor\":\"#2a3f5f\"},\"type\":\"carpet\"}],\"choropleth\":[{\"colorbar\":{\"outlinewidth\":0,\"ticks\":\"\"},\"type\":\"choropleth\"}],\"contourcarpet\":[{\"colorbar\":{\"outlinewidth\":0,\"ticks\":\"\"},\"type\":\"contourcarpet\"}],\"contour\":[{\"colorbar\":{\"outlinewidth\":0,\"ticks\":\"\"},\"colorscale\":[[0.0,\"#0d0887\"],[0.1111111111111111,\"#46039f\"],[0.2222222222222222,\"#7201a8\"],[0.3333333333333333,\"#9c179e\"],[0.4444444444444444,\"#bd3786\"],[0.5555555555555556,\"#d8576b\"],[0.6666666666666666,\"#ed7953\"],[0.7777777777777778,\"#fb9f3a\"],[0.8888888888888888,\"#fdca26\"],[1.0,\"#f0f921\"]],\"type\":\"contour\"}],\"heatmapgl\":[{\"colorbar\":{\"outlinewidth\":0,\"ticks\":\"\"},\"colorscale\":[[0.0,\"#0d0887\"],[0.1111111111111111,\"#46039f\"],[0.2222222222222222,\"#7201a8\"],[0.3333333333333333,\"#9c179e\"],[0.4444444444444444,\"#bd3786\"],[0.5555555555555556,\"#d8576b\"],[0.6666666666666666,\"#ed7953\"],[0.7777777777777778,\"#fb9f3a\"],[0.8888888888888888,\"#fdca26\"],[1.0,\"#f0f921\"]],\"type\":\"heatmapgl\"}],\"heatmap\":[{\"colorbar\":{\"outlinewidth\":0,\"ticks\":\"\"},\"colorscale\":[[0.0,\"#0d0887\"],[0.1111111111111111,\"#46039f\"],[0.2222222222222222,\"#7201a8\"],[0.3333333333333333,\"#9c179e\"],[0.4444444444444444,\"#bd3786\"],[0.5555555555555556,\"#d8576b\"],[0.6666666666666666,\"#ed7953\"],[0.7777777777777778,\"#fb9f3a\"],[0.8888888888888888,\"#fdca26\"],[1.0,\"#f0f921\"]],\"type\":\"heatmap\"}],\"histogram2dcontour\":[{\"colorbar\":{\"outlinewidth\":0,\"ticks\":\"\"},\"colorscale\":[[0.0,\"#0d0887\"],[0.1111111111111111,\"#46039f\"],[0.2222222222222222,\"#7201a8\"],[0.3333333333333333,\"#9c179e\"],[0.4444444444444444,\"#bd3786\"],[0.5555555555555556,\"#d8576b\"],[0.6666666666666666,\"#ed7953\"],[0.7777777777777778,\"#fb9f3a\"],[0.8888888888888888,\"#fdca26\"],[1.0,\"#f0f921\"]],\"type\":\"histogram2dcontour\"}],\"histogram2d\":[{\"colorbar\":{\"outlinewidth\":0,\"ticks\":\"\"},\"colorscale\":[[0.0,\"#0d0887\"],[0.1111111111111111,\"#46039f\"],[0.2222222222222222,\"#7201a8\"],[0.3333333333333333,\"#9c179e\"],[0.4444444444444444,\"#bd3786\"],[0.5555555555555556,\"#d8576b\"],[0.6666666666666666,\"#ed7953\"],[0.7777777777777778,\"#fb9f3a\"],[0.8888888888888888,\"#fdca26\"],[1.0,\"#f0f921\"]],\"type\":\"histogram2d\"}],\"histogram\":[{\"marker\":{\"pattern\":{\"fillmode\":\"overlay\",\"size\":10,\"solidity\":0.2}},\"type\":\"histogram\"}],\"mesh3d\":[{\"colorbar\":{\"outlinewidth\":0,\"ticks\":\"\"},\"type\":\"mesh3d\"}],\"parcoords\":[{\"line\":{\"colorbar\":{\"outlinewidth\":0,\"ticks\":\"\"}},\"type\":\"parcoords\"}],\"pie\":[{\"automargin\":true,\"type\":\"pie\"}],\"scatter3d\":[{\"line\":{\"colorbar\":{\"outlinewidth\":0,\"ticks\":\"\"}},\"marker\":{\"colorbar\":{\"outlinewidth\":0,\"ticks\":\"\"}},\"type\":\"scatter3d\"}],\"scattercarpet\":[{\"marker\":{\"colorbar\":{\"outlinewidth\":0,\"ticks\":\"\"}},\"type\":\"scattercarpet\"}],\"scattergeo\":[{\"marker\":{\"colorbar\":{\"outlinewidth\":0,\"ticks\":\"\"}},\"type\":\"scattergeo\"}],\"scattergl\":[{\"marker\":{\"colorbar\":{\"outlinewidth\":0,\"ticks\":\"\"}},\"type\":\"scattergl\"}],\"scattermapbox\":[{\"marker\":{\"colorbar\":{\"outlinewidth\":0,\"ticks\":\"\"}},\"type\":\"scattermapbox\"}],\"scatterpolargl\":[{\"marker\":{\"colorbar\":{\"outlinewidth\":0,\"ticks\":\"\"}},\"type\":\"scatterpolargl\"}],\"scatterpolar\":[{\"marker\":{\"colorbar\":{\"outlinewidth\":0,\"ticks\":\"\"}},\"type\":\"scatterpolar\"}],\"scatter\":[{\"fillpattern\":{\"fillmode\":\"overlay\",\"size\":10,\"solidity\":0.2},\"type\":\"scatter\"}],\"scatterternary\":[{\"marker\":{\"colorbar\":{\"outlinewidth\":0,\"ticks\":\"\"}},\"type\":\"scatterternary\"}],\"surface\":[{\"colorbar\":{\"outlinewidth\":0,\"ticks\":\"\"},\"colorscale\":[[0.0,\"#0d0887\"],[0.1111111111111111,\"#46039f\"],[0.2222222222222222,\"#7201a8\"],[0.3333333333333333,\"#9c179e\"],[0.4444444444444444,\"#bd3786\"],[0.5555555555555556,\"#d8576b\"],[0.6666666666666666,\"#ed7953\"],[0.7777777777777778,\"#fb9f3a\"],[0.8888888888888888,\"#fdca26\"],[1.0,\"#f0f921\"]],\"type\":\"surface\"}],\"table\":[{\"cells\":{\"fill\":{\"color\":\"#EBF0F8\"},\"line\":{\"color\":\"white\"}},\"header\":{\"fill\":{\"color\":\"#C8D4E3\"},\"line\":{\"color\":\"white\"}},\"type\":\"table\"}]},\"layout\":{\"annotationdefaults\":{\"arrowcolor\":\"#2a3f5f\",\"arrowhead\":0,\"arrowwidth\":1},\"autotypenumbers\":\"strict\",\"coloraxis\":{\"colorbar\":{\"outlinewidth\":0,\"ticks\":\"\"}},\"colorscale\":{\"diverging\":[[0,\"#8e0152\"],[0.1,\"#c51b7d\"],[0.2,\"#de77ae\"],[0.3,\"#f1b6da\"],[0.4,\"#fde0ef\"],[0.5,\"#f7f7f7\"],[0.6,\"#e6f5d0\"],[0.7,\"#b8e186\"],[0.8,\"#7fbc41\"],[0.9,\"#4d9221\"],[1,\"#276419\"]],\"sequential\":[[0.0,\"#0d0887\"],[0.1111111111111111,\"#46039f\"],[0.2222222222222222,\"#7201a8\"],[0.3333333333333333,\"#9c179e\"],[0.4444444444444444,\"#bd3786\"],[0.5555555555555556,\"#d8576b\"],[0.6666666666666666,\"#ed7953\"],[0.7777777777777778,\"#fb9f3a\"],[0.8888888888888888,\"#fdca26\"],[1.0,\"#f0f921\"]],\"sequentialminus\":[[0.0,\"#0d0887\"],[0.1111111111111111,\"#46039f\"],[0.2222222222222222,\"#7201a8\"],[0.3333333333333333,\"#9c179e\"],[0.4444444444444444,\"#bd3786\"],[0.5555555555555556,\"#d8576b\"],[0.6666666666666666,\"#ed7953\"],[0.7777777777777778,\"#fb9f3a\"],[0.8888888888888888,\"#fdca26\"],[1.0,\"#f0f921\"]]},\"colorway\":[\"#636efa\",\"#EF553B\",\"#00cc96\",\"#ab63fa\",\"#FFA15A\",\"#19d3f3\",\"#FF6692\",\"#B6E880\",\"#FF97FF\",\"#FECB52\"],\"font\":{\"color\":\"#2a3f5f\"},\"geo\":{\"bgcolor\":\"white\",\"lakecolor\":\"white\",\"landcolor\":\"white\",\"showlakes\":true,\"showland\":true,\"subunitcolor\":\"#C8D4E3\"},\"hoverlabel\":{\"align\":\"left\"},\"hovermode\":\"closest\",\"mapbox\":{\"style\":\"light\"},\"paper_bgcolor\":\"white\",\"plot_bgcolor\":\"white\",\"polar\":{\"angularaxis\":{\"gridcolor\":\"#EBF0F8\",\"linecolor\":\"#EBF0F8\",\"ticks\":\"\"},\"bgcolor\":\"white\",\"radialaxis\":{\"gridcolor\":\"#EBF0F8\",\"linecolor\":\"#EBF0F8\",\"ticks\":\"\"}},\"scene\":{\"xaxis\":{\"backgroundcolor\":\"white\",\"gridcolor\":\"#DFE8F3\",\"gridwidth\":2,\"linecolor\":\"#EBF0F8\",\"showbackground\":true,\"ticks\":\"\",\"zerolinecolor\":\"#EBF0F8\"},\"yaxis\":{\"backgroundcolor\":\"white\",\"gridcolor\":\"#DFE8F3\",\"gridwidth\":2,\"linecolor\":\"#EBF0F8\",\"showbackground\":true,\"ticks\":\"\",\"zerolinecolor\":\"#EBF0F8\"},\"zaxis\":{\"backgroundcolor\":\"white\",\"gridcolor\":\"#DFE8F3\",\"gridwidth\":2,\"linecolor\":\"#EBF0F8\",\"showbackground\":true,\"ticks\":\"\",\"zerolinecolor\":\"#EBF0F8\"}},\"shapedefaults\":{\"line\":{\"color\":\"#2a3f5f\"}},\"ternary\":{\"aaxis\":{\"gridcolor\":\"#DFE8F3\",\"linecolor\":\"#A2B1C6\",\"ticks\":\"\"},\"baxis\":{\"gridcolor\":\"#DFE8F3\",\"linecolor\":\"#A2B1C6\",\"ticks\":\"\"},\"bgcolor\":\"white\",\"caxis\":{\"gridcolor\":\"#DFE8F3\",\"linecolor\":\"#A2B1C6\",\"ticks\":\"\"}},\"title\":{\"x\":0.05},\"xaxis\":{\"automargin\":true,\"gridcolor\":\"#EBF0F8\",\"linecolor\":\"#EBF0F8\",\"ticks\":\"\",\"title\":{\"standoff\":15},\"zerolinecolor\":\"#EBF0F8\",\"zerolinewidth\":2},\"yaxis\":{\"automargin\":true,\"gridcolor\":\"#EBF0F8\",\"linecolor\":\"#EBF0F8\",\"ticks\":\"\",\"title\":{\"standoff\":15},\"zerolinecolor\":\"#EBF0F8\",\"zerolinewidth\":2}}},\"title\":{\"font\":{\"size\":22,\"color\":\"Black\"},\"text\":\"\\u003cb\\u003eHierarchical Clustering\\u003c\\u002fb\\u003e\",\"x\":0.5,\"xanchor\":\"center\",\"yanchor\":\"top\"},\"hoverlabel\":{\"font\":{\"size\":16,\"family\":\"Rockwell\"},\"bgcolor\":\"white\"},\"plot_bgcolor\":\"#ECEFF1\"},                        {\"responsive\": true}                    )                };                            </script>        </div>"
      ],
      "text/plain": [
       "Figure({\n",
       "    'data': [{'hoverinfo': 'text',\n",
       "              'marker': {'color': 'rgb(61,153,112)'},\n",
       "              'mode': 'lines',\n",
       "              'type': 'scatter',\n",
       "              'x': array([0.        , 0.42271681, 0.42271681, 0.        ]),\n",
       "              'xaxis': 'x',\n",
       "              'y': array([ -5.,  -5., -15., -15.]),\n",
       "              'yaxis': 'y'},\n",
       "             {'hoverinfo': 'text',\n",
       "              'marker': {'color': 'rgb(61,153,112)'},\n",
       "              'mode': 'lines',\n",
       "              'type': 'scatter',\n",
       "              'x': array([0.        , 0.37614265, 0.37614265, 0.        ]),\n",
       "              'xaxis': 'x',\n",
       "              'y': array([-25., -25., -35., -35.]),\n",
       "              'yaxis': 'y'},\n",
       "             {'hoverinfo': 'text',\n",
       "              'marker': {'color': 'rgb(61,153,112)'},\n",
       "              'mode': 'lines',\n",
       "              'type': 'scatter',\n",
       "              'x': array([0.37614265, 0.41419568, 0.41419568, 0.        ]),\n",
       "              'xaxis': 'x',\n",
       "              'y': array([-30., -30., -45., -45.]),\n",
       "              'yaxis': 'y'},\n",
       "             {'hoverinfo': 'text',\n",
       "              'marker': {'color': 'rgb(61,153,112)'},\n",
       "              'mode': 'lines',\n",
       "              'type': 'scatter',\n",
       "              'x': array([0.        , 0.31208664, 0.31208664, 0.        ]),\n",
       "              'xaxis': 'x',\n",
       "              'y': array([-55., -55., -65., -65.]),\n",
       "              'yaxis': 'y'},\n",
       "             {'hoverinfo': 'text',\n",
       "              'marker': {'color': 'rgb(61,153,112)'},\n",
       "              'mode': 'lines',\n",
       "              'type': 'scatter',\n",
       "              'x': array([0.31208664, 0.4452993 , 0.4452993 , 0.        ]),\n",
       "              'xaxis': 'x',\n",
       "              'y': array([-60., -60., -75., -75.]),\n",
       "              'yaxis': 'y'},\n",
       "             {'hoverinfo': 'text',\n",
       "              'marker': {'color': 'rgb(61,153,112)'},\n",
       "              'mode': 'lines',\n",
       "              'type': 'scatter',\n",
       "              'x': array([0.41419568, 0.65180894, 0.65180894, 0.4452993 ]),\n",
       "              'xaxis': 'x',\n",
       "              'y': array([-37.5, -37.5, -67.5, -67.5]),\n",
       "              'yaxis': 'y'},\n",
       "             {'hoverinfo': 'text',\n",
       "              'marker': {'color': 'rgb(61,153,112)'},\n",
       "              'mode': 'lines',\n",
       "              'type': 'scatter',\n",
       "              'x': array([0.42271681, 0.73308705, 0.73308705, 0.65180894]),\n",
       "              'xaxis': 'x',\n",
       "              'y': array([-10. , -10. , -52.5, -52.5]),\n",
       "              'yaxis': 'y'},\n",
       "             {'hoverinfo': 'text',\n",
       "              'marker': {'color': 'rgb(255,65,54)'},\n",
       "              'mode': 'lines',\n",
       "              'type': 'scatter',\n",
       "              'x': array([0.        , 0.60813813, 0.60813813, 0.        ]),\n",
       "              'xaxis': 'x',\n",
       "              'y': array([-85., -85., -95., -95.]),\n",
       "              'yaxis': 'y'},\n",
       "             {'hoverinfo': 'text',\n",
       "              'marker': {'color': 'rgb(255,65,54)'},\n",
       "              'mode': 'lines',\n",
       "              'type': 'scatter',\n",
       "              'x': array([0.        , 0.37844954, 0.37844954, 0.        ]),\n",
       "              'xaxis': 'x',\n",
       "              'y': array([-105., -105., -115., -115.]),\n",
       "              'yaxis': 'y'},\n",
       "             {'hoverinfo': 'text',\n",
       "              'marker': {'color': 'rgb(255,65,54)'},\n",
       "              'mode': 'lines',\n",
       "              'type': 'scatter',\n",
       "              'x': array([0.        , 0.26125711, 0.26125711, 0.        ]),\n",
       "              'xaxis': 'x',\n",
       "              'y': array([-125., -125., -135., -135.]),\n",
       "              'yaxis': 'y'},\n",
       "             {'hoverinfo': 'text',\n",
       "              'marker': {'color': 'rgb(255,65,54)'},\n",
       "              'mode': 'lines',\n",
       "              'type': 'scatter',\n",
       "              'x': array([0.26125711, 0.41402352, 0.41402352, 0.        ]),\n",
       "              'xaxis': 'x',\n",
       "              'y': array([-130., -130., -145., -145.]),\n",
       "              'yaxis': 'y'},\n",
       "             {'hoverinfo': 'text',\n",
       "              'marker': {'color': 'rgb(255,65,54)'},\n",
       "              'mode': 'lines',\n",
       "              'type': 'scatter',\n",
       "              'x': array([0.37844954, 0.52611705, 0.52611705, 0.41402352]),\n",
       "              'xaxis': 'x',\n",
       "              'y': array([-110. , -110. , -137.5, -137.5]),\n",
       "              'yaxis': 'y'},\n",
       "             {'hoverinfo': 'text',\n",
       "              'marker': {'color': 'rgb(255,65,54)'},\n",
       "              'mode': 'lines',\n",
       "              'type': 'scatter',\n",
       "              'x': array([0.        , 0.46548239, 0.46548239, 0.        ]),\n",
       "              'xaxis': 'x',\n",
       "              'y': array([-155., -155., -165., -165.]),\n",
       "              'yaxis': 'y'},\n",
       "             {'hoverinfo': 'text',\n",
       "              'marker': {'color': 'rgb(255,65,54)'},\n",
       "              'mode': 'lines',\n",
       "              'type': 'scatter',\n",
       "              'x': array([0.46548239, 0.55763811, 0.55763811, 0.        ]),\n",
       "              'xaxis': 'x',\n",
       "              'y': array([-160., -160., -175., -175.]),\n",
       "              'yaxis': 'y'},\n",
       "             {'hoverinfo': 'text',\n",
       "              'marker': {'color': 'rgb(255,65,54)'},\n",
       "              'mode': 'lines',\n",
       "              'type': 'scatter',\n",
       "              'x': array([0.52611705, 0.63085579, 0.63085579, 0.55763811]),\n",
       "              'xaxis': 'x',\n",
       "              'y': array([-123.75, -123.75, -167.5 , -167.5 ]),\n",
       "              'yaxis': 'y'},\n",
       "             {'hoverinfo': 'text',\n",
       "              'marker': {'color': 'rgb(255,65,54)'},\n",
       "              'mode': 'lines',\n",
       "              'type': 'scatter',\n",
       "              'x': array([0.60813813, 0.7248506 , 0.7248506 , 0.63085579]),\n",
       "              'xaxis': 'x',\n",
       "              'y': array([ -90.   ,  -90.   , -145.625, -145.625]),\n",
       "              'yaxis': 'y'},\n",
       "             {'hoverinfo': 'text',\n",
       "              'marker': {'color': 'rgb(255,65,54)'},\n",
       "              'mode': 'lines',\n",
       "              'type': 'scatter',\n",
       "              'x': array([0.7248506 , 0.76249238, 0.76249238, 0.        ]),\n",
       "              'xaxis': 'x',\n",
       "              'y': array([-117.8125, -117.8125, -185.    , -185.    ]),\n",
       "              'yaxis': 'y'},\n",
       "             {'hoverinfo': 'text',\n",
       "              'marker': {'color': 'rgb(0,116,217)'},\n",
       "              'mode': 'lines',\n",
       "              'type': 'scatter',\n",
       "              'x': array([0.73308705, 1.0082582 , 1.0082582 , 0.76249238]),\n",
       "              'xaxis': 'x',\n",
       "              'y': array([ -31.25   ,  -31.25   , -151.40625, -151.40625]),\n",
       "              'yaxis': 'y'}],\n",
       "    'layout': {'autosize': False,\n",
       "               'height': 485,\n",
       "               'hoverlabel': {'bgcolor': 'white', 'font': {'family': 'Rockwell', 'size': 16}},\n",
       "               'hovermode': 'closest',\n",
       "               'plot_bgcolor': '#ECEFF1',\n",
       "               'showlegend': False,\n",
       "               'template': '...',\n",
       "               'title': {'font': {'color': 'Black', 'size': 22},\n",
       "                         'text': '<b>Hierarchical Clustering</b>',\n",
       "                         'x': 0.5,\n",
       "                         'xanchor': 'center',\n",
       "                         'yanchor': 'top'},\n",
       "               'width': 1000,\n",
       "               'xaxis': {'mirror': 'allticks',\n",
       "                         'rangemode': 'tozero',\n",
       "                         'showgrid': False,\n",
       "                         'showline': True,\n",
       "                         'showticklabels': True,\n",
       "                         'ticks': 'outside',\n",
       "                         'type': 'linear',\n",
       "                         'zeroline': False},\n",
       "               'yaxis': {'mirror': 'allticks',\n",
       "                         'range': [-190.0, 0.0],\n",
       "                         'rangemode': 'tozero',\n",
       "                         'showgrid': False,\n",
       "                         'showline': True,\n",
       "                         'showticklabels': True,\n",
       "                         'tickmode': 'array',\n",
       "                         'ticks': 'outside',\n",
       "                         'ticktext': [13_drug_harm_gene, 8_drug_drugs_target,\n",
       "                                      9_imaging_brain_features,\n",
       "                                      5_patient_patients_health,\n",
       "                                      1_snps_snp_disease, 15_cancer_features_mirna,\n",
       "                                      4_cancer_genes_gene, 12_cell_cells_immune,\n",
       "                                      18_alignment_alignments_seq...,\n",
       "                                      16_rna_rnas_structure, 11_virus_hiv_viral,\n",
       "                                      0_protein_proteins_structure,\n",
       "                                      3_gene_genes_expression,\n",
       "                                      6_network_networks_time,\n",
       "                                      2_terms_gene_information,\n",
       "                                      10_sequence_coding_dna, 7_tree_trees_taxa,\n",
       "                                      14_rac_species_rrna, 17_mass_peptide_spectra],\n",
       "                         'tickvals': [-5.0, -15.0, -25.0, -35.0, -45.0, -55.0,\n",
       "                                      -65.0, -75.0, -85.0, -95.0, -105.0, -115.0,\n",
       "                                      -125.0, -135.0, -145.0, -155.0, -165.0,\n",
       "                                      -175.0, -185.0],\n",
       "                         'type': 'linear',\n",
       "                         'zeroline': False}}\n",
       "})"
      ]
     },
     "execution_count": 14,
     "metadata": {},
     "output_type": "execute_result"
    }
   ],
   "source": [
    "topic_model.visualize_hierarchy(top_n_topics=50)"
   ]
  },
  {
   "cell_type": "code",
   "execution_count": 11,
   "id": "57d99a75",
   "metadata": {
    "execution": {
     "iopub.execute_input": "2024-07-19T17:58:47.642472Z",
     "iopub.status.busy": "2024-07-19T17:58:47.641444Z",
     "iopub.status.idle": "2024-07-19T17:58:47.793514Z",
     "shell.execute_reply": "2024-07-19T17:58:47.792348Z"
    },
    "papermill": {
     "duration": 0.16657,
     "end_time": "2024-07-19T17:58:47.796012",
     "exception": false,
     "start_time": "2024-07-19T17:58:47.629442",
     "status": "completed"
    },
    "tags": []
   },
   "outputs": [
    {
     "data": {
      "text/html": [
       "<div>                            <div id=\"7996b90e-7529-4435-a7a0-85480b011eb7\" class=\"plotly-graph-div\" style=\"height:750px; width:1000px;\"></div>            <script type=\"text/javascript\">                require([\"plotly\"], function(Plotly) {                    window.PLOTLYENV=window.PLOTLYENV || {};                                    if (document.getElementById(\"7996b90e-7529-4435-a7a0-85480b011eb7\")) {                    Plotly.newPlot(                        \"7996b90e-7529-4435-a7a0-85480b011eb7\",                        [{\"marker\":{\"color\":\"#D55E00\"},\"orientation\":\"h\",\"x\":[0.015760142242032697,0.016105722322773488,0.018156419921476367,0.025767417417984762,0.027186496879776464],\"y\":[\"plo  \",\"genetic  \",\"disease  \",\"snp  \",\"snps  \"],\"type\":\"bar\",\"xaxis\":\"x\",\"yaxis\":\"y\"},{\"marker\":{\"color\":\"#0072B2\"},\"orientation\":\"h\",\"x\":[0.015901822180799233,0.017298833320991122,0.019763937518068448,0.02520769329821079,0.031276338642945635],\"y\":[\"sequence  \",\"residues  \",\"structure  \",\"proteins  \",\"protein  \"],\"type\":\"bar\",\"xaxis\":\"x2\",\"yaxis\":\"y2\"},{\"marker\":{\"color\":\"#CC79A7\"},\"orientation\":\"h\",\"x\":[0.0131837881944014,0.014717048731441194,0.015504561021168406,0.016028473046232877,0.02164122132702614],\"y\":[\"gene  \",\"text  \",\"information  \",\"ontology  \",\"terms  \"],\"type\":\"bar\",\"xaxis\":\"x3\",\"yaxis\":\"y3\"},{\"marker\":{\"color\":\"#E69F00\"},\"orientation\":\"h\",\"x\":[0.015516273652234088,0.016010662365761222,0.02770873861426247,0.03011284292545931,0.032070145419517734],\"y\":[\"transcription  \",\"regulatory  \",\"expression  \",\"genes  \",\"gene  \"],\"type\":\"bar\",\"xaxis\":\"x4\",\"yaxis\":\"y4\"},{\"marker\":{\"color\":\"#56B4E9\"},\"orientation\":\"h\",\"x\":[0.020207560913189187,0.022593630628474054,0.022683357216265423,0.02305476998731375,0.03782084623553661],\"y\":[\"tumor  \",\"gene  \",\"mutations  \",\"genes  \",\"cancer  \"],\"type\":\"bar\",\"xaxis\":\"x5\",\"yaxis\":\"y5\"},{\"marker\":{\"color\":\"#009E73\"},\"orientation\":\"h\",\"x\":[0.01639504636885741,0.018035284015350712,0.020079142813752122,0.02383130788442958,0.025488110432196252],\"y\":[\"medical  \",\"clinical  \",\"health  \",\"patients  \",\"patient  \"],\"type\":\"bar\",\"xaxis\":\"x6\",\"yaxis\":\"y6\"},{\"marker\":{\"color\":\"#F0E442\"},\"orientation\":\"h\",\"x\":[0.014128526311601919,0.014970342750250455,0.01731545041875298,0.02306935839122341,0.028464059199464466],\"y\":[\"that  \",\"graph  \",\"time  \",\"networks  \",\"network  \"],\"type\":\"bar\",\"xaxis\":\"x7\",\"yaxis\":\"y7\"},{\"marker\":{\"color\":\"#D55E00\"},\"orientation\":\"h\",\"x\":[0.02079057033611518,0.021812791538843877,0.02411460311673889,0.02785189859455948,0.059497673123371064],\"y\":[\"number  \",\"species  \",\"taxa  \",\"trees  \",\"tree  \"],\"type\":\"bar\",\"xaxis\":\"x8\",\"yaxis\":\"y8\"},{\"marker\":{\"color\":\"#0072B2\"},\"orientation\":\"h\",\"x\":[0.019909809057278564,0.023045204691771574,0.023936283883856407,0.03674298260096464,0.05470182257888107],\"y\":[\"compounds  \",\"similarity  \",\"target  \",\"drugs  \",\"drug  \"],\"type\":\"bar\",\"xaxis\":\"x9\",\"yaxis\":\"y9\"},{\"marker\":{\"color\":\"#CC79A7\"},\"orientation\":\"h\",\"x\":[0.016869322377586874,0.01839974056434122,0.024505965490120983,0.03203690599382449,0.03259791844700476],\"y\":[\"subjects  \",\"age  \",\"features  \",\"brain  \",\"imaging  \"],\"type\":\"bar\",\"xaxis\":\"x10\",\"yaxis\":\"y10\"}],                        {\"template\":{\"data\":{\"barpolar\":[{\"marker\":{\"line\":{\"color\":\"white\",\"width\":0.5},\"pattern\":{\"fillmode\":\"overlay\",\"size\":10,\"solidity\":0.2}},\"type\":\"barpolar\"}],\"bar\":[{\"error_x\":{\"color\":\"#2a3f5f\"},\"error_y\":{\"color\":\"#2a3f5f\"},\"marker\":{\"line\":{\"color\":\"white\",\"width\":0.5},\"pattern\":{\"fillmode\":\"overlay\",\"size\":10,\"solidity\":0.2}},\"type\":\"bar\"}],\"carpet\":[{\"aaxis\":{\"endlinecolor\":\"#2a3f5f\",\"gridcolor\":\"#C8D4E3\",\"linecolor\":\"#C8D4E3\",\"minorgridcolor\":\"#C8D4E3\",\"startlinecolor\":\"#2a3f5f\"},\"baxis\":{\"endlinecolor\":\"#2a3f5f\",\"gridcolor\":\"#C8D4E3\",\"linecolor\":\"#C8D4E3\",\"minorgridcolor\":\"#C8D4E3\",\"startlinecolor\":\"#2a3f5f\"},\"type\":\"carpet\"}],\"choropleth\":[{\"colorbar\":{\"outlinewidth\":0,\"ticks\":\"\"},\"type\":\"choropleth\"}],\"contourcarpet\":[{\"colorbar\":{\"outlinewidth\":0,\"ticks\":\"\"},\"type\":\"contourcarpet\"}],\"contour\":[{\"colorbar\":{\"outlinewidth\":0,\"ticks\":\"\"},\"colorscale\":[[0.0,\"#0d0887\"],[0.1111111111111111,\"#46039f\"],[0.2222222222222222,\"#7201a8\"],[0.3333333333333333,\"#9c179e\"],[0.4444444444444444,\"#bd3786\"],[0.5555555555555556,\"#d8576b\"],[0.6666666666666666,\"#ed7953\"],[0.7777777777777778,\"#fb9f3a\"],[0.8888888888888888,\"#fdca26\"],[1.0,\"#f0f921\"]],\"type\":\"contour\"}],\"heatmapgl\":[{\"colorbar\":{\"outlinewidth\":0,\"ticks\":\"\"},\"colorscale\":[[0.0,\"#0d0887\"],[0.1111111111111111,\"#46039f\"],[0.2222222222222222,\"#7201a8\"],[0.3333333333333333,\"#9c179e\"],[0.4444444444444444,\"#bd3786\"],[0.5555555555555556,\"#d8576b\"],[0.6666666666666666,\"#ed7953\"],[0.7777777777777778,\"#fb9f3a\"],[0.8888888888888888,\"#fdca26\"],[1.0,\"#f0f921\"]],\"type\":\"heatmapgl\"}],\"heatmap\":[{\"colorbar\":{\"outlinewidth\":0,\"ticks\":\"\"},\"colorscale\":[[0.0,\"#0d0887\"],[0.1111111111111111,\"#46039f\"],[0.2222222222222222,\"#7201a8\"],[0.3333333333333333,\"#9c179e\"],[0.4444444444444444,\"#bd3786\"],[0.5555555555555556,\"#d8576b\"],[0.6666666666666666,\"#ed7953\"],[0.7777777777777778,\"#fb9f3a\"],[0.8888888888888888,\"#fdca26\"],[1.0,\"#f0f921\"]],\"type\":\"heatmap\"}],\"histogram2dcontour\":[{\"colorbar\":{\"outlinewidth\":0,\"ticks\":\"\"},\"colorscale\":[[0.0,\"#0d0887\"],[0.1111111111111111,\"#46039f\"],[0.2222222222222222,\"#7201a8\"],[0.3333333333333333,\"#9c179e\"],[0.4444444444444444,\"#bd3786\"],[0.5555555555555556,\"#d8576b\"],[0.6666666666666666,\"#ed7953\"],[0.7777777777777778,\"#fb9f3a\"],[0.8888888888888888,\"#fdca26\"],[1.0,\"#f0f921\"]],\"type\":\"histogram2dcontour\"}],\"histogram2d\":[{\"colorbar\":{\"outlinewidth\":0,\"ticks\":\"\"},\"colorscale\":[[0.0,\"#0d0887\"],[0.1111111111111111,\"#46039f\"],[0.2222222222222222,\"#7201a8\"],[0.3333333333333333,\"#9c179e\"],[0.4444444444444444,\"#bd3786\"],[0.5555555555555556,\"#d8576b\"],[0.6666666666666666,\"#ed7953\"],[0.7777777777777778,\"#fb9f3a\"],[0.8888888888888888,\"#fdca26\"],[1.0,\"#f0f921\"]],\"type\":\"histogram2d\"}],\"histogram\":[{\"marker\":{\"pattern\":{\"fillmode\":\"overlay\",\"size\":10,\"solidity\":0.2}},\"type\":\"histogram\"}],\"mesh3d\":[{\"colorbar\":{\"outlinewidth\":0,\"ticks\":\"\"},\"type\":\"mesh3d\"}],\"parcoords\":[{\"line\":{\"colorbar\":{\"outlinewidth\":0,\"ticks\":\"\"}},\"type\":\"parcoords\"}],\"pie\":[{\"automargin\":true,\"type\":\"pie\"}],\"scatter3d\":[{\"line\":{\"colorbar\":{\"outlinewidth\":0,\"ticks\":\"\"}},\"marker\":{\"colorbar\":{\"outlinewidth\":0,\"ticks\":\"\"}},\"type\":\"scatter3d\"}],\"scattercarpet\":[{\"marker\":{\"colorbar\":{\"outlinewidth\":0,\"ticks\":\"\"}},\"type\":\"scattercarpet\"}],\"scattergeo\":[{\"marker\":{\"colorbar\":{\"outlinewidth\":0,\"ticks\":\"\"}},\"type\":\"scattergeo\"}],\"scattergl\":[{\"marker\":{\"colorbar\":{\"outlinewidth\":0,\"ticks\":\"\"}},\"type\":\"scattergl\"}],\"scattermapbox\":[{\"marker\":{\"colorbar\":{\"outlinewidth\":0,\"ticks\":\"\"}},\"type\":\"scattermapbox\"}],\"scatterpolargl\":[{\"marker\":{\"colorbar\":{\"outlinewidth\":0,\"ticks\":\"\"}},\"type\":\"scatterpolargl\"}],\"scatterpolar\":[{\"marker\":{\"colorbar\":{\"outlinewidth\":0,\"ticks\":\"\"}},\"type\":\"scatterpolar\"}],\"scatter\":[{\"fillpattern\":{\"fillmode\":\"overlay\",\"size\":10,\"solidity\":0.2},\"type\":\"scatter\"}],\"scatterternary\":[{\"marker\":{\"colorbar\":{\"outlinewidth\":0,\"ticks\":\"\"}},\"type\":\"scatterternary\"}],\"surface\":[{\"colorbar\":{\"outlinewidth\":0,\"ticks\":\"\"},\"colorscale\":[[0.0,\"#0d0887\"],[0.1111111111111111,\"#46039f\"],[0.2222222222222222,\"#7201a8\"],[0.3333333333333333,\"#9c179e\"],[0.4444444444444444,\"#bd3786\"],[0.5555555555555556,\"#d8576b\"],[0.6666666666666666,\"#ed7953\"],[0.7777777777777778,\"#fb9f3a\"],[0.8888888888888888,\"#fdca26\"],[1.0,\"#f0f921\"]],\"type\":\"surface\"}],\"table\":[{\"cells\":{\"fill\":{\"color\":\"#EBF0F8\"},\"line\":{\"color\":\"white\"}},\"header\":{\"fill\":{\"color\":\"#C8D4E3\"},\"line\":{\"color\":\"white\"}},\"type\":\"table\"}]},\"layout\":{\"annotationdefaults\":{\"arrowcolor\":\"#2a3f5f\",\"arrowhead\":0,\"arrowwidth\":1},\"autotypenumbers\":\"strict\",\"coloraxis\":{\"colorbar\":{\"outlinewidth\":0,\"ticks\":\"\"}},\"colorscale\":{\"diverging\":[[0,\"#8e0152\"],[0.1,\"#c51b7d\"],[0.2,\"#de77ae\"],[0.3,\"#f1b6da\"],[0.4,\"#fde0ef\"],[0.5,\"#f7f7f7\"],[0.6,\"#e6f5d0\"],[0.7,\"#b8e186\"],[0.8,\"#7fbc41\"],[0.9,\"#4d9221\"],[1,\"#276419\"]],\"sequential\":[[0.0,\"#0d0887\"],[0.1111111111111111,\"#46039f\"],[0.2222222222222222,\"#7201a8\"],[0.3333333333333333,\"#9c179e\"],[0.4444444444444444,\"#bd3786\"],[0.5555555555555556,\"#d8576b\"],[0.6666666666666666,\"#ed7953\"],[0.7777777777777778,\"#fb9f3a\"],[0.8888888888888888,\"#fdca26\"],[1.0,\"#f0f921\"]],\"sequentialminus\":[[0.0,\"#0d0887\"],[0.1111111111111111,\"#46039f\"],[0.2222222222222222,\"#7201a8\"],[0.3333333333333333,\"#9c179e\"],[0.4444444444444444,\"#bd3786\"],[0.5555555555555556,\"#d8576b\"],[0.6666666666666666,\"#ed7953\"],[0.7777777777777778,\"#fb9f3a\"],[0.8888888888888888,\"#fdca26\"],[1.0,\"#f0f921\"]]},\"colorway\":[\"#636efa\",\"#EF553B\",\"#00cc96\",\"#ab63fa\",\"#FFA15A\",\"#19d3f3\",\"#FF6692\",\"#B6E880\",\"#FF97FF\",\"#FECB52\"],\"font\":{\"color\":\"#2a3f5f\"},\"geo\":{\"bgcolor\":\"white\",\"lakecolor\":\"white\",\"landcolor\":\"white\",\"showlakes\":true,\"showland\":true,\"subunitcolor\":\"#C8D4E3\"},\"hoverlabel\":{\"align\":\"left\"},\"hovermode\":\"closest\",\"mapbox\":{\"style\":\"light\"},\"paper_bgcolor\":\"white\",\"plot_bgcolor\":\"white\",\"polar\":{\"angularaxis\":{\"gridcolor\":\"#EBF0F8\",\"linecolor\":\"#EBF0F8\",\"ticks\":\"\"},\"bgcolor\":\"white\",\"radialaxis\":{\"gridcolor\":\"#EBF0F8\",\"linecolor\":\"#EBF0F8\",\"ticks\":\"\"}},\"scene\":{\"xaxis\":{\"backgroundcolor\":\"white\",\"gridcolor\":\"#DFE8F3\",\"gridwidth\":2,\"linecolor\":\"#EBF0F8\",\"showbackground\":true,\"ticks\":\"\",\"zerolinecolor\":\"#EBF0F8\"},\"yaxis\":{\"backgroundcolor\":\"white\",\"gridcolor\":\"#DFE8F3\",\"gridwidth\":2,\"linecolor\":\"#EBF0F8\",\"showbackground\":true,\"ticks\":\"\",\"zerolinecolor\":\"#EBF0F8\"},\"zaxis\":{\"backgroundcolor\":\"white\",\"gridcolor\":\"#DFE8F3\",\"gridwidth\":2,\"linecolor\":\"#EBF0F8\",\"showbackground\":true,\"ticks\":\"\",\"zerolinecolor\":\"#EBF0F8\"}},\"shapedefaults\":{\"line\":{\"color\":\"#2a3f5f\"}},\"ternary\":{\"aaxis\":{\"gridcolor\":\"#DFE8F3\",\"linecolor\":\"#A2B1C6\",\"ticks\":\"\"},\"baxis\":{\"gridcolor\":\"#DFE8F3\",\"linecolor\":\"#A2B1C6\",\"ticks\":\"\"},\"bgcolor\":\"white\",\"caxis\":{\"gridcolor\":\"#DFE8F3\",\"linecolor\":\"#A2B1C6\",\"ticks\":\"\"}},\"title\":{\"x\":0.05},\"xaxis\":{\"automargin\":true,\"gridcolor\":\"#EBF0F8\",\"linecolor\":\"#EBF0F8\",\"ticks\":\"\",\"title\":{\"standoff\":15},\"zerolinecolor\":\"#EBF0F8\",\"zerolinewidth\":2},\"yaxis\":{\"automargin\":true,\"gridcolor\":\"#EBF0F8\",\"linecolor\":\"#EBF0F8\",\"ticks\":\"\",\"title\":{\"standoff\":15},\"zerolinecolor\":\"#EBF0F8\",\"zerolinewidth\":2}}},\"xaxis\":{\"anchor\":\"y\",\"domain\":[0.0,0.175],\"showgrid\":true},\"yaxis\":{\"anchor\":\"x\",\"domain\":[0.7555555555555555,1.0],\"showgrid\":true},\"xaxis2\":{\"anchor\":\"y2\",\"domain\":[0.275,0.45],\"showgrid\":true},\"yaxis2\":{\"anchor\":\"x2\",\"domain\":[0.7555555555555555,1.0],\"showgrid\":true},\"xaxis3\":{\"anchor\":\"y3\",\"domain\":[0.55,0.7250000000000001],\"showgrid\":true},\"yaxis3\":{\"anchor\":\"x3\",\"domain\":[0.7555555555555555,1.0],\"showgrid\":true},\"xaxis4\":{\"anchor\":\"y4\",\"domain\":[0.825,1.0],\"showgrid\":true},\"yaxis4\":{\"anchor\":\"x4\",\"domain\":[0.7555555555555555,1.0],\"showgrid\":true},\"xaxis5\":{\"anchor\":\"y5\",\"domain\":[0.0,0.175],\"showgrid\":true},\"yaxis5\":{\"anchor\":\"x5\",\"domain\":[0.37777777777777777,0.6222222222222222],\"showgrid\":true},\"xaxis6\":{\"anchor\":\"y6\",\"domain\":[0.275,0.45],\"showgrid\":true},\"yaxis6\":{\"anchor\":\"x6\",\"domain\":[0.37777777777777777,0.6222222222222222],\"showgrid\":true},\"xaxis7\":{\"anchor\":\"y7\",\"domain\":[0.55,0.7250000000000001],\"showgrid\":true},\"yaxis7\":{\"anchor\":\"x7\",\"domain\":[0.37777777777777777,0.6222222222222222],\"showgrid\":true},\"xaxis8\":{\"anchor\":\"y8\",\"domain\":[0.825,1.0],\"showgrid\":true},\"yaxis8\":{\"anchor\":\"x8\",\"domain\":[0.37777777777777777,0.6222222222222222],\"showgrid\":true},\"xaxis9\":{\"anchor\":\"y9\",\"domain\":[0.0,0.175],\"showgrid\":true},\"yaxis9\":{\"anchor\":\"x9\",\"domain\":[0.0,0.24444444444444446],\"showgrid\":true},\"xaxis10\":{\"anchor\":\"y10\",\"domain\":[0.275,0.45],\"showgrid\":true},\"yaxis10\":{\"anchor\":\"x10\",\"domain\":[0.0,0.24444444444444446],\"showgrid\":true},\"xaxis11\":{\"anchor\":\"y11\",\"domain\":[0.55,0.7250000000000001],\"showgrid\":true},\"yaxis11\":{\"anchor\":\"x11\",\"domain\":[0.0,0.24444444444444446],\"showgrid\":true},\"xaxis12\":{\"anchor\":\"y12\",\"domain\":[0.825,1.0],\"showgrid\":true},\"yaxis12\":{\"anchor\":\"x12\",\"domain\":[0.0,0.24444444444444446],\"showgrid\":true},\"annotations\":[{\"font\":{\"size\":16},\"showarrow\":false,\"text\":\"Topic 0\",\"x\":0.0875,\"xanchor\":\"center\",\"xref\":\"paper\",\"y\":1.0,\"yanchor\":\"bottom\",\"yref\":\"paper\"},{\"font\":{\"size\":16},\"showarrow\":false,\"text\":\"Topic 1\",\"x\":0.36250000000000004,\"xanchor\":\"center\",\"xref\":\"paper\",\"y\":1.0,\"yanchor\":\"bottom\",\"yref\":\"paper\"},{\"font\":{\"size\":16},\"showarrow\":false,\"text\":\"Topic 2\",\"x\":0.6375000000000001,\"xanchor\":\"center\",\"xref\":\"paper\",\"y\":1.0,\"yanchor\":\"bottom\",\"yref\":\"paper\"},{\"font\":{\"size\":16},\"showarrow\":false,\"text\":\"Topic 3\",\"x\":0.9125,\"xanchor\":\"center\",\"xref\":\"paper\",\"y\":1.0,\"yanchor\":\"bottom\",\"yref\":\"paper\"},{\"font\":{\"size\":16},\"showarrow\":false,\"text\":\"Topic 4\",\"x\":0.0875,\"xanchor\":\"center\",\"xref\":\"paper\",\"y\":0.6222222222222222,\"yanchor\":\"bottom\",\"yref\":\"paper\"},{\"font\":{\"size\":16},\"showarrow\":false,\"text\":\"Topic 5\",\"x\":0.36250000000000004,\"xanchor\":\"center\",\"xref\":\"paper\",\"y\":0.6222222222222222,\"yanchor\":\"bottom\",\"yref\":\"paper\"},{\"font\":{\"size\":16},\"showarrow\":false,\"text\":\"Topic 6\",\"x\":0.6375000000000001,\"xanchor\":\"center\",\"xref\":\"paper\",\"y\":0.6222222222222222,\"yanchor\":\"bottom\",\"yref\":\"paper\"},{\"font\":{\"size\":16},\"showarrow\":false,\"text\":\"Topic 7\",\"x\":0.9125,\"xanchor\":\"center\",\"xref\":\"paper\",\"y\":0.6222222222222222,\"yanchor\":\"bottom\",\"yref\":\"paper\"},{\"font\":{\"size\":16},\"showarrow\":false,\"text\":\"Topic 8\",\"x\":0.0875,\"xanchor\":\"center\",\"xref\":\"paper\",\"y\":0.24444444444444446,\"yanchor\":\"bottom\",\"yref\":\"paper\"},{\"font\":{\"size\":16},\"showarrow\":false,\"text\":\"Topic 9\",\"x\":0.36250000000000004,\"xanchor\":\"center\",\"xref\":\"paper\",\"y\":0.24444444444444446,\"yanchor\":\"bottom\",\"yref\":\"paper\"}],\"title\":{\"font\":{\"size\":22,\"color\":\"Black\"},\"text\":\"Topic Word Scores\",\"x\":0.5,\"xanchor\":\"center\",\"yanchor\":\"top\"},\"hoverlabel\":{\"font\":{\"size\":16,\"family\":\"Rockwell\"},\"bgcolor\":\"white\"},\"showlegend\":false,\"width\":1000,\"height\":750},                        {\"responsive\": true}                    ).then(function(){\n",
       "                            \n",
       "var gd = document.getElementById('7996b90e-7529-4435-a7a0-85480b011eb7');\n",
       "var x = new MutationObserver(function (mutations, observer) {{\n",
       "        var display = window.getComputedStyle(gd).display;\n",
       "        if (!display || display === 'none') {{\n",
       "            console.log([gd, 'removed!']);\n",
       "            Plotly.purge(gd);\n",
       "            observer.disconnect();\n",
       "        }}\n",
       "}});\n",
       "\n",
       "// Listen for the removal of the full notebook cells\n",
       "var notebookContainer = gd.closest('#notebook-container');\n",
       "if (notebookContainer) {{\n",
       "    x.observe(notebookContainer, {childList: true});\n",
       "}}\n",
       "\n",
       "// Listen for the clearing of the current output cell\n",
       "var outputEl = gd.closest('.output');\n",
       "if (outputEl) {{\n",
       "    x.observe(outputEl, {childList: true});\n",
       "}}\n",
       "\n",
       "                        })                };                });            </script>        </div>"
      ]
     },
     "metadata": {},
     "output_type": "display_data"
    }
   ],
   "source": [
    "topic_model.visualize_barchart(top_n_topics=10)"
   ]
  },
  {
   "cell_type": "code",
   "execution_count": 9,
   "id": "bca01664",
   "metadata": {
    "execution": {
     "iopub.execute_input": "2024-07-19T17:58:47.820405Z",
     "iopub.status.busy": "2024-07-19T17:58:47.819356Z",
     "iopub.status.idle": "2024-07-19T17:58:47.920231Z",
     "shell.execute_reply": "2024-07-19T17:58:47.919163Z"
    },
    "papermill": {
     "duration": 0.116495,
     "end_time": "2024-07-19T17:58:47.923287",
     "exception": false,
     "start_time": "2024-07-19T17:58:47.806792",
     "status": "completed"
    },
    "tags": []
   },
   "outputs": [
    {
     "ename": "ValueError",
     "evalue": "Mime type rendering requires nbformat>=4.2.0 but it is not installed",
     "output_type": "error",
     "traceback": [
      "\u001b[1;31m---------------------------------------------------------------------------\u001b[0m",
      "\u001b[1;31mValueError\u001b[0m                                Traceback (most recent call last)",
      "File \u001b[1;32mc:\\Users\\leahz\\anaconda3\\envs\\AIR\\Lib\\site-packages\\IPython\\core\\formatters.py:925\u001b[0m, in \u001b[0;36mIPythonDisplayFormatter.__call__\u001b[1;34m(self, obj)\u001b[0m\n\u001b[0;32m    923\u001b[0m method \u001b[38;5;241m=\u001b[39m get_real_method(obj, \u001b[38;5;28mself\u001b[39m\u001b[38;5;241m.\u001b[39mprint_method)\n\u001b[0;32m    924\u001b[0m \u001b[38;5;28;01mif\u001b[39;00m method \u001b[38;5;129;01mis\u001b[39;00m \u001b[38;5;129;01mnot\u001b[39;00m \u001b[38;5;28;01mNone\u001b[39;00m:\n\u001b[1;32m--> 925\u001b[0m     \u001b[43mmethod\u001b[49m\u001b[43m(\u001b[49m\u001b[43m)\u001b[49m\n\u001b[0;32m    926\u001b[0m     \u001b[38;5;28;01mreturn\u001b[39;00m \u001b[38;5;28;01mTrue\u001b[39;00m\n",
      "File \u001b[1;32mc:\\Users\\leahz\\anaconda3\\envs\\AIR\\Lib\\site-packages\\plotly\\basedatatypes.py:832\u001b[0m, in \u001b[0;36mBaseFigure._ipython_display_\u001b[1;34m(self)\u001b[0m\n\u001b[0;32m    829\u001b[0m \u001b[38;5;28;01mimport\u001b[39;00m \u001b[38;5;21;01mplotly\u001b[39;00m\u001b[38;5;21;01m.\u001b[39;00m\u001b[38;5;21;01mio\u001b[39;00m \u001b[38;5;28;01mas\u001b[39;00m \u001b[38;5;21;01mpio\u001b[39;00m\n\u001b[0;32m    831\u001b[0m \u001b[38;5;28;01mif\u001b[39;00m pio\u001b[38;5;241m.\u001b[39mrenderers\u001b[38;5;241m.\u001b[39mrender_on_display \u001b[38;5;129;01mand\u001b[39;00m pio\u001b[38;5;241m.\u001b[39mrenderers\u001b[38;5;241m.\u001b[39mdefault:\n\u001b[1;32m--> 832\u001b[0m     \u001b[43mpio\u001b[49m\u001b[38;5;241;43m.\u001b[39;49m\u001b[43mshow\u001b[49m\u001b[43m(\u001b[49m\u001b[38;5;28;43mself\u001b[39;49m\u001b[43m)\u001b[49m\n\u001b[0;32m    833\u001b[0m \u001b[38;5;28;01melse\u001b[39;00m:\n\u001b[0;32m    834\u001b[0m     \u001b[38;5;28mprint\u001b[39m(\u001b[38;5;28mrepr\u001b[39m(\u001b[38;5;28mself\u001b[39m))\n",
      "File \u001b[1;32mc:\\Users\\leahz\\anaconda3\\envs\\AIR\\Lib\\site-packages\\plotly\\io\\_renderers.py:394\u001b[0m, in \u001b[0;36mshow\u001b[1;34m(fig, renderer, validate, **kwargs)\u001b[0m\n\u001b[0;32m    389\u001b[0m         \u001b[38;5;28;01mraise\u001b[39;00m \u001b[38;5;167;01mValueError\u001b[39;00m(\n\u001b[0;32m    390\u001b[0m             \u001b[38;5;124m\"\u001b[39m\u001b[38;5;124mMime type rendering requires ipython but it is not installed\u001b[39m\u001b[38;5;124m\"\u001b[39m\n\u001b[0;32m    391\u001b[0m         )\n\u001b[0;32m    393\u001b[0m     \u001b[38;5;28;01mif\u001b[39;00m \u001b[38;5;129;01mnot\u001b[39;00m nbformat \u001b[38;5;129;01mor\u001b[39;00m Version(nbformat\u001b[38;5;241m.\u001b[39m__version__) \u001b[38;5;241m<\u001b[39m Version(\u001b[38;5;124m\"\u001b[39m\u001b[38;5;124m4.2.0\u001b[39m\u001b[38;5;124m\"\u001b[39m):\n\u001b[1;32m--> 394\u001b[0m         \u001b[38;5;28;01mraise\u001b[39;00m \u001b[38;5;167;01mValueError\u001b[39;00m(\n\u001b[0;32m    395\u001b[0m             \u001b[38;5;124m\"\u001b[39m\u001b[38;5;124mMime type rendering requires nbformat>=4.2.0 but it is not installed\u001b[39m\u001b[38;5;124m\"\u001b[39m\n\u001b[0;32m    396\u001b[0m         )\n\u001b[0;32m    398\u001b[0m     ipython_display\u001b[38;5;241m.\u001b[39mdisplay(bundle, raw\u001b[38;5;241m=\u001b[39m\u001b[38;5;28;01mTrue\u001b[39;00m)\n\u001b[0;32m    400\u001b[0m \u001b[38;5;66;03m# external renderers\u001b[39;00m\n",
      "\u001b[1;31mValueError\u001b[0m: Mime type rendering requires nbformat>=4.2.0 but it is not installed"
     ]
    },
    {
     "data": {
      "application/vnd.plotly.v1+json": {
       "config": {
        "plotlyServerURL": "https://plot.ly"
       },
       "data": [
        {
         "coloraxis": "coloraxis",
         "hovertemplate": "x: %{x}<br>y: %{y}<br>Similarity Score: %{z}<extra></extra>",
         "name": "0",
         "type": "heatmap",
         "x": [
          "0_snps_snp_disease",
          "2_terms_information_ontology",
          "14_rac_species_rrna",
          "1_protein_proteins_structure",
          "6_network_networks_time",
          "3_gene_genes_expression",
          "16_reads_sequence_domain",
          "4_patient_patients_health",
          "8_imaging_brain_features",
          "5_cancer_gene_genes",
          "10_features_cancer_training",
          "13_cell_cells_spatial",
          "7_tree_trees_taxa",
          "18_alignment_alignments_seq...",
          "9_drug_drugs_target",
          "11_harm_drug_gene",
          "12_virus_viral_cov",
          "15_rna_rnas_sequence",
          "17_mass_peptide_spectra",
          "19_topo_tube_system"
         ],
         "xaxis": "x",
         "y": [
          "0_snps_snp_disease",
          "2_terms_information_ontology",
          "14_rac_species_rrna",
          "1_protein_proteins_structure",
          "6_network_networks_time",
          "3_gene_genes_expression",
          "16_reads_sequence_domain",
          "4_patient_patients_health",
          "8_imaging_brain_features",
          "5_cancer_gene_genes",
          "10_features_cancer_training",
          "13_cell_cells_spatial",
          "7_tree_trees_taxa",
          "18_alignment_alignments_seq...",
          "9_drug_drugs_target",
          "11_harm_drug_gene",
          "12_virus_viral_cov",
          "15_rna_rnas_sequence",
          "17_mass_peptide_spectra",
          "19_topo_tube_system"
         ],
         "yaxis": "y",
         "z": [
          [
           1,
           0.7140172719955444,
           0.7120010852813721,
           0.6496179699897766,
           0.6760230660438538,
           0.7717911005020142,
           0.759871244430542,
           0.723626971244812,
           0.6962551474571228,
           0.7880061864852905,
           0.6939003467559814,
           0.688657283782959,
           0.6598479747772217,
           0.6254926919937134,
           0.697195291519165,
           0.815923810005188,
           0.6953535079956055,
           0.6386376023292542,
           0.6152596473693848,
           0.6142395734786987
          ],
          [
           0.7140172719955444,
           1.000000238418579,
           0.7723254561424255,
           0.7067136764526367,
           0.7486059665679932,
           0.7364246249198914,
           0.7851423025131226,
           0.7669039368629456,
           0.6175994277000427,
           0.6742851734161377,
           0.7295253276824951,
           0.675247311592102,
           0.6654322147369385,
           0.6112422943115234,
           0.7331477999687195,
           0.8094116449356079,
           0.6628768444061279,
           0.6163231134414673,
           0.6352978944778442,
           0.7673864960670471
          ],
          [
           0.7120010852813721,
           0.7723254561424255,
           0.9999997615814209,
           0.6422370672225952,
           0.6894122958183289,
           0.72607421875,
           0.7869906425476074,
           0.6481572389602661,
           0.5060707330703735,
           0.6432113647460938,
           0.65056312084198,
           0.6886026859283447,
           0.726956844329834,
           0.6038399934768677,
           0.6407552361488342,
           0.6620141267776489,
           0.6684778928756714,
           0.6307899355888367,
           0.6335246562957764,
           0.6234333515167236
          ],
          [
           0.6496179699897766,
           0.7067136764526367,
           0.6422370672225952,
           0.9999998807907104,
           0.801175057888031,
           0.7950060367584229,
           0.7806823253631592,
           0.5266857743263245,
           0.5397196412086487,
           0.6350288391113281,
           0.6387200355529785,
           0.654167115688324,
           0.6600973010063171,
           0.7327501773834229,
           0.7248267531394958,
           0.6316946148872375,
           0.7497611045837402,
           0.7531803846359253,
           0.7775222659111023,
           0.719480574131012
          ],
          [
           0.6760230660438538,
           0.7486059665679932,
           0.6894122958183289,
           0.801175057888031,
           1.000000238418579,
           0.8444714546203613,
           0.6964428424835205,
           0.6290885806083679,
           0.6012568473815918,
           0.691489040851593,
           0.7082525491714478,
           0.7324726581573486,
           0.6387555599212646,
           0.6011508107185364,
           0.7622143626213074,
           0.7118525505065918,
           0.6974586844444275,
           0.6251378059387207,
           0.6279475092887878,
           0.6913986802101135
          ],
          [
           0.7717911005020142,
           0.7364246249198914,
           0.72607421875,
           0.7950060367584229,
           0.8444714546203613,
           0.9999997615814209,
           0.8461124897003174,
           0.5642434358596802,
           0.591789722442627,
           0.7498928904533386,
           0.7286879420280457,
           0.7674292325973511,
           0.6897707581520081,
           0.707769513130188,
           0.7141863107681274,
           0.7006939649581909,
           0.718428909778595,
           0.7812445759773254,
           0.6581646203994751,
           0.7425464987754822
          ],
          [
           0.759871244430542,
           0.7851423025131226,
           0.7869906425476074,
           0.7806823253631592,
           0.6964428424835205,
           0.8461124897003174,
           1,
           0.5607220530509949,
           0.5232481956481934,
           0.7105468511581421,
           0.7194743156433105,
           0.695907473564148,
           0.8084553480148315,
           0.8202986121177673,
           0.6266191005706787,
           0.6578075289726257,
           0.7254470586776733,
           0.7863656282424927,
           0.6631031632423401,
           0.7841260433197021
          ],
          [
           0.723626971244812,
           0.7669039368629456,
           0.6481572389602661,
           0.5266857743263245,
           0.6290885806083679,
           0.5642434358596802,
           0.5607220530509949,
           1,
           0.7374435663223267,
           0.6930055618286133,
           0.7765150666236877,
           0.6525824069976807,
           0.42478054761886597,
           0.44979482889175415,
           0.7414320111274719,
           0.8071658611297607,
           0.5983465909957886,
           0.47164952754974365,
           0.5842538475990295,
           0.4753730595111847
          ],
          [
           0.6962551474571228,
           0.6175994277000427,
           0.5060707330703735,
           0.5397196412086487,
           0.6012568473815918,
           0.591789722442627,
           0.5232481956481934,
           0.7374435663223267,
           1,
           0.6438708901405334,
           0.6808009147644043,
           0.5918973684310913,
           0.3666653633117676,
           0.4239676892757416,
           0.6658591032028198,
           0.6830687522888184,
           0.5004366636276245,
           0.4749225378036499,
           0.5482012033462524,
           0.4288801848888397
          ],
          [
           0.7880061864852905,
           0.6742851734161377,
           0.6432113647460938,
           0.6350288391113281,
           0.691489040851593,
           0.7498928904533386,
           0.7105468511581421,
           0.6930055618286133,
           0.6438708901405334,
           1.000000238418579,
           0.8377400636672974,
           0.8391488790512085,
           0.5179331302642822,
           0.5487074851989746,
           0.7715452909469604,
           0.777983546257019,
           0.6611303091049194,
           0.6434738039970398,
           0.6381016373634338,
           0.5634121298789978
          ],
          [
           0.6939003467559814,
           0.7295253276824951,
           0.65056312084198,
           0.6387200355529785,
           0.7082525491714478,
           0.7286879420280457,
           0.7194743156433105,
           0.7765150666236877,
           0.6808009147644043,
           0.8377400636672974,
           0.9999998211860657,
           0.8148664236068726,
           0.5120763778686523,
           0.5397857427597046,
           0.7289279699325562,
           0.7161867022514343,
           0.6278198957443237,
           0.6160785555839539,
           0.6566736698150635,
           0.5617401599884033
          ],
          [
           0.688657283782959,
           0.675247311592102,
           0.6886026859283447,
           0.654167115688324,
           0.7324726581573486,
           0.7674292325973511,
           0.695907473564148,
           0.6525824069976807,
           0.5918973684310913,
           0.8391488790512085,
           0.8148664236068726,
           1,
           0.5016803741455078,
           0.5490975379943848,
           0.6942296028137207,
           0.6785603165626526,
           0.6893704533576965,
           0.6571907997131348,
           0.6698771715164185,
           0.547211766242981
          ],
          [
           0.6598479747772217,
           0.6654322147369385,
           0.726956844329834,
           0.6600973010063171,
           0.6387555599212646,
           0.6897707581520081,
           0.8084553480148315,
           0.42478054761886597,
           0.3666653633117676,
           0.5179331302642822,
           0.5120763778686523,
           0.5016803741455078,
           0.9999997615814209,
           0.7705141305923462,
           0.45939871668815613,
           0.5284786224365234,
           0.5920473337173462,
           0.6299833059310913,
           0.472475528717041,
           0.7259759902954102
          ],
          [
           0.6254926919937134,
           0.6112422943115234,
           0.6038399934768677,
           0.7327501773834229,
           0.6011508107185364,
           0.707769513130188,
           0.8202986121177673,
           0.44979482889175415,
           0.4239676892757416,
           0.5487074851989746,
           0.5397857427597046,
           0.5490975379943848,
           0.7705141305923462,
           1,
           0.4928591847419739,
           0.5109153389930725,
           0.6509244441986084,
           0.679422914981842,
           0.5888367295265198,
           0.6811279058456421
          ],
          [
           0.697195291519165,
           0.7331477999687195,
           0.6407552361488342,
           0.7248267531394958,
           0.7622143626213074,
           0.7141863107681274,
           0.6266191005706787,
           0.7414320111274719,
           0.6658591032028198,
           0.7715452909469604,
           0.7289279699325562,
           0.6942296028137207,
           0.45939871668815613,
           0.4928591847419739,
           0.9999999403953552,
           0.8842193484306335,
           0.6520962715148926,
           0.5743652582168579,
           0.6926379203796387,
           0.5700302720069885
          ],
          [
           0.815923810005188,
           0.8094116449356079,
           0.6620141267776489,
           0.6316946148872375,
           0.7118525505065918,
           0.7006939649581909,
           0.6578075289726257,
           0.8071658611297607,
           0.6830687522888184,
           0.777983546257019,
           0.7161867022514343,
           0.6785603165626526,
           0.5284786224365234,
           0.5109153389930725,
           0.8842193484306335,
           0.9999998807907104,
           0.6492667198181152,
           0.5466017723083496,
           0.5730180740356445,
           0.6114834547042847
          ],
          [
           0.6953535079956055,
           0.6628768444061279,
           0.6684778928756714,
           0.7497611045837402,
           0.6974586844444275,
           0.718428909778595,
           0.7254470586776733,
           0.5983465909957886,
           0.5004366636276245,
           0.6611303091049194,
           0.6278198957443237,
           0.6893704533576965,
           0.5920473337173462,
           0.6509244441986084,
           0.6520962715148926,
           0.6492667198181152,
           1.0000001192092896,
           0.7206279039382935,
           0.6445456147193909,
           0.634818434715271
          ],
          [
           0.6386376023292542,
           0.6163231134414673,
           0.6307899355888367,
           0.7531803846359253,
           0.6251378059387207,
           0.7812445759773254,
           0.7863656282424927,
           0.47164952754974365,
           0.4749225378036499,
           0.6434738039970398,
           0.6160785555839539,
           0.6571907997131348,
           0.6299833059310913,
           0.679422914981842,
           0.5743652582168579,
           0.5466017723083496,
           0.7206279039382935,
           1.0000001192092896,
           0.560245156288147,
           0.6681172847747803
          ],
          [
           0.6152596473693848,
           0.6352978944778442,
           0.6335246562957764,
           0.7775222659111023,
           0.6279475092887878,
           0.6581646203994751,
           0.6631031632423401,
           0.5842538475990295,
           0.5482012033462524,
           0.6381016373634338,
           0.6566736698150635,
           0.6698771715164185,
           0.472475528717041,
           0.5888367295265198,
           0.6926379203796387,
           0.5730180740356445,
           0.6445456147193909,
           0.560245156288147,
           1.0000001192092896,
           0.5170876979827881
          ],
          [
           0.6142395734786987,
           0.7673864960670471,
           0.6234333515167236,
           0.719480574131012,
           0.6913986802101135,
           0.7425464987754822,
           0.7841260433197021,
           0.4753730595111847,
           0.4288801848888397,
           0.5634121298789978,
           0.5617401599884033,
           0.547211766242981,
           0.7259759902954102,
           0.6811279058456421,
           0.5700302720069885,
           0.6114834547042847,
           0.634818434715271,
           0.6681172847747803,
           0.5170876979827881,
           1
          ]
         ]
        }
       ],
       "layout": {
        "coloraxis": {
         "colorbar": {
          "title": {
           "text": "Similarity Score"
          }
         },
         "colorscale": [
          [
           0,
           "rgb(247,252,240)"
          ],
          [
           0.125,
           "rgb(224,243,219)"
          ],
          [
           0.25,
           "rgb(204,235,197)"
          ],
          [
           0.375,
           "rgb(168,221,181)"
          ],
          [
           0.5,
           "rgb(123,204,196)"
          ],
          [
           0.625,
           "rgb(78,179,211)"
          ],
          [
           0.75,
           "rgb(43,140,190)"
          ],
          [
           0.875,
           "rgb(8,104,172)"
          ],
          [
           1,
           "rgb(8,64,129)"
          ]
         ]
        },
        "height": 1000,
        "hoverlabel": {
         "bgcolor": "white",
         "font": {
          "family": "Rockwell",
          "size": 16
         }
        },
        "legend": {
         "title": {
          "text": "Trend"
         }
        },
        "margin": {
         "t": 60
        },
        "showlegend": true,
        "template": {
         "data": {
          "bar": [
           {
            "error_x": {
             "color": "#2a3f5f"
            },
            "error_y": {
             "color": "#2a3f5f"
            },
            "marker": {
             "line": {
              "color": "#E5ECF6",
              "width": 0.5
             },
             "pattern": {
              "fillmode": "overlay",
              "size": 10,
              "solidity": 0.2
             }
            },
            "type": "bar"
           }
          ],
          "barpolar": [
           {
            "marker": {
             "line": {
              "color": "#E5ECF6",
              "width": 0.5
             },
             "pattern": {
              "fillmode": "overlay",
              "size": 10,
              "solidity": 0.2
             }
            },
            "type": "barpolar"
           }
          ],
          "carpet": [
           {
            "aaxis": {
             "endlinecolor": "#2a3f5f",
             "gridcolor": "white",
             "linecolor": "white",
             "minorgridcolor": "white",
             "startlinecolor": "#2a3f5f"
            },
            "baxis": {
             "endlinecolor": "#2a3f5f",
             "gridcolor": "white",
             "linecolor": "white",
             "minorgridcolor": "white",
             "startlinecolor": "#2a3f5f"
            },
            "type": "carpet"
           }
          ],
          "choropleth": [
           {
            "colorbar": {
             "outlinewidth": 0,
             "ticks": ""
            },
            "type": "choropleth"
           }
          ],
          "contour": [
           {
            "colorbar": {
             "outlinewidth": 0,
             "ticks": ""
            },
            "colorscale": [
             [
              0,
              "#0d0887"
             ],
             [
              0.1111111111111111,
              "#46039f"
             ],
             [
              0.2222222222222222,
              "#7201a8"
             ],
             [
              0.3333333333333333,
              "#9c179e"
             ],
             [
              0.4444444444444444,
              "#bd3786"
             ],
             [
              0.5555555555555556,
              "#d8576b"
             ],
             [
              0.6666666666666666,
              "#ed7953"
             ],
             [
              0.7777777777777778,
              "#fb9f3a"
             ],
             [
              0.8888888888888888,
              "#fdca26"
             ],
             [
              1,
              "#f0f921"
             ]
            ],
            "type": "contour"
           }
          ],
          "contourcarpet": [
           {
            "colorbar": {
             "outlinewidth": 0,
             "ticks": ""
            },
            "type": "contourcarpet"
           }
          ],
          "heatmap": [
           {
            "colorbar": {
             "outlinewidth": 0,
             "ticks": ""
            },
            "colorscale": [
             [
              0,
              "#0d0887"
             ],
             [
              0.1111111111111111,
              "#46039f"
             ],
             [
              0.2222222222222222,
              "#7201a8"
             ],
             [
              0.3333333333333333,
              "#9c179e"
             ],
             [
              0.4444444444444444,
              "#bd3786"
             ],
             [
              0.5555555555555556,
              "#d8576b"
             ],
             [
              0.6666666666666666,
              "#ed7953"
             ],
             [
              0.7777777777777778,
              "#fb9f3a"
             ],
             [
              0.8888888888888888,
              "#fdca26"
             ],
             [
              1,
              "#f0f921"
             ]
            ],
            "type": "heatmap"
           }
          ],
          "heatmapgl": [
           {
            "colorbar": {
             "outlinewidth": 0,
             "ticks": ""
            },
            "colorscale": [
             [
              0,
              "#0d0887"
             ],
             [
              0.1111111111111111,
              "#46039f"
             ],
             [
              0.2222222222222222,
              "#7201a8"
             ],
             [
              0.3333333333333333,
              "#9c179e"
             ],
             [
              0.4444444444444444,
              "#bd3786"
             ],
             [
              0.5555555555555556,
              "#d8576b"
             ],
             [
              0.6666666666666666,
              "#ed7953"
             ],
             [
              0.7777777777777778,
              "#fb9f3a"
             ],
             [
              0.8888888888888888,
              "#fdca26"
             ],
             [
              1,
              "#f0f921"
             ]
            ],
            "type": "heatmapgl"
           }
          ],
          "histogram": [
           {
            "marker": {
             "pattern": {
              "fillmode": "overlay",
              "size": 10,
              "solidity": 0.2
             }
            },
            "type": "histogram"
           }
          ],
          "histogram2d": [
           {
            "colorbar": {
             "outlinewidth": 0,
             "ticks": ""
            },
            "colorscale": [
             [
              0,
              "#0d0887"
             ],
             [
              0.1111111111111111,
              "#46039f"
             ],
             [
              0.2222222222222222,
              "#7201a8"
             ],
             [
              0.3333333333333333,
              "#9c179e"
             ],
             [
              0.4444444444444444,
              "#bd3786"
             ],
             [
              0.5555555555555556,
              "#d8576b"
             ],
             [
              0.6666666666666666,
              "#ed7953"
             ],
             [
              0.7777777777777778,
              "#fb9f3a"
             ],
             [
              0.8888888888888888,
              "#fdca26"
             ],
             [
              1,
              "#f0f921"
             ]
            ],
            "type": "histogram2d"
           }
          ],
          "histogram2dcontour": [
           {
            "colorbar": {
             "outlinewidth": 0,
             "ticks": ""
            },
            "colorscale": [
             [
              0,
              "#0d0887"
             ],
             [
              0.1111111111111111,
              "#46039f"
             ],
             [
              0.2222222222222222,
              "#7201a8"
             ],
             [
              0.3333333333333333,
              "#9c179e"
             ],
             [
              0.4444444444444444,
              "#bd3786"
             ],
             [
              0.5555555555555556,
              "#d8576b"
             ],
             [
              0.6666666666666666,
              "#ed7953"
             ],
             [
              0.7777777777777778,
              "#fb9f3a"
             ],
             [
              0.8888888888888888,
              "#fdca26"
             ],
             [
              1,
              "#f0f921"
             ]
            ],
            "type": "histogram2dcontour"
           }
          ],
          "mesh3d": [
           {
            "colorbar": {
             "outlinewidth": 0,
             "ticks": ""
            },
            "type": "mesh3d"
           }
          ],
          "parcoords": [
           {
            "line": {
             "colorbar": {
              "outlinewidth": 0,
              "ticks": ""
             }
            },
            "type": "parcoords"
           }
          ],
          "pie": [
           {
            "automargin": true,
            "type": "pie"
           }
          ],
          "scatter": [
           {
            "fillpattern": {
             "fillmode": "overlay",
             "size": 10,
             "solidity": 0.2
            },
            "type": "scatter"
           }
          ],
          "scatter3d": [
           {
            "line": {
             "colorbar": {
              "outlinewidth": 0,
              "ticks": ""
             }
            },
            "marker": {
             "colorbar": {
              "outlinewidth": 0,
              "ticks": ""
             }
            },
            "type": "scatter3d"
           }
          ],
          "scattercarpet": [
           {
            "marker": {
             "colorbar": {
              "outlinewidth": 0,
              "ticks": ""
             }
            },
            "type": "scattercarpet"
           }
          ],
          "scattergeo": [
           {
            "marker": {
             "colorbar": {
              "outlinewidth": 0,
              "ticks": ""
             }
            },
            "type": "scattergeo"
           }
          ],
          "scattergl": [
           {
            "marker": {
             "colorbar": {
              "outlinewidth": 0,
              "ticks": ""
             }
            },
            "type": "scattergl"
           }
          ],
          "scattermapbox": [
           {
            "marker": {
             "colorbar": {
              "outlinewidth": 0,
              "ticks": ""
             }
            },
            "type": "scattermapbox"
           }
          ],
          "scatterpolar": [
           {
            "marker": {
             "colorbar": {
              "outlinewidth": 0,
              "ticks": ""
             }
            },
            "type": "scatterpolar"
           }
          ],
          "scatterpolargl": [
           {
            "marker": {
             "colorbar": {
              "outlinewidth": 0,
              "ticks": ""
             }
            },
            "type": "scatterpolargl"
           }
          ],
          "scatterternary": [
           {
            "marker": {
             "colorbar": {
              "outlinewidth": 0,
              "ticks": ""
             }
            },
            "type": "scatterternary"
           }
          ],
          "surface": [
           {
            "colorbar": {
             "outlinewidth": 0,
             "ticks": ""
            },
            "colorscale": [
             [
              0,
              "#0d0887"
             ],
             [
              0.1111111111111111,
              "#46039f"
             ],
             [
              0.2222222222222222,
              "#7201a8"
             ],
             [
              0.3333333333333333,
              "#9c179e"
             ],
             [
              0.4444444444444444,
              "#bd3786"
             ],
             [
              0.5555555555555556,
              "#d8576b"
             ],
             [
              0.6666666666666666,
              "#ed7953"
             ],
             [
              0.7777777777777778,
              "#fb9f3a"
             ],
             [
              0.8888888888888888,
              "#fdca26"
             ],
             [
              1,
              "#f0f921"
             ]
            ],
            "type": "surface"
           }
          ],
          "table": [
           {
            "cells": {
             "fill": {
              "color": "#EBF0F8"
             },
             "line": {
              "color": "white"
             }
            },
            "header": {
             "fill": {
              "color": "#C8D4E3"
             },
             "line": {
              "color": "white"
             }
            },
            "type": "table"
           }
          ]
         },
         "layout": {
          "annotationdefaults": {
           "arrowcolor": "#2a3f5f",
           "arrowhead": 0,
           "arrowwidth": 1
          },
          "autotypenumbers": "strict",
          "coloraxis": {
           "colorbar": {
            "outlinewidth": 0,
            "ticks": ""
           }
          },
          "colorscale": {
           "diverging": [
            [
             0,
             "#8e0152"
            ],
            [
             0.1,
             "#c51b7d"
            ],
            [
             0.2,
             "#de77ae"
            ],
            [
             0.3,
             "#f1b6da"
            ],
            [
             0.4,
             "#fde0ef"
            ],
            [
             0.5,
             "#f7f7f7"
            ],
            [
             0.6,
             "#e6f5d0"
            ],
            [
             0.7,
             "#b8e186"
            ],
            [
             0.8,
             "#7fbc41"
            ],
            [
             0.9,
             "#4d9221"
            ],
            [
             1,
             "#276419"
            ]
           ],
           "sequential": [
            [
             0,
             "#0d0887"
            ],
            [
             0.1111111111111111,
             "#46039f"
            ],
            [
             0.2222222222222222,
             "#7201a8"
            ],
            [
             0.3333333333333333,
             "#9c179e"
            ],
            [
             0.4444444444444444,
             "#bd3786"
            ],
            [
             0.5555555555555556,
             "#d8576b"
            ],
            [
             0.6666666666666666,
             "#ed7953"
            ],
            [
             0.7777777777777778,
             "#fb9f3a"
            ],
            [
             0.8888888888888888,
             "#fdca26"
            ],
            [
             1,
             "#f0f921"
            ]
           ],
           "sequentialminus": [
            [
             0,
             "#0d0887"
            ],
            [
             0.1111111111111111,
             "#46039f"
            ],
            [
             0.2222222222222222,
             "#7201a8"
            ],
            [
             0.3333333333333333,
             "#9c179e"
            ],
            [
             0.4444444444444444,
             "#bd3786"
            ],
            [
             0.5555555555555556,
             "#d8576b"
            ],
            [
             0.6666666666666666,
             "#ed7953"
            ],
            [
             0.7777777777777778,
             "#fb9f3a"
            ],
            [
             0.8888888888888888,
             "#fdca26"
            ],
            [
             1,
             "#f0f921"
            ]
           ]
          },
          "colorway": [
           "#636efa",
           "#EF553B",
           "#00cc96",
           "#ab63fa",
           "#FFA15A",
           "#19d3f3",
           "#FF6692",
           "#B6E880",
           "#FF97FF",
           "#FECB52"
          ],
          "font": {
           "color": "#2a3f5f"
          },
          "geo": {
           "bgcolor": "white",
           "lakecolor": "white",
           "landcolor": "#E5ECF6",
           "showlakes": true,
           "showland": true,
           "subunitcolor": "white"
          },
          "hoverlabel": {
           "align": "left"
          },
          "hovermode": "closest",
          "mapbox": {
           "style": "light"
          },
          "paper_bgcolor": "white",
          "plot_bgcolor": "#E5ECF6",
          "polar": {
           "angularaxis": {
            "gridcolor": "white",
            "linecolor": "white",
            "ticks": ""
           },
           "bgcolor": "#E5ECF6",
           "radialaxis": {
            "gridcolor": "white",
            "linecolor": "white",
            "ticks": ""
           }
          },
          "scene": {
           "xaxis": {
            "backgroundcolor": "#E5ECF6",
            "gridcolor": "white",
            "gridwidth": 2,
            "linecolor": "white",
            "showbackground": true,
            "ticks": "",
            "zerolinecolor": "white"
           },
           "yaxis": {
            "backgroundcolor": "#E5ECF6",
            "gridcolor": "white",
            "gridwidth": 2,
            "linecolor": "white",
            "showbackground": true,
            "ticks": "",
            "zerolinecolor": "white"
           },
           "zaxis": {
            "backgroundcolor": "#E5ECF6",
            "gridcolor": "white",
            "gridwidth": 2,
            "linecolor": "white",
            "showbackground": true,
            "ticks": "",
            "zerolinecolor": "white"
           }
          },
          "shapedefaults": {
           "line": {
            "color": "#2a3f5f"
           }
          },
          "ternary": {
           "aaxis": {
            "gridcolor": "white",
            "linecolor": "white",
            "ticks": ""
           },
           "baxis": {
            "gridcolor": "white",
            "linecolor": "white",
            "ticks": ""
           },
           "bgcolor": "#E5ECF6",
           "caxis": {
            "gridcolor": "white",
            "linecolor": "white",
            "ticks": ""
           }
          },
          "title": {
           "x": 0.05
          },
          "xaxis": {
           "automargin": true,
           "gridcolor": "white",
           "linecolor": "white",
           "ticks": "",
           "title": {
            "standoff": 15
           },
           "zerolinecolor": "white",
           "zerolinewidth": 2
          },
          "yaxis": {
           "automargin": true,
           "gridcolor": "white",
           "linecolor": "white",
           "ticks": "",
           "title": {
            "standoff": 15
           },
           "zerolinecolor": "white",
           "zerolinewidth": 2
          }
         }
        },
        "title": {
         "font": {
          "color": "Black",
          "size": 22
         },
         "text": "<b>Similarity Matrix</b>",
         "x": 0.55,
         "xanchor": "center",
         "y": 0.95,
         "yanchor": "top"
        },
        "width": 1000,
        "xaxis": {
         "anchor": "y",
         "constrain": "domain",
         "domain": [
          0,
          1
         ],
         "scaleanchor": "y"
        },
        "yaxis": {
         "anchor": "x",
         "autorange": "reversed",
         "constrain": "domain",
         "domain": [
          0,
          1
         ]
        }
       }
      },
      "text/html": [
       "<div>                        <script type=\"text/javascript\">window.PlotlyConfig = {MathJaxConfig: 'local'};</script>\n",
       "        <script charset=\"utf-8\" src=\"https://cdn.plot.ly/plotly-2.32.0.min.js\"></script>                <div id=\"7928c6d4-9d06-4457-9e4a-270783c410d3\" class=\"plotly-graph-div\" style=\"height:1000px; width:1000px;\"></div>            <script type=\"text/javascript\">                                    window.PLOTLYENV=window.PLOTLYENV || {};                                    if (document.getElementById(\"7928c6d4-9d06-4457-9e4a-270783c410d3\")) {                    Plotly.newPlot(                        \"7928c6d4-9d06-4457-9e4a-270783c410d3\",                        [{\"coloraxis\":\"coloraxis\",\"name\":\"0\",\"x\":[\"0_snps_snp_disease\",\"2_terms_information_ontology\",\"14_rac_species_rrna\",\"1_protein_proteins_structure\",\"6_network_networks_time\",\"3_gene_genes_expression\",\"16_reads_sequence_domain\",\"4_patient_patients_health\",\"8_imaging_brain_features\",\"5_cancer_gene_genes\",\"10_features_cancer_training\",\"13_cell_cells_spatial\",\"7_tree_trees_taxa\",\"18_alignment_alignments_seq...\",\"9_drug_drugs_target\",\"11_harm_drug_gene\",\"12_virus_viral_cov\",\"15_rna_rnas_sequence\",\"17_mass_peptide_spectra\",\"19_topo_tube_system\"],\"y\":[\"0_snps_snp_disease\",\"2_terms_information_ontology\",\"14_rac_species_rrna\",\"1_protein_proteins_structure\",\"6_network_networks_time\",\"3_gene_genes_expression\",\"16_reads_sequence_domain\",\"4_patient_patients_health\",\"8_imaging_brain_features\",\"5_cancer_gene_genes\",\"10_features_cancer_training\",\"13_cell_cells_spatial\",\"7_tree_trees_taxa\",\"18_alignment_alignments_seq...\",\"9_drug_drugs_target\",\"11_harm_drug_gene\",\"12_virus_viral_cov\",\"15_rna_rnas_sequence\",\"17_mass_peptide_spectra\",\"19_topo_tube_system\"],\"z\":[[1.0,0.7140172719955444,0.7120010852813721,0.6496179699897766,0.6760230660438538,0.7717911005020142,0.759871244430542,0.723626971244812,0.6962551474571228,0.7880061864852905,0.6939003467559814,0.688657283782959,0.6598479747772217,0.6254926919937134,0.697195291519165,0.815923810005188,0.6953535079956055,0.6386376023292542,0.6152596473693848,0.6142395734786987],[0.7140172719955444,1.000000238418579,0.7723254561424255,0.7067136764526367,0.7486059665679932,0.7364246249198914,0.7851423025131226,0.7669039368629456,0.6175994277000427,0.6742851734161377,0.7295253276824951,0.675247311592102,0.6654322147369385,0.6112422943115234,0.7331477999687195,0.8094116449356079,0.6628768444061279,0.6163231134414673,0.6352978944778442,0.7673864960670471],[0.7120010852813721,0.7723254561424255,0.9999997615814209,0.6422370672225952,0.6894122958183289,0.72607421875,0.7869906425476074,0.6481572389602661,0.5060707330703735,0.6432113647460938,0.65056312084198,0.6886026859283447,0.726956844329834,0.6038399934768677,0.6407552361488342,0.6620141267776489,0.6684778928756714,0.6307899355888367,0.6335246562957764,0.6234333515167236],[0.6496179699897766,0.7067136764526367,0.6422370672225952,0.9999998807907104,0.801175057888031,0.7950060367584229,0.7806823253631592,0.5266857743263245,0.5397196412086487,0.6350288391113281,0.6387200355529785,0.654167115688324,0.6600973010063171,0.7327501773834229,0.7248267531394958,0.6316946148872375,0.7497611045837402,0.7531803846359253,0.7775222659111023,0.719480574131012],[0.6760230660438538,0.7486059665679932,0.6894122958183289,0.801175057888031,1.000000238418579,0.8444714546203613,0.6964428424835205,0.6290885806083679,0.6012568473815918,0.691489040851593,0.7082525491714478,0.7324726581573486,0.6387555599212646,0.6011508107185364,0.7622143626213074,0.7118525505065918,0.6974586844444275,0.6251378059387207,0.6279475092887878,0.6913986802101135],[0.7717911005020142,0.7364246249198914,0.72607421875,0.7950060367584229,0.8444714546203613,0.9999997615814209,0.8461124897003174,0.5642434358596802,0.591789722442627,0.7498928904533386,0.7286879420280457,0.7674292325973511,0.6897707581520081,0.707769513130188,0.7141863107681274,0.7006939649581909,0.718428909778595,0.7812445759773254,0.6581646203994751,0.7425464987754822],[0.759871244430542,0.7851423025131226,0.7869906425476074,0.7806823253631592,0.6964428424835205,0.8461124897003174,1.0,0.5607220530509949,0.5232481956481934,0.7105468511581421,0.7194743156433105,0.695907473564148,0.8084553480148315,0.8202986121177673,0.6266191005706787,0.6578075289726257,0.7254470586776733,0.7863656282424927,0.6631031632423401,0.7841260433197021],[0.723626971244812,0.7669039368629456,0.6481572389602661,0.5266857743263245,0.6290885806083679,0.5642434358596802,0.5607220530509949,1.0,0.7374435663223267,0.6930055618286133,0.7765150666236877,0.6525824069976807,0.42478054761886597,0.44979482889175415,0.7414320111274719,0.8071658611297607,0.5983465909957886,0.47164952754974365,0.5842538475990295,0.4753730595111847],[0.6962551474571228,0.6175994277000427,0.5060707330703735,0.5397196412086487,0.6012568473815918,0.591789722442627,0.5232481956481934,0.7374435663223267,1.0,0.6438708901405334,0.6808009147644043,0.5918973684310913,0.3666653633117676,0.4239676892757416,0.6658591032028198,0.6830687522888184,0.5004366636276245,0.4749225378036499,0.5482012033462524,0.4288801848888397],[0.7880061864852905,0.6742851734161377,0.6432113647460938,0.6350288391113281,0.691489040851593,0.7498928904533386,0.7105468511581421,0.6930055618286133,0.6438708901405334,1.000000238418579,0.8377400636672974,0.8391488790512085,0.5179331302642822,0.5487074851989746,0.7715452909469604,0.777983546257019,0.6611303091049194,0.6434738039970398,0.6381016373634338,0.5634121298789978],[0.6939003467559814,0.7295253276824951,0.65056312084198,0.6387200355529785,0.7082525491714478,0.7286879420280457,0.7194743156433105,0.7765150666236877,0.6808009147644043,0.8377400636672974,0.9999998211860657,0.8148664236068726,0.5120763778686523,0.5397857427597046,0.7289279699325562,0.7161867022514343,0.6278198957443237,0.6160785555839539,0.6566736698150635,0.5617401599884033],[0.688657283782959,0.675247311592102,0.6886026859283447,0.654167115688324,0.7324726581573486,0.7674292325973511,0.695907473564148,0.6525824069976807,0.5918973684310913,0.8391488790512085,0.8148664236068726,1.0,0.5016803741455078,0.5490975379943848,0.6942296028137207,0.6785603165626526,0.6893704533576965,0.6571907997131348,0.6698771715164185,0.547211766242981],[0.6598479747772217,0.6654322147369385,0.726956844329834,0.6600973010063171,0.6387555599212646,0.6897707581520081,0.8084553480148315,0.42478054761886597,0.3666653633117676,0.5179331302642822,0.5120763778686523,0.5016803741455078,0.9999997615814209,0.7705141305923462,0.45939871668815613,0.5284786224365234,0.5920473337173462,0.6299833059310913,0.472475528717041,0.7259759902954102],[0.6254926919937134,0.6112422943115234,0.6038399934768677,0.7327501773834229,0.6011508107185364,0.707769513130188,0.8202986121177673,0.44979482889175415,0.4239676892757416,0.5487074851989746,0.5397857427597046,0.5490975379943848,0.7705141305923462,1.0,0.4928591847419739,0.5109153389930725,0.6509244441986084,0.679422914981842,0.5888367295265198,0.6811279058456421],[0.697195291519165,0.7331477999687195,0.6407552361488342,0.7248267531394958,0.7622143626213074,0.7141863107681274,0.6266191005706787,0.7414320111274719,0.6658591032028198,0.7715452909469604,0.7289279699325562,0.6942296028137207,0.45939871668815613,0.4928591847419739,0.9999999403953552,0.8842193484306335,0.6520962715148926,0.5743652582168579,0.6926379203796387,0.5700302720069885],[0.815923810005188,0.8094116449356079,0.6620141267776489,0.6316946148872375,0.7118525505065918,0.7006939649581909,0.6578075289726257,0.8071658611297607,0.6830687522888184,0.777983546257019,0.7161867022514343,0.6785603165626526,0.5284786224365234,0.5109153389930725,0.8842193484306335,0.9999998807907104,0.6492667198181152,0.5466017723083496,0.5730180740356445,0.6114834547042847],[0.6953535079956055,0.6628768444061279,0.6684778928756714,0.7497611045837402,0.6974586844444275,0.718428909778595,0.7254470586776733,0.5983465909957886,0.5004366636276245,0.6611303091049194,0.6278198957443237,0.6893704533576965,0.5920473337173462,0.6509244441986084,0.6520962715148926,0.6492667198181152,1.0000001192092896,0.7206279039382935,0.6445456147193909,0.634818434715271],[0.6386376023292542,0.6163231134414673,0.6307899355888367,0.7531803846359253,0.6251378059387207,0.7812445759773254,0.7863656282424927,0.47164952754974365,0.4749225378036499,0.6434738039970398,0.6160785555839539,0.6571907997131348,0.6299833059310913,0.679422914981842,0.5743652582168579,0.5466017723083496,0.7206279039382935,1.0000001192092896,0.560245156288147,0.6681172847747803],[0.6152596473693848,0.6352978944778442,0.6335246562957764,0.7775222659111023,0.6279475092887878,0.6581646203994751,0.6631031632423401,0.5842538475990295,0.5482012033462524,0.6381016373634338,0.6566736698150635,0.6698771715164185,0.472475528717041,0.5888367295265198,0.6926379203796387,0.5730180740356445,0.6445456147193909,0.560245156288147,1.0000001192092896,0.5170876979827881],[0.6142395734786987,0.7673864960670471,0.6234333515167236,0.719480574131012,0.6913986802101135,0.7425464987754822,0.7841260433197021,0.4753730595111847,0.4288801848888397,0.5634121298789978,0.5617401599884033,0.547211766242981,0.7259759902954102,0.6811279058456421,0.5700302720069885,0.6114834547042847,0.634818434715271,0.6681172847747803,0.5170876979827881,1.0]],\"type\":\"heatmap\",\"xaxis\":\"x\",\"yaxis\":\"y\",\"hovertemplate\":\"x: %{x}\\u003cbr\\u003ey: %{y}\\u003cbr\\u003eSimilarity Score: %{z}\\u003cextra\\u003e\\u003c\\u002fextra\\u003e\"}],                        {\"template\":{\"data\":{\"histogram2dcontour\":[{\"type\":\"histogram2dcontour\",\"colorbar\":{\"outlinewidth\":0,\"ticks\":\"\"},\"colorscale\":[[0.0,\"#0d0887\"],[0.1111111111111111,\"#46039f\"],[0.2222222222222222,\"#7201a8\"],[0.3333333333333333,\"#9c179e\"],[0.4444444444444444,\"#bd3786\"],[0.5555555555555556,\"#d8576b\"],[0.6666666666666666,\"#ed7953\"],[0.7777777777777778,\"#fb9f3a\"],[0.8888888888888888,\"#fdca26\"],[1.0,\"#f0f921\"]]}],\"choropleth\":[{\"type\":\"choropleth\",\"colorbar\":{\"outlinewidth\":0,\"ticks\":\"\"}}],\"histogram2d\":[{\"type\":\"histogram2d\",\"colorbar\":{\"outlinewidth\":0,\"ticks\":\"\"},\"colorscale\":[[0.0,\"#0d0887\"],[0.1111111111111111,\"#46039f\"],[0.2222222222222222,\"#7201a8\"],[0.3333333333333333,\"#9c179e\"],[0.4444444444444444,\"#bd3786\"],[0.5555555555555556,\"#d8576b\"],[0.6666666666666666,\"#ed7953\"],[0.7777777777777778,\"#fb9f3a\"],[0.8888888888888888,\"#fdca26\"],[1.0,\"#f0f921\"]]}],\"heatmap\":[{\"type\":\"heatmap\",\"colorbar\":{\"outlinewidth\":0,\"ticks\":\"\"},\"colorscale\":[[0.0,\"#0d0887\"],[0.1111111111111111,\"#46039f\"],[0.2222222222222222,\"#7201a8\"],[0.3333333333333333,\"#9c179e\"],[0.4444444444444444,\"#bd3786\"],[0.5555555555555556,\"#d8576b\"],[0.6666666666666666,\"#ed7953\"],[0.7777777777777778,\"#fb9f3a\"],[0.8888888888888888,\"#fdca26\"],[1.0,\"#f0f921\"]]}],\"heatmapgl\":[{\"type\":\"heatmapgl\",\"colorbar\":{\"outlinewidth\":0,\"ticks\":\"\"},\"colorscale\":[[0.0,\"#0d0887\"],[0.1111111111111111,\"#46039f\"],[0.2222222222222222,\"#7201a8\"],[0.3333333333333333,\"#9c179e\"],[0.4444444444444444,\"#bd3786\"],[0.5555555555555556,\"#d8576b\"],[0.6666666666666666,\"#ed7953\"],[0.7777777777777778,\"#fb9f3a\"],[0.8888888888888888,\"#fdca26\"],[1.0,\"#f0f921\"]]}],\"contourcarpet\":[{\"type\":\"contourcarpet\",\"colorbar\":{\"outlinewidth\":0,\"ticks\":\"\"}}],\"contour\":[{\"type\":\"contour\",\"colorbar\":{\"outlinewidth\":0,\"ticks\":\"\"},\"colorscale\":[[0.0,\"#0d0887\"],[0.1111111111111111,\"#46039f\"],[0.2222222222222222,\"#7201a8\"],[0.3333333333333333,\"#9c179e\"],[0.4444444444444444,\"#bd3786\"],[0.5555555555555556,\"#d8576b\"],[0.6666666666666666,\"#ed7953\"],[0.7777777777777778,\"#fb9f3a\"],[0.8888888888888888,\"#fdca26\"],[1.0,\"#f0f921\"]]}],\"surface\":[{\"type\":\"surface\",\"colorbar\":{\"outlinewidth\":0,\"ticks\":\"\"},\"colorscale\":[[0.0,\"#0d0887\"],[0.1111111111111111,\"#46039f\"],[0.2222222222222222,\"#7201a8\"],[0.3333333333333333,\"#9c179e\"],[0.4444444444444444,\"#bd3786\"],[0.5555555555555556,\"#d8576b\"],[0.6666666666666666,\"#ed7953\"],[0.7777777777777778,\"#fb9f3a\"],[0.8888888888888888,\"#fdca26\"],[1.0,\"#f0f921\"]]}],\"mesh3d\":[{\"type\":\"mesh3d\",\"colorbar\":{\"outlinewidth\":0,\"ticks\":\"\"}}],\"scatter\":[{\"fillpattern\":{\"fillmode\":\"overlay\",\"size\":10,\"solidity\":0.2},\"type\":\"scatter\"}],\"parcoords\":[{\"type\":\"parcoords\",\"line\":{\"colorbar\":{\"outlinewidth\":0,\"ticks\":\"\"}}}],\"scatterpolargl\":[{\"type\":\"scatterpolargl\",\"marker\":{\"colorbar\":{\"outlinewidth\":0,\"ticks\":\"\"}}}],\"bar\":[{\"error_x\":{\"color\":\"#2a3f5f\"},\"error_y\":{\"color\":\"#2a3f5f\"},\"marker\":{\"line\":{\"color\":\"#E5ECF6\",\"width\":0.5},\"pattern\":{\"fillmode\":\"overlay\",\"size\":10,\"solidity\":0.2}},\"type\":\"bar\"}],\"scattergeo\":[{\"type\":\"scattergeo\",\"marker\":{\"colorbar\":{\"outlinewidth\":0,\"ticks\":\"\"}}}],\"scatterpolar\":[{\"type\":\"scatterpolar\",\"marker\":{\"colorbar\":{\"outlinewidth\":0,\"ticks\":\"\"}}}],\"histogram\":[{\"marker\":{\"pattern\":{\"fillmode\":\"overlay\",\"size\":10,\"solidity\":0.2}},\"type\":\"histogram\"}],\"scattergl\":[{\"type\":\"scattergl\",\"marker\":{\"colorbar\":{\"outlinewidth\":0,\"ticks\":\"\"}}}],\"scatter3d\":[{\"type\":\"scatter3d\",\"line\":{\"colorbar\":{\"outlinewidth\":0,\"ticks\":\"\"}},\"marker\":{\"colorbar\":{\"outlinewidth\":0,\"ticks\":\"\"}}}],\"scattermapbox\":[{\"type\":\"scattermapbox\",\"marker\":{\"colorbar\":{\"outlinewidth\":0,\"ticks\":\"\"}}}],\"scatterternary\":[{\"type\":\"scatterternary\",\"marker\":{\"colorbar\":{\"outlinewidth\":0,\"ticks\":\"\"}}}],\"scattercarpet\":[{\"type\":\"scattercarpet\",\"marker\":{\"colorbar\":{\"outlinewidth\":0,\"ticks\":\"\"}}}],\"carpet\":[{\"aaxis\":{\"endlinecolor\":\"#2a3f5f\",\"gridcolor\":\"white\",\"linecolor\":\"white\",\"minorgridcolor\":\"white\",\"startlinecolor\":\"#2a3f5f\"},\"baxis\":{\"endlinecolor\":\"#2a3f5f\",\"gridcolor\":\"white\",\"linecolor\":\"white\",\"minorgridcolor\":\"white\",\"startlinecolor\":\"#2a3f5f\"},\"type\":\"carpet\"}],\"table\":[{\"cells\":{\"fill\":{\"color\":\"#EBF0F8\"},\"line\":{\"color\":\"white\"}},\"header\":{\"fill\":{\"color\":\"#C8D4E3\"},\"line\":{\"color\":\"white\"}},\"type\":\"table\"}],\"barpolar\":[{\"marker\":{\"line\":{\"color\":\"#E5ECF6\",\"width\":0.5},\"pattern\":{\"fillmode\":\"overlay\",\"size\":10,\"solidity\":0.2}},\"type\":\"barpolar\"}],\"pie\":[{\"automargin\":true,\"type\":\"pie\"}]},\"layout\":{\"autotypenumbers\":\"strict\",\"colorway\":[\"#636efa\",\"#EF553B\",\"#00cc96\",\"#ab63fa\",\"#FFA15A\",\"#19d3f3\",\"#FF6692\",\"#B6E880\",\"#FF97FF\",\"#FECB52\"],\"font\":{\"color\":\"#2a3f5f\"},\"hovermode\":\"closest\",\"hoverlabel\":{\"align\":\"left\"},\"paper_bgcolor\":\"white\",\"plot_bgcolor\":\"#E5ECF6\",\"polar\":{\"bgcolor\":\"#E5ECF6\",\"angularaxis\":{\"gridcolor\":\"white\",\"linecolor\":\"white\",\"ticks\":\"\"},\"radialaxis\":{\"gridcolor\":\"white\",\"linecolor\":\"white\",\"ticks\":\"\"}},\"ternary\":{\"bgcolor\":\"#E5ECF6\",\"aaxis\":{\"gridcolor\":\"white\",\"linecolor\":\"white\",\"ticks\":\"\"},\"baxis\":{\"gridcolor\":\"white\",\"linecolor\":\"white\",\"ticks\":\"\"},\"caxis\":{\"gridcolor\":\"white\",\"linecolor\":\"white\",\"ticks\":\"\"}},\"coloraxis\":{\"colorbar\":{\"outlinewidth\":0,\"ticks\":\"\"}},\"colorscale\":{\"sequential\":[[0.0,\"#0d0887\"],[0.1111111111111111,\"#46039f\"],[0.2222222222222222,\"#7201a8\"],[0.3333333333333333,\"#9c179e\"],[0.4444444444444444,\"#bd3786\"],[0.5555555555555556,\"#d8576b\"],[0.6666666666666666,\"#ed7953\"],[0.7777777777777778,\"#fb9f3a\"],[0.8888888888888888,\"#fdca26\"],[1.0,\"#f0f921\"]],\"sequentialminus\":[[0.0,\"#0d0887\"],[0.1111111111111111,\"#46039f\"],[0.2222222222222222,\"#7201a8\"],[0.3333333333333333,\"#9c179e\"],[0.4444444444444444,\"#bd3786\"],[0.5555555555555556,\"#d8576b\"],[0.6666666666666666,\"#ed7953\"],[0.7777777777777778,\"#fb9f3a\"],[0.8888888888888888,\"#fdca26\"],[1.0,\"#f0f921\"]],\"diverging\":[[0,\"#8e0152\"],[0.1,\"#c51b7d\"],[0.2,\"#de77ae\"],[0.3,\"#f1b6da\"],[0.4,\"#fde0ef\"],[0.5,\"#f7f7f7\"],[0.6,\"#e6f5d0\"],[0.7,\"#b8e186\"],[0.8,\"#7fbc41\"],[0.9,\"#4d9221\"],[1,\"#276419\"]]},\"xaxis\":{\"gridcolor\":\"white\",\"linecolor\":\"white\",\"ticks\":\"\",\"title\":{\"standoff\":15},\"zerolinecolor\":\"white\",\"automargin\":true,\"zerolinewidth\":2},\"yaxis\":{\"gridcolor\":\"white\",\"linecolor\":\"white\",\"ticks\":\"\",\"title\":{\"standoff\":15},\"zerolinecolor\":\"white\",\"automargin\":true,\"zerolinewidth\":2},\"scene\":{\"xaxis\":{\"backgroundcolor\":\"#E5ECF6\",\"gridcolor\":\"white\",\"linecolor\":\"white\",\"showbackground\":true,\"ticks\":\"\",\"zerolinecolor\":\"white\",\"gridwidth\":2},\"yaxis\":{\"backgroundcolor\":\"#E5ECF6\",\"gridcolor\":\"white\",\"linecolor\":\"white\",\"showbackground\":true,\"ticks\":\"\",\"zerolinecolor\":\"white\",\"gridwidth\":2},\"zaxis\":{\"backgroundcolor\":\"#E5ECF6\",\"gridcolor\":\"white\",\"linecolor\":\"white\",\"showbackground\":true,\"ticks\":\"\",\"zerolinecolor\":\"white\",\"gridwidth\":2}},\"shapedefaults\":{\"line\":{\"color\":\"#2a3f5f\"}},\"annotationdefaults\":{\"arrowcolor\":\"#2a3f5f\",\"arrowhead\":0,\"arrowwidth\":1},\"geo\":{\"bgcolor\":\"white\",\"landcolor\":\"#E5ECF6\",\"subunitcolor\":\"white\",\"showland\":true,\"showlakes\":true,\"lakecolor\":\"white\"},\"title\":{\"x\":0.05},\"mapbox\":{\"style\":\"light\"}}},\"xaxis\":{\"anchor\":\"y\",\"domain\":[0.0,1.0],\"scaleanchor\":\"y\",\"constrain\":\"domain\"},\"yaxis\":{\"anchor\":\"x\",\"domain\":[0.0,1.0],\"autorange\":\"reversed\",\"constrain\":\"domain\"},\"coloraxis\":{\"colorbar\":{\"title\":{\"text\":\"Similarity Score\"}},\"colorscale\":[[0.0,\"rgb(247,252,240)\"],[0.125,\"rgb(224,243,219)\"],[0.25,\"rgb(204,235,197)\"],[0.375,\"rgb(168,221,181)\"],[0.5,\"rgb(123,204,196)\"],[0.625,\"rgb(78,179,211)\"],[0.75,\"rgb(43,140,190)\"],[0.875,\"rgb(8,104,172)\"],[1.0,\"rgb(8,64,129)\"]]},\"margin\":{\"t\":60},\"title\":{\"font\":{\"size\":22,\"color\":\"Black\"},\"text\":\"\\u003cb\\u003eSimilarity Matrix\\u003c\\u002fb\\u003e\",\"y\":0.95,\"x\":0.55,\"xanchor\":\"center\",\"yanchor\":\"top\"},\"hoverlabel\":{\"font\":{\"size\":16,\"family\":\"Rockwell\"},\"bgcolor\":\"white\"},\"width\":1000,\"height\":1000,\"showlegend\":true,\"legend\":{\"title\":{\"text\":\"Trend\"}}},                        {\"responsive\": true}                    )                };                            </script>        </div>"
      ],
      "text/plain": [
       "Figure({\n",
       "    'data': [{'coloraxis': 'coloraxis',\n",
       "              'hovertemplate': 'x: %{x}<br>y: %{y}<br>Similarity Score: %{z}<extra></extra>',\n",
       "              'name': '0',\n",
       "              'type': 'heatmap',\n",
       "              'x': [0_snps_snp_disease, 2_terms_information_ontology,\n",
       "                    14_rac_species_rrna, 1_protein_proteins_structure,\n",
       "                    6_network_networks_time, 3_gene_genes_expression,\n",
       "                    16_reads_sequence_domain, 4_patient_patients_health,\n",
       "                    8_imaging_brain_features, 5_cancer_gene_genes,\n",
       "                    10_features_cancer_training, 13_cell_cells_spatial,\n",
       "                    7_tree_trees_taxa, 18_alignment_alignments_seq...,\n",
       "                    9_drug_drugs_target, 11_harm_drug_gene, 12_virus_viral_cov,\n",
       "                    15_rna_rnas_sequence, 17_mass_peptide_spectra,\n",
       "                    19_topo_tube_system],\n",
       "              'xaxis': 'x',\n",
       "              'y': [0_snps_snp_disease, 2_terms_information_ontology,\n",
       "                    14_rac_species_rrna, 1_protein_proteins_structure,\n",
       "                    6_network_networks_time, 3_gene_genes_expression,\n",
       "                    16_reads_sequence_domain, 4_patient_patients_health,\n",
       "                    8_imaging_brain_features, 5_cancer_gene_genes,\n",
       "                    10_features_cancer_training, 13_cell_cells_spatial,\n",
       "                    7_tree_trees_taxa, 18_alignment_alignments_seq...,\n",
       "                    9_drug_drugs_target, 11_harm_drug_gene, 12_virus_viral_cov,\n",
       "                    15_rna_rnas_sequence, 17_mass_peptide_spectra,\n",
       "                    19_topo_tube_system],\n",
       "              'yaxis': 'y',\n",
       "              'z': array([[1.        , 0.7140173 , 0.7120011 , ..., 0.6386376 , 0.61525965,\n",
       "                           0.6142396 ],\n",
       "                          [0.7140173 , 1.0000002 , 0.77232546, ..., 0.6163231 , 0.6352979 ,\n",
       "                           0.7673865 ],\n",
       "                          [0.7120011 , 0.77232546, 0.99999976, ..., 0.63078994, 0.63352466,\n",
       "                           0.62343335],\n",
       "                          ...,\n",
       "                          [0.6386376 , 0.6163231 , 0.63078994, ..., 1.0000001 , 0.56024516,\n",
       "                           0.6681173 ],\n",
       "                          [0.61525965, 0.6352979 , 0.63352466, ..., 0.56024516, 1.0000001 ,\n",
       "                           0.5170877 ],\n",
       "                          [0.6142396 , 0.7673865 , 0.62343335, ..., 0.6681173 , 0.5170877 ,\n",
       "                           1.        ]], dtype=float32)}],\n",
       "    'layout': {'coloraxis': {'colorbar': {'title': {'text': 'Similarity Score'}},\n",
       "                             'colorscale': [[0.0, 'rgb(247,252,240)'], [0.125,\n",
       "                                            'rgb(224,243,219)'], [0.25,\n",
       "                                            'rgb(204,235,197)'], [0.375,\n",
       "                                            'rgb(168,221,181)'], [0.5,\n",
       "                                            'rgb(123,204,196)'], [0.625,\n",
       "                                            'rgb(78,179,211)'], [0.75,\n",
       "                                            'rgb(43,140,190)'], [0.875,\n",
       "                                            'rgb(8,104,172)'], [1.0,\n",
       "                                            'rgb(8,64,129)']]},\n",
       "               'height': 1000,\n",
       "               'hoverlabel': {'bgcolor': 'white', 'font': {'family': 'Rockwell', 'size': 16}},\n",
       "               'legend': {'title': {'text': 'Trend'}},\n",
       "               'margin': {'t': 60},\n",
       "               'showlegend': True,\n",
       "               'template': '...',\n",
       "               'title': {'font': {'color': 'Black', 'size': 22},\n",
       "                         'text': '<b>Similarity Matrix</b>',\n",
       "                         'x': 0.55,\n",
       "                         'xanchor': 'center',\n",
       "                         'y': 0.95,\n",
       "                         'yanchor': 'top'},\n",
       "               'width': 1000,\n",
       "               'xaxis': {'anchor': 'y', 'constrain': 'domain', 'domain': [0.0, 1.0], 'scaleanchor': 'y'},\n",
       "               'yaxis': {'anchor': 'x', 'autorange': 'reversed', 'constrain': 'domain', 'domain': [0.0, 1.0]}}\n",
       "})"
      ]
     },
     "execution_count": 9,
     "metadata": {},
     "output_type": "execute_result"
    }
   ],
   "source": [
    "topic_model.visualize_heatmap(n_clusters=10, width=1000, height=1000)"
   ]
  },
  {
   "cell_type": "code",
   "execution_count": 16,
   "id": "445683cc",
   "metadata": {
    "execution": {
     "iopub.execute_input": "2024-07-19T17:58:47.954887Z",
     "iopub.status.busy": "2024-07-19T17:58:47.953947Z",
     "iopub.status.idle": "2024-07-19T17:58:48.038454Z",
     "shell.execute_reply": "2024-07-19T17:58:48.037357Z"
    },
    "papermill": {
     "duration": 0.099708,
     "end_time": "2024-07-19T17:58:48.041078",
     "exception": false,
     "start_time": "2024-07-19T17:58:47.941370",
     "status": "completed"
    },
    "tags": []
   },
   "outputs": [
    {
     "ename": "ValueError",
     "evalue": "Mime type rendering requires nbformat>=4.2.0 but it is not installed",
     "output_type": "error",
     "traceback": [
      "\u001b[1;31m---------------------------------------------------------------------------\u001b[0m",
      "\u001b[1;31mValueError\u001b[0m                                Traceback (most recent call last)",
      "File \u001b[1;32mc:\\Users\\leahz\\anaconda3\\envs\\AIR\\Lib\\site-packages\\IPython\\core\\formatters.py:925\u001b[0m, in \u001b[0;36mIPythonDisplayFormatter.__call__\u001b[1;34m(self, obj)\u001b[0m\n\u001b[0;32m    923\u001b[0m method \u001b[38;5;241m=\u001b[39m get_real_method(obj, \u001b[38;5;28mself\u001b[39m\u001b[38;5;241m.\u001b[39mprint_method)\n\u001b[0;32m    924\u001b[0m \u001b[38;5;28;01mif\u001b[39;00m method \u001b[38;5;129;01mis\u001b[39;00m \u001b[38;5;129;01mnot\u001b[39;00m \u001b[38;5;28;01mNone\u001b[39;00m:\n\u001b[1;32m--> 925\u001b[0m     \u001b[43mmethod\u001b[49m\u001b[43m(\u001b[49m\u001b[43m)\u001b[49m\n\u001b[0;32m    926\u001b[0m     \u001b[38;5;28;01mreturn\u001b[39;00m \u001b[38;5;28;01mTrue\u001b[39;00m\n",
      "File \u001b[1;32mc:\\Users\\leahz\\anaconda3\\envs\\AIR\\Lib\\site-packages\\plotly\\basedatatypes.py:832\u001b[0m, in \u001b[0;36mBaseFigure._ipython_display_\u001b[1;34m(self)\u001b[0m\n\u001b[0;32m    829\u001b[0m \u001b[38;5;28;01mimport\u001b[39;00m \u001b[38;5;21;01mplotly\u001b[39;00m\u001b[38;5;21;01m.\u001b[39;00m\u001b[38;5;21;01mio\u001b[39;00m \u001b[38;5;28;01mas\u001b[39;00m \u001b[38;5;21;01mpio\u001b[39;00m\n\u001b[0;32m    831\u001b[0m \u001b[38;5;28;01mif\u001b[39;00m pio\u001b[38;5;241m.\u001b[39mrenderers\u001b[38;5;241m.\u001b[39mrender_on_display \u001b[38;5;129;01mand\u001b[39;00m pio\u001b[38;5;241m.\u001b[39mrenderers\u001b[38;5;241m.\u001b[39mdefault:\n\u001b[1;32m--> 832\u001b[0m     \u001b[43mpio\u001b[49m\u001b[38;5;241;43m.\u001b[39;49m\u001b[43mshow\u001b[49m\u001b[43m(\u001b[49m\u001b[38;5;28;43mself\u001b[39;49m\u001b[43m)\u001b[49m\n\u001b[0;32m    833\u001b[0m \u001b[38;5;28;01melse\u001b[39;00m:\n\u001b[0;32m    834\u001b[0m     \u001b[38;5;28mprint\u001b[39m(\u001b[38;5;28mrepr\u001b[39m(\u001b[38;5;28mself\u001b[39m))\n",
      "File \u001b[1;32mc:\\Users\\leahz\\anaconda3\\envs\\AIR\\Lib\\site-packages\\plotly\\io\\_renderers.py:394\u001b[0m, in \u001b[0;36mshow\u001b[1;34m(fig, renderer, validate, **kwargs)\u001b[0m\n\u001b[0;32m    389\u001b[0m         \u001b[38;5;28;01mraise\u001b[39;00m \u001b[38;5;167;01mValueError\u001b[39;00m(\n\u001b[0;32m    390\u001b[0m             \u001b[38;5;124m\"\u001b[39m\u001b[38;5;124mMime type rendering requires ipython but it is not installed\u001b[39m\u001b[38;5;124m\"\u001b[39m\n\u001b[0;32m    391\u001b[0m         )\n\u001b[0;32m    393\u001b[0m     \u001b[38;5;28;01mif\u001b[39;00m \u001b[38;5;129;01mnot\u001b[39;00m nbformat \u001b[38;5;129;01mor\u001b[39;00m Version(nbformat\u001b[38;5;241m.\u001b[39m__version__) \u001b[38;5;241m<\u001b[39m Version(\u001b[38;5;124m\"\u001b[39m\u001b[38;5;124m4.2.0\u001b[39m\u001b[38;5;124m\"\u001b[39m):\n\u001b[1;32m--> 394\u001b[0m         \u001b[38;5;28;01mraise\u001b[39;00m \u001b[38;5;167;01mValueError\u001b[39;00m(\n\u001b[0;32m    395\u001b[0m             \u001b[38;5;124m\"\u001b[39m\u001b[38;5;124mMime type rendering requires nbformat>=4.2.0 but it is not installed\u001b[39m\u001b[38;5;124m\"\u001b[39m\n\u001b[0;32m    396\u001b[0m         )\n\u001b[0;32m    398\u001b[0m     ipython_display\u001b[38;5;241m.\u001b[39mdisplay(bundle, raw\u001b[38;5;241m=\u001b[39m\u001b[38;5;28;01mTrue\u001b[39;00m)\n\u001b[0;32m    400\u001b[0m \u001b[38;5;66;03m# external renderers\u001b[39;00m\n",
      "\u001b[1;31mValueError\u001b[0m: Mime type rendering requires nbformat>=4.2.0 but it is not installed"
     ]
    },
    {
     "data": {
      "application/vnd.plotly.v1+json": {
       "config": {
        "plotlyServerURL": "https://plot.ly"
       },
       "data": [
        {
         "hovertext": "<b>Topic -1</b>:set_using_gene_genes_used_one_also",
         "line": {
          "color": "black",
          "width": 1.5
         },
         "mode": "lines+lines",
         "name": "",
         "opacity": 0.1,
         "type": "scatter",
         "x": [
          1,
          2,
          3,
          4,
          5,
          6,
          7,
          8,
          9,
          10
         ],
         "y": [
          0.01286877538607908,
          0.011674107002125938,
          0.010860794733261889,
          0.010466585936380895,
          0.00995357904517058,
          0.009913864478550905,
          0.00936217809231828,
          0.009214979071748496,
          0.009157860552765053,
          0.009068870594978176
         ]
        },
        {
         "hovertext": "<b>Topic 0</b>:protein_proteins_structure_residues",
         "line": {
          "color": "black",
          "width": 1.5
         },
         "mode": "lines+lines",
         "name": "",
         "opacity": 0.1,
         "type": "scatter",
         "x": [
          1,
          2,
          3,
          4,
          5,
          6,
          7,
          8,
          9,
          10
         ],
         "y": [
          0.03122965669280919,
          0.024564187278432414,
          0.02021080371499822,
          0.016801812101018544,
          0.016708592087101203,
          0.014700824503029565,
          0.01373450762672383,
          0.013613771879732554,
          0.012555044906935186,
          0.012332006186911899
         ]
        },
        {
         "hovertext": "<b>Topic 1</b>:snps_snp_disease_genetic_plo_popula",
         "line": {
          "color": "black",
          "width": 1.5
         },
         "mode": "lines+lines",
         "name": "",
         "opacity": 0.1,
         "type": "scatter",
         "x": [
          1,
          2,
          3,
          4,
          5,
          6,
          7,
          8,
          9,
          10
         ],
         "y": [
          0.02757833114204208,
          0.026427183376839122,
          0.018365458184557357,
          0.016260293986897403,
          0.015887946422400663,
          0.01542837027979342,
          0.015007641884981628,
          0.014536640892665894,
          0.014306440388419179,
          0.013615247669181717
         ]
        },
        {
         "hovertext": "<b>Topic 2</b>:terms_gene_information_ontology_tex",
         "line": {
          "color": "black",
          "width": 1.5
         },
         "mode": "lines+lines",
         "name": "",
         "opacity": 0.1,
         "type": "scatter",
         "x": [
          1,
          2,
          3,
          4,
          5,
          6,
          7,
          8,
          9,
          10
         ],
         "y": [
          0.020703079032954496,
          0.015710263134238744,
          0.01537520605833094,
          0.015300884532903292,
          0.014144864956980498,
          0.01244456622705186,
          0.01211630495627366,
          0.011554353166029293,
          0.011014423964697831,
          0.01070214474749651
         ]
        },
        {
         "hovertext": "<b>Topic 3</b>:gene_genes_expression_regulatory_ne",
         "line": {
          "color": "black",
          "width": 1.5
         },
         "mode": "lines+lines",
         "name": "",
         "opacity": 0.1,
         "type": "scatter",
         "x": [
          1,
          2,
          3,
          4,
          5,
          6,
          7,
          8,
          9,
          10
         ],
         "y": [
          0.032343169772482874,
          0.02985807426665021,
          0.027655820942334947,
          0.015680129092648064,
          0.015411981659544912,
          0.015137049997371615,
          0.014532279695301053,
          0.013627545102931762,
          0.013557749103311303,
          0.0130459227038583
         ]
        },
        {
         "hovertext": "<b>Topic 4</b>:cancer_genes_gene_mutations_express",
         "line": {
          "color": "black",
          "width": 1.5
         },
         "mode": "lines+lines",
         "name": "",
         "opacity": 0.1,
         "type": "scatter",
         "x": [
          1,
          2,
          3,
          4,
          5,
          6,
          7,
          8,
          9,
          10
         ],
         "y": [
          0.03600852329449395,
          0.025637534915673124,
          0.025594869130180223,
          0.020556050031015256,
          0.0201041192299483,
          0.019436618724187785,
          0.019242446023731825,
          0.019151761753442485,
          0.01907444262038011,
          0.01842527128657071
         ]
        },
        {
         "hovertext": "<b>Topic 5</b>:patient_patients_health_clinical_me",
         "line": {
          "color": "black",
          "width": 1.5
         },
         "mode": "lines+lines",
         "name": "",
         "opacity": 0.1,
         "type": "scatter",
         "x": [
          1,
          2,
          3,
          4,
          5,
          6,
          7,
          8,
          9,
          10
         ],
         "y": [
          0.024409090888111853,
          0.023301092307818322,
          0.01954150856111389,
          0.016406377286545742,
          0.0162174119132962,
          0.01584176233185637,
          0.01402245757002964,
          0.013236957989393802,
          0.013065550324487606,
          0.012754168503103255
         ]
        },
        {
         "hovertext": "<b>Topic 6</b>:network_networks_time_graph_state_t",
         "line": {
          "color": "black",
          "width": 1.5
         },
         "mode": "lines+lines",
         "name": "",
         "opacity": 0.1,
         "type": "scatter",
         "x": [
          1,
          2,
          3,
          4,
          5,
          6,
          7,
          8,
          9,
          10
         ],
         "y": [
          0.027308493071494574,
          0.021766035805440412,
          0.01604331919352553,
          0.013692380656498363,
          0.013666524873968954,
          0.013226466331197019,
          0.012350386970489237,
          0.012028181228162594,
          0.011896682002431838,
          0.011815585674470597
         ]
        },
        {
         "hovertext": "<b>Topic 7</b>:tree_trees_taxa_species_number_gene",
         "line": {
          "color": "black",
          "width": 1.5
         },
         "mode": "lines+lines",
         "name": "",
         "opacity": 0.1,
         "type": "scatter",
         "x": [
          1,
          2,
          3,
          4,
          5,
          6,
          7,
          8,
          9,
          10
         ],
         "y": [
          0.05900220073021407,
          0.02777102981187722,
          0.024670997729904234,
          0.02226547326022169,
          0.021088472587388395,
          0.019222924688313704,
          0.01837261031513383,
          0.015297249873811059,
          0.014558089028083138,
          0.014554995790686847
         ]
        },
        {
         "hovertext": "<b>Topic 8</b>:drug_drugs_target_similarity_compou",
         "line": {
          "color": "black",
          "width": 1.5
         },
         "mode": "lines+lines",
         "name": "",
         "opacity": 0.1,
         "type": "scatter",
         "x": [
          1,
          2,
          3,
          4,
          5,
          6,
          7,
          8,
          9,
          10
         ],
         "y": [
          0.05470182257888107,
          0.03674298260096464,
          0.023936283883856407,
          0.023045204691771574,
          0.019909809057278564,
          0.019270475347895062,
          0.016538420884910563,
          0.016008853425737133,
          0.015646987314281994,
          0.014858214685775868
         ]
        },
        {
         "hovertext": "<b>Topic 9</b>:imaging_brain_features_age_subjects",
         "line": {
          "color": "black",
          "width": 1.5
         },
         "mode": "lines+lines",
         "name": "",
         "opacity": 0.1,
         "type": "scatter",
         "x": [
          1,
          2,
          3,
          4,
          5,
          6,
          7,
          8,
          9,
          10
         ],
         "y": [
          0.03259791844700476,
          0.03203690599382449,
          0.024505965490120983,
          0.01839974056434122,
          0.016869322377586874,
          0.016828205113398772,
          0.016526773273572912,
          0.015404959389637716,
          0.014930464442829867,
          0.01461654248260002
         ]
        },
        {
         "hovertext": "<b>Topic 10</b>:sequence_coding_dna_domain_reads_s",
         "line": {
          "color": "black",
          "width": 1.5
         },
         "mode": "lines+lines",
         "name": "",
         "opacity": 0.1,
         "type": "scatter",
         "x": [
          1,
          2,
          3,
          4,
          5,
          6,
          7,
          8,
          9,
          10
         ],
         "y": [
          0.031245752806359987,
          0.02005134873568828,
          0.019365791437455707,
          0.01868907892643952,
          0.017915608002526364,
          0.017187877093173473,
          0.015604724877024224,
          0.015520239636973295,
          0.015060384827239518,
          0.014634680988102697
         ]
        },
        {
         "hovertext": "<b>Topic 11</b>:virus_hiv_viral_cov_human_protein_",
         "line": {
          "color": "black",
          "width": 1.5
         },
         "mode": "lines+lines",
         "name": "",
         "opacity": 0.1,
         "type": "scatter",
         "x": [
          1,
          2,
          3,
          4,
          5,
          6,
          7,
          8,
          9,
          10
         ],
         "y": [
          0.03833809080953296,
          0.03112449322824005,
          0.03073027302699147,
          0.025626916779369735,
          0.025526898289350217,
          0.024882094279282684,
          0.02435934420117863,
          0.02184889908613899,
          0.020996978924043272,
          0.020676717910321055
         ]
        },
        {
         "hovertext": "<b>Topic 12</b>:cell_cells_immune_spatial_expressi",
         "line": {
          "color": "black",
          "width": 1.5
         },
         "mode": "lines+lines",
         "name": "",
         "opacity": 0.1,
         "type": "scatter",
         "x": [
          1,
          2,
          3,
          4,
          5,
          6,
          7,
          8,
          9,
          10
         ],
         "y": [
          0.0644841967852693,
          0.05768828333394501,
          0.030694828953353664,
          0.027630015915303317,
          0.023324074710970463,
          0.02026442065355897,
          0.02005761369358136,
          0.019156350822874986,
          0.018856539786548377,
          0.018407442411300896
         ]
        },
        {
         "hovertext": "<b>Topic 13</b>:drug_harm_gene_relationships_drugs",
         "line": {
          "color": "black",
          "width": 1.5
         },
         "mode": "lines+lines",
         "name": "",
         "opacity": 0.1,
         "type": "scatter",
         "x": [
          1,
          2,
          3,
          4,
          5,
          6,
          7,
          8,
          9,
          10
         ],
         "y": [
          0.07522645668884671,
          0.07403195835487748,
          0.036925172597919796,
          0.029484207405623807,
          0.02235823131944681,
          0.022128699113084502,
          0.022047005284301577,
          0.02002068843562302,
          0.019804364683788434,
          0.018973982278395245
         ]
        },
        {
         "hovertext": "<b>Topic 14</b>:rac_species_rrna_biome_communities",
         "line": {
          "color": "black",
          "width": 1.5
         },
         "mode": "lines+lines",
         "name": "",
         "opacity": 0.1,
         "type": "scatter",
         "x": [
          1,
          2,
          3,
          4,
          5,
          6,
          7,
          8,
          9,
          10
         ],
         "y": [
          0.025478097083833535,
          0.024943564619227865,
          0.022237498576750045,
          0.02201635679043178,
          0.02141726694622444,
          0.020001591647308643,
          0.01995846256338891,
          0.019937376409775928,
          0.01859476866202522,
          0.018539901198089362
         ]
        },
        {
         "hovertext": "<b>Topic 15</b>:cancer_features_mirna_set_samples_",
         "line": {
          "color": "black",
          "width": 1.5
         },
         "mode": "lines+lines",
         "name": "",
         "opacity": 0.1,
         "type": "scatter",
         "x": [
          1,
          2,
          3,
          4,
          5,
          6,
          7,
          8,
          9,
          10
         ],
         "y": [
          0.032752465301462586,
          0.030852999018210352,
          0.025020793593027967,
          0.02276227330048475,
          0.022179285629278355,
          0.02207755199998669,
          0.021974829076541816,
          0.02134946264464155,
          0.0212044568685827,
          0.020672728505214583
         ]
        },
        {
         "hovertext": "<b>Topic 16</b>:rna_rnas_structure_secondary_align",
         "line": {
          "color": "black",
          "width": 1.5
         },
         "mode": "lines+lines",
         "name": "",
         "opacity": 0.1,
         "type": "scatter",
         "x": [
          1,
          2,
          3,
          4,
          5,
          6,
          7,
          8,
          9,
          10
         ],
         "y": [
          0.08932852245500884,
          0.040542157598500266,
          0.03323653011528881,
          0.030997903837396455,
          0.02695489115215382,
          0.02548497443172052,
          0.024936770488814607,
          0.023594553674231418,
          0.023458877856905085,
          0.0232320967225947
         ]
        },
        {
         "hovertext": "<b>Topic 17</b>:mass_peptide_spectra_peak_peaks_sp",
         "line": {
          "color": "black",
          "width": 1.5
         },
         "mode": "lines+lines",
         "name": "",
         "opacity": 0.1,
         "type": "scatter",
         "x": [
          1,
          2,
          3,
          4,
          5,
          6,
          7,
          8,
          9,
          10
         ],
         "y": [
          0.060833587766010354,
          0.057746567660861205,
          0.04916852908126069,
          0.04549624329520214,
          0.043837710559992527,
          0.037720133060286105,
          0.03706290202139762,
          0.02227284812983724,
          0.021507149775204498,
          0.020728206049369726
         ]
        },
        {
         "hovertext": "<b>Topic 18</b>:alignment_alignments_sequences_sco",
         "line": {
          "color": "black",
          "width": 1.5
         },
         "mode": "lines+lines",
         "name": "",
         "opacity": 0.1,
         "type": "scatter",
         "x": [
          1,
          2,
          3,
          4,
          5,
          6,
          7,
          8,
          9,
          10
         ],
         "y": [
          0.08757146213012688,
          0.058549057723134804,
          0.04243611089454171,
          0.0385638248650802,
          0.03821683761486414,
          0.032744180527749224,
          0.029165413579868592,
          0.0257485113903569,
          0.024198784685743678,
          0.023355344540200308
         ]
        }
       ],
       "layout": {
        "height": 500,
        "hoverlabel": {
         "bgcolor": "white",
         "font": {
          "family": "Rockwell",
          "size": 16
         }
        },
        "showlegend": false,
        "template": {
         "data": {
          "bar": [
           {
            "error_x": {
             "color": "#2a3f5f"
            },
            "error_y": {
             "color": "#2a3f5f"
            },
            "marker": {
             "line": {
              "color": "white",
              "width": 0.5
             },
             "pattern": {
              "fillmode": "overlay",
              "size": 10,
              "solidity": 0.2
             }
            },
            "type": "bar"
           }
          ],
          "barpolar": [
           {
            "marker": {
             "line": {
              "color": "white",
              "width": 0.5
             },
             "pattern": {
              "fillmode": "overlay",
              "size": 10,
              "solidity": 0.2
             }
            },
            "type": "barpolar"
           }
          ],
          "carpet": [
           {
            "aaxis": {
             "endlinecolor": "#2a3f5f",
             "gridcolor": "#C8D4E3",
             "linecolor": "#C8D4E3",
             "minorgridcolor": "#C8D4E3",
             "startlinecolor": "#2a3f5f"
            },
            "baxis": {
             "endlinecolor": "#2a3f5f",
             "gridcolor": "#C8D4E3",
             "linecolor": "#C8D4E3",
             "minorgridcolor": "#C8D4E3",
             "startlinecolor": "#2a3f5f"
            },
            "type": "carpet"
           }
          ],
          "choropleth": [
           {
            "colorbar": {
             "outlinewidth": 0,
             "ticks": ""
            },
            "type": "choropleth"
           }
          ],
          "contour": [
           {
            "colorbar": {
             "outlinewidth": 0,
             "ticks": ""
            },
            "colorscale": [
             [
              0,
              "#0d0887"
             ],
             [
              0.1111111111111111,
              "#46039f"
             ],
             [
              0.2222222222222222,
              "#7201a8"
             ],
             [
              0.3333333333333333,
              "#9c179e"
             ],
             [
              0.4444444444444444,
              "#bd3786"
             ],
             [
              0.5555555555555556,
              "#d8576b"
             ],
             [
              0.6666666666666666,
              "#ed7953"
             ],
             [
              0.7777777777777778,
              "#fb9f3a"
             ],
             [
              0.8888888888888888,
              "#fdca26"
             ],
             [
              1,
              "#f0f921"
             ]
            ],
            "type": "contour"
           }
          ],
          "contourcarpet": [
           {
            "colorbar": {
             "outlinewidth": 0,
             "ticks": ""
            },
            "type": "contourcarpet"
           }
          ],
          "heatmap": [
           {
            "colorbar": {
             "outlinewidth": 0,
             "ticks": ""
            },
            "colorscale": [
             [
              0,
              "#0d0887"
             ],
             [
              0.1111111111111111,
              "#46039f"
             ],
             [
              0.2222222222222222,
              "#7201a8"
             ],
             [
              0.3333333333333333,
              "#9c179e"
             ],
             [
              0.4444444444444444,
              "#bd3786"
             ],
             [
              0.5555555555555556,
              "#d8576b"
             ],
             [
              0.6666666666666666,
              "#ed7953"
             ],
             [
              0.7777777777777778,
              "#fb9f3a"
             ],
             [
              0.8888888888888888,
              "#fdca26"
             ],
             [
              1,
              "#f0f921"
             ]
            ],
            "type": "heatmap"
           }
          ],
          "heatmapgl": [
           {
            "colorbar": {
             "outlinewidth": 0,
             "ticks": ""
            },
            "colorscale": [
             [
              0,
              "#0d0887"
             ],
             [
              0.1111111111111111,
              "#46039f"
             ],
             [
              0.2222222222222222,
              "#7201a8"
             ],
             [
              0.3333333333333333,
              "#9c179e"
             ],
             [
              0.4444444444444444,
              "#bd3786"
             ],
             [
              0.5555555555555556,
              "#d8576b"
             ],
             [
              0.6666666666666666,
              "#ed7953"
             ],
             [
              0.7777777777777778,
              "#fb9f3a"
             ],
             [
              0.8888888888888888,
              "#fdca26"
             ],
             [
              1,
              "#f0f921"
             ]
            ],
            "type": "heatmapgl"
           }
          ],
          "histogram": [
           {
            "marker": {
             "pattern": {
              "fillmode": "overlay",
              "size": 10,
              "solidity": 0.2
             }
            },
            "type": "histogram"
           }
          ],
          "histogram2d": [
           {
            "colorbar": {
             "outlinewidth": 0,
             "ticks": ""
            },
            "colorscale": [
             [
              0,
              "#0d0887"
             ],
             [
              0.1111111111111111,
              "#46039f"
             ],
             [
              0.2222222222222222,
              "#7201a8"
             ],
             [
              0.3333333333333333,
              "#9c179e"
             ],
             [
              0.4444444444444444,
              "#bd3786"
             ],
             [
              0.5555555555555556,
              "#d8576b"
             ],
             [
              0.6666666666666666,
              "#ed7953"
             ],
             [
              0.7777777777777778,
              "#fb9f3a"
             ],
             [
              0.8888888888888888,
              "#fdca26"
             ],
             [
              1,
              "#f0f921"
             ]
            ],
            "type": "histogram2d"
           }
          ],
          "histogram2dcontour": [
           {
            "colorbar": {
             "outlinewidth": 0,
             "ticks": ""
            },
            "colorscale": [
             [
              0,
              "#0d0887"
             ],
             [
              0.1111111111111111,
              "#46039f"
             ],
             [
              0.2222222222222222,
              "#7201a8"
             ],
             [
              0.3333333333333333,
              "#9c179e"
             ],
             [
              0.4444444444444444,
              "#bd3786"
             ],
             [
              0.5555555555555556,
              "#d8576b"
             ],
             [
              0.6666666666666666,
              "#ed7953"
             ],
             [
              0.7777777777777778,
              "#fb9f3a"
             ],
             [
              0.8888888888888888,
              "#fdca26"
             ],
             [
              1,
              "#f0f921"
             ]
            ],
            "type": "histogram2dcontour"
           }
          ],
          "mesh3d": [
           {
            "colorbar": {
             "outlinewidth": 0,
             "ticks": ""
            },
            "type": "mesh3d"
           }
          ],
          "parcoords": [
           {
            "line": {
             "colorbar": {
              "outlinewidth": 0,
              "ticks": ""
             }
            },
            "type": "parcoords"
           }
          ],
          "pie": [
           {
            "automargin": true,
            "type": "pie"
           }
          ],
          "scatter": [
           {
            "fillpattern": {
             "fillmode": "overlay",
             "size": 10,
             "solidity": 0.2
            },
            "type": "scatter"
           }
          ],
          "scatter3d": [
           {
            "line": {
             "colorbar": {
              "outlinewidth": 0,
              "ticks": ""
             }
            },
            "marker": {
             "colorbar": {
              "outlinewidth": 0,
              "ticks": ""
             }
            },
            "type": "scatter3d"
           }
          ],
          "scattercarpet": [
           {
            "marker": {
             "colorbar": {
              "outlinewidth": 0,
              "ticks": ""
             }
            },
            "type": "scattercarpet"
           }
          ],
          "scattergeo": [
           {
            "marker": {
             "colorbar": {
              "outlinewidth": 0,
              "ticks": ""
             }
            },
            "type": "scattergeo"
           }
          ],
          "scattergl": [
           {
            "marker": {
             "colorbar": {
              "outlinewidth": 0,
              "ticks": ""
             }
            },
            "type": "scattergl"
           }
          ],
          "scattermapbox": [
           {
            "marker": {
             "colorbar": {
              "outlinewidth": 0,
              "ticks": ""
             }
            },
            "type": "scattermapbox"
           }
          ],
          "scatterpolar": [
           {
            "marker": {
             "colorbar": {
              "outlinewidth": 0,
              "ticks": ""
             }
            },
            "type": "scatterpolar"
           }
          ],
          "scatterpolargl": [
           {
            "marker": {
             "colorbar": {
              "outlinewidth": 0,
              "ticks": ""
             }
            },
            "type": "scatterpolargl"
           }
          ],
          "scatterternary": [
           {
            "marker": {
             "colorbar": {
              "outlinewidth": 0,
              "ticks": ""
             }
            },
            "type": "scatterternary"
           }
          ],
          "surface": [
           {
            "colorbar": {
             "outlinewidth": 0,
             "ticks": ""
            },
            "colorscale": [
             [
              0,
              "#0d0887"
             ],
             [
              0.1111111111111111,
              "#46039f"
             ],
             [
              0.2222222222222222,
              "#7201a8"
             ],
             [
              0.3333333333333333,
              "#9c179e"
             ],
             [
              0.4444444444444444,
              "#bd3786"
             ],
             [
              0.5555555555555556,
              "#d8576b"
             ],
             [
              0.6666666666666666,
              "#ed7953"
             ],
             [
              0.7777777777777778,
              "#fb9f3a"
             ],
             [
              0.8888888888888888,
              "#fdca26"
             ],
             [
              1,
              "#f0f921"
             ]
            ],
            "type": "surface"
           }
          ],
          "table": [
           {
            "cells": {
             "fill": {
              "color": "#EBF0F8"
             },
             "line": {
              "color": "white"
             }
            },
            "header": {
             "fill": {
              "color": "#C8D4E3"
             },
             "line": {
              "color": "white"
             }
            },
            "type": "table"
           }
          ]
         },
         "layout": {
          "annotationdefaults": {
           "arrowcolor": "#2a3f5f",
           "arrowhead": 0,
           "arrowwidth": 1
          },
          "autotypenumbers": "strict",
          "coloraxis": {
           "colorbar": {
            "outlinewidth": 0,
            "ticks": ""
           }
          },
          "colorscale": {
           "diverging": [
            [
             0,
             "#8e0152"
            ],
            [
             0.1,
             "#c51b7d"
            ],
            [
             0.2,
             "#de77ae"
            ],
            [
             0.3,
             "#f1b6da"
            ],
            [
             0.4,
             "#fde0ef"
            ],
            [
             0.5,
             "#f7f7f7"
            ],
            [
             0.6,
             "#e6f5d0"
            ],
            [
             0.7,
             "#b8e186"
            ],
            [
             0.8,
             "#7fbc41"
            ],
            [
             0.9,
             "#4d9221"
            ],
            [
             1,
             "#276419"
            ]
           ],
           "sequential": [
            [
             0,
             "#0d0887"
            ],
            [
             0.1111111111111111,
             "#46039f"
            ],
            [
             0.2222222222222222,
             "#7201a8"
            ],
            [
             0.3333333333333333,
             "#9c179e"
            ],
            [
             0.4444444444444444,
             "#bd3786"
            ],
            [
             0.5555555555555556,
             "#d8576b"
            ],
            [
             0.6666666666666666,
             "#ed7953"
            ],
            [
             0.7777777777777778,
             "#fb9f3a"
            ],
            [
             0.8888888888888888,
             "#fdca26"
            ],
            [
             1,
             "#f0f921"
            ]
           ],
           "sequentialminus": [
            [
             0,
             "#0d0887"
            ],
            [
             0.1111111111111111,
             "#46039f"
            ],
            [
             0.2222222222222222,
             "#7201a8"
            ],
            [
             0.3333333333333333,
             "#9c179e"
            ],
            [
             0.4444444444444444,
             "#bd3786"
            ],
            [
             0.5555555555555556,
             "#d8576b"
            ],
            [
             0.6666666666666666,
             "#ed7953"
            ],
            [
             0.7777777777777778,
             "#fb9f3a"
            ],
            [
             0.8888888888888888,
             "#fdca26"
            ],
            [
             1,
             "#f0f921"
            ]
           ]
          },
          "colorway": [
           "#636efa",
           "#EF553B",
           "#00cc96",
           "#ab63fa",
           "#FFA15A",
           "#19d3f3",
           "#FF6692",
           "#B6E880",
           "#FF97FF",
           "#FECB52"
          ],
          "font": {
           "color": "#2a3f5f"
          },
          "geo": {
           "bgcolor": "white",
           "lakecolor": "white",
           "landcolor": "white",
           "showlakes": true,
           "showland": true,
           "subunitcolor": "#C8D4E3"
          },
          "hoverlabel": {
           "align": "left"
          },
          "hovermode": "closest",
          "mapbox": {
           "style": "light"
          },
          "paper_bgcolor": "white",
          "plot_bgcolor": "white",
          "polar": {
           "angularaxis": {
            "gridcolor": "#EBF0F8",
            "linecolor": "#EBF0F8",
            "ticks": ""
           },
           "bgcolor": "white",
           "radialaxis": {
            "gridcolor": "#EBF0F8",
            "linecolor": "#EBF0F8",
            "ticks": ""
           }
          },
          "scene": {
           "xaxis": {
            "backgroundcolor": "white",
            "gridcolor": "#DFE8F3",
            "gridwidth": 2,
            "linecolor": "#EBF0F8",
            "showbackground": true,
            "ticks": "",
            "zerolinecolor": "#EBF0F8"
           },
           "yaxis": {
            "backgroundcolor": "white",
            "gridcolor": "#DFE8F3",
            "gridwidth": 2,
            "linecolor": "#EBF0F8",
            "showbackground": true,
            "ticks": "",
            "zerolinecolor": "#EBF0F8"
           },
           "zaxis": {
            "backgroundcolor": "white",
            "gridcolor": "#DFE8F3",
            "gridwidth": 2,
            "linecolor": "#EBF0F8",
            "showbackground": true,
            "ticks": "",
            "zerolinecolor": "#EBF0F8"
           }
          },
          "shapedefaults": {
           "line": {
            "color": "#2a3f5f"
           }
          },
          "ternary": {
           "aaxis": {
            "gridcolor": "#DFE8F3",
            "linecolor": "#A2B1C6",
            "ticks": ""
           },
           "baxis": {
            "gridcolor": "#DFE8F3",
            "linecolor": "#A2B1C6",
            "ticks": ""
           },
           "bgcolor": "white",
           "caxis": {
            "gridcolor": "#DFE8F3",
            "linecolor": "#A2B1C6",
            "ticks": ""
           }
          },
          "title": {
           "x": 0.05
          },
          "xaxis": {
           "automargin": true,
           "gridcolor": "#EBF0F8",
           "linecolor": "#EBF0F8",
           "ticks": "",
           "title": {
            "standoff": 15
           },
           "zerolinecolor": "#EBF0F8",
           "zerolinewidth": 2
          },
          "yaxis": {
           "automargin": true,
           "gridcolor": "#EBF0F8",
           "linecolor": "#EBF0F8",
           "ticks": "",
           "title": {
            "standoff": 15
           },
           "zerolinecolor": "#EBF0F8",
           "zerolinewidth": 2
          }
         }
        },
        "title": {
         "font": {
          "color": "Black",
          "size": 22
         },
         "text": "<b>Term score decline per Topic</b>",
         "x": 0.5,
         "xanchor": "center",
         "y": 0.9,
         "yanchor": "top"
        },
        "width": 800,
        "xaxis": {
         "dtick": 2,
         "range": [
          0,
          10
         ],
         "tick0": 1,
         "title": {
          "text": "Term Rank"
         }
        },
        "yaxis": {
         "title": {
          "text": "c-TF-IDF score"
         }
        }
       }
      },
      "text/html": [
       "<div>                        <script type=\"text/javascript\">window.PlotlyConfig = {MathJaxConfig: 'local'};</script>\n",
       "        <script charset=\"utf-8\" src=\"https://cdn.plot.ly/plotly-2.32.0.min.js\"></script>                <div id=\"08468c2f-b186-4cf7-aea3-616cf557261e\" class=\"plotly-graph-div\" style=\"height:500px; width:800px;\"></div>            <script type=\"text/javascript\">                                    window.PLOTLYENV=window.PLOTLYENV || {};                                    if (document.getElementById(\"08468c2f-b186-4cf7-aea3-616cf557261e\")) {                    Plotly.newPlot(                        \"08468c2f-b186-4cf7-aea3-616cf557261e\",                        [{\"hovertext\":\"\\u003cb\\u003eTopic -1\\u003c\\u002fb\\u003e:set_using_gene_genes_used_one_also\",\"line\":{\"color\":\"black\",\"width\":1.5},\"mode\":\"lines+lines\",\"name\":\"\",\"opacity\":0.1,\"x\":[1,2,3,4,5,6,7,8,9,10],\"y\":[0.01286877538607908,0.011674107002125938,0.010860794733261889,0.010466585936380895,0.00995357904517058,0.009913864478550905,0.00936217809231828,0.009214979071748496,0.009157860552765053,0.009068870594978176],\"type\":\"scatter\"},{\"hovertext\":\"\\u003cb\\u003eTopic 0\\u003c\\u002fb\\u003e:protein_proteins_structure_residues\",\"line\":{\"color\":\"black\",\"width\":1.5},\"mode\":\"lines+lines\",\"name\":\"\",\"opacity\":0.1,\"x\":[1,2,3,4,5,6,7,8,9,10],\"y\":[0.03122965669280919,0.024564187278432414,0.02021080371499822,0.016801812101018544,0.016708592087101203,0.014700824503029565,0.01373450762672383,0.013613771879732554,0.012555044906935186,0.012332006186911899],\"type\":\"scatter\"},{\"hovertext\":\"\\u003cb\\u003eTopic 1\\u003c\\u002fb\\u003e:snps_snp_disease_genetic_plo_popula\",\"line\":{\"color\":\"black\",\"width\":1.5},\"mode\":\"lines+lines\",\"name\":\"\",\"opacity\":0.1,\"x\":[1,2,3,4,5,6,7,8,9,10],\"y\":[0.02757833114204208,0.026427183376839122,0.018365458184557357,0.016260293986897403,0.015887946422400663,0.01542837027979342,0.015007641884981628,0.014536640892665894,0.014306440388419179,0.013615247669181717],\"type\":\"scatter\"},{\"hovertext\":\"\\u003cb\\u003eTopic 2\\u003c\\u002fb\\u003e:terms_gene_information_ontology_tex\",\"line\":{\"color\":\"black\",\"width\":1.5},\"mode\":\"lines+lines\",\"name\":\"\",\"opacity\":0.1,\"x\":[1,2,3,4,5,6,7,8,9,10],\"y\":[0.020703079032954496,0.015710263134238744,0.01537520605833094,0.015300884532903292,0.014144864956980498,0.01244456622705186,0.01211630495627366,0.011554353166029293,0.011014423964697831,0.01070214474749651],\"type\":\"scatter\"},{\"hovertext\":\"\\u003cb\\u003eTopic 3\\u003c\\u002fb\\u003e:gene_genes_expression_regulatory_ne\",\"line\":{\"color\":\"black\",\"width\":1.5},\"mode\":\"lines+lines\",\"name\":\"\",\"opacity\":0.1,\"x\":[1,2,3,4,5,6,7,8,9,10],\"y\":[0.032343169772482874,0.02985807426665021,0.027655820942334947,0.015680129092648064,0.015411981659544912,0.015137049997371615,0.014532279695301053,0.013627545102931762,0.013557749103311303,0.0130459227038583],\"type\":\"scatter\"},{\"hovertext\":\"\\u003cb\\u003eTopic 4\\u003c\\u002fb\\u003e:cancer_genes_gene_mutations_express\",\"line\":{\"color\":\"black\",\"width\":1.5},\"mode\":\"lines+lines\",\"name\":\"\",\"opacity\":0.1,\"x\":[1,2,3,4,5,6,7,8,9,10],\"y\":[0.03600852329449395,0.025637534915673124,0.025594869130180223,0.020556050031015256,0.0201041192299483,0.019436618724187785,0.019242446023731825,0.019151761753442485,0.01907444262038011,0.01842527128657071],\"type\":\"scatter\"},{\"hovertext\":\"\\u003cb\\u003eTopic 5\\u003c\\u002fb\\u003e:patient_patients_health_clinical_me\",\"line\":{\"color\":\"black\",\"width\":1.5},\"mode\":\"lines+lines\",\"name\":\"\",\"opacity\":0.1,\"x\":[1,2,3,4,5,6,7,8,9,10],\"y\":[0.024409090888111853,0.023301092307818322,0.01954150856111389,0.016406377286545742,0.0162174119132962,0.01584176233185637,0.01402245757002964,0.013236957989393802,0.013065550324487606,0.012754168503103255],\"type\":\"scatter\"},{\"hovertext\":\"\\u003cb\\u003eTopic 6\\u003c\\u002fb\\u003e:network_networks_time_graph_state_t\",\"line\":{\"color\":\"black\",\"width\":1.5},\"mode\":\"lines+lines\",\"name\":\"\",\"opacity\":0.1,\"x\":[1,2,3,4,5,6,7,8,9,10],\"y\":[0.027308493071494574,0.021766035805440412,0.01604331919352553,0.013692380656498363,0.013666524873968954,0.013226466331197019,0.012350386970489237,0.012028181228162594,0.011896682002431838,0.011815585674470597],\"type\":\"scatter\"},{\"hovertext\":\"\\u003cb\\u003eTopic 7\\u003c\\u002fb\\u003e:tree_trees_taxa_species_number_gene\",\"line\":{\"color\":\"black\",\"width\":1.5},\"mode\":\"lines+lines\",\"name\":\"\",\"opacity\":0.1,\"x\":[1,2,3,4,5,6,7,8,9,10],\"y\":[0.05900220073021407,0.02777102981187722,0.024670997729904234,0.02226547326022169,0.021088472587388395,0.019222924688313704,0.01837261031513383,0.015297249873811059,0.014558089028083138,0.014554995790686847],\"type\":\"scatter\"},{\"hovertext\":\"\\u003cb\\u003eTopic 8\\u003c\\u002fb\\u003e:drug_drugs_target_similarity_compou\",\"line\":{\"color\":\"black\",\"width\":1.5},\"mode\":\"lines+lines\",\"name\":\"\",\"opacity\":0.1,\"x\":[1,2,3,4,5,6,7,8,9,10],\"y\":[0.05470182257888107,0.03674298260096464,0.023936283883856407,0.023045204691771574,0.019909809057278564,0.019270475347895062,0.016538420884910563,0.016008853425737133,0.015646987314281994,0.014858214685775868],\"type\":\"scatter\"},{\"hovertext\":\"\\u003cb\\u003eTopic 9\\u003c\\u002fb\\u003e:imaging_brain_features_age_subjects\",\"line\":{\"color\":\"black\",\"width\":1.5},\"mode\":\"lines+lines\",\"name\":\"\",\"opacity\":0.1,\"x\":[1,2,3,4,5,6,7,8,9,10],\"y\":[0.03259791844700476,0.03203690599382449,0.024505965490120983,0.01839974056434122,0.016869322377586874,0.016828205113398772,0.016526773273572912,0.015404959389637716,0.014930464442829867,0.01461654248260002],\"type\":\"scatter\"},{\"hovertext\":\"\\u003cb\\u003eTopic 10\\u003c\\u002fb\\u003e:sequence_coding_dna_domain_reads_s\",\"line\":{\"color\":\"black\",\"width\":1.5},\"mode\":\"lines+lines\",\"name\":\"\",\"opacity\":0.1,\"x\":[1,2,3,4,5,6,7,8,9,10],\"y\":[0.031245752806359987,0.02005134873568828,0.019365791437455707,0.01868907892643952,0.017915608002526364,0.017187877093173473,0.015604724877024224,0.015520239636973295,0.015060384827239518,0.014634680988102697],\"type\":\"scatter\"},{\"hovertext\":\"\\u003cb\\u003eTopic 11\\u003c\\u002fb\\u003e:virus_hiv_viral_cov_human_protein_\",\"line\":{\"color\":\"black\",\"width\":1.5},\"mode\":\"lines+lines\",\"name\":\"\",\"opacity\":0.1,\"x\":[1,2,3,4,5,6,7,8,9,10],\"y\":[0.03833809080953296,0.03112449322824005,0.03073027302699147,0.025626916779369735,0.025526898289350217,0.024882094279282684,0.02435934420117863,0.02184889908613899,0.020996978924043272,0.020676717910321055],\"type\":\"scatter\"},{\"hovertext\":\"\\u003cb\\u003eTopic 12\\u003c\\u002fb\\u003e:cell_cells_immune_spatial_expressi\",\"line\":{\"color\":\"black\",\"width\":1.5},\"mode\":\"lines+lines\",\"name\":\"\",\"opacity\":0.1,\"x\":[1,2,3,4,5,6,7,8,9,10],\"y\":[0.0644841967852693,0.05768828333394501,0.030694828953353664,0.027630015915303317,0.023324074710970463,0.02026442065355897,0.02005761369358136,0.019156350822874986,0.018856539786548377,0.018407442411300896],\"type\":\"scatter\"},{\"hovertext\":\"\\u003cb\\u003eTopic 13\\u003c\\u002fb\\u003e:drug_harm_gene_relationships_drugs\",\"line\":{\"color\":\"black\",\"width\":1.5},\"mode\":\"lines+lines\",\"name\":\"\",\"opacity\":0.1,\"x\":[1,2,3,4,5,6,7,8,9,10],\"y\":[0.07522645668884671,0.07403195835487748,0.036925172597919796,0.029484207405623807,0.02235823131944681,0.022128699113084502,0.022047005284301577,0.02002068843562302,0.019804364683788434,0.018973982278395245],\"type\":\"scatter\"},{\"hovertext\":\"\\u003cb\\u003eTopic 14\\u003c\\u002fb\\u003e:rac_species_rrna_biome_communities\",\"line\":{\"color\":\"black\",\"width\":1.5},\"mode\":\"lines+lines\",\"name\":\"\",\"opacity\":0.1,\"x\":[1,2,3,4,5,6,7,8,9,10],\"y\":[0.025478097083833535,0.024943564619227865,0.022237498576750045,0.02201635679043178,0.02141726694622444,0.020001591647308643,0.01995846256338891,0.019937376409775928,0.01859476866202522,0.018539901198089362],\"type\":\"scatter\"},{\"hovertext\":\"\\u003cb\\u003eTopic 15\\u003c\\u002fb\\u003e:cancer_features_mirna_set_samples_\",\"line\":{\"color\":\"black\",\"width\":1.5},\"mode\":\"lines+lines\",\"name\":\"\",\"opacity\":0.1,\"x\":[1,2,3,4,5,6,7,8,9,10],\"y\":[0.032752465301462586,0.030852999018210352,0.025020793593027967,0.02276227330048475,0.022179285629278355,0.02207755199998669,0.021974829076541816,0.02134946264464155,0.0212044568685827,0.020672728505214583],\"type\":\"scatter\"},{\"hovertext\":\"\\u003cb\\u003eTopic 16\\u003c\\u002fb\\u003e:rna_rnas_structure_secondary_align\",\"line\":{\"color\":\"black\",\"width\":1.5},\"mode\":\"lines+lines\",\"name\":\"\",\"opacity\":0.1,\"x\":[1,2,3,4,5,6,7,8,9,10],\"y\":[0.08932852245500884,0.040542157598500266,0.03323653011528881,0.030997903837396455,0.02695489115215382,0.02548497443172052,0.024936770488814607,0.023594553674231418,0.023458877856905085,0.0232320967225947],\"type\":\"scatter\"},{\"hovertext\":\"\\u003cb\\u003eTopic 17\\u003c\\u002fb\\u003e:mass_peptide_spectra_peak_peaks_sp\",\"line\":{\"color\":\"black\",\"width\":1.5},\"mode\":\"lines+lines\",\"name\":\"\",\"opacity\":0.1,\"x\":[1,2,3,4,5,6,7,8,9,10],\"y\":[0.060833587766010354,0.057746567660861205,0.04916852908126069,0.04549624329520214,0.043837710559992527,0.037720133060286105,0.03706290202139762,0.02227284812983724,0.021507149775204498,0.020728206049369726],\"type\":\"scatter\"},{\"hovertext\":\"\\u003cb\\u003eTopic 18\\u003c\\u002fb\\u003e:alignment_alignments_sequences_sco\",\"line\":{\"color\":\"black\",\"width\":1.5},\"mode\":\"lines+lines\",\"name\":\"\",\"opacity\":0.1,\"x\":[1,2,3,4,5,6,7,8,9,10],\"y\":[0.08757146213012688,0.058549057723134804,0.04243611089454171,0.0385638248650802,0.03821683761486414,0.032744180527749224,0.029165413579868592,0.0257485113903569,0.024198784685743678,0.023355344540200308],\"type\":\"scatter\"}],                        {\"template\":{\"data\":{\"barpolar\":[{\"marker\":{\"line\":{\"color\":\"white\",\"width\":0.5},\"pattern\":{\"fillmode\":\"overlay\",\"size\":10,\"solidity\":0.2}},\"type\":\"barpolar\"}],\"bar\":[{\"error_x\":{\"color\":\"#2a3f5f\"},\"error_y\":{\"color\":\"#2a3f5f\"},\"marker\":{\"line\":{\"color\":\"white\",\"width\":0.5},\"pattern\":{\"fillmode\":\"overlay\",\"size\":10,\"solidity\":0.2}},\"type\":\"bar\"}],\"carpet\":[{\"aaxis\":{\"endlinecolor\":\"#2a3f5f\",\"gridcolor\":\"#C8D4E3\",\"linecolor\":\"#C8D4E3\",\"minorgridcolor\":\"#C8D4E3\",\"startlinecolor\":\"#2a3f5f\"},\"baxis\":{\"endlinecolor\":\"#2a3f5f\",\"gridcolor\":\"#C8D4E3\",\"linecolor\":\"#C8D4E3\",\"minorgridcolor\":\"#C8D4E3\",\"startlinecolor\":\"#2a3f5f\"},\"type\":\"carpet\"}],\"choropleth\":[{\"colorbar\":{\"outlinewidth\":0,\"ticks\":\"\"},\"type\":\"choropleth\"}],\"contourcarpet\":[{\"colorbar\":{\"outlinewidth\":0,\"ticks\":\"\"},\"type\":\"contourcarpet\"}],\"contour\":[{\"colorbar\":{\"outlinewidth\":0,\"ticks\":\"\"},\"colorscale\":[[0.0,\"#0d0887\"],[0.1111111111111111,\"#46039f\"],[0.2222222222222222,\"#7201a8\"],[0.3333333333333333,\"#9c179e\"],[0.4444444444444444,\"#bd3786\"],[0.5555555555555556,\"#d8576b\"],[0.6666666666666666,\"#ed7953\"],[0.7777777777777778,\"#fb9f3a\"],[0.8888888888888888,\"#fdca26\"],[1.0,\"#f0f921\"]],\"type\":\"contour\"}],\"heatmapgl\":[{\"colorbar\":{\"outlinewidth\":0,\"ticks\":\"\"},\"colorscale\":[[0.0,\"#0d0887\"],[0.1111111111111111,\"#46039f\"],[0.2222222222222222,\"#7201a8\"],[0.3333333333333333,\"#9c179e\"],[0.4444444444444444,\"#bd3786\"],[0.5555555555555556,\"#d8576b\"],[0.6666666666666666,\"#ed7953\"],[0.7777777777777778,\"#fb9f3a\"],[0.8888888888888888,\"#fdca26\"],[1.0,\"#f0f921\"]],\"type\":\"heatmapgl\"}],\"heatmap\":[{\"colorbar\":{\"outlinewidth\":0,\"ticks\":\"\"},\"colorscale\":[[0.0,\"#0d0887\"],[0.1111111111111111,\"#46039f\"],[0.2222222222222222,\"#7201a8\"],[0.3333333333333333,\"#9c179e\"],[0.4444444444444444,\"#bd3786\"],[0.5555555555555556,\"#d8576b\"],[0.6666666666666666,\"#ed7953\"],[0.7777777777777778,\"#fb9f3a\"],[0.8888888888888888,\"#fdca26\"],[1.0,\"#f0f921\"]],\"type\":\"heatmap\"}],\"histogram2dcontour\":[{\"colorbar\":{\"outlinewidth\":0,\"ticks\":\"\"},\"colorscale\":[[0.0,\"#0d0887\"],[0.1111111111111111,\"#46039f\"],[0.2222222222222222,\"#7201a8\"],[0.3333333333333333,\"#9c179e\"],[0.4444444444444444,\"#bd3786\"],[0.5555555555555556,\"#d8576b\"],[0.6666666666666666,\"#ed7953\"],[0.7777777777777778,\"#fb9f3a\"],[0.8888888888888888,\"#fdca26\"],[1.0,\"#f0f921\"]],\"type\":\"histogram2dcontour\"}],\"histogram2d\":[{\"colorbar\":{\"outlinewidth\":0,\"ticks\":\"\"},\"colorscale\":[[0.0,\"#0d0887\"],[0.1111111111111111,\"#46039f\"],[0.2222222222222222,\"#7201a8\"],[0.3333333333333333,\"#9c179e\"],[0.4444444444444444,\"#bd3786\"],[0.5555555555555556,\"#d8576b\"],[0.6666666666666666,\"#ed7953\"],[0.7777777777777778,\"#fb9f3a\"],[0.8888888888888888,\"#fdca26\"],[1.0,\"#f0f921\"]],\"type\":\"histogram2d\"}],\"histogram\":[{\"marker\":{\"pattern\":{\"fillmode\":\"overlay\",\"size\":10,\"solidity\":0.2}},\"type\":\"histogram\"}],\"mesh3d\":[{\"colorbar\":{\"outlinewidth\":0,\"ticks\":\"\"},\"type\":\"mesh3d\"}],\"parcoords\":[{\"line\":{\"colorbar\":{\"outlinewidth\":0,\"ticks\":\"\"}},\"type\":\"parcoords\"}],\"pie\":[{\"automargin\":true,\"type\":\"pie\"}],\"scatter3d\":[{\"line\":{\"colorbar\":{\"outlinewidth\":0,\"ticks\":\"\"}},\"marker\":{\"colorbar\":{\"outlinewidth\":0,\"ticks\":\"\"}},\"type\":\"scatter3d\"}],\"scattercarpet\":[{\"marker\":{\"colorbar\":{\"outlinewidth\":0,\"ticks\":\"\"}},\"type\":\"scattercarpet\"}],\"scattergeo\":[{\"marker\":{\"colorbar\":{\"outlinewidth\":0,\"ticks\":\"\"}},\"type\":\"scattergeo\"}],\"scattergl\":[{\"marker\":{\"colorbar\":{\"outlinewidth\":0,\"ticks\":\"\"}},\"type\":\"scattergl\"}],\"scattermapbox\":[{\"marker\":{\"colorbar\":{\"outlinewidth\":0,\"ticks\":\"\"}},\"type\":\"scattermapbox\"}],\"scatterpolargl\":[{\"marker\":{\"colorbar\":{\"outlinewidth\":0,\"ticks\":\"\"}},\"type\":\"scatterpolargl\"}],\"scatterpolar\":[{\"marker\":{\"colorbar\":{\"outlinewidth\":0,\"ticks\":\"\"}},\"type\":\"scatterpolar\"}],\"scatter\":[{\"fillpattern\":{\"fillmode\":\"overlay\",\"size\":10,\"solidity\":0.2},\"type\":\"scatter\"}],\"scatterternary\":[{\"marker\":{\"colorbar\":{\"outlinewidth\":0,\"ticks\":\"\"}},\"type\":\"scatterternary\"}],\"surface\":[{\"colorbar\":{\"outlinewidth\":0,\"ticks\":\"\"},\"colorscale\":[[0.0,\"#0d0887\"],[0.1111111111111111,\"#46039f\"],[0.2222222222222222,\"#7201a8\"],[0.3333333333333333,\"#9c179e\"],[0.4444444444444444,\"#bd3786\"],[0.5555555555555556,\"#d8576b\"],[0.6666666666666666,\"#ed7953\"],[0.7777777777777778,\"#fb9f3a\"],[0.8888888888888888,\"#fdca26\"],[1.0,\"#f0f921\"]],\"type\":\"surface\"}],\"table\":[{\"cells\":{\"fill\":{\"color\":\"#EBF0F8\"},\"line\":{\"color\":\"white\"}},\"header\":{\"fill\":{\"color\":\"#C8D4E3\"},\"line\":{\"color\":\"white\"}},\"type\":\"table\"}]},\"layout\":{\"annotationdefaults\":{\"arrowcolor\":\"#2a3f5f\",\"arrowhead\":0,\"arrowwidth\":1},\"autotypenumbers\":\"strict\",\"coloraxis\":{\"colorbar\":{\"outlinewidth\":0,\"ticks\":\"\"}},\"colorscale\":{\"diverging\":[[0,\"#8e0152\"],[0.1,\"#c51b7d\"],[0.2,\"#de77ae\"],[0.3,\"#f1b6da\"],[0.4,\"#fde0ef\"],[0.5,\"#f7f7f7\"],[0.6,\"#e6f5d0\"],[0.7,\"#b8e186\"],[0.8,\"#7fbc41\"],[0.9,\"#4d9221\"],[1,\"#276419\"]],\"sequential\":[[0.0,\"#0d0887\"],[0.1111111111111111,\"#46039f\"],[0.2222222222222222,\"#7201a8\"],[0.3333333333333333,\"#9c179e\"],[0.4444444444444444,\"#bd3786\"],[0.5555555555555556,\"#d8576b\"],[0.6666666666666666,\"#ed7953\"],[0.7777777777777778,\"#fb9f3a\"],[0.8888888888888888,\"#fdca26\"],[1.0,\"#f0f921\"]],\"sequentialminus\":[[0.0,\"#0d0887\"],[0.1111111111111111,\"#46039f\"],[0.2222222222222222,\"#7201a8\"],[0.3333333333333333,\"#9c179e\"],[0.4444444444444444,\"#bd3786\"],[0.5555555555555556,\"#d8576b\"],[0.6666666666666666,\"#ed7953\"],[0.7777777777777778,\"#fb9f3a\"],[0.8888888888888888,\"#fdca26\"],[1.0,\"#f0f921\"]]},\"colorway\":[\"#636efa\",\"#EF553B\",\"#00cc96\",\"#ab63fa\",\"#FFA15A\",\"#19d3f3\",\"#FF6692\",\"#B6E880\",\"#FF97FF\",\"#FECB52\"],\"font\":{\"color\":\"#2a3f5f\"},\"geo\":{\"bgcolor\":\"white\",\"lakecolor\":\"white\",\"landcolor\":\"white\",\"showlakes\":true,\"showland\":true,\"subunitcolor\":\"#C8D4E3\"},\"hoverlabel\":{\"align\":\"left\"},\"hovermode\":\"closest\",\"mapbox\":{\"style\":\"light\"},\"paper_bgcolor\":\"white\",\"plot_bgcolor\":\"white\",\"polar\":{\"angularaxis\":{\"gridcolor\":\"#EBF0F8\",\"linecolor\":\"#EBF0F8\",\"ticks\":\"\"},\"bgcolor\":\"white\",\"radialaxis\":{\"gridcolor\":\"#EBF0F8\",\"linecolor\":\"#EBF0F8\",\"ticks\":\"\"}},\"scene\":{\"xaxis\":{\"backgroundcolor\":\"white\",\"gridcolor\":\"#DFE8F3\",\"gridwidth\":2,\"linecolor\":\"#EBF0F8\",\"showbackground\":true,\"ticks\":\"\",\"zerolinecolor\":\"#EBF0F8\"},\"yaxis\":{\"backgroundcolor\":\"white\",\"gridcolor\":\"#DFE8F3\",\"gridwidth\":2,\"linecolor\":\"#EBF0F8\",\"showbackground\":true,\"ticks\":\"\",\"zerolinecolor\":\"#EBF0F8\"},\"zaxis\":{\"backgroundcolor\":\"white\",\"gridcolor\":\"#DFE8F3\",\"gridwidth\":2,\"linecolor\":\"#EBF0F8\",\"showbackground\":true,\"ticks\":\"\",\"zerolinecolor\":\"#EBF0F8\"}},\"shapedefaults\":{\"line\":{\"color\":\"#2a3f5f\"}},\"ternary\":{\"aaxis\":{\"gridcolor\":\"#DFE8F3\",\"linecolor\":\"#A2B1C6\",\"ticks\":\"\"},\"baxis\":{\"gridcolor\":\"#DFE8F3\",\"linecolor\":\"#A2B1C6\",\"ticks\":\"\"},\"bgcolor\":\"white\",\"caxis\":{\"gridcolor\":\"#DFE8F3\",\"linecolor\":\"#A2B1C6\",\"ticks\":\"\"}},\"title\":{\"x\":0.05},\"xaxis\":{\"automargin\":true,\"gridcolor\":\"#EBF0F8\",\"linecolor\":\"#EBF0F8\",\"ticks\":\"\",\"title\":{\"standoff\":15},\"zerolinecolor\":\"#EBF0F8\",\"zerolinewidth\":2},\"yaxis\":{\"automargin\":true,\"gridcolor\":\"#EBF0F8\",\"linecolor\":\"#EBF0F8\",\"ticks\":\"\",\"title\":{\"standoff\":15},\"zerolinecolor\":\"#EBF0F8\",\"zerolinewidth\":2}}},\"xaxis\":{\"range\":[0,10],\"tick0\":1,\"dtick\":2,\"title\":{\"text\":\"Term Rank\"}},\"title\":{\"font\":{\"size\":22,\"color\":\"Black\"},\"text\":\"\\u003cb\\u003eTerm score decline per Topic\\u003c\\u002fb\\u003e\",\"y\":0.9,\"x\":0.5,\"xanchor\":\"center\",\"yanchor\":\"top\"},\"hoverlabel\":{\"font\":{\"size\":16,\"family\":\"Rockwell\"},\"bgcolor\":\"white\"},\"showlegend\":false,\"width\":800,\"height\":500,\"yaxis\":{\"title\":{\"text\":\"c-TF-IDF score\"}}},                        {\"responsive\": true}                    )                };                            </script>        </div>"
      ],
      "text/plain": [
       "Figure({\n",
       "    'data': [{'hovertext': '<b>Topic -1</b>:set_using_gene_genes_used_one_also',\n",
       "              'line': {'color': 'black', 'width': 1.5},\n",
       "              'mode': 'lines+lines',\n",
       "              'name': '',\n",
       "              'opacity': 0.1,\n",
       "              'type': 'scatter',\n",
       "              'x': array([ 1,  2,  3,  4,  5,  6,  7,  8,  9, 10]),\n",
       "              'y': array([0.01286878, 0.01167411, 0.01086079, 0.01046659, 0.00995358, 0.00991386,\n",
       "                          0.00936218, 0.00921498, 0.00915786, 0.00906887])},\n",
       "             {'hovertext': '<b>Topic 0</b>:protein_proteins_structure_residues',\n",
       "              'line': {'color': 'black', 'width': 1.5},\n",
       "              'mode': 'lines+lines',\n",
       "              'name': '',\n",
       "              'opacity': 0.1,\n",
       "              'type': 'scatter',\n",
       "              'x': array([ 1,  2,  3,  4,  5,  6,  7,  8,  9, 10]),\n",
       "              'y': array([0.03122966, 0.02456419, 0.0202108 , 0.01680181, 0.01670859, 0.01470082,\n",
       "                          0.01373451, 0.01361377, 0.01255504, 0.01233201])},\n",
       "             {'hovertext': '<b>Topic 1</b>:snps_snp_disease_genetic_plo_popula',\n",
       "              'line': {'color': 'black', 'width': 1.5},\n",
       "              'mode': 'lines+lines',\n",
       "              'name': '',\n",
       "              'opacity': 0.1,\n",
       "              'type': 'scatter',\n",
       "              'x': array([ 1,  2,  3,  4,  5,  6,  7,  8,  9, 10]),\n",
       "              'y': array([0.02757833, 0.02642718, 0.01836546, 0.01626029, 0.01588795, 0.01542837,\n",
       "                          0.01500764, 0.01453664, 0.01430644, 0.01361525])},\n",
       "             {'hovertext': '<b>Topic 2</b>:terms_gene_information_ontology_tex',\n",
       "              'line': {'color': 'black', 'width': 1.5},\n",
       "              'mode': 'lines+lines',\n",
       "              'name': '',\n",
       "              'opacity': 0.1,\n",
       "              'type': 'scatter',\n",
       "              'x': array([ 1,  2,  3,  4,  5,  6,  7,  8,  9, 10]),\n",
       "              'y': array([0.02070308, 0.01571026, 0.01537521, 0.01530088, 0.01414486, 0.01244457,\n",
       "                          0.0121163 , 0.01155435, 0.01101442, 0.01070214])},\n",
       "             {'hovertext': '<b>Topic 3</b>:gene_genes_expression_regulatory_ne',\n",
       "              'line': {'color': 'black', 'width': 1.5},\n",
       "              'mode': 'lines+lines',\n",
       "              'name': '',\n",
       "              'opacity': 0.1,\n",
       "              'type': 'scatter',\n",
       "              'x': array([ 1,  2,  3,  4,  5,  6,  7,  8,  9, 10]),\n",
       "              'y': array([0.03234317, 0.02985807, 0.02765582, 0.01568013, 0.01541198, 0.01513705,\n",
       "                          0.01453228, 0.01362755, 0.01355775, 0.01304592])},\n",
       "             {'hovertext': '<b>Topic 4</b>:cancer_genes_gene_mutations_express',\n",
       "              'line': {'color': 'black', 'width': 1.5},\n",
       "              'mode': 'lines+lines',\n",
       "              'name': '',\n",
       "              'opacity': 0.1,\n",
       "              'type': 'scatter',\n",
       "              'x': array([ 1,  2,  3,  4,  5,  6,  7,  8,  9, 10]),\n",
       "              'y': array([0.03600852, 0.02563753, 0.02559487, 0.02055605, 0.02010412, 0.01943662,\n",
       "                          0.01924245, 0.01915176, 0.01907444, 0.01842527])},\n",
       "             {'hovertext': '<b>Topic 5</b>:patient_patients_health_clinical_me',\n",
       "              'line': {'color': 'black', 'width': 1.5},\n",
       "              'mode': 'lines+lines',\n",
       "              'name': '',\n",
       "              'opacity': 0.1,\n",
       "              'type': 'scatter',\n",
       "              'x': array([ 1,  2,  3,  4,  5,  6,  7,  8,  9, 10]),\n",
       "              'y': array([0.02440909, 0.02330109, 0.01954151, 0.01640638, 0.01621741, 0.01584176,\n",
       "                          0.01402246, 0.01323696, 0.01306555, 0.01275417])},\n",
       "             {'hovertext': '<b>Topic 6</b>:network_networks_time_graph_state_t',\n",
       "              'line': {'color': 'black', 'width': 1.5},\n",
       "              'mode': 'lines+lines',\n",
       "              'name': '',\n",
       "              'opacity': 0.1,\n",
       "              'type': 'scatter',\n",
       "              'x': array([ 1,  2,  3,  4,  5,  6,  7,  8,  9, 10]),\n",
       "              'y': array([0.02730849, 0.02176604, 0.01604332, 0.01369238, 0.01366652, 0.01322647,\n",
       "                          0.01235039, 0.01202818, 0.01189668, 0.01181559])},\n",
       "             {'hovertext': '<b>Topic 7</b>:tree_trees_taxa_species_number_gene',\n",
       "              'line': {'color': 'black', 'width': 1.5},\n",
       "              'mode': 'lines+lines',\n",
       "              'name': '',\n",
       "              'opacity': 0.1,\n",
       "              'type': 'scatter',\n",
       "              'x': array([ 1,  2,  3,  4,  5,  6,  7,  8,  9, 10]),\n",
       "              'y': array([0.0590022 , 0.02777103, 0.024671  , 0.02226547, 0.02108847, 0.01922292,\n",
       "                          0.01837261, 0.01529725, 0.01455809, 0.014555  ])},\n",
       "             {'hovertext': '<b>Topic 8</b>:drug_drugs_target_similarity_compou',\n",
       "              'line': {'color': 'black', 'width': 1.5},\n",
       "              'mode': 'lines+lines',\n",
       "              'name': '',\n",
       "              'opacity': 0.1,\n",
       "              'type': 'scatter',\n",
       "              'x': array([ 1,  2,  3,  4,  5,  6,  7,  8,  9, 10]),\n",
       "              'y': array([0.05470182, 0.03674298, 0.02393628, 0.0230452 , 0.01990981, 0.01927048,\n",
       "                          0.01653842, 0.01600885, 0.01564699, 0.01485821])},\n",
       "             {'hovertext': '<b>Topic 9</b>:imaging_brain_features_age_subjects',\n",
       "              'line': {'color': 'black', 'width': 1.5},\n",
       "              'mode': 'lines+lines',\n",
       "              'name': '',\n",
       "              'opacity': 0.1,\n",
       "              'type': 'scatter',\n",
       "              'x': array([ 1,  2,  3,  4,  5,  6,  7,  8,  9, 10]),\n",
       "              'y': array([0.03259792, 0.03203691, 0.02450597, 0.01839974, 0.01686932, 0.01682821,\n",
       "                          0.01652677, 0.01540496, 0.01493046, 0.01461654])},\n",
       "             {'hovertext': '<b>Topic 10</b>:sequence_coding_dna_domain_reads_s',\n",
       "              'line': {'color': 'black', 'width': 1.5},\n",
       "              'mode': 'lines+lines',\n",
       "              'name': '',\n",
       "              'opacity': 0.1,\n",
       "              'type': 'scatter',\n",
       "              'x': array([ 1,  2,  3,  4,  5,  6,  7,  8,  9, 10]),\n",
       "              'y': array([0.03124575, 0.02005135, 0.01936579, 0.01868908, 0.01791561, 0.01718788,\n",
       "                          0.01560472, 0.01552024, 0.01506038, 0.01463468])},\n",
       "             {'hovertext': '<b>Topic 11</b>:virus_hiv_viral_cov_human_protein_',\n",
       "              'line': {'color': 'black', 'width': 1.5},\n",
       "              'mode': 'lines+lines',\n",
       "              'name': '',\n",
       "              'opacity': 0.1,\n",
       "              'type': 'scatter',\n",
       "              'x': array([ 1,  2,  3,  4,  5,  6,  7,  8,  9, 10]),\n",
       "              'y': array([0.03833809, 0.03112449, 0.03073027, 0.02562692, 0.0255269 , 0.02488209,\n",
       "                          0.02435934, 0.0218489 , 0.02099698, 0.02067672])},\n",
       "             {'hovertext': '<b>Topic 12</b>:cell_cells_immune_spatial_expressi',\n",
       "              'line': {'color': 'black', 'width': 1.5},\n",
       "              'mode': 'lines+lines',\n",
       "              'name': '',\n",
       "              'opacity': 0.1,\n",
       "              'type': 'scatter',\n",
       "              'x': array([ 1,  2,  3,  4,  5,  6,  7,  8,  9, 10]),\n",
       "              'y': array([0.0644842 , 0.05768828, 0.03069483, 0.02763002, 0.02332407, 0.02026442,\n",
       "                          0.02005761, 0.01915635, 0.01885654, 0.01840744])},\n",
       "             {'hovertext': '<b>Topic 13</b>:drug_harm_gene_relationships_drugs',\n",
       "              'line': {'color': 'black', 'width': 1.5},\n",
       "              'mode': 'lines+lines',\n",
       "              'name': '',\n",
       "              'opacity': 0.1,\n",
       "              'type': 'scatter',\n",
       "              'x': array([ 1,  2,  3,  4,  5,  6,  7,  8,  9, 10]),\n",
       "              'y': array([0.07522646, 0.07403196, 0.03692517, 0.02948421, 0.02235823, 0.0221287 ,\n",
       "                          0.02204701, 0.02002069, 0.01980436, 0.01897398])},\n",
       "             {'hovertext': '<b>Topic 14</b>:rac_species_rrna_biome_communities',\n",
       "              'line': {'color': 'black', 'width': 1.5},\n",
       "              'mode': 'lines+lines',\n",
       "              'name': '',\n",
       "              'opacity': 0.1,\n",
       "              'type': 'scatter',\n",
       "              'x': array([ 1,  2,  3,  4,  5,  6,  7,  8,  9, 10]),\n",
       "              'y': array([0.0254781 , 0.02494356, 0.0222375 , 0.02201636, 0.02141727, 0.02000159,\n",
       "                          0.01995846, 0.01993738, 0.01859477, 0.0185399 ])},\n",
       "             {'hovertext': '<b>Topic 15</b>:cancer_features_mirna_set_samples_',\n",
       "              'line': {'color': 'black', 'width': 1.5},\n",
       "              'mode': 'lines+lines',\n",
       "              'name': '',\n",
       "              'opacity': 0.1,\n",
       "              'type': 'scatter',\n",
       "              'x': array([ 1,  2,  3,  4,  5,  6,  7,  8,  9, 10]),\n",
       "              'y': array([0.03275247, 0.030853  , 0.02502079, 0.02276227, 0.02217929, 0.02207755,\n",
       "                          0.02197483, 0.02134946, 0.02120446, 0.02067273])},\n",
       "             {'hovertext': '<b>Topic 16</b>:rna_rnas_structure_secondary_align',\n",
       "              'line': {'color': 'black', 'width': 1.5},\n",
       "              'mode': 'lines+lines',\n",
       "              'name': '',\n",
       "              'opacity': 0.1,\n",
       "              'type': 'scatter',\n",
       "              'x': array([ 1,  2,  3,  4,  5,  6,  7,  8,  9, 10]),\n",
       "              'y': array([0.08932852, 0.04054216, 0.03323653, 0.0309979 , 0.02695489, 0.02548497,\n",
       "                          0.02493677, 0.02359455, 0.02345888, 0.0232321 ])},\n",
       "             {'hovertext': '<b>Topic 17</b>:mass_peptide_spectra_peak_peaks_sp',\n",
       "              'line': {'color': 'black', 'width': 1.5},\n",
       "              'mode': 'lines+lines',\n",
       "              'name': '',\n",
       "              'opacity': 0.1,\n",
       "              'type': 'scatter',\n",
       "              'x': array([ 1,  2,  3,  4,  5,  6,  7,  8,  9, 10]),\n",
       "              'y': array([0.06083359, 0.05774657, 0.04916853, 0.04549624, 0.04383771, 0.03772013,\n",
       "                          0.0370629 , 0.02227285, 0.02150715, 0.02072821])},\n",
       "             {'hovertext': '<b>Topic 18</b>:alignment_alignments_sequences_sco',\n",
       "              'line': {'color': 'black', 'width': 1.5},\n",
       "              'mode': 'lines+lines',\n",
       "              'name': '',\n",
       "              'opacity': 0.1,\n",
       "              'type': 'scatter',\n",
       "              'x': array([ 1,  2,  3,  4,  5,  6,  7,  8,  9, 10]),\n",
       "              'y': array([0.08757146, 0.05854906, 0.04243611, 0.03856382, 0.03821684, 0.03274418,\n",
       "                          0.02916541, 0.02574851, 0.02419878, 0.02335534])}],\n",
       "    'layout': {'height': 500,\n",
       "               'hoverlabel': {'bgcolor': 'white', 'font': {'family': 'Rockwell', 'size': 16}},\n",
       "               'showlegend': False,\n",
       "               'template': '...',\n",
       "               'title': {'font': {'color': 'Black', 'size': 22},\n",
       "                         'text': '<b>Term score decline per Topic</b>',\n",
       "                         'x': 0.5,\n",
       "                         'xanchor': 'center',\n",
       "                         'y': 0.9,\n",
       "                         'yanchor': 'top'},\n",
       "               'width': 800,\n",
       "               'xaxis': {'dtick': 2, 'range': [0, 10], 'tick0': 1, 'title': {'text': 'Term Rank'}},\n",
       "               'yaxis': {'title': {'text': 'c-TF-IDF score'}}}\n",
       "})"
      ]
     },
     "execution_count": 16,
     "metadata": {},
     "output_type": "execute_result"
    }
   ],
   "source": [
    "topic_model.visualize_term_rank()"
   ]
  },
  {
   "cell_type": "code",
   "execution_count": 16,
   "id": "cd4adfa3",
   "metadata": {},
   "outputs": [],
   "source": [
    "def normalize_scores(scores):\n",
    "    min_score = np.min(scores)\n",
    "    max_score = np.max(scores)\n",
    "    normalized_scores = (scores - min_score) / (max_score - min_score)\n",
    "    return normalized_scores\n",
    "\n",
    "def calculate_relevance(topic_term_dists, term_freqs):\n",
    "    lambdas = [0.,0.25, 0.5, 0.75]\n",
    "    results = []\n",
    "    \"\"\"Calculate relevance for each term in each topic.\"\"\"\n",
    "    for lams in lambdas: \n",
    "        topic_term_dists = np.array(topic_term_dists)\n",
    "        term_freqs = np.array(term_freqs)\n",
    "        term_freqs = term_freqs / term_freqs.sum()  # Normalize term frequencies\n",
    "        relevance = lams * np.log(topic_term_dists) + (1 - lams) * np.log(topic_term_dists / term_freqs)\n",
    "        normalized_relevance = normalize_scores(relevance)\n",
    "        results.append(normalized_relevance)\n",
    "    return results \n",
    "\n",
    "def calculate_saliency(topic_term_dists, term_freqs):\n",
    "    term_freqs = np.array(term_freqs)\n",
    "    term_freqs = term_freqs / term_freqs.sum()  # Normalize term frequencies\n",
    "\n",
    "    num_topics, num_terms = topic_term_dists.shape\n",
    "    saliency = np.zeros_like(topic_term_dists)\n",
    "    for k in range(num_topics):  # For each topic\n",
    "        for w in range(num_terms):  # For each word in the vocabulary\n",
    "            p_word_given_topic = topic_term_dists[k, w]\n",
    "            p_word_in_corpus = term_freqs[w]\n",
    "            saliency[k, w] += p_word_given_topic * np.log(p_word_given_topic / p_word_in_corpus)\n",
    "    normalized_saliency = normalize_scores(saliency)\n",
    "    return normalized_saliency\n"
   ]
  },
  {
   "cell_type": "code",
   "execution_count": 20,
   "id": "aecc4395",
   "metadata": {},
   "outputs": [
    {
     "name": "stdout",
     "output_type": "stream",
     "text": [
      "  (0, 30727)\t9.839426461104124e-05\n",
      "  (0, 30723)\t3.5775403889701295e-05\n",
      "  (0, 30720)\t6.340961723683458e-05\n",
      "  (0, 30719)\t6.89158238210416e-05\n",
      "  (0, 30718)\t3.1270938406137014e-05\n",
      "  (0, 30717)\t0.00021621768647643662\n",
      "  (0, 30715)\t3.5775403889701295e-05\n",
      "  (0, 30713)\t7.155080777940259e-05\n",
      "  (0, 30712)\t3.279808820368041e-05\n",
      "  (0, 30711)\t0.00012094494016900713\n",
      "  (0, 30710)\t0.0004618709709032334\n",
      "  (0, 30706)\t0.00014400255981186053\n",
      "  (0, 30703)\t0.00012681923447366915\n",
      "  (0, 30701)\t3.1270938406137014e-05\n",
      "  (0, 30693)\t3.802769036824134e-05\n",
      "  (0, 30690)\t3.220567916907191e-05\n",
      "  (0, 30689)\t5.208417686048142e-05\n",
      "  (0, 30684)\t0.0002831278785276983\n",
      "  (0, 30682)\t8.908038905150387e-05\n",
      "  (0, 30681)\t9.126576345752195e-05\n",
      "  (0, 30673)\t5.513783178639285e-05\n",
      "  (0, 30672)\t2.9693463017167953e-05\n",
      "  (0, 30669)\t3.352314428004008e-05\n",
      "  (0, 30668)\t0.00030050781545899036\n",
      "  (0, 30664)\t7.089725378468604e-05\n",
      "  :\t:\n",
      "  (18, 192)\t0.0003462245792421116\n",
      "  (18, 186)\t0.0007744562917397333\n",
      "  (18, 185)\t0.001025535442323763\n",
      "  (18, 184)\t0.004335815588627395\n",
      "  (18, 183)\t0.0019014131006140314\n",
      "  (18, 165)\t0.00036766286584268796\n",
      "  (18, 158)\t0.0011690455051967489\n",
      "  (18, 153)\t0.0003988912929104344\n",
      "  (18, 151)\t0.0004660113323107966\n",
      "  (18, 150)\t0.00033031157947085093\n",
      "  (18, 148)\t0.00038132363214261585\n",
      "  (18, 145)\t0.0003753891627649612\n",
      "  (18, 136)\t0.00037926353420608157\n",
      "  (18, 133)\t0.00029535712742677177\n",
      "  (18, 131)\t0.0004216458530012732\n",
      "  (18, 115)\t0.0003004087503105\n",
      "  (18, 94)\t0.0002907850115418112\n",
      "  (18, 91)\t0.001316745026319109\n",
      "  (18, 79)\t0.0027728105833679313\n",
      "  (18, 78)\t0.0008937311032639057\n",
      "  (18, 61)\t0.0004267470093568612\n",
      "  (18, 59)\t0.00020772049990644455\n",
      "  (18, 55)\t0.001926602669772695\n",
      "  (18, 54)\t0.0007206316862453713\n",
      "  (18, 36)\t0.000315311893300435\n"
     ]
    }
   ],
   "source": [
    "print(topic_model.c_tf_idf_)"
   ]
  },
  {
   "cell_type": "code",
   "execution_count": 19,
   "id": "8db6d084",
   "metadata": {},
   "outputs": [
    {
     "name": "stdout",
     "output_type": "stream",
     "text": [
      "['aaa' 'aab' 'aac' 'aach' 'aad' 'aaf' 'aami' 'aang' 'aap' 'aar' 'aaron'\n",
      " 'aau' 'aave' 'aba' 'ababa' 'abaca' 'abalone' 'abandon' 'abandoned'\n",
      " 'abandoning']\n"
     ]
    }
   ],
   "source": [
    "print(topic_model.vectorizer_model.get_feature_names_out()[:20])"
   ]
  },
  {
   "cell_type": "code",
   "execution_count": 9,
   "id": "cedfec5d",
   "metadata": {},
   "outputs": [
    {
     "name": "stdout",
     "output_type": "stream",
     "text": [
      "[0, 0, 2, 7, -1, 12, 0, 0, 0, 0, 2, 3, 2, 0, 6, 0, 0, 0, 0, -1, 0, 2, 0, 0, 0, 7, 0, 0, 6, 2, 0, 2, 0, 2, 0, 0, 2, 0, 0, 0, 0, 2, -1, 0, 6, 3, 0, 0, 0, 17, 0, 3, -1, 3, 2, 0, -1, -1, 2, 2, 0, 0, 3, 3, 3, 0, 0, -1, 0, 0, 0, 2, 0, 3, 0, 0, 0, 0, 0, 0, 0, 17, 0, 0, 0, 0, 0, 0, 0, 17, 0, 0, 0, 3, 6, 6, 6, -1, -1, 2, 2, 2, 0, 2, -1, 2, 2, 2, 2, 2, 2, 0, 2, 2, 2, 3, 6, -1, -1, 0, 17, 10, 3, 0, 0, 12, 0, 6, 3, 6, 0, 0, 0, 17, 4, 7, 0, -1, 0, -1, -1, 2, -1, 0, 8, 8, 0, 0, -1, 0, 0, 0, 0, 0, -1, 0, -1, 0, 0, 0, 0, 0, -1, -1, 0, 6, 3, 7, 0, 0, -1, 0, 0, -1, 2, 0, 7, 7, -1, 0, 3, 3, 6, -1, 6, -1, 1, 3, 0, 3, 0, 3, 3, 3, 3, 3, 3, 2, 0, 2, 2, 2, -1, 0, 0, -1, 0, 17, 0, 1, 1, 1, 1, 1, -1, 0, 17, -1, 1, 1, 1, 1, 1, -1, 0, 0, 0, 3, 3, 3, 7, 17, -1, 7, 10, 0, 1, 6, 0, 0, 7, 3, 0, 0, 3, 0, 3, 0, 2, 2, 2, 3, 6, 3, 6, -1, 2, 3, 3, -1, 10, 7, 7, 7, 7, 10, 7, -1, -1, 10, 7, 7, 7, 7, 10, 7, 0, 0, 0, 3, 3, 3, 0, 7, -1, 3, 3, 1, 7, -1, 3, 0, 0, 0, 2, 0, 2, 2, 2, 1, 2, 6, 0, 3, 3, 2, 3, 3, 7, 7, 0, 0, -1, 17, 0, -1, 1, 0, 0, 0, 0, 15, 15, 1, 17, 13, 0, 6, 3, 0, 0, 0, 0, 3, 7, 3, 2, 7, 3, -1, 3, 3, 2, 2, 2, 2, 1, 1, 1, 3, 1, 1, 1, 15, 1, 5, 2, 2, 2, 11, 13, 2, 5, -1, 3, 6, -1, 1, 1, 2, 2, 2, 2, 2, 2, 2, 0, 2, 0, 3, 0, -1, 3, 3, -1, 0, 0, 0, 12, 0, 0, 0, 3, -1, 3, 6, 3, 3, 6, 3, -1, -1, 1, 1, 1, 12, 2, -1, 0, 2, 2, 2, 6, 3, 0, 10, 2, 5, 15, 2, 2, 0, 0, 0, 0, 0, 1, 0, 1, -1, 3, 3, 0, 3, 0, 0, 3, 3, 0, 0, 0, 2, 2, -1, 2, 2, 6, 2, 2, 2, 2, 2, 16, 0, 16, 0, 6, 16, 16, 16, 16, -1, 9, 2, 3, 0, 6, 1, 1, 1, 1, 1, 2, 1, 1, 1, 1, 3, 3, -1, 1, 5, -1, -1, 2, 2, 2, 6, 0, 8, 2, 8, 5, 8, -1, 2, 2, 2, 2, 2, 2, 2, 2, 2, 2, 0, -1, 2, 3, 2, 16, 16, 0, 16, 3, 3, 16, 0, 0, 10, 1, 8, 10, 8, 17, -1, -1, 6, 0, 2, 1, 0, 16, 5, -1, -1, 1, 5, -1, 8, 0, -1, 0, 8, 6, 6, 7, -1, 6, 6, 0, 3, 3, 3, 3, 3, 7, -1, 0, 2, 2, 2, -1, 2, 0, 2, 12, 2, 2, 2, 12, 0, 0, 1, 6, 7, 7, 1, 7, 6, -1, 6, 0, 6, 6, 2, 8, 3, 6, -1, 6, 6, 0, -1, 1, -1, 1, -1, 2, 1, -1, -1, -1, 13, 3, 10, 6, 5, 10, 1, -1, 6, 6, -1, -1, 0, 7, 12, 0, 5, 5, 0, 6, 6, 6, 0, 12, 14, 0, 0, 0, 6, 0, 0, 12, 15, 1, 1, 0, 1, 1, 1, 3, 3, 3, 3, 3, 3, 7, -1, -1, 6, 2, 1, 0, 12, 12, 12, 12, -1, 14, 14, 14, 14, 0, 0, 0, 0, 1, 5, -1, 1, 1, 6, 6, 6, 3, 6, 7, 5, 5, 10, 1, 1, 1, 1, 3, 0, 0, 0, 0, 14, 14, 16, 14, 7, 0, 10, 0, 1, 5, 1, 5, 15, 15, 15, 15, 3, 5, 0, -1, 0, 0, 8, -1, 1, 14, 3, 7, 7, 7, 7, 7, 14, 3, 1, 1, 8, 1, 1, 2, 0, 4, 0, 8, 1, 0, 5, 5, 8, 8, 1, 1, 1, 5, 1, 3, 10, 9, 0, 15, 16, 2, 9, 5, -1, -1, -1, 5, 5, 5, 5, 5, 8, -1, 13, -1, 1, 1, 1, 1, 1, -1, -1, 6, -1, -1, 6, 15, 1, -1, -1, 9, 5, -1, 1, -1, 5, -1, 5, 13, 1, 2, 4, 8, -1, 14, 4, -1, -1, -1, 1, -1, 4, 9, 1, 5, 5, 5, 9, -1, 1, -1, 1, 5, 5, 5, 12, 12, -1, 4, 4, 4, -1, -1, 4, -1, 14, -1, 1, 6, -1, 1, 9, 8, 14, 8, 5, 2, 9, -1, 4, 13, 1, 1, 13, -1, 4, -1, 4, 1, 4, 6, 1, 1, 0, 1, -1, 5, 5, 1, 5, 3, -1, 5, 5, 0, 5, 5, -1, 4, 1, 11, 3, 11, -1, 5, 9, 11, 4, -1, 5, 9, 9, 6, 5, 2, 4, 6, 0, 1, -1, 4, 13, 1, 0, 1, 2, 2, 2, 9, -1, 5, 4, 9, 1, 8, 5, 1, 1, 1, 8, 4, 5, 1, 5, 8, -1, 5, 1, 2, 4, 2, -1, 4, -1, 8, 4, -1, 13, 5, -1, 4, 4, -1, 13, 11, 13, 3, 1, 1, -1, 1, 14, 4, -1, 1, -1, -1, 8, 4, 11, 11, 11, 4, 13, 1, 1, 4, 1, 4, -1, 4, 4, 0, 1, 2, 2, 2, 9, 4, -1, 0, 0, 0, 0, 0, 5, 5, 12, 4, 5, 5, 2, -1, -1, 6, 5, -1, -1, 13, 5, 6, -1, 5, 6, 4, 15, 3, 10, 12, 9, 4, 1, 1, 5, 1, 1, -1, -1, 15, 5, 4, 9, 4, 1, 9, 5, 4, -1, 1, 4, 1, -1, 5, 1, 4, 4, 4, 10, 10, 1, 15, -1, 4, 4, 4, 1, 5, 1, 8, -1, 5, 1, 4, 14, 4, 2, 4, -1, -1, 4, 4, 2, 10, 0, 9, 5, 1, 11, 8, 11, 2, 4, 9, 11, 0, 4, 5, 4, 4, 1, 11, 1, 1, 13, 0, -1, 5, 4, 11, 0, 0, 9, 1, 9, 9, 9, 9, 7, 0, 8, 6, 1, 1, 1, 1, -1, 1, 13, 5, -1, 15, 4, 1, 9, 10, 4, 1, 4, 1, -1, 1, 1, 1, 9, 4, 4, 4, 4, -1, 4, 4, 11, 6, 0, 11, 4, 0, 4, 9, 4, 9, 4, 9, 8, 1, 8, 5, 8, -1, 8, 1, 1, 4, 1, 1, 1, 1, 11, 4, -1, 11, 11, 14, 5, 1, 1, 3, -1, -1, 9, 1, 13, 2, 4, 11, 4, 9, 4, 4, 4, 2, 1]\n"
     ]
    }
   ],
   "source": [
    "print(topics)"
   ]
  },
  {
   "cell_type": "code",
   "execution_count": 14,
   "id": "6081867f",
   "metadata": {},
   "outputs": [
    {
     "ename": "TypeError",
     "evalue": "'int' object is not iterable",
     "output_type": "error",
     "traceback": [
      "\u001b[1;31m---------------------------------------------------------------------------\u001b[0m",
      "\u001b[1;31mTypeError\u001b[0m                                 Traceback (most recent call last)",
      "Cell \u001b[1;32mIn[14], line 3\u001b[0m\n\u001b[0;32m      1\u001b[0m \u001b[38;5;28;01mfrom\u001b[39;00m \u001b[38;5;21;01mcollections\u001b[39;00m \u001b[38;5;28;01mimport\u001b[39;00m Counter\n\u001b[0;32m      2\u001b[0m \u001b[38;5;28;01mfor\u001b[39;00m topic \u001b[38;5;129;01min\u001b[39;00m topic_model\u001b[38;5;241m.\u001b[39mget_topics():\n\u001b[1;32m----> 3\u001b[0m     word_count \u001b[38;5;241m=\u001b[39m Counter\u001b[43m(\u001b[49m\u001b[43mword\u001b[49m\u001b[43m \u001b[49m\u001b[38;5;28;43;01mfor\u001b[39;49;00m\u001b[43m \u001b[49m\u001b[43mword\u001b[49m\u001b[43m,\u001b[49m\u001b[43m \u001b[49m\u001b[43m_\u001b[49m\u001b[43m \u001b[49m\u001b[38;5;129;43;01min\u001b[39;49;00m\u001b[43m \u001b[49m\u001b[43mtopic\u001b[49m\u001b[43m)\u001b[49m\n\u001b[0;32m      4\u001b[0m     \u001b[38;5;28mprint\u001b[39m(word_count)\n",
      "\u001b[1;31mTypeError\u001b[0m: 'int' object is not iterable"
     ]
    }
   ],
   "source": [
    "from collections import Counter\n",
    "for topic in topic_model.get_topics():\n",
    "    word_count = Counter(word for word, _ in topic)\n",
    "    print(word_count)"
   ]
  },
  {
   "cell_type": "code",
   "execution_count": 8,
   "id": "30a2027d",
   "metadata": {
    "execution": {
     "iopub.execute_input": "2024-07-19T17:58:48.066469Z",
     "iopub.status.busy": "2024-07-19T17:58:48.065391Z",
     "iopub.status.idle": "2024-07-19T17:58:48.750868Z",
     "shell.execute_reply": "2024-07-19T17:58:48.749818Z"
    },
    "papermill": {
     "duration": 0.70252,
     "end_time": "2024-07-19T17:58:48.755024",
     "exception": false,
     "start_time": "2024-07-19T17:58:48.052504",
     "status": "completed"
    },
    "tags": []
   },
   "outputs": [
    {
     "data": {
      "image/png": "[encoded data removed]",
      "text/plain": [
       "<Figure size 1200x800 with 1 Axes>"
      ]
     },
     "metadata": {},
     "output_type": "display_data"
    }
   ],
   "source": [
    "import matplotlib.pyplot as plt\n",
    "df = pd.DataFrame({\"Text\": texts, \"Timestamp\": timestamps, \"Topic\": topics})\n",
    "\n",
    "topic_over_time = df.groupby(['Timestamp', 'Topic']).size().unstack(fill_value=0)\n",
    "topic_over_time = topic_over_time.div(topic_over_time.sum(axis=1), axis=0)\n",
    "\n",
    "topic_over_time = topic_over_time.sort_index()\n",
    "\n",
    "topic_over_time_smooth = topic_over_time.rolling(window=5, min_periods=1).mean()\n",
    "plt.figure(figsize=(12, 8))\n",
    "for topic in topic_over_time_smooth.columns:\n",
    "    plt.plot(topic_over_time_smooth.index, topic_over_time_smooth[topic], label=f'Topic {topic}')\n",
    "plt.xlabel('Time Period')\n",
    "plt.ylabel('Average Topic Proportion')\n",
    "plt.title('Topic Frequencies Over Time (Smoothed)')\n",
    "plt.legend()\n",
    "plt.show()"
   ]
  },
  {
   "cell_type": "code",
   "execution_count": null,
   "id": "56c3c8a4",
   "metadata": {
    "papermill": {
     "duration": 0.013935,
     "end_time": "2024-07-19T17:58:48.783273",
     "exception": false,
     "start_time": "2024-07-19T17:58:48.769338",
     "status": "completed"
    },
    "tags": []
   },
   "outputs": [],
   "source": []
  }
 ],
 "metadata": {
  "kaggle": {
   "accelerator": "none",
   "dataSources": [
    {
     "datasetId": 5362561,
     "sourceId": 8992807,
     "sourceType": "datasetVersion"
    }
   ],
   "dockerImageVersionId": 30746,
   "isGpuEnabled": false,
   "isInternetEnabled": true,
   "language": "python",
   "sourceType": "notebook"
  },
  "kernelspec": {
   "display_name": "Python 3",
   "language": "python",
   "name": "python3"
  },
  "language_info": {
   "codemirror_mode": {
    "name": "ipython",
    "version": 3
   },
   "file_extension": ".py",
   "mimetype": "text/x-python",
   "name": "python",
   "nbconvert_exporter": "python",
   "pygments_lexer": "ipython3",
   "version": "3.12.2"
  },
  "papermill": {
   "default_parameters": {},
   "duration": 199.113623,
   "end_time": "2024-07-19T17:58:51.819583",
   "environment_variables": {},
   "exception": null,
   "input_path": "__notebook__.ipynb",
   "output_path": "__notebook__.ipynb",
   "parameters": {},
   "start_time": "2024-07-19T17:55:32.705960",
   "version": "2.5.0"
  },
  "widgets": {
   "application/vnd.jupyter.widget-state+json": {
    "state": {
     "0104b315445d485c83509131e1250391": {
      "model_module": "@jupyter-widgets/base",
      "model_module_version": "1.2.0",
      "model_name": "LayoutModel",
      "state": {
       "_model_module": "@jupyter-widgets/base",
       "_model_module_version": "1.2.0",
       "_model_name": "LayoutModel",
       "_view_count": null,
       "_view_module": "@jupyter-widgets/base",
       "_view_module_version": "1.2.0",
       "_view_name": "LayoutView",
       "align_content": null,
       "align_items": null,
       "align_self": null,
       "border": null,
       "bottom": null,
       "display": null,
       "flex": null,
       "flex_flow": null,
       "grid_area": null,
       "grid_auto_columns": null,
       "grid_auto_flow": null,
       "grid_auto_rows": null,
       "grid_column": null,
       "grid_gap": null,
       "grid_row": null,
       "grid_template_areas": null,
       "grid_template_columns": null,
       "grid_template_rows": null,
       "height": null,
       "justify_content": null,
       "justify_items": null,
       "left": null,
       "margin": null,
       "max_height": null,
       "max_width": null,
       "min_height": null,
       "min_width": null,
       "object_fit": null,
       "object_position": null,
       "order": null,
       "overflow": null,
       "overflow_x": null,
       "overflow_y": null,
       "padding": null,
       "right": null,
       "top": null,
       "visibility": null,
       "width": null
      }
     },
     "01e73ed6e2ba4c0f83ce3f35bad84f79": {
      "model_module": "@jupyter-widgets/base",
      "model_module_version": "1.2.0",
      "model_name": "LayoutModel",
      "state": {
       "_model_module": "@jupyter-widgets/base",
       "_model_module_version": "1.2.0",
       "_model_name": "LayoutModel",
       "_view_count": null,
       "_view_module": "@jupyter-widgets/base",
       "_view_module_version": "1.2.0",
       "_view_name": "LayoutView",
       "align_content": null,
       "align_items": null,
       "align_self": null,
       "border": null,
       "bottom": null,
       "display": null,
       "flex": null,
       "flex_flow": null,
       "grid_area": null,
       "grid_auto_columns": null,
       "grid_auto_flow": null,
       "grid_auto_rows": null,
       "grid_column": null,
       "grid_gap": null,
       "grid_row": null,
       "grid_template_areas": null,
       "grid_template_columns": null,
       "grid_template_rows": null,
       "height": null,
       "justify_content": null,
       "justify_items": null,
       "left": null,
       "margin": null,
       "max_height": null,
       "max_width": null,
       "min_height": null,
       "min_width": null,
       "object_fit": null,
       "object_position": null,
       "order": null,
       "overflow": null,
       "overflow_x": null,
       "overflow_y": null,
       "padding": null,
       "right": null,
       "top": null,
       "visibility": null,
       "width": null
      }
     },
     "0913e057c64f4d178618f79d989f70e6": {
      "model_module": "@jupyter-widgets/controls",
      "model_module_version": "1.5.0",
      "model_name": "DescriptionStyleModel",
      "state": {
       "_model_module": "@jupyter-widgets/controls",
       "_model_module_version": "1.5.0",
       "_model_name": "DescriptionStyleModel",
       "_view_count": null,
       "_view_module": "@jupyter-widgets/base",
       "_view_module_version": "1.2.0",
       "_view_name": "StyleView",
       "description_width": ""
      }
     },
     "0a9e45753f994ec8b47e03586d9beb9c": {
      "model_module": "@jupyter-widgets/controls",
      "model_module_version": "1.5.0",
      "model_name": "DescriptionStyleModel",
      "state": {
       "_model_module": "@jupyter-widgets/controls",
       "_model_module_version": "1.5.0",
       "_model_name": "DescriptionStyleModel",
       "_view_count": null,
       "_view_module": "@jupyter-widgets/base",
       "_view_module_version": "1.2.0",
       "_view_name": "StyleView",
       "description_width": ""
      }
     },
     "0d00b81054ce452b99fc655712817e04": {
      "model_module": "@jupyter-widgets/base",
      "model_module_version": "1.2.0",
      "model_name": "LayoutModel",
      "state": {
       "_model_module": "@jupyter-widgets/base",
       "_model_module_version": "1.2.0",
       "_model_name": "LayoutModel",
       "_view_count": null,
       "_view_module": "@jupyter-widgets/base",
       "_view_module_version": "1.2.0",
       "_view_name": "LayoutView",
       "align_content": null,
       "align_items": null,
       "align_self": null,
       "border": null,
       "bottom": null,
       "display": null,
       "flex": null,
       "flex_flow": null,
       "grid_area": null,
       "grid_auto_columns": null,
       "grid_auto_flow": null,
       "grid_auto_rows": null,
       "grid_column": null,
       "grid_gap": null,
       "grid_row": null,
       "grid_template_areas": null,
       "grid_template_columns": null,
       "grid_template_rows": null,
       "height": null,
       "justify_content": null,
       "justify_items": null,
       "left": null,
       "margin": null,
       "max_height": null,
       "max_width": null,
       "min_height": null,
       "min_width": null,
       "object_fit": null,
       "object_position": null,
       "order": null,
       "overflow": null,
       "overflow_x": null,
       "overflow_y": null,
       "padding": null,
       "right": null,
       "top": null,
       "visibility": null,
       "width": null
      }
     },
     "0da53ce74ba54924b59bc836de5f317a": {
      "model_module": "@jupyter-widgets/base",
      "model_module_version": "1.2.0",
      "model_name": "LayoutModel",
      "state": {
       "_model_module": "@jupyter-widgets/base",
       "_model_module_version": "1.2.0",
       "_model_name": "LayoutModel",
       "_view_count": null,
       "_view_module": "@jupyter-widgets/base",
       "_view_module_version": "1.2.0",
       "_view_name": "LayoutView",
       "align_content": null,
       "align_items": null,
       "align_self": null,
       "border": null,
       "bottom": null,
       "display": null,
       "flex": null,
       "flex_flow": null,
       "grid_area": null,
       "grid_auto_columns": null,
       "grid_auto_flow": null,
       "grid_auto_rows": null,
       "grid_column": null,
       "grid_gap": null,
       "grid_row": null,
       "grid_template_areas": null,
       "grid_template_columns": null,
       "grid_template_rows": null,
       "height": null,
       "justify_content": null,
       "justify_items": null,
       "left": null,
       "margin": null,
       "max_height": null,
       "max_width": null,
       "min_height": null,
       "min_width": null,
       "object_fit": null,
       "object_position": null,
       "order": null,
       "overflow": null,
       "overflow_x": null,
       "overflow_y": null,
       "padding": null,
       "right": null,
       "top": null,
       "visibility": null,
       "width": null
      }
     },
     "100b441815bc4a658ec354b08d97bb09": {
      "model_module": "@jupyter-widgets/controls",
      "model_module_version": "1.5.0",
      "model_name": "FloatProgressModel",
      "state": {
       "_dom_classes": [],
       "_model_module": "@jupyter-widgets/controls",
       "_model_module_version": "1.5.0",
       "_model_name": "FloatProgressModel",
       "_view_count": null,
       "_view_module": "@jupyter-widgets/controls",
       "_view_module_version": "1.5.0",
       "_view_name": "ProgressView",
       "bar_style": "success",
       "description": "",
       "description_tooltip": null,
       "layout": "IPY_MODEL_2280fc4f00094e6f9f2d287e462370b5",
       "max": 116,
       "min": 0,
       "orientation": "horizontal",
       "style": "IPY_MODEL_859c9db9d77e486ca95b9f7e451a980f",
       "value": 116
      }
     },
     "12d8684c060c44c9939a033e813e8941": {
      "model_module": "@jupyter-widgets/controls",
      "model_module_version": "1.5.0",
      "model_name": "HTMLModel",
      "state": {
       "_dom_classes": [],
       "_model_module": "@jupyter-widgets/controls",
       "_model_module_version": "1.5.0",
       "_model_name": "HTMLModel",
       "_view_count": null,
       "_view_module": "@jupyter-widgets/controls",
       "_view_module_version": "1.5.0",
       "_view_name": "HTMLView",
       "description": "",
       "description_tooltip": null,
       "layout": "IPY_MODEL_9f1c9f09d1314bea9aef67e713cb5b63",
       "placeholder": "​",
       "style": "IPY_MODEL_d1c345b0d16c4eb4905ec2ca93843825",
       "value": "sentence_bert_config.json: 100%"
      }
     },
     "13ba93191d7a46659444d543675070e3": {
      "model_module": "@jupyter-widgets/controls",
      "model_module_version": "1.5.0",
      "model_name": "HTMLModel",
      "state": {
       "_dom_classes": [],
       "_model_module": "@jupyter-widgets/controls",
       "_model_module_version": "1.5.0",
       "_model_name": "HTMLModel",
       "_view_count": null,
       "_view_module": "@jupyter-widgets/controls",
       "_view_module_version": "1.5.0",
       "_view_name": "HTMLView",
       "description": "",
       "description_tooltip": null,
       "layout": "IPY_MODEL_50d816502e384ffd8231bd1a50984124",
       "placeholder": "​",
       "style": "IPY_MODEL_219d51828e8c4e0cb8de4a3d18450057",
       "value": "vocab.txt: 100%"
      }
     },
     "17414551dd6b4a1d89c62ceef871db2d": {
      "model_module": "@jupyter-widgets/controls",
      "model_module_version": "1.5.0",
      "model_name": "HTMLModel",
      "state": {
       "_dom_classes": [],
       "_model_module": "@jupyter-widgets/controls",
       "_model_module_version": "1.5.0",
       "_model_name": "HTMLModel",
       "_view_count": null,
       "_view_module": "@jupyter-widgets/controls",
       "_view_module_version": "1.5.0",
       "_view_name": "HTMLView",
       "description": "",
       "description_tooltip": null,
       "layout": "IPY_MODEL_e4a0f303b66b475ebbbe0d39e94b1a44",
       "placeholder": "​",
       "style": "IPY_MODEL_509e53693f0b4113ac74bd66a04c40f9",
       "value": " 37/37 [01:15&lt;00:00,  1.96s/it]"
      }
     },
     "17c722db05d545d5a3515e317162c963": {
      "model_module": "@jupyter-widgets/controls",
      "model_module_version": "1.5.0",
      "model_name": "HBoxModel",
      "state": {
       "_dom_classes": [],
       "_model_module": "@jupyter-widgets/controls",
       "_model_module_version": "1.5.0",
       "_model_name": "HBoxModel",
       "_view_count": null,
       "_view_module": "@jupyter-widgets/controls",
       "_view_module_version": "1.5.0",
       "_view_name": "HBoxView",
       "box_style": "",
       "children": [
        "IPY_MODEL_e310e3f59d9e46b6bd87edd8297bb4e1",
        "IPY_MODEL_ab6763349cd448308bc75edbb682ad30",
        "IPY_MODEL_de680a6d37254108aaae6c11439802db"
       ],
       "layout": "IPY_MODEL_58a2c25c074643bf81c4a99dbf06a526"
      }
     },
     "18c4486ffb3f42bfb1b6999e7a504de1": {
      "model_module": "@jupyter-widgets/base",
      "model_module_version": "1.2.0",
      "model_name": "LayoutModel",
      "state": {
       "_model_module": "@jupyter-widgets/base",
       "_model_module_version": "1.2.0",
       "_model_name": "LayoutModel",
       "_view_count": null,
       "_view_module": "@jupyter-widgets/base",
       "_view_module_version": "1.2.0",
       "_view_name": "LayoutView",
       "align_content": null,
       "align_items": null,
       "align_self": null,
       "border": null,
       "bottom": null,
       "display": null,
       "flex": null,
       "flex_flow": null,
       "grid_area": null,
       "grid_auto_columns": null,
       "grid_auto_flow": null,
       "grid_auto_rows": null,
       "grid_column": null,
       "grid_gap": null,
       "grid_row": null,
       "grid_template_areas": null,
       "grid_template_columns": null,
       "grid_template_rows": null,
       "height": null,
       "justify_content": null,
       "justify_items": null,
       "left": null,
       "margin": null,
       "max_height": null,
       "max_width": null,
       "min_height": null,
       "min_width": null,
       "object_fit": null,
       "object_position": null,
       "order": null,
       "overflow": null,
       "overflow_x": null,
       "overflow_y": null,
       "padding": null,
       "right": null,
       "top": null,
       "visibility": null,
       "width": null
      }
     },
     "1d82749b4e714d93b3a9c7faaeb54a3e": {
      "model_module": "@jupyter-widgets/controls",
      "model_module_version": "1.5.0",
      "model_name": "HBoxModel",
      "state": {
       "_dom_classes": [],
       "_model_module": "@jupyter-widgets/controls",
       "_model_module_version": "1.5.0",
       "_model_name": "HBoxModel",
       "_view_count": null,
       "_view_module": "@jupyter-widgets/controls",
       "_view_module_version": "1.5.0",
       "_view_name": "HBoxView",
       "box_style": "",
       "children": [
        "IPY_MODEL_5851648200ad4186990f3a32a2b1def5",
        "IPY_MODEL_8696281fe232427ea033de7eae149209",
        "IPY_MODEL_96862e23dacf49098b0209f0a79dd02c"
       ],
       "layout": "IPY_MODEL_885fa84ddde64619a8f5831613eebfe1"
      }
     },
     "1dbea6ef83f44084bf675825331faca4": {
      "model_module": "@jupyter-widgets/controls",
      "model_module_version": "1.5.0",
      "model_name": "DescriptionStyleModel",
      "state": {
       "_model_module": "@jupyter-widgets/controls",
       "_model_module_version": "1.5.0",
       "_model_name": "DescriptionStyleModel",
       "_view_count": null,
       "_view_module": "@jupyter-widgets/base",
       "_view_module_version": "1.2.0",
       "_view_name": "StyleView",
       "description_width": ""
      }
     },
     "219d51828e8c4e0cb8de4a3d18450057": {
      "model_module": "@jupyter-widgets/controls",
      "model_module_version": "1.5.0",
      "model_name": "DescriptionStyleModel",
      "state": {
       "_model_module": "@jupyter-widgets/controls",
       "_model_module_version": "1.5.0",
       "_model_name": "DescriptionStyleModel",
       "_view_count": null,
       "_view_module": "@jupyter-widgets/base",
       "_view_module_version": "1.2.0",
       "_view_name": "StyleView",
       "description_width": ""
      }
     },
     "2280fc4f00094e6f9f2d287e462370b5": {
      "model_module": "@jupyter-widgets/base",
      "model_module_version": "1.2.0",
      "model_name": "LayoutModel",
      "state": {
       "_model_module": "@jupyter-widgets/base",
       "_model_module_version": "1.2.0",
       "_model_name": "LayoutModel",
       "_view_count": null,
       "_view_module": "@jupyter-widgets/base",
       "_view_module_version": "1.2.0",
       "_view_name": "LayoutView",
       "align_content": null,
       "align_items": null,
       "align_self": null,
       "border": null,
       "bottom": null,
       "display": null,
       "flex": null,
       "flex_flow": null,
       "grid_area": null,
       "grid_auto_columns": null,
       "grid_auto_flow": null,
       "grid_auto_rows": null,
       "grid_column": null,
       "grid_gap": null,
       "grid_row": null,
       "grid_template_areas": null,
       "grid_template_columns": null,
       "grid_template_rows": null,
       "height": null,
       "justify_content": null,
       "justify_items": null,
       "left": null,
       "margin": null,
       "max_height": null,
       "max_width": null,
       "min_height": null,
       "min_width": null,
       "object_fit": null,
       "object_position": null,
       "order": null,
       "overflow": null,
       "overflow_x": null,
       "overflow_y": null,
       "padding": null,
       "right": null,
       "top": null,
       "visibility": null,
       "width": null
      }
     },
     "233c30a0c89f456b866cf2d1478cfd15": {
      "model_module": "@jupyter-widgets/base",
      "model_module_version": "1.2.0",
      "model_name": "LayoutModel",
      "state": {
       "_model_module": "@jupyter-widgets/base",
       "_model_module_version": "1.2.0",
       "_model_name": "LayoutModel",
       "_view_count": null,
       "_view_module": "@jupyter-widgets/base",
       "_view_module_version": "1.2.0",
       "_view_name": "LayoutView",
       "align_content": null,
       "align_items": null,
       "align_self": null,
       "border": null,
       "bottom": null,
       "display": null,
       "flex": null,
       "flex_flow": null,
       "grid_area": null,
       "grid_auto_columns": null,
       "grid_auto_flow": null,
       "grid_auto_rows": null,
       "grid_column": null,
       "grid_gap": null,
       "grid_row": null,
       "grid_template_areas": null,
       "grid_template_columns": null,
       "grid_template_rows": null,
       "height": null,
       "justify_content": null,
       "justify_items": null,
       "left": null,
       "margin": null,
       "max_height": null,
       "max_width": null,
       "min_height": null,
       "min_width": null,
       "object_fit": null,
       "object_position": null,
       "order": null,
       "overflow": null,
       "overflow_x": null,
       "overflow_y": null,
       "padding": null,
       "right": null,
       "top": null,
       "visibility": null,
       "width": null
      }
     },
     "2365f4ed76fd404d995b2cffb5d0fa6c": {
      "model_module": "@jupyter-widgets/base",
      "model_module_version": "1.2.0",
      "model_name": "LayoutModel",
      "state": {
       "_model_module": "@jupyter-widgets/base",
       "_model_module_version": "1.2.0",
       "_model_name": "LayoutModel",
       "_view_count": null,
       "_view_module": "@jupyter-widgets/base",
       "_view_module_version": "1.2.0",
       "_view_name": "LayoutView",
       "align_content": null,
       "align_items": null,
       "align_self": null,
       "border": null,
       "bottom": null,
       "display": null,
       "flex": null,
       "flex_flow": null,
       "grid_area": null,
       "grid_auto_columns": null,
       "grid_auto_flow": null,
       "grid_auto_rows": null,
       "grid_column": null,
       "grid_gap": null,
       "grid_row": null,
       "grid_template_areas": null,
       "grid_template_columns": null,
       "grid_template_rows": null,
       "height": null,
       "justify_content": null,
       "justify_items": null,
       "left": null,
       "margin": null,
       "max_height": null,
       "max_width": null,
       "min_height": null,
       "min_width": null,
       "object_fit": null,
       "object_position": null,
       "order": null,
       "overflow": null,
       "overflow_x": null,
       "overflow_y": null,
       "padding": null,
       "right": null,
       "top": null,
       "visibility": null,
       "width": null
      }
     },
     "26262f6823164ae699b5bfd0f3f2313c": {
      "model_module": "@jupyter-widgets/controls",
      "model_module_version": "1.5.0",
      "model_name": "DescriptionStyleModel",
      "state": {
       "_model_module": "@jupyter-widgets/controls",
       "_model_module_version": "1.5.0",
       "_model_name": "DescriptionStyleModel",
       "_view_count": null,
       "_view_module": "@jupyter-widgets/base",
       "_view_module_version": "1.2.0",
       "_view_name": "StyleView",
       "description_width": ""
      }
     },
     "2a1cc600f4d84eb98d3805811dfbb950": {
      "model_module": "@jupyter-widgets/controls",
      "model_module_version": "1.5.0",
      "model_name": "ProgressStyleModel",
      "state": {
       "_model_module": "@jupyter-widgets/controls",
       "_model_module_version": "1.5.0",
       "_model_name": "ProgressStyleModel",
       "_view_count": null,
       "_view_module": "@jupyter-widgets/base",
       "_view_module_version": "1.2.0",
       "_view_name": "StyleView",
       "bar_color": null,
       "description_width": ""
      }
     },
     "2be4e7073e464f7fa43b7e38c012f8c4": {
      "model_module": "@jupyter-widgets/base",
      "model_module_version": "1.2.0",
      "model_name": "LayoutModel",
      "state": {
       "_model_module": "@jupyter-widgets/base",
       "_model_module_version": "1.2.0",
       "_model_name": "LayoutModel",
       "_view_count": null,
       "_view_module": "@jupyter-widgets/base",
       "_view_module_version": "1.2.0",
       "_view_name": "LayoutView",
       "align_content": null,
       "align_items": null,
       "align_self": null,
       "border": null,
       "bottom": null,
       "display": null,
       "flex": null,
       "flex_flow": null,
       "grid_area": null,
       "grid_auto_columns": null,
       "grid_auto_flow": null,
       "grid_auto_rows": null,
       "grid_column": null,
       "grid_gap": null,
       "grid_row": null,
       "grid_template_areas": null,
       "grid_template_columns": null,
       "grid_template_rows": null,
       "height": null,
       "justify_content": null,
       "justify_items": null,
       "left": null,
       "margin": null,
       "max_height": null,
       "max_width": null,
       "min_height": null,
       "min_width": null,
       "object_fit": null,
       "object_position": null,
       "order": null,
       "overflow": null,
       "overflow_x": null,
       "overflow_y": null,
       "padding": null,
       "right": null,
       "top": null,
       "visibility": null,
       "width": null
      }
     },
     "2c53479a54124e0fba442c61fa64adc6": {
      "model_module": "@jupyter-widgets/controls",
      "model_module_version": "1.5.0",
      "model_name": "HTMLModel",
      "state": {
       "_dom_classes": [],
       "_model_module": "@jupyter-widgets/controls",
       "_model_module_version": "1.5.0",
       "_model_name": "HTMLModel",
       "_view_count": null,
       "_view_module": "@jupyter-widgets/controls",
       "_view_module_version": "1.5.0",
       "_view_name": "HTMLView",
       "description": "",
       "description_tooltip": null,
       "layout": "IPY_MODEL_c06dc519d7924c6cb10e9a4611c78b82",
       "placeholder": "​",
       "style": "IPY_MODEL_f042ad0580834590a80990b43d302df1",
       "value": "special_tokens_map.json: 100%"
      }
     },
     "2d1e7c9a56fc4e62bbcbba73a3f46954": {
      "model_module": "@jupyter-widgets/controls",
      "model_module_version": "1.5.0",
      "model_name": "HTMLModel",
      "state": {
       "_dom_classes": [],
       "_model_module": "@jupyter-widgets/controls",
       "_model_module_version": "1.5.0",
       "_model_name": "HTMLModel",
       "_view_count": null,
       "_view_module": "@jupyter-widgets/controls",
       "_view_module_version": "1.5.0",
       "_view_name": "HTMLView",
       "description": "",
       "description_tooltip": null,
       "layout": "IPY_MODEL_2365f4ed76fd404d995b2cffb5d0fa6c",
       "placeholder": "​",
       "style": "IPY_MODEL_0a9e45753f994ec8b47e03586d9beb9c",
       "value": " 232k/232k [00:00&lt;00:00, 674kB/s]"
      }
     },
     "2daf943e8a404ab684bc14bed1b1a589": {
      "model_module": "@jupyter-widgets/controls",
      "model_module_version": "1.5.0",
      "model_name": "HTMLModel",
      "state": {
       "_dom_classes": [],
       "_model_module": "@jupyter-widgets/controls",
       "_model_module_version": "1.5.0",
       "_model_name": "HTMLModel",
       "_view_count": null,
       "_view_module": "@jupyter-widgets/controls",
       "_view_module_version": "1.5.0",
       "_view_name": "HTMLView",
       "description": "",
       "description_tooltip": null,
       "layout": "IPY_MODEL_834e25c21b004541ad53531d8eafe04d",
       "placeholder": "​",
       "style": "IPY_MODEL_a9e8c82b04b1481baf873d9a82b81a83",
       "value": "tokenizer.json: 100%"
      }
     },
     "2e16bf7681df48e88158b5086639e317": {
      "model_module": "@jupyter-widgets/controls",
      "model_module_version": "1.5.0",
      "model_name": "FloatProgressModel",
      "state": {
       "_dom_classes": [],
       "_model_module": "@jupyter-widgets/controls",
       "_model_module_version": "1.5.0",
       "_model_name": "FloatProgressModel",
       "_view_count": null,
       "_view_module": "@jupyter-widgets/controls",
       "_view_module_version": "1.5.0",
       "_view_name": "ProgressView",
       "bar_style": "success",
       "description": "",
       "description_tooltip": null,
       "layout": "IPY_MODEL_54d499da9f7f4b46b7328681f67c2d7a",
       "max": 10659,
       "min": 0,
       "orientation": "horizontal",
       "style": "IPY_MODEL_5b3f0e8663234e1a82f10c525919d9fa",
       "value": 10659
      }
     },
     "2f3700c87b9c423a90156ad3274da3fb": {
      "model_module": "@jupyter-widgets/controls",
      "model_module_version": "1.5.0",
      "model_name": "ProgressStyleModel",
      "state": {
       "_model_module": "@jupyter-widgets/controls",
       "_model_module_version": "1.5.0",
       "_model_name": "ProgressStyleModel",
       "_view_count": null,
       "_view_module": "@jupyter-widgets/base",
       "_view_module_version": "1.2.0",
       "_view_name": "StyleView",
       "bar_color": null,
       "description_width": ""
      }
     },
     "362034613ec84921898680732081437b": {
      "model_module": "@jupyter-widgets/controls",
      "model_module_version": "1.5.0",
      "model_name": "FloatProgressModel",
      "state": {
       "_dom_classes": [],
       "_model_module": "@jupyter-widgets/controls",
       "_model_module_version": "1.5.0",
       "_model_name": "FloatProgressModel",
       "_view_count": null,
       "_view_module": "@jupyter-widgets/controls",
       "_view_module_version": "1.5.0",
       "_view_name": "ProgressView",
       "bar_style": "success",
       "description": "",
       "description_tooltip": null,
       "layout": "IPY_MODEL_6f7b53e872894c57a82d09de0c79f051",
       "max": 231508,
       "min": 0,
       "orientation": "horizontal",
       "style": "IPY_MODEL_994cff0289ff4b2b9f8c6b7bbc73ba6f",
       "value": 231508
      }
     },
     "3d834a88727b4137aa68c30636464bae": {
      "model_module": "@jupyter-widgets/controls",
      "model_module_version": "1.5.0",
      "model_name": "HBoxModel",
      "state": {
       "_dom_classes": [],
       "_model_module": "@jupyter-widgets/controls",
       "_model_module_version": "1.5.0",
       "_model_name": "HBoxModel",
       "_view_count": null,
       "_view_module": "@jupyter-widgets/controls",
       "_view_module_version": "1.5.0",
       "_view_name": "HBoxView",
       "box_style": "",
       "children": [
        "IPY_MODEL_12d8684c060c44c9939a033e813e8941",
        "IPY_MODEL_e0eff2b1101249cda418ca0bf2781839",
        "IPY_MODEL_8a422c59b3c645beabd8227377a72077"
       ],
       "layout": "IPY_MODEL_7af28aeb8c804e4cbfcd8bb9b4f4a57c"
      }
     },
     "42811bdebf8f468083cdf0fbde93d6f8": {
      "model_module": "@jupyter-widgets/controls",
      "model_module_version": "1.5.0",
      "model_name": "DescriptionStyleModel",
      "state": {
       "_model_module": "@jupyter-widgets/controls",
       "_model_module_version": "1.5.0",
       "_model_name": "DescriptionStyleModel",
       "_view_count": null,
       "_view_module": "@jupyter-widgets/base",
       "_view_module_version": "1.2.0",
       "_view_name": "StyleView",
       "description_width": ""
      }
     },
     "45fa1f4f0d274fdda3d7fe281c0daa64": {
      "model_module": "@jupyter-widgets/base",
      "model_module_version": "1.2.0",
      "model_name": "LayoutModel",
      "state": {
       "_model_module": "@jupyter-widgets/base",
       "_model_module_version": "1.2.0",
       "_model_name": "LayoutModel",
       "_view_count": null,
       "_view_module": "@jupyter-widgets/base",
       "_view_module_version": "1.2.0",
       "_view_name": "LayoutView",
       "align_content": null,
       "align_items": null,
       "align_self": null,
       "border": null,
       "bottom": null,
       "display": null,
       "flex": null,
       "flex_flow": null,
       "grid_area": null,
       "grid_auto_columns": null,
       "grid_auto_flow": null,
       "grid_auto_rows": null,
       "grid_column": null,
       "grid_gap": null,
       "grid_row": null,
       "grid_template_areas": null,
       "grid_template_columns": null,
       "grid_template_rows": null,
       "height": null,
       "justify_content": null,
       "justify_items": null,
       "left": null,
       "margin": null,
       "max_height": null,
       "max_width": null,
       "min_height": null,
       "min_width": null,
       "object_fit": null,
       "object_position": null,
       "order": null,
       "overflow": null,
       "overflow_x": null,
       "overflow_y": null,
       "padding": null,
       "right": null,
       "top": null,
       "visibility": null,
       "width": null
      }
     },
     "45fb5c417ae14914828e31f3fc7cb099": {
      "model_module": "@jupyter-widgets/controls",
      "model_module_version": "1.5.0",
      "model_name": "DescriptionStyleModel",
      "state": {
       "_model_module": "@jupyter-widgets/controls",
       "_model_module_version": "1.5.0",
       "_model_name": "DescriptionStyleModel",
       "_view_count": null,
       "_view_module": "@jupyter-widgets/base",
       "_view_module_version": "1.2.0",
       "_view_name": "StyleView",
       "description_width": ""
      }
     },
     "4817df8224f24822871f54a4bcf9f8f3": {
      "model_module": "@jupyter-widgets/controls",
      "model_module_version": "1.5.0",
      "model_name": "DescriptionStyleModel",
      "state": {
       "_model_module": "@jupyter-widgets/controls",
       "_model_module_version": "1.5.0",
       "_model_name": "DescriptionStyleModel",
       "_view_count": null,
       "_view_module": "@jupyter-widgets/base",
       "_view_module_version": "1.2.0",
       "_view_name": "StyleView",
       "description_width": ""
      }
     },
     "4d020c073f084dd28061cecbc010f83f": {
      "model_module": "@jupyter-widgets/base",
      "model_module_version": "1.2.0",
      "model_name": "LayoutModel",
      "state": {
       "_model_module": "@jupyter-widgets/base",
       "_model_module_version": "1.2.0",
       "_model_name": "LayoutModel",
       "_view_count": null,
       "_view_module": "@jupyter-widgets/base",
       "_view_module_version": "1.2.0",
       "_view_name": "LayoutView",
       "align_content": null,
       "align_items": null,
       "align_self": null,
       "border": null,
       "bottom": null,
       "display": null,
       "flex": null,
       "flex_flow": null,
       "grid_area": null,
       "grid_auto_columns": null,
       "grid_auto_flow": null,
       "grid_auto_rows": null,
       "grid_column": null,
       "grid_gap": null,
       "grid_row": null,
       "grid_template_areas": null,
       "grid_template_columns": null,
       "grid_template_rows": null,
       "height": null,
       "justify_content": null,
       "justify_items": null,
       "left": null,
       "margin": null,
       "max_height": null,
       "max_width": null,
       "min_height": null,
       "min_width": null,
       "object_fit": null,
       "object_position": null,
       "order": null,
       "overflow": null,
       "overflow_x": null,
       "overflow_y": null,
       "padding": null,
       "right": null,
       "top": null,
       "visibility": null,
       "width": null
      }
     },
     "509e53693f0b4113ac74bd66a04c40f9": {
      "model_module": "@jupyter-widgets/controls",
      "model_module_version": "1.5.0",
      "model_name": "DescriptionStyleModel",
      "state": {
       "_model_module": "@jupyter-widgets/controls",
       "_model_module_version": "1.5.0",
       "_model_name": "DescriptionStyleModel",
       "_view_count": null,
       "_view_module": "@jupyter-widgets/base",
       "_view_module_version": "1.2.0",
       "_view_name": "StyleView",
       "description_width": ""
      }
     },
     "50b00028cf9849019b029af05362ce00": {
      "model_module": "@jupyter-widgets/controls",
      "model_module_version": "1.5.0",
      "model_name": "ProgressStyleModel",
      "state": {
       "_model_module": "@jupyter-widgets/controls",
       "_model_module_version": "1.5.0",
       "_model_name": "ProgressStyleModel",
       "_view_count": null,
       "_view_module": "@jupyter-widgets/base",
       "_view_module_version": "1.2.0",
       "_view_name": "StyleView",
       "bar_color": null,
       "description_width": ""
      }
     },
     "50d816502e384ffd8231bd1a50984124": {
      "model_module": "@jupyter-widgets/base",
      "model_module_version": "1.2.0",
      "model_name": "LayoutModel",
      "state": {
       "_model_module": "@jupyter-widgets/base",
       "_model_module_version": "1.2.0",
       "_model_name": "LayoutModel",
       "_view_count": null,
       "_view_module": "@jupyter-widgets/base",
       "_view_module_version": "1.2.0",
       "_view_name": "LayoutView",
       "align_content": null,
       "align_items": null,
       "align_self": null,
       "border": null,
       "bottom": null,
       "display": null,
       "flex": null,
       "flex_flow": null,
       "grid_area": null,
       "grid_auto_columns": null,
       "grid_auto_flow": null,
       "grid_auto_rows": null,
       "grid_column": null,
       "grid_gap": null,
       "grid_row": null,
       "grid_template_areas": null,
       "grid_template_columns": null,
       "grid_template_rows": null,
       "height": null,
       "justify_content": null,
       "justify_items": null,
       "left": null,
       "margin": null,
       "max_height": null,
       "max_width": null,
       "min_height": null,
       "min_width": null,
       "object_fit": null,
       "object_position": null,
       "order": null,
       "overflow": null,
       "overflow_x": null,
       "overflow_y": null,
       "padding": null,
       "right": null,
       "top": null,
       "visibility": null,
       "width": null
      }
     },
     "54d499da9f7f4b46b7328681f67c2d7a": {
      "model_module": "@jupyter-widgets/base",
      "model_module_version": "1.2.0",
      "model_name": "LayoutModel",
      "state": {
       "_model_module": "@jupyter-widgets/base",
       "_model_module_version": "1.2.0",
       "_model_name": "LayoutModel",
       "_view_count": null,
       "_view_module": "@jupyter-widgets/base",
       "_view_module_version": "1.2.0",
       "_view_name": "LayoutView",
       "align_content": null,
       "align_items": null,
       "align_self": null,
       "border": null,
       "bottom": null,
       "display": null,
       "flex": null,
       "flex_flow": null,
       "grid_area": null,
       "grid_auto_columns": null,
       "grid_auto_flow": null,
       "grid_auto_rows": null,
       "grid_column": null,
       "grid_gap": null,
       "grid_row": null,
       "grid_template_areas": null,
       "grid_template_columns": null,
       "grid_template_rows": null,
       "height": null,
       "justify_content": null,
       "justify_items": null,
       "left": null,
       "margin": null,
       "max_height": null,
       "max_width": null,
       "min_height": null,
       "min_width": null,
       "object_fit": null,
       "object_position": null,
       "order": null,
       "overflow": null,
       "overflow_x": null,
       "overflow_y": null,
       "padding": null,
       "right": null,
       "top": null,
       "visibility": null,
       "width": null
      }
     },
     "550467378ea7418690136e1cee41cff6": {
      "model_module": "@jupyter-widgets/base",
      "model_module_version": "1.2.0",
      "model_name": "LayoutModel",
      "state": {
       "_model_module": "@jupyter-widgets/base",
       "_model_module_version": "1.2.0",
       "_model_name": "LayoutModel",
       "_view_count": null,
       "_view_module": "@jupyter-widgets/base",
       "_view_module_version": "1.2.0",
       "_view_name": "LayoutView",
       "align_content": null,
       "align_items": null,
       "align_self": null,
       "border": null,
       "bottom": null,
       "display": null,
       "flex": null,
       "flex_flow": null,
       "grid_area": null,
       "grid_auto_columns": null,
       "grid_auto_flow": null,
       "grid_auto_rows": null,
       "grid_column": null,
       "grid_gap": null,
       "grid_row": null,
       "grid_template_areas": null,
       "grid_template_columns": null,
       "grid_template_rows": null,
       "height": null,
       "justify_content": null,
       "justify_items": null,
       "left": null,
       "margin": null,
       "max_height": null,
       "max_width": null,
       "min_height": null,
       "min_width": null,
       "object_fit": null,
       "object_position": null,
       "order": null,
       "overflow": null,
       "overflow_x": null,
       "overflow_y": null,
       "padding": null,
       "right": null,
       "top": null,
       "visibility": null,
       "width": null
      }
     },
     "55ba22efcbfb4f5d96a1a97dba29c6af": {
      "model_module": "@jupyter-widgets/controls",
      "model_module_version": "1.5.0",
      "model_name": "HTMLModel",
      "state": {
       "_dom_classes": [],
       "_model_module": "@jupyter-widgets/controls",
       "_model_module_version": "1.5.0",
       "_model_name": "HTMLModel",
       "_view_count": null,
       "_view_module": "@jupyter-widgets/controls",
       "_view_module_version": "1.5.0",
       "_view_name": "HTMLView",
       "description": "",
       "description_tooltip": null,
       "layout": "IPY_MODEL_c4d2eef36b0f4b8896ea138f7faa0d4d",
       "placeholder": "​",
       "style": "IPY_MODEL_1dbea6ef83f44084bf675825331faca4",
       "value": " 116/116 [00:00&lt;00:00, 9.55kB/s]"
      }
     },
     "5851648200ad4186990f3a32a2b1def5": {
      "model_module": "@jupyter-widgets/controls",
      "model_module_version": "1.5.0",
      "model_name": "HTMLModel",
      "state": {
       "_dom_classes": [],
       "_model_module": "@jupyter-widgets/controls",
       "_model_module_version": "1.5.0",
       "_model_name": "HTMLModel",
       "_view_count": null,
       "_view_module": "@jupyter-widgets/controls",
       "_view_module_version": "1.5.0",
       "_view_name": "HTMLView",
       "description": "",
       "description_tooltip": null,
       "layout": "IPY_MODEL_af8cd2087bc542ccb0d9ed5e639b903c",
       "placeholder": "​",
       "style": "IPY_MODEL_d5f989a1a2db4a8692ce1d864727439f",
       "value": "model.safetensors: 100%"
      }
     },
     "58a2c25c074643bf81c4a99dbf06a526": {
      "model_module": "@jupyter-widgets/base",
      "model_module_version": "1.2.0",
      "model_name": "LayoutModel",
      "state": {
       "_model_module": "@jupyter-widgets/base",
       "_model_module_version": "1.2.0",
       "_model_name": "LayoutModel",
       "_view_count": null,
       "_view_module": "@jupyter-widgets/base",
       "_view_module_version": "1.2.0",
       "_view_name": "LayoutView",
       "align_content": null,
       "align_items": null,
       "align_self": null,
       "border": null,
       "bottom": null,
       "display": null,
       "flex": null,
       "flex_flow": null,
       "grid_area": null,
       "grid_auto_columns": null,
       "grid_auto_flow": null,
       "grid_auto_rows": null,
       "grid_column": null,
       "grid_gap": null,
       "grid_row": null,
       "grid_template_areas": null,
       "grid_template_columns": null,
       "grid_template_rows": null,
       "height": null,
       "justify_content": null,
       "justify_items": null,
       "left": null,
       "margin": null,
       "max_height": null,
       "max_width": null,
       "min_height": null,
       "min_width": null,
       "object_fit": null,
       "object_position": null,
       "order": null,
       "overflow": null,
       "overflow_x": null,
       "overflow_y": null,
       "padding": null,
       "right": null,
       "top": null,
       "visibility": null,
       "width": null
      }
     },
     "5b3cd384363b419cbec01e235735d79c": {
      "model_module": "@jupyter-widgets/controls",
      "model_module_version": "1.5.0",
      "model_name": "FloatProgressModel",
      "state": {
       "_dom_classes": [],
       "_model_module": "@jupyter-widgets/controls",
       "_model_module_version": "1.5.0",
       "_model_name": "FloatProgressModel",
       "_view_count": null,
       "_view_module": "@jupyter-widgets/controls",
       "_view_module_version": "1.5.0",
       "_view_name": "ProgressView",
       "bar_style": "success",
       "description": "",
       "description_tooltip": null,
       "layout": "IPY_MODEL_e49d45eb99384c47a65f43ab221a6bf8",
       "max": 612,
       "min": 0,
       "orientation": "horizontal",
       "style": "IPY_MODEL_2f3700c87b9c423a90156ad3274da3fb",
       "value": 612
      }
     },
     "5b3f0e8663234e1a82f10c525919d9fa": {
      "model_module": "@jupyter-widgets/controls",
      "model_module_version": "1.5.0",
      "model_name": "ProgressStyleModel",
      "state": {
       "_model_module": "@jupyter-widgets/controls",
       "_model_module_version": "1.5.0",
       "_model_name": "ProgressStyleModel",
       "_view_count": null,
       "_view_module": "@jupyter-widgets/base",
       "_view_module_version": "1.2.0",
       "_view_name": "StyleView",
       "bar_color": null,
       "description_width": ""
      }
     },
     "60ec23f814eb46beb2cc77d5fca1e48f": {
      "model_module": "@jupyter-widgets/controls",
      "model_module_version": "1.5.0",
      "model_name": "FloatProgressModel",
      "state": {
       "_dom_classes": [],
       "_model_module": "@jupyter-widgets/controls",
       "_model_module_version": "1.5.0",
       "_model_name": "FloatProgressModel",
       "_view_count": null,
       "_view_module": "@jupyter-widgets/controls",
       "_view_module_version": "1.5.0",
       "_view_name": "ProgressView",
       "bar_style": "success",
       "description": "",
       "description_tooltip": null,
       "layout": "IPY_MODEL_e1ca2f8097884e2798be69a72fd200af",
       "max": 190,
       "min": 0,
       "orientation": "horizontal",
       "style": "IPY_MODEL_ee9b65537cee450c8e5c15c5a783543f",
       "value": 190
      }
     },
     "613deac45c7a4ebbaa4026c10c9d1357": {
      "model_module": "@jupyter-widgets/controls",
      "model_module_version": "1.5.0",
      "model_name": "HTMLModel",
      "state": {
       "_dom_classes": [],
       "_model_module": "@jupyter-widgets/controls",
       "_model_module_version": "1.5.0",
       "_model_name": "HTMLModel",
       "_view_count": null,
       "_view_module": "@jupyter-widgets/controls",
       "_view_module_version": "1.5.0",
       "_view_name": "HTMLView",
       "description": "",
       "description_tooltip": null,
       "layout": "IPY_MODEL_9d5fc4bbd57d4dd58f50b0b8463ffa70",
       "placeholder": "​",
       "style": "IPY_MODEL_9885e256cb404d19bc83dcf18b3e7715",
       "value": "Batches: 100%"
      }
     },
     "63dfbefa51234ee999f975e374575d42": {
      "model_module": "@jupyter-widgets/base",
      "model_module_version": "1.2.0",
      "model_name": "LayoutModel",
      "state": {
       "_model_module": "@jupyter-widgets/base",
       "_model_module_version": "1.2.0",
       "_model_name": "LayoutModel",
       "_view_count": null,
       "_view_module": "@jupyter-widgets/base",
       "_view_module_version": "1.2.0",
       "_view_name": "LayoutView",
       "align_content": null,
       "align_items": null,
       "align_self": null,
       "border": null,
       "bottom": null,
       "display": null,
       "flex": null,
       "flex_flow": null,
       "grid_area": null,
       "grid_auto_columns": null,
       "grid_auto_flow": null,
       "grid_auto_rows": null,
       "grid_column": null,
       "grid_gap": null,
       "grid_row": null,
       "grid_template_areas": null,
       "grid_template_columns": null,
       "grid_template_rows": null,
       "height": null,
       "justify_content": null,
       "justify_items": null,
       "left": null,
       "margin": null,
       "max_height": null,
       "max_width": null,
       "min_height": null,
       "min_width": null,
       "object_fit": null,
       "object_position": null,
       "order": null,
       "overflow": null,
       "overflow_x": null,
       "overflow_y": null,
       "padding": null,
       "right": null,
       "top": null,
       "visibility": null,
       "width": null
      }
     },
     "64a2a660c39549279c0ccb5e64ce51b0": {
      "model_module": "@jupyter-widgets/controls",
      "model_module_version": "1.5.0",
      "model_name": "HTMLModel",
      "state": {
       "_dom_classes": [],
       "_model_module": "@jupyter-widgets/controls",
       "_model_module_version": "1.5.0",
       "_model_name": "HTMLModel",
       "_view_count": null,
       "_view_module": "@jupyter-widgets/controls",
       "_view_module_version": "1.5.0",
       "_view_name": "HTMLView",
       "description": "",
       "description_tooltip": null,
       "layout": "IPY_MODEL_550467378ea7418690136e1cee41cff6",
       "placeholder": "​",
       "style": "IPY_MODEL_6d1a53c6df854af3a5b540f070024cc7",
       "value": " 10.7k/10.7k [00:00&lt;00:00, 940kB/s]"
      }
     },
     "6557a560ad5343a4968f38aaed6a8c41": {
      "model_module": "@jupyter-widgets/controls",
      "model_module_version": "1.5.0",
      "model_name": "HTMLModel",
      "state": {
       "_dom_classes": [],
       "_model_module": "@jupyter-widgets/controls",
       "_model_module_version": "1.5.0",
       "_model_name": "HTMLModel",
       "_view_count": null,
       "_view_module": "@jupyter-widgets/controls",
       "_view_module_version": "1.5.0",
       "_view_name": "HTMLView",
       "description": "",
       "description_tooltip": null,
       "layout": "IPY_MODEL_0d00b81054ce452b99fc655712817e04",
       "placeholder": "​",
       "style": "IPY_MODEL_85c4472f6dbf452bb3f92476784a147c",
       "value": "config_sentence_transformers.json: 100%"
      }
     },
     "65f9f0712ab54e8c8e7e5a4464ab328a": {
      "model_module": "@jupyter-widgets/base",
      "model_module_version": "1.2.0",
      "model_name": "LayoutModel",
      "state": {
       "_model_module": "@jupyter-widgets/base",
       "_model_module_version": "1.2.0",
       "_model_name": "LayoutModel",
       "_view_count": null,
       "_view_module": "@jupyter-widgets/base",
       "_view_module_version": "1.2.0",
       "_view_name": "LayoutView",
       "align_content": null,
       "align_items": null,
       "align_self": null,
       "border": null,
       "bottom": null,
       "display": null,
       "flex": null,
       "flex_flow": null,
       "grid_area": null,
       "grid_auto_columns": null,
       "grid_auto_flow": null,
       "grid_auto_rows": null,
       "grid_column": null,
       "grid_gap": null,
       "grid_row": null,
       "grid_template_areas": null,
       "grid_template_columns": null,
       "grid_template_rows": null,
       "height": null,
       "justify_content": null,
       "justify_items": null,
       "left": null,
       "margin": null,
       "max_height": null,
       "max_width": null,
       "min_height": null,
       "min_width": null,
       "object_fit": null,
       "object_position": null,
       "order": null,
       "overflow": null,
       "overflow_x": null,
       "overflow_y": null,
       "padding": null,
       "right": null,
       "top": null,
       "visibility": null,
       "width": null
      }
     },
     "6a3871e4bd034b4fabf2148ba0e24b08": {
      "model_module": "@jupyter-widgets/controls",
      "model_module_version": "1.5.0",
      "model_name": "DescriptionStyleModel",
      "state": {
       "_model_module": "@jupyter-widgets/controls",
       "_model_module_version": "1.5.0",
       "_model_name": "DescriptionStyleModel",
       "_view_count": null,
       "_view_module": "@jupyter-widgets/base",
       "_view_module_version": "1.2.0",
       "_view_name": "StyleView",
       "description_width": ""
      }
     },
     "6d1a53c6df854af3a5b540f070024cc7": {
      "model_module": "@jupyter-widgets/controls",
      "model_module_version": "1.5.0",
      "model_name": "DescriptionStyleModel",
      "state": {
       "_model_module": "@jupyter-widgets/controls",
       "_model_module_version": "1.5.0",
       "_model_name": "DescriptionStyleModel",
       "_view_count": null,
       "_view_module": "@jupyter-widgets/base",
       "_view_module_version": "1.2.0",
       "_view_name": "StyleView",
       "description_width": ""
      }
     },
     "6eecf28e7d134a4698ac070e7669fdfd": {
      "model_module": "@jupyter-widgets/controls",
      "model_module_version": "1.5.0",
      "model_name": "HBoxModel",
      "state": {
       "_dom_classes": [],
       "_model_module": "@jupyter-widgets/controls",
       "_model_module_version": "1.5.0",
       "_model_name": "HBoxModel",
       "_view_count": null,
       "_view_module": "@jupyter-widgets/controls",
       "_view_module_version": "1.5.0",
       "_view_name": "HBoxView",
       "box_style": "",
       "children": [
        "IPY_MODEL_6557a560ad5343a4968f38aaed6a8c41",
        "IPY_MODEL_100b441815bc4a658ec354b08d97bb09",
        "IPY_MODEL_55ba22efcbfb4f5d96a1a97dba29c6af"
       ],
       "layout": "IPY_MODEL_c04a436044394435b1715d91499e8693"
      }
     },
     "6f7b53e872894c57a82d09de0c79f051": {
      "model_module": "@jupyter-widgets/base",
      "model_module_version": "1.2.0",
      "model_name": "LayoutModel",
      "state": {
       "_model_module": "@jupyter-widgets/base",
       "_model_module_version": "1.2.0",
       "_model_name": "LayoutModel",
       "_view_count": null,
       "_view_module": "@jupyter-widgets/base",
       "_view_module_version": "1.2.0",
       "_view_name": "LayoutView",
       "align_content": null,
       "align_items": null,
       "align_self": null,
       "border": null,
       "bottom": null,
       "display": null,
       "flex": null,
       "flex_flow": null,
       "grid_area": null,
       "grid_auto_columns": null,
       "grid_auto_flow": null,
       "grid_auto_rows": null,
       "grid_column": null,
       "grid_gap": null,
       "grid_row": null,
       "grid_template_areas": null,
       "grid_template_columns": null,
       "grid_template_rows": null,
       "height": null,
       "justify_content": null,
       "justify_items": null,
       "left": null,
       "margin": null,
       "max_height": null,
       "max_width": null,
       "min_height": null,
       "min_width": null,
       "object_fit": null,
       "object_position": null,
       "order": null,
       "overflow": null,
       "overflow_x": null,
       "overflow_y": null,
       "padding": null,
       "right": null,
       "top": null,
       "visibility": null,
       "width": null
      }
     },
     "7055e5f762284ed9a2a09bda71bc88bd": {
      "model_module": "@jupyter-widgets/controls",
      "model_module_version": "1.5.0",
      "model_name": "ProgressStyleModel",
      "state": {
       "_model_module": "@jupyter-widgets/controls",
       "_model_module_version": "1.5.0",
       "_model_name": "ProgressStyleModel",
       "_view_count": null,
       "_view_module": "@jupyter-widgets/base",
       "_view_module_version": "1.2.0",
       "_view_name": "StyleView",
       "bar_color": null,
       "description_width": ""
      }
     },
     "7197f8f42f81476c83a1fe184b99ff01": {
      "model_module": "@jupyter-widgets/controls",
      "model_module_version": "1.5.0",
      "model_name": "HBoxModel",
      "state": {
       "_dom_classes": [],
       "_model_module": "@jupyter-widgets/controls",
       "_model_module_version": "1.5.0",
       "_model_name": "HBoxModel",
       "_view_count": null,
       "_view_module": "@jupyter-widgets/controls",
       "_view_module_version": "1.5.0",
       "_view_name": "HBoxView",
       "box_style": "",
       "children": [
        "IPY_MODEL_78f84f1fe83642e182b1b95b69edf83b",
        "IPY_MODEL_2e16bf7681df48e88158b5086639e317",
        "IPY_MODEL_64a2a660c39549279c0ccb5e64ce51b0"
       ],
       "layout": "IPY_MODEL_c956cb43ce384a6cb4d5899036e711f9"
      }
     },
     "73376f555eb94e7ea74ff65ec3015828": {
      "model_module": "@jupyter-widgets/base",
      "model_module_version": "1.2.0",
      "model_name": "LayoutModel",
      "state": {
       "_model_module": "@jupyter-widgets/base",
       "_model_module_version": "1.2.0",
       "_model_name": "LayoutModel",
       "_view_count": null,
       "_view_module": "@jupyter-widgets/base",
       "_view_module_version": "1.2.0",
       "_view_name": "LayoutView",
       "align_content": null,
       "align_items": null,
       "align_self": null,
       "border": null,
       "bottom": null,
       "display": null,
       "flex": null,
       "flex_flow": null,
       "grid_area": null,
       "grid_auto_columns": null,
       "grid_auto_flow": null,
       "grid_auto_rows": null,
       "grid_column": null,
       "grid_gap": null,
       "grid_row": null,
       "grid_template_areas": null,
       "grid_template_columns": null,
       "grid_template_rows": null,
       "height": null,
       "justify_content": null,
       "justify_items": null,
       "left": null,
       "margin": null,
       "max_height": null,
       "max_width": null,
       "min_height": null,
       "min_width": null,
       "object_fit": null,
       "object_position": null,
       "order": null,
       "overflow": null,
       "overflow_x": null,
       "overflow_y": null,
       "padding": null,
       "right": null,
       "top": null,
       "visibility": null,
       "width": null
      }
     },
     "74340397201f47eb8abf5196c49b89de": {
      "model_module": "@jupyter-widgets/controls",
      "model_module_version": "1.5.0",
      "model_name": "HBoxModel",
      "state": {
       "_dom_classes": [],
       "_model_module": "@jupyter-widgets/controls",
       "_model_module_version": "1.5.0",
       "_model_name": "HBoxModel",
       "_view_count": null,
       "_view_module": "@jupyter-widgets/controls",
       "_view_module_version": "1.5.0",
       "_view_name": "HBoxView",
       "box_style": "",
       "children": [
        "IPY_MODEL_8ff08b3ea0894f9ca52ebb91a073f786",
        "IPY_MODEL_60ec23f814eb46beb2cc77d5fca1e48f",
        "IPY_MODEL_79b63632333640208eed5e2b0cbd82d9"
       ],
       "layout": "IPY_MODEL_9ed64896e247408a9ad86fe7a6dc898d"
      }
     },
     "7498dd8462af4d33b11ee622f70ebb7f": {
      "model_module": "@jupyter-widgets/controls",
      "model_module_version": "1.5.0",
      "model_name": "DescriptionStyleModel",
      "state": {
       "_model_module": "@jupyter-widgets/controls",
       "_model_module_version": "1.5.0",
       "_model_name": "DescriptionStyleModel",
       "_view_count": null,
       "_view_module": "@jupyter-widgets/base",
       "_view_module_version": "1.2.0",
       "_view_name": "StyleView",
       "description_width": ""
      }
     },
     "75d44c4925a54e22ba9ca57b6e951564": {
      "model_module": "@jupyter-widgets/controls",
      "model_module_version": "1.5.0",
      "model_name": "DescriptionStyleModel",
      "state": {
       "_model_module": "@jupyter-widgets/controls",
       "_model_module_version": "1.5.0",
       "_model_name": "DescriptionStyleModel",
       "_view_count": null,
       "_view_module": "@jupyter-widgets/base",
       "_view_module_version": "1.2.0",
       "_view_name": "StyleView",
       "description_width": ""
      }
     },
     "7648863ed18e40049acd17a1005bd69d": {
      "model_module": "@jupyter-widgets/base",
      "model_module_version": "1.2.0",
      "model_name": "LayoutModel",
      "state": {
       "_model_module": "@jupyter-widgets/base",
       "_model_module_version": "1.2.0",
       "_model_name": "LayoutModel",
       "_view_count": null,
       "_view_module": "@jupyter-widgets/base",
       "_view_module_version": "1.2.0",
       "_view_name": "LayoutView",
       "align_content": null,
       "align_items": null,
       "align_self": null,
       "border": null,
       "bottom": null,
       "display": null,
       "flex": null,
       "flex_flow": null,
       "grid_area": null,
       "grid_auto_columns": null,
       "grid_auto_flow": null,
       "grid_auto_rows": null,
       "grid_column": null,
       "grid_gap": null,
       "grid_row": null,
       "grid_template_areas": null,
       "grid_template_columns": null,
       "grid_template_rows": null,
       "height": null,
       "justify_content": null,
       "justify_items": null,
       "left": null,
       "margin": null,
       "max_height": null,
       "max_width": null,
       "min_height": null,
       "min_width": null,
       "object_fit": null,
       "object_position": null,
       "order": null,
       "overflow": null,
       "overflow_x": null,
       "overflow_y": null,
       "padding": null,
       "right": null,
       "top": null,
       "visibility": null,
       "width": null
      }
     },
     "78f84f1fe83642e182b1b95b69edf83b": {
      "model_module": "@jupyter-widgets/controls",
      "model_module_version": "1.5.0",
      "model_name": "HTMLModel",
      "state": {
       "_dom_classes": [],
       "_model_module": "@jupyter-widgets/controls",
       "_model_module_version": "1.5.0",
       "_model_name": "HTMLModel",
       "_view_count": null,
       "_view_module": "@jupyter-widgets/controls",
       "_view_module_version": "1.5.0",
       "_view_name": "HTMLView",
       "description": "",
       "description_tooltip": null,
       "layout": "IPY_MODEL_65f9f0712ab54e8c8e7e5a4464ab328a",
       "placeholder": "​",
       "style": "IPY_MODEL_d5f98044bc2346cda2df04e1fd2646e6",
       "value": "README.md: 100%"
      }
     },
     "79549354392c4023bdca9559a331d299": {
      "model_module": "@jupyter-widgets/base",
      "model_module_version": "1.2.0",
      "model_name": "LayoutModel",
      "state": {
       "_model_module": "@jupyter-widgets/base",
       "_model_module_version": "1.2.0",
       "_model_name": "LayoutModel",
       "_view_count": null,
       "_view_module": "@jupyter-widgets/base",
       "_view_module_version": "1.2.0",
       "_view_name": "LayoutView",
       "align_content": null,
       "align_items": null,
       "align_self": null,
       "border": null,
       "bottom": null,
       "display": null,
       "flex": null,
       "flex_flow": null,
       "grid_area": null,
       "grid_auto_columns": null,
       "grid_auto_flow": null,
       "grid_auto_rows": null,
       "grid_column": null,
       "grid_gap": null,
       "grid_row": null,
       "grid_template_areas": null,
       "grid_template_columns": null,
       "grid_template_rows": null,
       "height": null,
       "justify_content": null,
       "justify_items": null,
       "left": null,
       "margin": null,
       "max_height": null,
       "max_width": null,
       "min_height": null,
       "min_width": null,
       "object_fit": null,
       "object_position": null,
       "order": null,
       "overflow": null,
       "overflow_x": null,
       "overflow_y": null,
       "padding": null,
       "right": null,
       "top": null,
       "visibility": null,
       "width": null
      }
     },
     "79b63632333640208eed5e2b0cbd82d9": {
      "model_module": "@jupyter-widgets/controls",
      "model_module_version": "1.5.0",
      "model_name": "HTMLModel",
      "state": {
       "_dom_classes": [],
       "_model_module": "@jupyter-widgets/controls",
       "_model_module_version": "1.5.0",
       "_model_name": "HTMLModel",
       "_view_count": null,
       "_view_module": "@jupyter-widgets/controls",
       "_view_module_version": "1.5.0",
       "_view_name": "HTMLView",
       "description": "",
       "description_tooltip": null,
       "layout": "IPY_MODEL_2be4e7073e464f7fa43b7e38c012f8c4",
       "placeholder": "​",
       "style": "IPY_MODEL_0913e057c64f4d178618f79d989f70e6",
       "value": " 190/190 [00:00&lt;00:00, 15.2kB/s]"
      }
     },
     "7af28aeb8c804e4cbfcd8bb9b4f4a57c": {
      "model_module": "@jupyter-widgets/base",
      "model_module_version": "1.2.0",
      "model_name": "LayoutModel",
      "state": {
       "_model_module": "@jupyter-widgets/base",
       "_model_module_version": "1.2.0",
       "_model_name": "LayoutModel",
       "_view_count": null,
       "_view_module": "@jupyter-widgets/base",
       "_view_module_version": "1.2.0",
       "_view_name": "LayoutView",
       "align_content": null,
       "align_items": null,
       "align_self": null,
       "border": null,
       "bottom": null,
       "display": null,
       "flex": null,
       "flex_flow": null,
       "grid_area": null,
       "grid_auto_columns": null,
       "grid_auto_flow": null,
       "grid_auto_rows": null,
       "grid_column": null,
       "grid_gap": null,
       "grid_row": null,
       "grid_template_areas": null,
       "grid_template_columns": null,
       "grid_template_rows": null,
       "height": null,
       "justify_content": null,
       "justify_items": null,
       "left": null,
       "margin": null,
       "max_height": null,
       "max_width": null,
       "min_height": null,
       "min_width": null,
       "object_fit": null,
       "object_position": null,
       "order": null,
       "overflow": null,
       "overflow_x": null,
       "overflow_y": null,
       "padding": null,
       "right": null,
       "top": null,
       "visibility": null,
       "width": null
      }
     },
     "7d2f93aaffb54796a82ce01176f234b7": {
      "model_module": "@jupyter-widgets/controls",
      "model_module_version": "1.5.0",
      "model_name": "DescriptionStyleModel",
      "state": {
       "_model_module": "@jupyter-widgets/controls",
       "_model_module_version": "1.5.0",
       "_model_name": "DescriptionStyleModel",
       "_view_count": null,
       "_view_module": "@jupyter-widgets/base",
       "_view_module_version": "1.2.0",
       "_view_name": "StyleView",
       "description_width": ""
      }
     },
     "7f993a78cff74f1991ab84628ea2c0a5": {
      "model_module": "@jupyter-widgets/controls",
      "model_module_version": "1.5.0",
      "model_name": "HBoxModel",
      "state": {
       "_dom_classes": [],
       "_model_module": "@jupyter-widgets/controls",
       "_model_module_version": "1.5.0",
       "_model_name": "HBoxModel",
       "_view_count": null,
       "_view_module": "@jupyter-widgets/controls",
       "_view_module_version": "1.5.0",
       "_view_name": "HBoxView",
       "box_style": "",
       "children": [
        "IPY_MODEL_2c53479a54124e0fba442c61fa64adc6",
        "IPY_MODEL_8b822f51ce954faeb2c332ae86300892",
        "IPY_MODEL_ef7fb6d9c20d4381800accc8fa4870be"
       ],
       "layout": "IPY_MODEL_d88138b81ce84f7aa7c9151553bfa373"
      }
     },
     "82231fe4477d4fb59c80206ef6f15263": {
      "model_module": "@jupyter-widgets/controls",
      "model_module_version": "1.5.0",
      "model_name": "ProgressStyleModel",
      "state": {
       "_model_module": "@jupyter-widgets/controls",
       "_model_module_version": "1.5.0",
       "_model_name": "ProgressStyleModel",
       "_view_count": null,
       "_view_module": "@jupyter-widgets/base",
       "_view_module_version": "1.2.0",
       "_view_name": "StyleView",
       "bar_color": null,
       "description_width": ""
      }
     },
     "834e25c21b004541ad53531d8eafe04d": {
      "model_module": "@jupyter-widgets/base",
      "model_module_version": "1.2.0",
      "model_name": "LayoutModel",
      "state": {
       "_model_module": "@jupyter-widgets/base",
       "_model_module_version": "1.2.0",
       "_model_name": "LayoutModel",
       "_view_count": null,
       "_view_module": "@jupyter-widgets/base",
       "_view_module_version": "1.2.0",
       "_view_name": "LayoutView",
       "align_content": null,
       "align_items": null,
       "align_self": null,
       "border": null,
       "bottom": null,
       "display": null,
       "flex": null,
       "flex_flow": null,
       "grid_area": null,
       "grid_auto_columns": null,
       "grid_auto_flow": null,
       "grid_auto_rows": null,
       "grid_column": null,
       "grid_gap": null,
       "grid_row": null,
       "grid_template_areas": null,
       "grid_template_columns": null,
       "grid_template_rows": null,
       "height": null,
       "justify_content": null,
       "justify_items": null,
       "left": null,
       "margin": null,
       "max_height": null,
       "max_width": null,
       "min_height": null,
       "min_width": null,
       "object_fit": null,
       "object_position": null,
       "order": null,
       "overflow": null,
       "overflow_x": null,
       "overflow_y": null,
       "padding": null,
       "right": null,
       "top": null,
       "visibility": null,
       "width": null
      }
     },
     "859c9db9d77e486ca95b9f7e451a980f": {
      "model_module": "@jupyter-widgets/controls",
      "model_module_version": "1.5.0",
      "model_name": "ProgressStyleModel",
      "state": {
       "_model_module": "@jupyter-widgets/controls",
       "_model_module_version": "1.5.0",
       "_model_name": "ProgressStyleModel",
       "_view_count": null,
       "_view_module": "@jupyter-widgets/base",
       "_view_module_version": "1.2.0",
       "_view_name": "StyleView",
       "bar_color": null,
       "description_width": ""
      }
     },
     "85c4472f6dbf452bb3f92476784a147c": {
      "model_module": "@jupyter-widgets/controls",
      "model_module_version": "1.5.0",
      "model_name": "DescriptionStyleModel",
      "state": {
       "_model_module": "@jupyter-widgets/controls",
       "_model_module_version": "1.5.0",
       "_model_name": "DescriptionStyleModel",
       "_view_count": null,
       "_view_module": "@jupyter-widgets/base",
       "_view_module_version": "1.2.0",
       "_view_name": "StyleView",
       "description_width": ""
      }
     },
     "8696281fe232427ea033de7eae149209": {
      "model_module": "@jupyter-widgets/controls",
      "model_module_version": "1.5.0",
      "model_name": "FloatProgressModel",
      "state": {
       "_dom_classes": [],
       "_model_module": "@jupyter-widgets/controls",
       "_model_module_version": "1.5.0",
       "_model_name": "FloatProgressModel",
       "_view_count": null,
       "_view_module": "@jupyter-widgets/controls",
       "_view_module_version": "1.5.0",
       "_view_name": "ProgressView",
       "bar_style": "success",
       "description": "",
       "description_tooltip": null,
       "layout": "IPY_MODEL_4d020c073f084dd28061cecbc010f83f",
       "max": 90868376,
       "min": 0,
       "orientation": "horizontal",
       "style": "IPY_MODEL_9a17648755cf41d19682a4a50e08ca90",
       "value": 90868376
      }
     },
     "885fa84ddde64619a8f5831613eebfe1": {
      "model_module": "@jupyter-widgets/base",
      "model_module_version": "1.2.0",
      "model_name": "LayoutModel",
      "state": {
       "_model_module": "@jupyter-widgets/base",
       "_model_module_version": "1.2.0",
       "_model_name": "LayoutModel",
       "_view_count": null,
       "_view_module": "@jupyter-widgets/base",
       "_view_module_version": "1.2.0",
       "_view_name": "LayoutView",
       "align_content": null,
       "align_items": null,
       "align_self": null,
       "border": null,
       "bottom": null,
       "display": null,
       "flex": null,
       "flex_flow": null,
       "grid_area": null,
       "grid_auto_columns": null,
       "grid_auto_flow": null,
       "grid_auto_rows": null,
       "grid_column": null,
       "grid_gap": null,
       "grid_row": null,
       "grid_template_areas": null,
       "grid_template_columns": null,
       "grid_template_rows": null,
       "height": null,
       "justify_content": null,
       "justify_items": null,
       "left": null,
       "margin": null,
       "max_height": null,
       "max_width": null,
       "min_height": null,
       "min_width": null,
       "object_fit": null,
       "object_position": null,
       "order": null,
       "overflow": null,
       "overflow_x": null,
       "overflow_y": null,
       "padding": null,
       "right": null,
       "top": null,
       "visibility": null,
       "width": null
      }
     },
     "89a11edf688546448d2e3d05b9dd5413": {
      "model_module": "@jupyter-widgets/base",
      "model_module_version": "1.2.0",
      "model_name": "LayoutModel",
      "state": {
       "_model_module": "@jupyter-widgets/base",
       "_model_module_version": "1.2.0",
       "_model_name": "LayoutModel",
       "_view_count": null,
       "_view_module": "@jupyter-widgets/base",
       "_view_module_version": "1.2.0",
       "_view_name": "LayoutView",
       "align_content": null,
       "align_items": null,
       "align_self": null,
       "border": null,
       "bottom": null,
       "display": null,
       "flex": null,
       "flex_flow": null,
       "grid_area": null,
       "grid_auto_columns": null,
       "grid_auto_flow": null,
       "grid_auto_rows": null,
       "grid_column": null,
       "grid_gap": null,
       "grid_row": null,
       "grid_template_areas": null,
       "grid_template_columns": null,
       "grid_template_rows": null,
       "height": null,
       "justify_content": null,
       "justify_items": null,
       "left": null,
       "margin": null,
       "max_height": null,
       "max_width": null,
       "min_height": null,
       "min_width": null,
       "object_fit": null,
       "object_position": null,
       "order": null,
       "overflow": null,
       "overflow_x": null,
       "overflow_y": null,
       "padding": null,
       "right": null,
       "top": null,
       "visibility": null,
       "width": null
      }
     },
     "8a422c59b3c645beabd8227377a72077": {
      "model_module": "@jupyter-widgets/controls",
      "model_module_version": "1.5.0",
      "model_name": "HTMLModel",
      "state": {
       "_dom_classes": [],
       "_model_module": "@jupyter-widgets/controls",
       "_model_module_version": "1.5.0",
       "_model_name": "HTMLModel",
       "_view_count": null,
       "_view_module": "@jupyter-widgets/controls",
       "_view_module_version": "1.5.0",
       "_view_name": "HTMLView",
       "description": "",
       "description_tooltip": null,
       "layout": "IPY_MODEL_bad6efca18b84e2d9a831f6e2a51ef05",
       "placeholder": "​",
       "style": "IPY_MODEL_45fb5c417ae14914828e31f3fc7cb099",
       "value": " 53.0/53.0 [00:00&lt;00:00, 4.38kB/s]"
      }
     },
     "8b822f51ce954faeb2c332ae86300892": {
      "model_module": "@jupyter-widgets/controls",
      "model_module_version": "1.5.0",
      "model_name": "FloatProgressModel",
      "state": {
       "_dom_classes": [],
       "_model_module": "@jupyter-widgets/controls",
       "_model_module_version": "1.5.0",
       "_model_name": "FloatProgressModel",
       "_view_count": null,
       "_view_module": "@jupyter-widgets/controls",
       "_view_module_version": "1.5.0",
       "_view_name": "ProgressView",
       "bar_style": "success",
       "description": "",
       "description_tooltip": null,
       "layout": "IPY_MODEL_f4f6c2f06f774bf38aa5e163a62fa974",
       "max": 112,
       "min": 0,
       "orientation": "horizontal",
       "style": "IPY_MODEL_2a1cc600f4d84eb98d3805811dfbb950",
       "value": 112
      }
     },
     "8ff08b3ea0894f9ca52ebb91a073f786": {
      "model_module": "@jupyter-widgets/controls",
      "model_module_version": "1.5.0",
      "model_name": "HTMLModel",
      "state": {
       "_dom_classes": [],
       "_model_module": "@jupyter-widgets/controls",
       "_model_module_version": "1.5.0",
       "_model_name": "HTMLModel",
       "_view_count": null,
       "_view_module": "@jupyter-widgets/controls",
       "_view_module_version": "1.5.0",
       "_view_name": "HTMLView",
       "description": "",
       "description_tooltip": null,
       "layout": "IPY_MODEL_ae437aa71a2749e1955f434e20ece90a",
       "placeholder": "​",
       "style": "IPY_MODEL_75d44c4925a54e22ba9ca57b6e951564",
       "value": "1_Pooling/config.json: 100%"
      }
     },
     "91ce5aad9ed1494090b1246694fd467a": {
      "model_module": "@jupyter-widgets/base",
      "model_module_version": "1.2.0",
      "model_name": "LayoutModel",
      "state": {
       "_model_module": "@jupyter-widgets/base",
       "_model_module_version": "1.2.0",
       "_model_name": "LayoutModel",
       "_view_count": null,
       "_view_module": "@jupyter-widgets/base",
       "_view_module_version": "1.2.0",
       "_view_name": "LayoutView",
       "align_content": null,
       "align_items": null,
       "align_self": null,
       "border": null,
       "bottom": null,
       "display": null,
       "flex": null,
       "flex_flow": null,
       "grid_area": null,
       "grid_auto_columns": null,
       "grid_auto_flow": null,
       "grid_auto_rows": null,
       "grid_column": null,
       "grid_gap": null,
       "grid_row": null,
       "grid_template_areas": null,
       "grid_template_columns": null,
       "grid_template_rows": null,
       "height": null,
       "justify_content": null,
       "justify_items": null,
       "left": null,
       "margin": null,
       "max_height": null,
       "max_width": null,
       "min_height": null,
       "min_width": null,
       "object_fit": null,
       "object_position": null,
       "order": null,
       "overflow": null,
       "overflow_x": null,
       "overflow_y": null,
       "padding": null,
       "right": null,
       "top": null,
       "visibility": null,
       "width": null
      }
     },
     "95db8b43d78349949bb90463d4bcb029": {
      "model_module": "@jupyter-widgets/controls",
      "model_module_version": "1.5.0",
      "model_name": "DescriptionStyleModel",
      "state": {
       "_model_module": "@jupyter-widgets/controls",
       "_model_module_version": "1.5.0",
       "_model_name": "DescriptionStyleModel",
       "_view_count": null,
       "_view_module": "@jupyter-widgets/base",
       "_view_module_version": "1.2.0",
       "_view_name": "StyleView",
       "description_width": ""
      }
     },
     "96862e23dacf49098b0209f0a79dd02c": {
      "model_module": "@jupyter-widgets/controls",
      "model_module_version": "1.5.0",
      "model_name": "HTMLModel",
      "state": {
       "_dom_classes": [],
       "_model_module": "@jupyter-widgets/controls",
       "_model_module_version": "1.5.0",
       "_model_name": "HTMLModel",
       "_view_count": null,
       "_view_module": "@jupyter-widgets/controls",
       "_view_module_version": "1.5.0",
       "_view_name": "HTMLView",
       "description": "",
       "description_tooltip": null,
       "layout": "IPY_MODEL_45fa1f4f0d274fdda3d7fe281c0daa64",
       "placeholder": "​",
       "style": "IPY_MODEL_cf9b9d461a1d46c3b2d3f45274c18a54",
       "value": " 90.9M/90.9M [00:00&lt;00:00, 241MB/s]"
      }
     },
     "9885e256cb404d19bc83dcf18b3e7715": {
      "model_module": "@jupyter-widgets/controls",
      "model_module_version": "1.5.0",
      "model_name": "DescriptionStyleModel",
      "state": {
       "_model_module": "@jupyter-widgets/controls",
       "_model_module_version": "1.5.0",
       "_model_name": "DescriptionStyleModel",
       "_view_count": null,
       "_view_module": "@jupyter-widgets/base",
       "_view_module_version": "1.2.0",
       "_view_name": "StyleView",
       "description_width": ""
      }
     },
     "994cff0289ff4b2b9f8c6b7bbc73ba6f": {
      "model_module": "@jupyter-widgets/controls",
      "model_module_version": "1.5.0",
      "model_name": "ProgressStyleModel",
      "state": {
       "_model_module": "@jupyter-widgets/controls",
       "_model_module_version": "1.5.0",
       "_model_name": "ProgressStyleModel",
       "_view_count": null,
       "_view_module": "@jupyter-widgets/base",
       "_view_module_version": "1.2.0",
       "_view_name": "StyleView",
       "bar_color": null,
       "description_width": ""
      }
     },
     "9a17648755cf41d19682a4a50e08ca90": {
      "model_module": "@jupyter-widgets/controls",
      "model_module_version": "1.5.0",
      "model_name": "ProgressStyleModel",
      "state": {
       "_model_module": "@jupyter-widgets/controls",
       "_model_module_version": "1.5.0",
       "_model_name": "ProgressStyleModel",
       "_view_count": null,
       "_view_module": "@jupyter-widgets/base",
       "_view_module_version": "1.2.0",
       "_view_name": "StyleView",
       "bar_color": null,
       "description_width": ""
      }
     },
     "9a517f3c4b6f4fc8bc4bd53ff61383b9": {
      "model_module": "@jupyter-widgets/base",
      "model_module_version": "1.2.0",
      "model_name": "LayoutModel",
      "state": {
       "_model_module": "@jupyter-widgets/base",
       "_model_module_version": "1.2.0",
       "_model_name": "LayoutModel",
       "_view_count": null,
       "_view_module": "@jupyter-widgets/base",
       "_view_module_version": "1.2.0",
       "_view_name": "LayoutView",
       "align_content": null,
       "align_items": null,
       "align_self": null,
       "border": null,
       "bottom": null,
       "display": null,
       "flex": null,
       "flex_flow": null,
       "grid_area": null,
       "grid_auto_columns": null,
       "grid_auto_flow": null,
       "grid_auto_rows": null,
       "grid_column": null,
       "grid_gap": null,
       "grid_row": null,
       "grid_template_areas": null,
       "grid_template_columns": null,
       "grid_template_rows": null,
       "height": null,
       "justify_content": null,
       "justify_items": null,
       "left": null,
       "margin": null,
       "max_height": null,
       "max_width": null,
       "min_height": null,
       "min_width": null,
       "object_fit": null,
       "object_position": null,
       "order": null,
       "overflow": null,
       "overflow_x": null,
       "overflow_y": null,
       "padding": null,
       "right": null,
       "top": null,
       "visibility": null,
       "width": null
      }
     },
     "9d5fc4bbd57d4dd58f50b0b8463ffa70": {
      "model_module": "@jupyter-widgets/base",
      "model_module_version": "1.2.0",
      "model_name": "LayoutModel",
      "state": {
       "_model_module": "@jupyter-widgets/base",
       "_model_module_version": "1.2.0",
       "_model_name": "LayoutModel",
       "_view_count": null,
       "_view_module": "@jupyter-widgets/base",
       "_view_module_version": "1.2.0",
       "_view_name": "LayoutView",
       "align_content": null,
       "align_items": null,
       "align_self": null,
       "border": null,
       "bottom": null,
       "display": null,
       "flex": null,
       "flex_flow": null,
       "grid_area": null,
       "grid_auto_columns": null,
       "grid_auto_flow": null,
       "grid_auto_rows": null,
       "grid_column": null,
       "grid_gap": null,
       "grid_row": null,
       "grid_template_areas": null,
       "grid_template_columns": null,
       "grid_template_rows": null,
       "height": null,
       "justify_content": null,
       "justify_items": null,
       "left": null,
       "margin": null,
       "max_height": null,
       "max_width": null,
       "min_height": null,
       "min_width": null,
       "object_fit": null,
       "object_position": null,
       "order": null,
       "overflow": null,
       "overflow_x": null,
       "overflow_y": null,
       "padding": null,
       "right": null,
       "top": null,
       "visibility": null,
       "width": null
      }
     },
     "9e4df6fb44c24b138eae5d2e28d311e4": {
      "model_module": "@jupyter-widgets/controls",
      "model_module_version": "1.5.0",
      "model_name": "HBoxModel",
      "state": {
       "_dom_classes": [],
       "_model_module": "@jupyter-widgets/controls",
       "_model_module_version": "1.5.0",
       "_model_name": "HBoxModel",
       "_view_count": null,
       "_view_module": "@jupyter-widgets/controls",
       "_view_module_version": "1.5.0",
       "_view_name": "HBoxView",
       "box_style": "",
       "children": [
        "IPY_MODEL_2daf943e8a404ab684bc14bed1b1a589",
        "IPY_MODEL_b3631562f16f4fc09d6ff8aada2a34e5",
        "IPY_MODEL_d5e0ddd18a1b403796cf5cba6f8493da"
       ],
       "layout": "IPY_MODEL_7648863ed18e40049acd17a1005bd69d"
      }
     },
     "9ed64896e247408a9ad86fe7a6dc898d": {
      "model_module": "@jupyter-widgets/base",
      "model_module_version": "1.2.0",
      "model_name": "LayoutModel",
      "state": {
       "_model_module": "@jupyter-widgets/base",
       "_model_module_version": "1.2.0",
       "_model_name": "LayoutModel",
       "_view_count": null,
       "_view_module": "@jupyter-widgets/base",
       "_view_module_version": "1.2.0",
       "_view_name": "LayoutView",
       "align_content": null,
       "align_items": null,
       "align_self": null,
       "border": null,
       "bottom": null,
       "display": null,
       "flex": null,
       "flex_flow": null,
       "grid_area": null,
       "grid_auto_columns": null,
       "grid_auto_flow": null,
       "grid_auto_rows": null,
       "grid_column": null,
       "grid_gap": null,
       "grid_row": null,
       "grid_template_areas": null,
       "grid_template_columns": null,
       "grid_template_rows": null,
       "height": null,
       "justify_content": null,
       "justify_items": null,
       "left": null,
       "margin": null,
       "max_height": null,
       "max_width": null,
       "min_height": null,
       "min_width": null,
       "object_fit": null,
       "object_position": null,
       "order": null,
       "overflow": null,
       "overflow_x": null,
       "overflow_y": null,
       "padding": null,
       "right": null,
       "top": null,
       "visibility": null,
       "width": null
      }
     },
     "9f1c9f09d1314bea9aef67e713cb5b63": {
      "model_module": "@jupyter-widgets/base",
      "model_module_version": "1.2.0",
      "model_name": "LayoutModel",
      "state": {
       "_model_module": "@jupyter-widgets/base",
       "_model_module_version": "1.2.0",
       "_model_name": "LayoutModel",
       "_view_count": null,
       "_view_module": "@jupyter-widgets/base",
       "_view_module_version": "1.2.0",
       "_view_name": "LayoutView",
       "align_content": null,
       "align_items": null,
       "align_self": null,
       "border": null,
       "bottom": null,
       "display": null,
       "flex": null,
       "flex_flow": null,
       "grid_area": null,
       "grid_auto_columns": null,
       "grid_auto_flow": null,
       "grid_auto_rows": null,
       "grid_column": null,
       "grid_gap": null,
       "grid_row": null,
       "grid_template_areas": null,
       "grid_template_columns": null,
       "grid_template_rows": null,
       "height": null,
       "justify_content": null,
       "justify_items": null,
       "left": null,
       "margin": null,
       "max_height": null,
       "max_width": null,
       "min_height": null,
       "min_width": null,
       "object_fit": null,
       "object_position": null,
       "order": null,
       "overflow": null,
       "overflow_x": null,
       "overflow_y": null,
       "padding": null,
       "right": null,
       "top": null,
       "visibility": null,
       "width": null
      }
     },
     "a9e8c82b04b1481baf873d9a82b81a83": {
      "model_module": "@jupyter-widgets/controls",
      "model_module_version": "1.5.0",
      "model_name": "DescriptionStyleModel",
      "state": {
       "_model_module": "@jupyter-widgets/controls",
       "_model_module_version": "1.5.0",
       "_model_name": "DescriptionStyleModel",
       "_view_count": null,
       "_view_module": "@jupyter-widgets/base",
       "_view_module_version": "1.2.0",
       "_view_name": "StyleView",
       "description_width": ""
      }
     },
     "ab6763349cd448308bc75edbb682ad30": {
      "model_module": "@jupyter-widgets/controls",
      "model_module_version": "1.5.0",
      "model_name": "FloatProgressModel",
      "state": {
       "_dom_classes": [],
       "_model_module": "@jupyter-widgets/controls",
       "_model_module_version": "1.5.0",
       "_model_name": "FloatProgressModel",
       "_view_count": null,
       "_view_module": "@jupyter-widgets/controls",
       "_view_module_version": "1.5.0",
       "_view_name": "ProgressView",
       "bar_style": "success",
       "description": "",
       "description_tooltip": null,
       "layout": "IPY_MODEL_73376f555eb94e7ea74ff65ec3015828",
       "max": 349,
       "min": 0,
       "orientation": "horizontal",
       "style": "IPY_MODEL_7055e5f762284ed9a2a09bda71bc88bd",
       "value": 349
      }
     },
     "ac98274e7669414695167e7a5424d389": {
      "model_module": "@jupyter-widgets/base",
      "model_module_version": "1.2.0",
      "model_name": "LayoutModel",
      "state": {
       "_model_module": "@jupyter-widgets/base",
       "_model_module_version": "1.2.0",
       "_model_name": "LayoutModel",
       "_view_count": null,
       "_view_module": "@jupyter-widgets/base",
       "_view_module_version": "1.2.0",
       "_view_name": "LayoutView",
       "align_content": null,
       "align_items": null,
       "align_self": null,
       "border": null,
       "bottom": null,
       "display": null,
       "flex": null,
       "flex_flow": null,
       "grid_area": null,
       "grid_auto_columns": null,
       "grid_auto_flow": null,
       "grid_auto_rows": null,
       "grid_column": null,
       "grid_gap": null,
       "grid_row": null,
       "grid_template_areas": null,
       "grid_template_columns": null,
       "grid_template_rows": null,
       "height": null,
       "justify_content": null,
       "justify_items": null,
       "left": null,
       "margin": null,
       "max_height": null,
       "max_width": null,
       "min_height": null,
       "min_width": null,
       "object_fit": null,
       "object_position": null,
       "order": null,
       "overflow": null,
       "overflow_x": null,
       "overflow_y": null,
       "padding": null,
       "right": null,
       "top": null,
       "visibility": null,
       "width": null
      }
     },
     "ae437aa71a2749e1955f434e20ece90a": {
      "model_module": "@jupyter-widgets/base",
      "model_module_version": "1.2.0",
      "model_name": "LayoutModel",
      "state": {
       "_model_module": "@jupyter-widgets/base",
       "_model_module_version": "1.2.0",
       "_model_name": "LayoutModel",
       "_view_count": null,
       "_view_module": "@jupyter-widgets/base",
       "_view_module_version": "1.2.0",
       "_view_name": "LayoutView",
       "align_content": null,
       "align_items": null,
       "align_self": null,
       "border": null,
       "bottom": null,
       "display": null,
       "flex": null,
       "flex_flow": null,
       "grid_area": null,
       "grid_auto_columns": null,
       "grid_auto_flow": null,
       "grid_auto_rows": null,
       "grid_column": null,
       "grid_gap": null,
       "grid_row": null,
       "grid_template_areas": null,
       "grid_template_columns": null,
       "grid_template_rows": null,
       "height": null,
       "justify_content": null,
       "justify_items": null,
       "left": null,
       "margin": null,
       "max_height": null,
       "max_width": null,
       "min_height": null,
       "min_width": null,
       "object_fit": null,
       "object_position": null,
       "order": null,
       "overflow": null,
       "overflow_x": null,
       "overflow_y": null,
       "padding": null,
       "right": null,
       "top": null,
       "visibility": null,
       "width": null
      }
     },
     "ae460432737c4c849dcd05e367bc9b7f": {
      "model_module": "@jupyter-widgets/controls",
      "model_module_version": "1.5.0",
      "model_name": "HTMLModel",
      "state": {
       "_dom_classes": [],
       "_model_module": "@jupyter-widgets/controls",
       "_model_module_version": "1.5.0",
       "_model_name": "HTMLModel",
       "_view_count": null,
       "_view_module": "@jupyter-widgets/controls",
       "_view_module_version": "1.5.0",
       "_view_name": "HTMLView",
       "description": "",
       "description_tooltip": null,
       "layout": "IPY_MODEL_18c4486ffb3f42bfb1b6999e7a504de1",
       "placeholder": "​",
       "style": "IPY_MODEL_fb150a554ca14730a1a23858b48ba881",
       "value": "tokenizer_config.json: 100%"
      }
     },
     "af8cd2087bc542ccb0d9ed5e639b903c": {
      "model_module": "@jupyter-widgets/base",
      "model_module_version": "1.2.0",
      "model_name": "LayoutModel",
      "state": {
       "_model_module": "@jupyter-widgets/base",
       "_model_module_version": "1.2.0",
       "_model_name": "LayoutModel",
       "_view_count": null,
       "_view_module": "@jupyter-widgets/base",
       "_view_module_version": "1.2.0",
       "_view_name": "LayoutView",
       "align_content": null,
       "align_items": null,
       "align_self": null,
       "border": null,
       "bottom": null,
       "display": null,
       "flex": null,
       "flex_flow": null,
       "grid_area": null,
       "grid_auto_columns": null,
       "grid_auto_flow": null,
       "grid_auto_rows": null,
       "grid_column": null,
       "grid_gap": null,
       "grid_row": null,
       "grid_template_areas": null,
       "grid_template_columns": null,
       "grid_template_rows": null,
       "height": null,
       "justify_content": null,
       "justify_items": null,
       "left": null,
       "margin": null,
       "max_height": null,
       "max_width": null,
       "min_height": null,
       "min_width": null,
       "object_fit": null,
       "object_position": null,
       "order": null,
       "overflow": null,
       "overflow_x": null,
       "overflow_y": null,
       "padding": null,
       "right": null,
       "top": null,
       "visibility": null,
       "width": null
      }
     },
     "b2fe949215574a0a8655b7e46962c394": {
      "model_module": "@jupyter-widgets/base",
      "model_module_version": "1.2.0",
      "model_name": "LayoutModel",
      "state": {
       "_model_module": "@jupyter-widgets/base",
       "_model_module_version": "1.2.0",
       "_model_name": "LayoutModel",
       "_view_count": null,
       "_view_module": "@jupyter-widgets/base",
       "_view_module_version": "1.2.0",
       "_view_name": "LayoutView",
       "align_content": null,
       "align_items": null,
       "align_self": null,
       "border": null,
       "bottom": null,
       "display": null,
       "flex": null,
       "flex_flow": null,
       "grid_area": null,
       "grid_auto_columns": null,
       "grid_auto_flow": null,
       "grid_auto_rows": null,
       "grid_column": null,
       "grid_gap": null,
       "grid_row": null,
       "grid_template_areas": null,
       "grid_template_columns": null,
       "grid_template_rows": null,
       "height": null,
       "justify_content": null,
       "justify_items": null,
       "left": null,
       "margin": null,
       "max_height": null,
       "max_width": null,
       "min_height": null,
       "min_width": null,
       "object_fit": null,
       "object_position": null,
       "order": null,
       "overflow": null,
       "overflow_x": null,
       "overflow_y": null,
       "padding": null,
       "right": null,
       "top": null,
       "visibility": null,
       "width": null
      }
     },
     "b3631562f16f4fc09d6ff8aada2a34e5": {
      "model_module": "@jupyter-widgets/controls",
      "model_module_version": "1.5.0",
      "model_name": "FloatProgressModel",
      "state": {
       "_dom_classes": [],
       "_model_module": "@jupyter-widgets/controls",
       "_model_module_version": "1.5.0",
       "_model_name": "FloatProgressModel",
       "_view_count": null,
       "_view_module": "@jupyter-widgets/controls",
       "_view_module_version": "1.5.0",
       "_view_name": "ProgressView",
       "bar_style": "success",
       "description": "",
       "description_tooltip": null,
       "layout": "IPY_MODEL_63dfbefa51234ee999f975e374575d42",
       "max": 466247,
       "min": 0,
       "orientation": "horizontal",
       "style": "IPY_MODEL_50b00028cf9849019b029af05362ce00",
       "value": 466247
      }
     },
     "b3c309816cb044faa9d7dd94813dbe5a": {
      "model_module": "@jupyter-widgets/controls",
      "model_module_version": "1.5.0",
      "model_name": "HTMLModel",
      "state": {
       "_dom_classes": [],
       "_model_module": "@jupyter-widgets/controls",
       "_model_module_version": "1.5.0",
       "_model_name": "HTMLModel",
       "_view_count": null,
       "_view_module": "@jupyter-widgets/controls",
       "_view_module_version": "1.5.0",
       "_view_name": "HTMLView",
       "description": "",
       "description_tooltip": null,
       "layout": "IPY_MODEL_0104b315445d485c83509131e1250391",
       "placeholder": "​",
       "style": "IPY_MODEL_42811bdebf8f468083cdf0fbde93d6f8",
       "value": "config.json: 100%"
      }
     },
     "b933e6302d434567b9103ffcb8f64b89": {
      "model_module": "@jupyter-widgets/base",
      "model_module_version": "1.2.0",
      "model_name": "LayoutModel",
      "state": {
       "_model_module": "@jupyter-widgets/base",
       "_model_module_version": "1.2.0",
       "_model_name": "LayoutModel",
       "_view_count": null,
       "_view_module": "@jupyter-widgets/base",
       "_view_module_version": "1.2.0",
       "_view_name": "LayoutView",
       "align_content": null,
       "align_items": null,
       "align_self": null,
       "border": null,
       "bottom": null,
       "display": null,
       "flex": null,
       "flex_flow": null,
       "grid_area": null,
       "grid_auto_columns": null,
       "grid_auto_flow": null,
       "grid_auto_rows": null,
       "grid_column": null,
       "grid_gap": null,
       "grid_row": null,
       "grid_template_areas": null,
       "grid_template_columns": null,
       "grid_template_rows": null,
       "height": null,
       "justify_content": null,
       "justify_items": null,
       "left": null,
       "margin": null,
       "max_height": null,
       "max_width": null,
       "min_height": null,
       "min_width": null,
       "object_fit": null,
       "object_position": null,
       "order": null,
       "overflow": null,
       "overflow_x": null,
       "overflow_y": null,
       "padding": null,
       "right": null,
       "top": null,
       "visibility": null,
       "width": null
      }
     },
     "bad6efca18b84e2d9a831f6e2a51ef05": {
      "model_module": "@jupyter-widgets/base",
      "model_module_version": "1.2.0",
      "model_name": "LayoutModel",
      "state": {
       "_model_module": "@jupyter-widgets/base",
       "_model_module_version": "1.2.0",
       "_model_name": "LayoutModel",
       "_view_count": null,
       "_view_module": "@jupyter-widgets/base",
       "_view_module_version": "1.2.0",
       "_view_name": "LayoutView",
       "align_content": null,
       "align_items": null,
       "align_self": null,
       "border": null,
       "bottom": null,
       "display": null,
       "flex": null,
       "flex_flow": null,
       "grid_area": null,
       "grid_auto_columns": null,
       "grid_auto_flow": null,
       "grid_auto_rows": null,
       "grid_column": null,
       "grid_gap": null,
       "grid_row": null,
       "grid_template_areas": null,
       "grid_template_columns": null,
       "grid_template_rows": null,
       "height": null,
       "justify_content": null,
       "justify_items": null,
       "left": null,
       "margin": null,
       "max_height": null,
       "max_width": null,
       "min_height": null,
       "min_width": null,
       "object_fit": null,
       "object_position": null,
       "order": null,
       "overflow": null,
       "overflow_x": null,
       "overflow_y": null,
       "padding": null,
       "right": null,
       "top": null,
       "visibility": null,
       "width": null
      }
     },
     "bb5c9713960c4c5c840c35d4005bc949": {
      "model_module": "@jupyter-widgets/controls",
      "model_module_version": "1.5.0",
      "model_name": "HBoxModel",
      "state": {
       "_dom_classes": [],
       "_model_module": "@jupyter-widgets/controls",
       "_model_module_version": "1.5.0",
       "_model_name": "HBoxModel",
       "_view_count": null,
       "_view_module": "@jupyter-widgets/controls",
       "_view_module_version": "1.5.0",
       "_view_name": "HBoxView",
       "box_style": "",
       "children": [
        "IPY_MODEL_13ba93191d7a46659444d543675070e3",
        "IPY_MODEL_362034613ec84921898680732081437b",
        "IPY_MODEL_2d1e7c9a56fc4e62bbcbba73a3f46954"
       ],
       "layout": "IPY_MODEL_01e73ed6e2ba4c0f83ce3f35bad84f79"
      }
     },
     "c04a436044394435b1715d91499e8693": {
      "model_module": "@jupyter-widgets/base",
      "model_module_version": "1.2.0",
      "model_name": "LayoutModel",
      "state": {
       "_model_module": "@jupyter-widgets/base",
       "_model_module_version": "1.2.0",
       "_model_name": "LayoutModel",
       "_view_count": null,
       "_view_module": "@jupyter-widgets/base",
       "_view_module_version": "1.2.0",
       "_view_name": "LayoutView",
       "align_content": null,
       "align_items": null,
       "align_self": null,
       "border": null,
       "bottom": null,
       "display": null,
       "flex": null,
       "flex_flow": null,
       "grid_area": null,
       "grid_auto_columns": null,
       "grid_auto_flow": null,
       "grid_auto_rows": null,
       "grid_column": null,
       "grid_gap": null,
       "grid_row": null,
       "grid_template_areas": null,
       "grid_template_columns": null,
       "grid_template_rows": null,
       "height": null,
       "justify_content": null,
       "justify_items": null,
       "left": null,
       "margin": null,
       "max_height": null,
       "max_width": null,
       "min_height": null,
       "min_width": null,
       "object_fit": null,
       "object_position": null,
       "order": null,
       "overflow": null,
       "overflow_x": null,
       "overflow_y": null,
       "padding": null,
       "right": null,
       "top": null,
       "visibility": null,
       "width": null
      }
     },
     "c06dc519d7924c6cb10e9a4611c78b82": {
      "model_module": "@jupyter-widgets/base",
      "model_module_version": "1.2.0",
      "model_name": "LayoutModel",
      "state": {
       "_model_module": "@jupyter-widgets/base",
       "_model_module_version": "1.2.0",
       "_model_name": "LayoutModel",
       "_view_count": null,
       "_view_module": "@jupyter-widgets/base",
       "_view_module_version": "1.2.0",
       "_view_name": "LayoutView",
       "align_content": null,
       "align_items": null,
       "align_self": null,
       "border": null,
       "bottom": null,
       "display": null,
       "flex": null,
       "flex_flow": null,
       "grid_area": null,
       "grid_auto_columns": null,
       "grid_auto_flow": null,
       "grid_auto_rows": null,
       "grid_column": null,
       "grid_gap": null,
       "grid_row": null,
       "grid_template_areas": null,
       "grid_template_columns": null,
       "grid_template_rows": null,
       "height": null,
       "justify_content": null,
       "justify_items": null,
       "left": null,
       "margin": null,
       "max_height": null,
       "max_width": null,
       "min_height": null,
       "min_width": null,
       "object_fit": null,
       "object_position": null,
       "order": null,
       "overflow": null,
       "overflow_x": null,
       "overflow_y": null,
       "padding": null,
       "right": null,
       "top": null,
       "visibility": null,
       "width": null
      }
     },
     "c3232a0bda1a4c389e3d619423524417": {
      "model_module": "@jupyter-widgets/controls",
      "model_module_version": "1.5.0",
      "model_name": "HBoxModel",
      "state": {
       "_dom_classes": [],
       "_model_module": "@jupyter-widgets/controls",
       "_model_module_version": "1.5.0",
       "_model_name": "HBoxModel",
       "_view_count": null,
       "_view_module": "@jupyter-widgets/controls",
       "_view_module_version": "1.5.0",
       "_view_name": "HBoxView",
       "box_style": "",
       "children": [
        "IPY_MODEL_ae460432737c4c849dcd05e367bc9b7f",
        "IPY_MODEL_ec71a04ba48a4a08baefd0dc13d48550",
        "IPY_MODEL_d90ce4a6b3f9474c93bd17a981490ef4"
       ],
       "layout": "IPY_MODEL_b2fe949215574a0a8655b7e46962c394"
      }
     },
     "c41d1f244da24b9f927b090bf1834b02": {
      "model_module": "@jupyter-widgets/controls",
      "model_module_version": "1.5.0",
      "model_name": "FloatProgressModel",
      "state": {
       "_dom_classes": [],
       "_model_module": "@jupyter-widgets/controls",
       "_model_module_version": "1.5.0",
       "_model_name": "FloatProgressModel",
       "_view_count": null,
       "_view_module": "@jupyter-widgets/controls",
       "_view_module_version": "1.5.0",
       "_view_name": "ProgressView",
       "bar_style": "success",
       "description": "",
       "description_tooltip": null,
       "layout": "IPY_MODEL_b933e6302d434567b9103ffcb8f64b89",
       "max": 37,
       "min": 0,
       "orientation": "horizontal",
       "style": "IPY_MODEL_82231fe4477d4fb59c80206ef6f15263",
       "value": 37
      }
     },
     "c4d2eef36b0f4b8896ea138f7faa0d4d": {
      "model_module": "@jupyter-widgets/base",
      "model_module_version": "1.2.0",
      "model_name": "LayoutModel",
      "state": {
       "_model_module": "@jupyter-widgets/base",
       "_model_module_version": "1.2.0",
       "_model_name": "LayoutModel",
       "_view_count": null,
       "_view_module": "@jupyter-widgets/base",
       "_view_module_version": "1.2.0",
       "_view_name": "LayoutView",
       "align_content": null,
       "align_items": null,
       "align_self": null,
       "border": null,
       "bottom": null,
       "display": null,
       "flex": null,
       "flex_flow": null,
       "grid_area": null,
       "grid_auto_columns": null,
       "grid_auto_flow": null,
       "grid_auto_rows": null,
       "grid_column": null,
       "grid_gap": null,
       "grid_row": null,
       "grid_template_areas": null,
       "grid_template_columns": null,
       "grid_template_rows": null,
       "height": null,
       "justify_content": null,
       "justify_items": null,
       "left": null,
       "margin": null,
       "max_height": null,
       "max_width": null,
       "min_height": null,
       "min_width": null,
       "object_fit": null,
       "object_position": null,
       "order": null,
       "overflow": null,
       "overflow_x": null,
       "overflow_y": null,
       "padding": null,
       "right": null,
       "top": null,
       "visibility": null,
       "width": null
      }
     },
     "c956cb43ce384a6cb4d5899036e711f9": {
      "model_module": "@jupyter-widgets/base",
      "model_module_version": "1.2.0",
      "model_name": "LayoutModel",
      "state": {
       "_model_module": "@jupyter-widgets/base",
       "_model_module_version": "1.2.0",
       "_model_name": "LayoutModel",
       "_view_count": null,
       "_view_module": "@jupyter-widgets/base",
       "_view_module_version": "1.2.0",
       "_view_name": "LayoutView",
       "align_content": null,
       "align_items": null,
       "align_self": null,
       "border": null,
       "bottom": null,
       "display": null,
       "flex": null,
       "flex_flow": null,
       "grid_area": null,
       "grid_auto_columns": null,
       "grid_auto_flow": null,
       "grid_auto_rows": null,
       "grid_column": null,
       "grid_gap": null,
       "grid_row": null,
       "grid_template_areas": null,
       "grid_template_columns": null,
       "grid_template_rows": null,
       "height": null,
       "justify_content": null,
       "justify_items": null,
       "left": null,
       "margin": null,
       "max_height": null,
       "max_width": null,
       "min_height": null,
       "min_width": null,
       "object_fit": null,
       "object_position": null,
       "order": null,
       "overflow": null,
       "overflow_x": null,
       "overflow_y": null,
       "padding": null,
       "right": null,
       "top": null,
       "visibility": null,
       "width": null
      }
     },
     "cac28c0258a743f99aa4457366532996": {
      "model_module": "@jupyter-widgets/base",
      "model_module_version": "1.2.0",
      "model_name": "LayoutModel",
      "state": {
       "_model_module": "@jupyter-widgets/base",
       "_model_module_version": "1.2.0",
       "_model_name": "LayoutModel",
       "_view_count": null,
       "_view_module": "@jupyter-widgets/base",
       "_view_module_version": "1.2.0",
       "_view_name": "LayoutView",
       "align_content": null,
       "align_items": null,
       "align_self": null,
       "border": null,
       "bottom": null,
       "display": null,
       "flex": null,
       "flex_flow": null,
       "grid_area": null,
       "grid_auto_columns": null,
       "grid_auto_flow": null,
       "grid_auto_rows": null,
       "grid_column": null,
       "grid_gap": null,
       "grid_row": null,
       "grid_template_areas": null,
       "grid_template_columns": null,
       "grid_template_rows": null,
       "height": null,
       "justify_content": null,
       "justify_items": null,
       "left": null,
       "margin": null,
       "max_height": null,
       "max_width": null,
       "min_height": null,
       "min_width": null,
       "object_fit": null,
       "object_position": null,
       "order": null,
       "overflow": null,
       "overflow_x": null,
       "overflow_y": null,
       "padding": null,
       "right": null,
       "top": null,
       "visibility": null,
       "width": null
      }
     },
     "cf9b9d461a1d46c3b2d3f45274c18a54": {
      "model_module": "@jupyter-widgets/controls",
      "model_module_version": "1.5.0",
      "model_name": "DescriptionStyleModel",
      "state": {
       "_model_module": "@jupyter-widgets/controls",
       "_model_module_version": "1.5.0",
       "_model_name": "DescriptionStyleModel",
       "_view_count": null,
       "_view_module": "@jupyter-widgets/base",
       "_view_module_version": "1.2.0",
       "_view_name": "StyleView",
       "description_width": ""
      }
     },
     "d13c688c41ed4d62bc67bf685551d159": {
      "model_module": "@jupyter-widgets/controls",
      "model_module_version": "1.5.0",
      "model_name": "ProgressStyleModel",
      "state": {
       "_model_module": "@jupyter-widgets/controls",
       "_model_module_version": "1.5.0",
       "_model_name": "ProgressStyleModel",
       "_view_count": null,
       "_view_module": "@jupyter-widgets/base",
       "_view_module_version": "1.2.0",
       "_view_name": "StyleView",
       "bar_color": null,
       "description_width": ""
      }
     },
     "d1c345b0d16c4eb4905ec2ca93843825": {
      "model_module": "@jupyter-widgets/controls",
      "model_module_version": "1.5.0",
      "model_name": "DescriptionStyleModel",
      "state": {
       "_model_module": "@jupyter-widgets/controls",
       "_model_module_version": "1.5.0",
       "_model_name": "DescriptionStyleModel",
       "_view_count": null,
       "_view_module": "@jupyter-widgets/base",
       "_view_module_version": "1.2.0",
       "_view_name": "StyleView",
       "description_width": ""
      }
     },
     "d5e0ddd18a1b403796cf5cba6f8493da": {
      "model_module": "@jupyter-widgets/controls",
      "model_module_version": "1.5.0",
      "model_name": "HTMLModel",
      "state": {
       "_dom_classes": [],
       "_model_module": "@jupyter-widgets/controls",
       "_model_module_version": "1.5.0",
       "_model_name": "HTMLModel",
       "_view_count": null,
       "_view_module": "@jupyter-widgets/controls",
       "_view_module_version": "1.5.0",
       "_view_name": "HTMLView",
       "description": "",
       "description_tooltip": null,
       "layout": "IPY_MODEL_fecda0752dad4d77811465e7d4390e3d",
       "placeholder": "​",
       "style": "IPY_MODEL_7498dd8462af4d33b11ee622f70ebb7f",
       "value": " 466k/466k [00:00&lt;00:00, 2.72MB/s]"
      }
     },
     "d5f98044bc2346cda2df04e1fd2646e6": {
      "model_module": "@jupyter-widgets/controls",
      "model_module_version": "1.5.0",
      "model_name": "DescriptionStyleModel",
      "state": {
       "_model_module": "@jupyter-widgets/controls",
       "_model_module_version": "1.5.0",
       "_model_name": "DescriptionStyleModel",
       "_view_count": null,
       "_view_module": "@jupyter-widgets/base",
       "_view_module_version": "1.2.0",
       "_view_name": "StyleView",
       "description_width": ""
      }
     },
     "d5f989a1a2db4a8692ce1d864727439f": {
      "model_module": "@jupyter-widgets/controls",
      "model_module_version": "1.5.0",
      "model_name": "DescriptionStyleModel",
      "state": {
       "_model_module": "@jupyter-widgets/controls",
       "_model_module_version": "1.5.0",
       "_model_name": "DescriptionStyleModel",
       "_view_count": null,
       "_view_module": "@jupyter-widgets/base",
       "_view_module_version": "1.2.0",
       "_view_name": "StyleView",
       "description_width": ""
      }
     },
     "d88138b81ce84f7aa7c9151553bfa373": {
      "model_module": "@jupyter-widgets/base",
      "model_module_version": "1.2.0",
      "model_name": "LayoutModel",
      "state": {
       "_model_module": "@jupyter-widgets/base",
       "_model_module_version": "1.2.0",
       "_model_name": "LayoutModel",
       "_view_count": null,
       "_view_module": "@jupyter-widgets/base",
       "_view_module_version": "1.2.0",
       "_view_name": "LayoutView",
       "align_content": null,
       "align_items": null,
       "align_self": null,
       "border": null,
       "bottom": null,
       "display": null,
       "flex": null,
       "flex_flow": null,
       "grid_area": null,
       "grid_auto_columns": null,
       "grid_auto_flow": null,
       "grid_auto_rows": null,
       "grid_column": null,
       "grid_gap": null,
       "grid_row": null,
       "grid_template_areas": null,
       "grid_template_columns": null,
       "grid_template_rows": null,
       "height": null,
       "justify_content": null,
       "justify_items": null,
       "left": null,
       "margin": null,
       "max_height": null,
       "max_width": null,
       "min_height": null,
       "min_width": null,
       "object_fit": null,
       "object_position": null,
       "order": null,
       "overflow": null,
       "overflow_x": null,
       "overflow_y": null,
       "padding": null,
       "right": null,
       "top": null,
       "visibility": null,
       "width": null
      }
     },
     "d90ce4a6b3f9474c93bd17a981490ef4": {
      "model_module": "@jupyter-widgets/controls",
      "model_module_version": "1.5.0",
      "model_name": "HTMLModel",
      "state": {
       "_dom_classes": [],
       "_model_module": "@jupyter-widgets/controls",
       "_model_module_version": "1.5.0",
       "_model_name": "HTMLModel",
       "_view_count": null,
       "_view_module": "@jupyter-widgets/controls",
       "_view_module_version": "1.5.0",
       "_view_name": "HTMLView",
       "description": "",
       "description_tooltip": null,
       "layout": "IPY_MODEL_e45aa07d77bb477d992a026fd4299163",
       "placeholder": "​",
       "style": "IPY_MODEL_26262f6823164ae699b5bfd0f3f2313c",
       "value": " 350/350 [00:00&lt;00:00, 28.1kB/s]"
      }
     },
     "db075a83e6fc412196651547d7d0fef6": {
      "model_module": "@jupyter-widgets/controls",
      "model_module_version": "1.5.0",
      "model_name": "HBoxModel",
      "state": {
       "_dom_classes": [],
       "_model_module": "@jupyter-widgets/controls",
       "_model_module_version": "1.5.0",
       "_model_name": "HBoxModel",
       "_view_count": null,
       "_view_module": "@jupyter-widgets/controls",
       "_view_module_version": "1.5.0",
       "_view_name": "HBoxView",
       "box_style": "",
       "children": [
        "IPY_MODEL_613deac45c7a4ebbaa4026c10c9d1357",
        "IPY_MODEL_c41d1f244da24b9f927b090bf1834b02",
        "IPY_MODEL_17414551dd6b4a1d89c62ceef871db2d"
       ],
       "layout": "IPY_MODEL_ac98274e7669414695167e7a5424d389"
      }
     },
     "de680a6d37254108aaae6c11439802db": {
      "model_module": "@jupyter-widgets/controls",
      "model_module_version": "1.5.0",
      "model_name": "HTMLModel",
      "state": {
       "_dom_classes": [],
       "_model_module": "@jupyter-widgets/controls",
       "_model_module_version": "1.5.0",
       "_model_name": "HTMLModel",
       "_view_count": null,
       "_view_module": "@jupyter-widgets/controls",
       "_view_module_version": "1.5.0",
       "_view_name": "HTMLView",
       "description": "",
       "description_tooltip": null,
       "layout": "IPY_MODEL_89a11edf688546448d2e3d05b9dd5413",
       "placeholder": "​",
       "style": "IPY_MODEL_6a3871e4bd034b4fabf2148ba0e24b08",
       "value": " 349/349 [00:00&lt;00:00, 24.9kB/s]"
      }
     },
     "e0eff2b1101249cda418ca0bf2781839": {
      "model_module": "@jupyter-widgets/controls",
      "model_module_version": "1.5.0",
      "model_name": "FloatProgressModel",
      "state": {
       "_dom_classes": [],
       "_model_module": "@jupyter-widgets/controls",
       "_model_module_version": "1.5.0",
       "_model_name": "FloatProgressModel",
       "_view_count": null,
       "_view_module": "@jupyter-widgets/controls",
       "_view_module_version": "1.5.0",
       "_view_name": "ProgressView",
       "bar_style": "success",
       "description": "",
       "description_tooltip": null,
       "layout": "IPY_MODEL_9a517f3c4b6f4fc8bc4bd53ff61383b9",
       "max": 53,
       "min": 0,
       "orientation": "horizontal",
       "style": "IPY_MODEL_ee984b2c3af247ab96a0f52473728c7f",
       "value": 53
      }
     },
     "e1ca2f8097884e2798be69a72fd200af": {
      "model_module": "@jupyter-widgets/base",
      "model_module_version": "1.2.0",
      "model_name": "LayoutModel",
      "state": {
       "_model_module": "@jupyter-widgets/base",
       "_model_module_version": "1.2.0",
       "_model_name": "LayoutModel",
       "_view_count": null,
       "_view_module": "@jupyter-widgets/base",
       "_view_module_version": "1.2.0",
       "_view_name": "LayoutView",
       "align_content": null,
       "align_items": null,
       "align_self": null,
       "border": null,
       "bottom": null,
       "display": null,
       "flex": null,
       "flex_flow": null,
       "grid_area": null,
       "grid_auto_columns": null,
       "grid_auto_flow": null,
       "grid_auto_rows": null,
       "grid_column": null,
       "grid_gap": null,
       "grid_row": null,
       "grid_template_areas": null,
       "grid_template_columns": null,
       "grid_template_rows": null,
       "height": null,
       "justify_content": null,
       "justify_items": null,
       "left": null,
       "margin": null,
       "max_height": null,
       "max_width": null,
       "min_height": null,
       "min_width": null,
       "object_fit": null,
       "object_position": null,
       "order": null,
       "overflow": null,
       "overflow_x": null,
       "overflow_y": null,
       "padding": null,
       "right": null,
       "top": null,
       "visibility": null,
       "width": null
      }
     },
     "e310e3f59d9e46b6bd87edd8297bb4e1": {
      "model_module": "@jupyter-widgets/controls",
      "model_module_version": "1.5.0",
      "model_name": "HTMLModel",
      "state": {
       "_dom_classes": [],
       "_model_module": "@jupyter-widgets/controls",
       "_model_module_version": "1.5.0",
       "_model_name": "HTMLModel",
       "_view_count": null,
       "_view_module": "@jupyter-widgets/controls",
       "_view_module_version": "1.5.0",
       "_view_name": "HTMLView",
       "description": "",
       "description_tooltip": null,
       "layout": "IPY_MODEL_233c30a0c89f456b866cf2d1478cfd15",
       "placeholder": "​",
       "style": "IPY_MODEL_95db8b43d78349949bb90463d4bcb029",
       "value": "modules.json: 100%"
      }
     },
     "e45aa07d77bb477d992a026fd4299163": {
      "model_module": "@jupyter-widgets/base",
      "model_module_version": "1.2.0",
      "model_name": "LayoutModel",
      "state": {
       "_model_module": "@jupyter-widgets/base",
       "_model_module_version": "1.2.0",
       "_model_name": "LayoutModel",
       "_view_count": null,
       "_view_module": "@jupyter-widgets/base",
       "_view_module_version": "1.2.0",
       "_view_name": "LayoutView",
       "align_content": null,
       "align_items": null,
       "align_self": null,
       "border": null,
       "bottom": null,
       "display": null,
       "flex": null,
       "flex_flow": null,
       "grid_area": null,
       "grid_auto_columns": null,
       "grid_auto_flow": null,
       "grid_auto_rows": null,
       "grid_column": null,
       "grid_gap": null,
       "grid_row": null,
       "grid_template_areas": null,
       "grid_template_columns": null,
       "grid_template_rows": null,
       "height": null,
       "justify_content": null,
       "justify_items": null,
       "left": null,
       "margin": null,
       "max_height": null,
       "max_width": null,
       "min_height": null,
       "min_width": null,
       "object_fit": null,
       "object_position": null,
       "order": null,
       "overflow": null,
       "overflow_x": null,
       "overflow_y": null,
       "padding": null,
       "right": null,
       "top": null,
       "visibility": null,
       "width": null
      }
     },
     "e49d45eb99384c47a65f43ab221a6bf8": {
      "model_module": "@jupyter-widgets/base",
      "model_module_version": "1.2.0",
      "model_name": "LayoutModel",
      "state": {
       "_model_module": "@jupyter-widgets/base",
       "_model_module_version": "1.2.0",
       "_model_name": "LayoutModel",
       "_view_count": null,
       "_view_module": "@jupyter-widgets/base",
       "_view_module_version": "1.2.0",
       "_view_name": "LayoutView",
       "align_content": null,
       "align_items": null,
       "align_self": null,
       "border": null,
       "bottom": null,
       "display": null,
       "flex": null,
       "flex_flow": null,
       "grid_area": null,
       "grid_auto_columns": null,
       "grid_auto_flow": null,
       "grid_auto_rows": null,
       "grid_column": null,
       "grid_gap": null,
       "grid_row": null,
       "grid_template_areas": null,
       "grid_template_columns": null,
       "grid_template_rows": null,
       "height": null,
       "justify_content": null,
       "justify_items": null,
       "left": null,
       "margin": null,
       "max_height": null,
       "max_width": null,
       "min_height": null,
       "min_width": null,
       "object_fit": null,
       "object_position": null,
       "order": null,
       "overflow": null,
       "overflow_x": null,
       "overflow_y": null,
       "padding": null,
       "right": null,
       "top": null,
       "visibility": null,
       "width": null
      }
     },
     "e4a0f303b66b475ebbbe0d39e94b1a44": {
      "model_module": "@jupyter-widgets/base",
      "model_module_version": "1.2.0",
      "model_name": "LayoutModel",
      "state": {
       "_model_module": "@jupyter-widgets/base",
       "_model_module_version": "1.2.0",
       "_model_name": "LayoutModel",
       "_view_count": null,
       "_view_module": "@jupyter-widgets/base",
       "_view_module_version": "1.2.0",
       "_view_name": "LayoutView",
       "align_content": null,
       "align_items": null,
       "align_self": null,
       "border": null,
       "bottom": null,
       "display": null,
       "flex": null,
       "flex_flow": null,
       "grid_area": null,
       "grid_auto_columns": null,
       "grid_auto_flow": null,
       "grid_auto_rows": null,
       "grid_column": null,
       "grid_gap": null,
       "grid_row": null,
       "grid_template_areas": null,
       "grid_template_columns": null,
       "grid_template_rows": null,
       "height": null,
       "justify_content": null,
       "justify_items": null,
       "left": null,
       "margin": null,
       "max_height": null,
       "max_width": null,
       "min_height": null,
       "min_width": null,
       "object_fit": null,
       "object_position": null,
       "order": null,
       "overflow": null,
       "overflow_x": null,
       "overflow_y": null,
       "padding": null,
       "right": null,
       "top": null,
       "visibility": null,
       "width": null
      }
     },
     "ec71a04ba48a4a08baefd0dc13d48550": {
      "model_module": "@jupyter-widgets/controls",
      "model_module_version": "1.5.0",
      "model_name": "FloatProgressModel",
      "state": {
       "_dom_classes": [],
       "_model_module": "@jupyter-widgets/controls",
       "_model_module_version": "1.5.0",
       "_model_name": "FloatProgressModel",
       "_view_count": null,
       "_view_module": "@jupyter-widgets/controls",
       "_view_module_version": "1.5.0",
       "_view_name": "ProgressView",
       "bar_style": "success",
       "description": "",
       "description_tooltip": null,
       "layout": "IPY_MODEL_0da53ce74ba54924b59bc836de5f317a",
       "max": 350,
       "min": 0,
       "orientation": "horizontal",
       "style": "IPY_MODEL_d13c688c41ed4d62bc67bf685551d159",
       "value": 350
      }
     },
     "ee984b2c3af247ab96a0f52473728c7f": {
      "model_module": "@jupyter-widgets/controls",
      "model_module_version": "1.5.0",
      "model_name": "ProgressStyleModel",
      "state": {
       "_model_module": "@jupyter-widgets/controls",
       "_model_module_version": "1.5.0",
       "_model_name": "ProgressStyleModel",
       "_view_count": null,
       "_view_module": "@jupyter-widgets/base",
       "_view_module_version": "1.2.0",
       "_view_name": "StyleView",
       "bar_color": null,
       "description_width": ""
      }
     },
     "ee9b65537cee450c8e5c15c5a783543f": {
      "model_module": "@jupyter-widgets/controls",
      "model_module_version": "1.5.0",
      "model_name": "ProgressStyleModel",
      "state": {
       "_model_module": "@jupyter-widgets/controls",
       "_model_module_version": "1.5.0",
       "_model_name": "ProgressStyleModel",
       "_view_count": null,
       "_view_module": "@jupyter-widgets/base",
       "_view_module_version": "1.2.0",
       "_view_name": "StyleView",
       "bar_color": null,
       "description_width": ""
      }
     },
     "eebddd28a1884b5e81bb03150d5d9e35": {
      "model_module": "@jupyter-widgets/controls",
      "model_module_version": "1.5.0",
      "model_name": "HTMLModel",
      "state": {
       "_dom_classes": [],
       "_model_module": "@jupyter-widgets/controls",
       "_model_module_version": "1.5.0",
       "_model_name": "HTMLModel",
       "_view_count": null,
       "_view_module": "@jupyter-widgets/controls",
       "_view_module_version": "1.5.0",
       "_view_name": "HTMLView",
       "description": "",
       "description_tooltip": null,
       "layout": "IPY_MODEL_79549354392c4023bdca9559a331d299",
       "placeholder": "​",
       "style": "IPY_MODEL_4817df8224f24822871f54a4bcf9f8f3",
       "value": " 612/612 [00:00&lt;00:00, 51.0kB/s]"
      }
     },
     "ef7fb6d9c20d4381800accc8fa4870be": {
      "model_module": "@jupyter-widgets/controls",
      "model_module_version": "1.5.0",
      "model_name": "HTMLModel",
      "state": {
       "_dom_classes": [],
       "_model_module": "@jupyter-widgets/controls",
       "_model_module_version": "1.5.0",
       "_model_name": "HTMLModel",
       "_view_count": null,
       "_view_module": "@jupyter-widgets/controls",
       "_view_module_version": "1.5.0",
       "_view_name": "HTMLView",
       "description": "",
       "description_tooltip": null,
       "layout": "IPY_MODEL_cac28c0258a743f99aa4457366532996",
       "placeholder": "​",
       "style": "IPY_MODEL_7d2f93aaffb54796a82ce01176f234b7",
       "value": " 112/112 [00:00&lt;00:00, 9.12kB/s]"
      }
     },
     "f042ad0580834590a80990b43d302df1": {
      "model_module": "@jupyter-widgets/controls",
      "model_module_version": "1.5.0",
      "model_name": "DescriptionStyleModel",
      "state": {
       "_model_module": "@jupyter-widgets/controls",
       "_model_module_version": "1.5.0",
       "_model_name": "DescriptionStyleModel",
       "_view_count": null,
       "_view_module": "@jupyter-widgets/base",
       "_view_module_version": "1.2.0",
       "_view_name": "StyleView",
       "description_width": ""
      }
     },
     "f4f6c2f06f774bf38aa5e163a62fa974": {
      "model_module": "@jupyter-widgets/base",
      "model_module_version": "1.2.0",
      "model_name": "LayoutModel",
      "state": {
       "_model_module": "@jupyter-widgets/base",
       "_model_module_version": "1.2.0",
       "_model_name": "LayoutModel",
       "_view_count": null,
       "_view_module": "@jupyter-widgets/base",
       "_view_module_version": "1.2.0",
       "_view_name": "LayoutView",
       "align_content": null,
       "align_items": null,
       "align_self": null,
       "border": null,
       "bottom": null,
       "display": null,
       "flex": null,
       "flex_flow": null,
       "grid_area": null,
       "grid_auto_columns": null,
       "grid_auto_flow": null,
       "grid_auto_rows": null,
       "grid_column": null,
       "grid_gap": null,
       "grid_row": null,
       "grid_template_areas": null,
       "grid_template_columns": null,
       "grid_template_rows": null,
       "height": null,
       "justify_content": null,
       "justify_items": null,
       "left": null,
       "margin": null,
       "max_height": null,
       "max_width": null,
       "min_height": null,
       "min_width": null,
       "object_fit": null,
       "object_position": null,
       "order": null,
       "overflow": null,
       "overflow_x": null,
       "overflow_y": null,
       "padding": null,
       "right": null,
       "top": null,
       "visibility": null,
       "width": null
      }
     },
     "f8c69962171d4b71bf9f42955adfe173": {
      "model_module": "@jupyter-widgets/controls",
      "model_module_version": "1.5.0",
      "model_name": "HBoxModel",
      "state": {
       "_dom_classes": [],
       "_model_module": "@jupyter-widgets/controls",
       "_model_module_version": "1.5.0",
       "_model_name": "HBoxModel",
       "_view_count": null,
       "_view_module": "@jupyter-widgets/controls",
       "_view_module_version": "1.5.0",
       "_view_name": "HBoxView",
       "box_style": "",
       "children": [
        "IPY_MODEL_b3c309816cb044faa9d7dd94813dbe5a",
        "IPY_MODEL_5b3cd384363b419cbec01e235735d79c",
        "IPY_MODEL_eebddd28a1884b5e81bb03150d5d9e35"
       ],
       "layout": "IPY_MODEL_91ce5aad9ed1494090b1246694fd467a"
      }
     },
     "fb150a554ca14730a1a23858b48ba881": {
      "model_module": "@jupyter-widgets/controls",
      "model_module_version": "1.5.0",
      "model_name": "DescriptionStyleModel",
      "state": {
       "_model_module": "@jupyter-widgets/controls",
       "_model_module_version": "1.5.0",
       "_model_name": "DescriptionStyleModel",
       "_view_count": null,
       "_view_module": "@jupyter-widgets/base",
       "_view_module_version": "1.2.0",
       "_view_name": "StyleView",
       "description_width": ""
      }
     },
     "fecda0752dad4d77811465e7d4390e3d": {
      "model_module": "@jupyter-widgets/base",
      "model_module_version": "1.2.0",
      "model_name": "LayoutModel",
      "state": {
       "_model_module": "@jupyter-widgets/base",
       "_model_module_version": "1.2.0",
       "_model_name": "LayoutModel",
       "_view_count": null,
       "_view_module": "@jupyter-widgets/base",
       "_view_module_version": "1.2.0",
       "_view_name": "LayoutView",
       "align_content": null,
       "align_items": null,
       "align_self": null,
       "border": null,
       "bottom": null,
       "display": null,
       "flex": null,
       "flex_flow": null,
       "grid_area": null,
       "grid_auto_columns": null,
       "grid_auto_flow": null,
       "grid_auto_rows": null,
       "grid_column": null,
       "grid_gap": null,
       "grid_row": null,
       "grid_template_areas": null,
       "grid_template_columns": null,
       "grid_template_rows": null,
       "height": null,
       "justify_content": null,
       "justify_items": null,
       "left": null,
       "margin": null,
       "max_height": null,
       "max_width": null,
       "min_height": null,
       "min_width": null,
       "object_fit": null,
       "object_position": null,
       "order": null,
       "overflow": null,
       "overflow_x": null,
       "overflow_y": null,
       "padding": null,
       "right": null,
       "top": null,
       "visibility": null,
       "width": null
      }
     }
    },
    "version_major": 2,
    "version_minor": 0
   }
  }
 },
 "nbformat": 4,
 "nbformat_minor": 5
}
